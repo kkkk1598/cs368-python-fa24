{
 "cells": [
  {
   "cell_type": "markdown",
   "id": "021d4aea-d87b-4e7e-973c-fe0d6e6709d9",
   "metadata": {},
   "source": [
    "# Functions\n",
    "\n",
    "**Learning Objectives:**\n",
    "* Functions vs. methods\n",
    "* Parameters vs. arguments\n",
    "* Positional, keyword, default, variable arguments\n",
    "* lambda functions\n",
    "* Higher-order functions\n",
    "* Variable scope: LEGB rule\n",
    "\n",
    "## Fuctions vs. Methods\n",
    "\n",
    "In Python, **functions** can be defined independently of classes. \n",
    "\n",
    "A **method** is a special type of function defined within a class, which we'll cover in the next OOP lecture.\n",
    "\n",
    "In Java, there is no standalone functions, they are all methods.\n",
    "\n",
    "Python's **functions** are defined using the syntax\n",
    "```python\n",
    "def function_name(parameters): \n",
    "    # function body\n",
    "    # indentation determines what's inside the function\n",
    "    return return_values\n",
    "```"
   ]
  },
  {
   "cell_type": "code",
   "execution_count": 1,
   "id": "5d300666-dbf8-457b-822e-36f82a546e18",
   "metadata": {},
   "outputs": [],
   "source": [
    "def add(x, y): \n",
    "    return x + y"
   ]
  },
  {
   "cell_type": "code",
   "execution_count": 2,
   "id": "cca9300e-c25f-4c7f-8561-c73cc022d2d5",
   "metadata": {},
   "outputs": [
    {
     "data": {
      "text/plain": [
       "3"
      ]
     },
     "execution_count": 2,
     "metadata": {},
     "output_type": "execute_result"
    }
   ],
   "source": [
    "add(1, 2)"
   ]
  },
  {
   "cell_type": "code",
   "execution_count": 3,
   "id": "de9e1f8b-e1f5-4497-b4fd-c8664672a273",
   "metadata": {},
   "outputs": [],
   "source": [
    "def void_add(x, y): \n",
    "    print(x + y)\n",
    "    # you can simply omit the return statement to make this a void function"
   ]
  },
  {
   "cell_type": "code",
   "execution_count": 4,
   "id": "59b0dd08-3cb6-4352-9c72-fb79144080d2",
   "metadata": {},
   "outputs": [
    {
     "name": "stdout",
     "output_type": "stream",
     "text": [
      "3\n"
     ]
    }
   ],
   "source": [
    "void_add(1, 2)"
   ]
  },
  {
   "cell_type": "markdown",
   "id": "bd3f8681-25df-413d-bb22-4dc8291af820",
   "metadata": {},
   "source": [
    "## Parameters vs. Arguements\n",
    "**Parameters** are defined within the function signature.\n",
    "\n",
    "**Arguments** are values passed to the function when it’s called."
   ]
  },
  {
   "cell_type": "code",
   "execution_count": 5,
   "id": "8d30878e-9739-40cd-837e-420944841527",
   "metadata": {},
   "outputs": [],
   "source": [
    "def add(x, y): # x & y here are parameters\n",
    "    return x + y"
   ]
  },
  {
   "cell_type": "code",
   "execution_count": 6,
   "id": "3fa25921-2191-408f-be9f-cd948442fb5f",
   "metadata": {},
   "outputs": [
    {
     "data": {
      "text/plain": [
       "3"
      ]
     },
     "execution_count": 6,
     "metadata": {},
     "output_type": "execute_result"
    }
   ],
   "source": [
    "add(1, 2) # 1 & 2 here are arguments "
   ]
  },
  {
   "cell_type": "markdown",
   "id": "aced88da-9a5f-402d-911d-544fd090462d",
   "metadata": {},
   "source": [
    "## Function Arguments"
   ]
  },
  {
   "cell_type": "markdown",
   "id": "f5410232-8f52-4e0d-8f5f-1737c02e27bf",
   "metadata": {},
   "source": [
    "### Positional Arguments\n",
    "* Arguments are passed in the order they appear in the function signature"
   ]
  },
  {
   "cell_type": "code",
   "execution_count": 7,
   "id": "c651f3eb-27cd-4e73-8ab7-2cb2327bed0c",
   "metadata": {},
   "outputs": [],
   "source": [
    "def print_course_info(subject, course_num, course_name):\n",
    "    print(f'Hi, this is {subject.upper()} {course_num} {course_name.title()}!')"
   ]
  },
  {
   "cell_type": "code",
   "execution_count": 8,
   "id": "854082d6-9482-4b78-9d97-c814aba31761",
   "metadata": {},
   "outputs": [
    {
     "name": "stdout",
     "output_type": "stream",
     "text": [
      "Hi, this is CS 368 Python For Java Programmers!\n"
     ]
    }
   ],
   "source": [
    "print_course_info('cs', 368, 'python for java programmers')"
   ]
  },
  {
   "cell_type": "code",
   "execution_count": 9,
   "id": "7973a66d-9c5a-456e-98cf-631e88883f9a",
   "metadata": {},
   "outputs": [
    {
     "name": "stdout",
     "output_type": "stream",
     "text": [
      "Hi, this is PYTHON FOR JAVA PROGRAMMERS 368 Cs!\n"
     ]
    }
   ],
   "source": [
    "# must pass positional arguments in the same order!\n",
    "print_course_info('python for java programmers', 368, 'cs')"
   ]
  },
  {
   "cell_type": "markdown",
   "id": "00a51152-982e-489f-9bc1-fe78675d2487",
   "metadata": {},
   "source": [
    "### Keyword Arguments\n",
    "* Arguments are passed by explicitly stating each parameter name\n",
    "* Allow you to skip the order\n",
    "* More readable"
   ]
  },
  {
   "cell_type": "code",
   "execution_count": 10,
   "id": "cccdd912-fab1-402a-bffa-9ebb24507c99",
   "metadata": {},
   "outputs": [
    {
     "name": "stdout",
     "output_type": "stream",
     "text": [
      "Hi, this is CS 368 Python For Java Programmers!\n"
     ]
    }
   ],
   "source": [
    "print_course_info(subject = 'cs', course_num = 368, course_name = 'python for java programmers')"
   ]
  },
  {
   "cell_type": "code",
   "execution_count": 11,
   "id": "686058ce-3052-4e6e-a80d-97b54265a8b5",
   "metadata": {},
   "outputs": [
    {
     "name": "stdout",
     "output_type": "stream",
     "text": [
      "Hi, this is CS 368 Python For Java Programmers!\n"
     ]
    }
   ],
   "source": [
    "# order is no longer needed\n",
    "print_course_info(course_num = 368, course_name = 'python for java programmers', subject = 'cs')"
   ]
  },
  {
   "cell_type": "code",
   "execution_count": 12,
   "id": "d15fc31d-0256-4e8d-aa1b-c35c1110ef12",
   "metadata": {},
   "outputs": [
    {
     "ename": "TypeError",
     "evalue": "print_course_info() got an unexpected keyword argument 'course'",
     "output_type": "error",
     "traceback": [
      "\u001b[0;31m---------------------------------------------------------------------------\u001b[0m",
      "\u001b[0;31mTypeError\u001b[0m                                 Traceback (most recent call last)",
      "Cell \u001b[0;32mIn[12], line 2\u001b[0m\n\u001b[1;32m      1\u001b[0m \u001b[38;5;66;03m# but the keywords must be exactly the same as they are in the signature\u001b[39;00m\n\u001b[0;32m----> 2\u001b[0m \u001b[43mprint_course_info\u001b[49m\u001b[43m(\u001b[49m\u001b[43mcourse\u001b[49m\u001b[43m \u001b[49m\u001b[38;5;241;43m=\u001b[39;49m\u001b[43m \u001b[49m\u001b[38;5;241;43m368\u001b[39;49m\u001b[43m,\u001b[49m\u001b[43m \u001b[49m\u001b[43mcourse_name\u001b[49m\u001b[43m \u001b[49m\u001b[38;5;241;43m=\u001b[39;49m\u001b[43m \u001b[49m\u001b[38;5;124;43m'\u001b[39;49m\u001b[38;5;124;43mpython for java programmers\u001b[39;49m\u001b[38;5;124;43m'\u001b[39;49m\u001b[43m,\u001b[49m\u001b[43m \u001b[49m\u001b[43msubject\u001b[49m\u001b[43m \u001b[49m\u001b[38;5;241;43m=\u001b[39;49m\u001b[43m \u001b[49m\u001b[38;5;124;43m'\u001b[39;49m\u001b[38;5;124;43mcs\u001b[39;49m\u001b[38;5;124;43m'\u001b[39;49m\u001b[43m)\u001b[49m\n",
      "\u001b[0;31mTypeError\u001b[0m: print_course_info() got an unexpected keyword argument 'course'"
     ]
    }
   ],
   "source": [
    "# but the keywords must be exactly the same as they are in the signature\n",
    "print_course_info(course = 368, course_name = 'python for java programmers', subject = 'cs')"
   ]
  },
  {
   "cell_type": "code",
   "execution_count": 13,
   "id": "a179ffc5-2e77-4e7a-8709-b815f9ed3e1e",
   "metadata": {},
   "outputs": [
    {
     "name": "stdout",
     "output_type": "stream",
     "text": [
      "Hi, this is CS 368 Python For Java Programmers!\n"
     ]
    }
   ],
   "source": [
    "# you can use a mix of positional and keyword args \n",
    "print_course_info('cs', 368, course_name = 'python for java programmers')"
   ]
  },
  {
   "cell_type": "code",
   "execution_count": 14,
   "id": "4e62a00e-429b-4bb6-92e6-22e195f5561e",
   "metadata": {},
   "outputs": [
    {
     "ename": "SyntaxError",
     "evalue": "positional argument follows keyword argument (1408229990.py, line 2)",
     "output_type": "error",
     "traceback": [
      "\u001b[0;36m  Cell \u001b[0;32mIn[14], line 2\u001b[0;36m\u001b[0m\n\u001b[0;31m    print_course_info(course_name = 'python for java programmers', 'cs', 368)\u001b[0m\n\u001b[0m                                                                            ^\u001b[0m\n\u001b[0;31mSyntaxError\u001b[0m\u001b[0;31m:\u001b[0m positional argument follows keyword argument\n"
     ]
    }
   ],
   "source": [
    "# but positional args must be passed in before keyword args\n",
    "print_course_info(course_name = 'python for java programmers', 'cs', 368)"
   ]
  },
  {
   "cell_type": "markdown",
   "id": "d4d437ff-a102-43eb-8a9b-1f5409d6c6e3",
   "metadata": {},
   "source": [
    "#### Default Arguments\n",
    "* You can assign specify default values to parameters"
   ]
  },
  {
   "cell_type": "code",
   "execution_count": 15,
   "id": "07a2f7b2-bc49-438a-947b-b29033641cca",
   "metadata": {},
   "outputs": [
    {
     "ename": "SyntaxError",
     "evalue": "parameter without a default follows parameter with a default (3176338078.py, line 2)",
     "output_type": "error",
     "traceback": [
      "\u001b[0;36m  Cell \u001b[0;32mIn[15], line 2\u001b[0;36m\u001b[0m\n\u001b[0;31m    def print_course_info(subject='cs', course_num, course_name):\u001b[0m\n\u001b[0m                                        ^\u001b[0m\n\u001b[0;31mSyntaxError\u001b[0m\u001b[0;31m:\u001b[0m parameter without a default follows parameter with a default\n"
     ]
    }
   ],
   "source": [
    "# default args must be after non-default args\n",
    "def print_course_info(subject='cs', course_num, course_name):\n",
    "    print(f'Hi, this is {subject.upper()} {course_num} {course_name.title()}!')"
   ]
  },
  {
   "cell_type": "code",
   "execution_count": 16,
   "id": "04106230-3908-4a37-bf41-cf0fa10bf2dd",
   "metadata": {},
   "outputs": [],
   "source": [
    "def print_course_info(course_num, course_name, subject='cs'):\n",
    "    print(f'Hi, this is {subject.upper()} {course_num} {course_name.title()}!')"
   ]
  },
  {
   "cell_type": "code",
   "execution_count": 17,
   "id": "d92bcb64-a159-40db-9952-0f29db571021",
   "metadata": {},
   "outputs": [
    {
     "name": "stdout",
     "output_type": "stream",
     "text": [
      "Hi, this is CS 368 Python For Java Programmers!\n"
     ]
    }
   ],
   "source": [
    "# use default value if you didn't pass a value to this parameter\n",
    "print_course_info(368, 'python for java programmers')"
   ]
  },
  {
   "cell_type": "code",
   "execution_count": 18,
   "id": "c63672f0-dff9-42ba-bea3-a3c763ca12c3",
   "metadata": {},
   "outputs": [
    {
     "name": "stdout",
     "output_type": "stream",
     "text": [
      "Hi, this is MATH 341 Linear Algebra!\n"
     ]
    }
   ],
   "source": [
    "# override the default if you pass a value\n",
    "print_course_info(341, 'linear algebra', 'math')"
   ]
  },
  {
   "cell_type": "markdown",
   "id": "cc2171a1-91e9-4cd9-bf23-34c1eb170bf1",
   "metadata": {},
   "source": [
    "### `*args` for Variable Positional Arguments\n",
    "* `*args` allows a function to accept any number of positional arguments\n",
    "* `*args` is the conventional name, you can use any name prefixed with `*` if needed"
   ]
  },
  {
   "cell_type": "code",
   "execution_count": 19,
   "id": "0d86a9eb-f275-4a5c-874b-a0b485332381",
   "metadata": {},
   "outputs": [],
   "source": [
    "def add(*nums): \n",
    "    print(nums)"
   ]
  },
  {
   "cell_type": "code",
   "execution_count": 20,
   "id": "a58d6be5-4bb1-47bf-ad48-303bec3a20eb",
   "metadata": {},
   "outputs": [
    {
     "name": "stdout",
     "output_type": "stream",
     "text": [
      "(1, 2, 3, 4, 5)\n"
     ]
    }
   ],
   "source": [
    "# *args will be gathered into a tuple\n",
    "add(1, 2, 3, 4, 5)"
   ]
  },
  {
   "cell_type": "code",
   "execution_count": 21,
   "id": "24c9025a-73db-401c-8b3c-67acc28fdb85",
   "metadata": {},
   "outputs": [],
   "source": [
    "def add(*nums): \n",
    "    return sum(nums)"
   ]
  },
  {
   "cell_type": "code",
   "execution_count": 22,
   "id": "b38dd1ef-ab2b-46ac-826e-ba2fd0b6321c",
   "metadata": {},
   "outputs": [
    {
     "data": {
      "text/plain": [
       "15"
      ]
     },
     "execution_count": 22,
     "metadata": {},
     "output_type": "execute_result"
    }
   ],
   "source": [
    "add(1, 2, 3, 4, 5)"
   ]
  },
  {
   "cell_type": "code",
   "execution_count": 23,
   "id": "5721accf-62f1-41cf-bd95-502c93b7e381",
   "metadata": {},
   "outputs": [],
   "source": [
    "def add_even(*nums): \n",
    "    return sum([i for i in nums if i % 2 == 0])"
   ]
  },
  {
   "cell_type": "code",
   "execution_count": 24,
   "id": "c252a446-e3fd-4049-86c7-e759d5aa2f42",
   "metadata": {},
   "outputs": [
    {
     "data": {
      "text/plain": [
       "6"
      ]
     },
     "execution_count": 24,
     "metadata": {},
     "output_type": "execute_result"
    }
   ],
   "source": [
    "add_even(1, 2, 3, 4, 5)"
   ]
  },
  {
   "cell_type": "code",
   "execution_count": 25,
   "id": "1fde670d-4b13-498e-a7b6-d9b0e622090d",
   "metadata": {},
   "outputs": [],
   "source": [
    "def indexing(*nums, idx): \n",
    "    return nums[idx]"
   ]
  },
  {
   "cell_type": "code",
   "execution_count": 26,
   "id": "19d6eed7-3298-42cf-b1c5-8041fe876039",
   "metadata": {},
   "outputs": [
    {
     "ename": "TypeError",
     "evalue": "indexing() missing 1 required keyword-only argument: 'idx'",
     "output_type": "error",
     "traceback": [
      "\u001b[0;31m---------------------------------------------------------------------------\u001b[0m",
      "\u001b[0;31mTypeError\u001b[0m                                 Traceback (most recent call last)",
      "Cell \u001b[0;32mIn[26], line 2\u001b[0m\n\u001b[1;32m      1\u001b[0m \u001b[38;5;66;03m# no positional args after *args\u001b[39;00m\n\u001b[0;32m----> 2\u001b[0m \u001b[43mindexing\u001b[49m\u001b[43m(\u001b[49m\u001b[38;5;241;43m1\u001b[39;49m\u001b[43m,\u001b[49m\u001b[43m \u001b[49m\u001b[38;5;241;43m2\u001b[39;49m\u001b[43m,\u001b[49m\u001b[43m \u001b[49m\u001b[38;5;241;43m3\u001b[39;49m\u001b[43m,\u001b[49m\u001b[43m \u001b[49m\u001b[38;5;241;43m4\u001b[39;49m\u001b[43m,\u001b[49m\u001b[43m \u001b[49m\u001b[38;5;241;43m5\u001b[39;49m\u001b[43m,\u001b[49m\u001b[43m \u001b[49m\u001b[38;5;241;43m2\u001b[39;49m\u001b[43m)\u001b[49m\n",
      "\u001b[0;31mTypeError\u001b[0m: indexing() missing 1 required keyword-only argument: 'idx'"
     ]
    }
   ],
   "source": [
    "# no positional args after *args\n",
    "indexing(1, 2, 3, 4, 5, 2)"
   ]
  },
  {
   "cell_type": "code",
   "execution_count": 27,
   "id": "416ebd71-2f40-4f51-94bf-bd82f73da48d",
   "metadata": {},
   "outputs": [
    {
     "data": {
      "text/plain": [
       "3"
      ]
     },
     "execution_count": 27,
     "metadata": {},
     "output_type": "execute_result"
    }
   ],
   "source": [
    "# only keyword args\n",
    "indexing(1, 2, 3, 4, 5, idx = 2)"
   ]
  },
  {
   "cell_type": "markdown",
   "id": "951045fa-9a30-4462-b77e-10cbdf55761a",
   "metadata": {},
   "source": [
    "### `**kwargs` for Variable Keyword Arguments\n",
    "* `**kwargs` allows a function to accept any number of keyword arguments\n",
    "* `**kwargs` is the conventional name, you can use any name prefixed with `**` if needed"
   ]
  },
  {
   "cell_type": "code",
   "execution_count": 28,
   "id": "0406838e-649a-4aa6-99a8-de8a41f6167f",
   "metadata": {},
   "outputs": [],
   "source": [
    "def print_info(**kwargs):\n",
    "    print(kwargs)"
   ]
  },
  {
   "cell_type": "code",
   "execution_count": 29,
   "id": "cbc909c7-bef4-4b11-afc1-8f44457e1be8",
   "metadata": {},
   "outputs": [
    {
     "name": "stdout",
     "output_type": "stream",
     "text": [
      "{'name': 'Alice', 'year': 'sophomore', 'major': 'cs'}\n"
     ]
    }
   ],
   "source": [
    "# *kwargs will be gather into a dict\n",
    "print_info(name = 'Alice', year = 'sophomore', major = 'cs')"
   ]
  },
  {
   "cell_type": "code",
   "execution_count": 30,
   "id": "1b6ff98b-e9c6-4a1e-87b8-a9d0fb5122f2",
   "metadata": {},
   "outputs": [],
   "source": [
    "def print_info(**kwargs):\n",
    "    for key, value in kwargs.items(): \n",
    "        print(f'{key}: \\t {value}')"
   ]
  },
  {
   "cell_type": "code",
   "execution_count": 31,
   "id": "cb9a51e2-40c6-41e2-a99f-c5c700ee2abb",
   "metadata": {},
   "outputs": [
    {
     "name": "stdout",
     "output_type": "stream",
     "text": [
      "name: \t Alice\n",
      "year: \t sophomore\n",
      "major: \t cs\n"
     ]
    }
   ],
   "source": [
    "print_info(name = 'Alice', year = 'sophomore', major = 'cs')"
   ]
  },
  {
   "cell_type": "code",
   "execution_count": 32,
   "id": "3221a44c-8577-40d2-9336-7caf84104ff6",
   "metadata": {},
   "outputs": [
    {
     "ename": "SyntaxError",
     "evalue": "arguments cannot follow var-keyword argument (2780618409.py, line 2)",
     "output_type": "error",
     "traceback": [
      "\u001b[0;36m  Cell \u001b[0;32mIn[32], line 2\u001b[0;36m\u001b[0m\n\u001b[0;31m    def print_info(**kwargs, greeting_str):\u001b[0m\n\u001b[0m                             ^\u001b[0m\n\u001b[0;31mSyntaxError\u001b[0m\u001b[0;31m:\u001b[0m arguments cannot follow var-keyword argument\n"
     ]
    }
   ],
   "source": [
    "# *kwargs cannot be after keyword args\n",
    "def print_info(**kwargs, greeting_str):\n",
    "    print(greeting_str)\n",
    "    for key, value in kwargs.items(): \n",
    "        print(f'{key}: \\t {value}')"
   ]
  },
  {
   "cell_type": "code",
   "execution_count": 33,
   "id": "df8f571e-21b1-461f-87c7-d1f95769c6cf",
   "metadata": {},
   "outputs": [],
   "source": [
    "def print_info(greeting_str, **kwargs):\n",
    "    print(greeting_str)\n",
    "    for key, value in kwargs.items(): \n",
    "        print(f'{key}: \\t {value}')"
   ]
  },
  {
   "cell_type": "code",
   "execution_count": 34,
   "id": "91531789-8afe-4ae9-958f-ba4089218e32",
   "metadata": {},
   "outputs": [
    {
     "name": "stdout",
     "output_type": "stream",
     "text": [
      "Hello!\n",
      "name: \t Alice\n",
      "year: \t sophomore\n",
      "major: \t cs\n"
     ]
    }
   ],
   "source": [
    "print_info(greeting_str = 'Hello!', name = 'Alice', year = 'sophomore', major = 'cs')"
   ]
  },
  {
   "cell_type": "markdown",
   "id": "7ebbc25e-1bb2-40cc-8174-ee0bc865881b",
   "metadata": {},
   "source": [
    "Order for the above four types of arguments\n",
    "1. positional arguments\n",
    "2. `*args`\n",
    "3. keyword arguments\n",
    "4. `**kwargs`"
   ]
  },
  {
   "cell_type": "code",
   "execution_count": 35,
   "id": "4a3dfb62-fc0e-475f-8b3b-e46d2b761c0c",
   "metadata": {},
   "outputs": [
    {
     "name": "stdout",
     "output_type": "stream",
     "text": [
      "x: 10\n",
      "args: (1, 2, 3)\n",
      "y: 20\n",
      "kwargs: {'a': 100, 'b': 200}\n"
     ]
    }
   ],
   "source": [
    "def args_order(x, *args, y=0, **kwargs):\n",
    "    print(f\"x: {x}\")\n",
    "    print(f\"args: {args}\")\n",
    "    print(f\"y: {y}\")\n",
    "    print(f\"kwargs: {kwargs}\")\n",
    "\n",
    "args_order(10, 1, 2, 3, y=20, a=100, b=200)"
   ]
  },
  {
   "cell_type": "markdown",
   "id": "11bf2228-8bbd-4e2a-a6de-b5777b87b189",
   "metadata": {},
   "source": [
    "## Lambda Functions\n",
    "* anonymous function with a single expression and returns the result of the expression\n",
    "* syntax: `lambda parameters: expression`"
   ]
  },
  {
   "cell_type": "code",
   "execution_count": 36,
   "id": "09d394b4-8c38-4777-9b9e-757807ed8c7f",
   "metadata": {},
   "outputs": [
    {
     "data": {
      "text/plain": [
       "8"
      ]
     },
     "execution_count": 36,
     "metadata": {},
     "output_type": "execute_result"
    }
   ],
   "source": [
    "add = lambda x, y: x + y\n",
    "add(3, 5)"
   ]
  },
  {
   "cell_type": "code",
   "execution_count": 37,
   "id": "08b284ee-5929-45ed-beb8-29cc3a380c84",
   "metadata": {},
   "outputs": [
    {
     "name": "stdout",
     "output_type": "stream",
     "text": [
      "Hello, world!\n"
     ]
    }
   ],
   "source": [
    "greet = lambda: print('Hello, world!')\n",
    "greet()"
   ]
  },
  {
   "cell_type": "code",
   "execution_count": 38,
   "id": "ad9490cc-f506-42f6-93e3-1626cd13b720",
   "metadata": {},
   "outputs": [
    {
     "data": {
      "text/plain": [
       "'Odd'"
      ]
     },
     "execution_count": 38,
     "metadata": {},
     "output_type": "execute_result"
    }
   ],
   "source": [
    "even_odd = lambda x: \"Even\" if x % 2 == 0 else \"Odd\"\n",
    "even_odd(3)"
   ]
  },
  {
   "cell_type": "code",
   "execution_count": 39,
   "id": "50577a89-167c-4019-b9a0-3106bf25f365",
   "metadata": {},
   "outputs": [
    {
     "data": {
      "text/plain": [
       "[1, 4, 9]"
      ]
     },
     "execution_count": 39,
     "metadata": {},
     "output_type": "execute_result"
    }
   ],
   "source": [
    "sqrt_lst = lambda lst: [i ** 2 for i in lst]\n",
    "sqrt_lst([1, 2, 3])"
   ]
  },
  {
   "cell_type": "markdown",
   "id": "2552706b-c585-483d-aed1-8057efe9d784",
   "metadata": {},
   "source": [
    "## Higher-order Functions\n",
    "Functions are objects in Python!"
   ]
  },
  {
   "cell_type": "code",
   "execution_count": 40,
   "id": "455d8eb8-b9c9-4ae7-8962-1e0f7a999201",
   "metadata": {},
   "outputs": [],
   "source": [
    "def greet():\n",
    "    print('Hello, world!')"
   ]
  },
  {
   "cell_type": "code",
   "execution_count": 41,
   "id": "e3814a61-fed7-47ab-8a5b-6f674a73e840",
   "metadata": {},
   "outputs": [
    {
     "data": {
      "text/plain": [
       "function"
      ]
     },
     "execution_count": 41,
     "metadata": {},
     "output_type": "execute_result"
    }
   ],
   "source": [
    "type(greet)"
   ]
  },
  {
   "cell_type": "code",
   "execution_count": 42,
   "id": "eb10ac17-00af-4649-acfd-7504e956e5d2",
   "metadata": {},
   "outputs": [
    {
     "name": "stdout",
     "output_type": "stream",
     "text": [
      "Hello, world!\n"
     ]
    }
   ],
   "source": [
    "# functions can be assigned to variables, just like objects\n",
    "say_hello = greet  \n",
    "say_hello() "
   ]
  },
  {
   "cell_type": "code",
   "execution_count": 43,
   "id": "434b94ef-248a-4d8b-b5e6-384b5a3cc792",
   "metadata": {},
   "outputs": [
    {
     "data": {
      "text/plain": [
       "0"
      ]
     },
     "execution_count": 43,
     "metadata": {},
     "output_type": "execute_result"
    }
   ],
   "source": [
    "# you can add attributes to functions, just like objects\n",
    "say_hello.invoke_count = 0\n",
    "say_hello.invoke_count"
   ]
  },
  {
   "cell_type": "code",
   "execution_count": 44,
   "id": "68a818df-a49b-40fc-819d-c86b71d8232d",
   "metadata": {},
   "outputs": [
    {
     "name": "stdout",
     "output_type": "stream",
     "text": [
      "Hello, world!\n"
     ]
    },
    {
     "data": {
      "text/plain": [
       "1"
      ]
     },
     "execution_count": 44,
     "metadata": {},
     "output_type": "execute_result"
    }
   ],
   "source": [
    "say_hello() \n",
    "say_hello.invoke_count += 1\n",
    "say_hello.invoke_count"
   ]
  },
  {
   "cell_type": "code",
   "execution_count": 45,
   "id": "858ff878-2bdc-40c7-9602-4f8015b10005",
   "metadata": {},
   "outputs": [
    {
     "name": "stdout",
     "output_type": "stream",
     "text": [
      "8\n",
      "2\n"
     ]
    }
   ],
   "source": [
    "# functions can be stored in data structures \n",
    "def add(x, y):\n",
    "    return x + y\n",
    "\n",
    "def subtract(x, y):\n",
    "    return x - y\n",
    "\n",
    "operations = {\n",
    "    \"addition\": add,\n",
    "    \"subtraction\": subtract\n",
    "}\n",
    "\n",
    "print(operations[\"addition\"](5, 3))    \n",
    "print(operations[\"subtraction\"](5, 3)) "
   ]
  },
  {
   "cell_type": "code",
   "execution_count": 46,
   "id": "777c856f-8c5f-49ff-ad08-fb6098558fab",
   "metadata": {},
   "outputs": [
    {
     "name": "stdout",
     "output_type": "stream",
     "text": [
      "8\n",
      "2\n"
     ]
    }
   ],
   "source": [
    "# functions can be passed into other functions as arguments\n",
    "def operations(func, x, y):\n",
    "    return func(x, y)\n",
    "\n",
    "print(operations(add, 5, 3))\n",
    "print(operations(subtract, 5, 3))"
   ]
  },
  {
   "cell_type": "code",
   "execution_count": 47,
   "id": "304da18b-95ef-45b6-8cda-b60c78fbbb1c",
   "metadata": {},
   "outputs": [
    {
     "data": {
      "text/plain": [
       "<function __main__.add(x, y)>"
      ]
     },
     "execution_count": 47,
     "metadata": {},
     "output_type": "execute_result"
    }
   ],
   "source": [
    "# functions can return functions\n",
    "def operations(func):\n",
    "    if func == \"addition\": \n",
    "        return add\n",
    "    elif func == \"subtraction\":\n",
    "        return subtract\n",
    "        \n",
    "operations(\"addition\")"
   ]
  },
  {
   "cell_type": "code",
   "execution_count": 48,
   "id": "fc0e2d15-a195-4a28-9349-ac031660628e",
   "metadata": {},
   "outputs": [
    {
     "data": {
      "text/plain": [
       "3"
      ]
     },
     "execution_count": 48,
     "metadata": {},
     "output_type": "execute_result"
    }
   ],
   "source": [
    "operations(\"addition\")(1, 2)"
   ]
  },
  {
   "cell_type": "markdown",
   "id": "4edc30a8-24aa-4814-b992-eb116d2aaa35",
   "metadata": {},
   "source": [
    "A **higher-order function** is a function that\n",
    "* Takes one or more functions as arguments, and/or\n",
    "* Returns a function\n",
    "\n",
    "Python's built-in higher-order functions:\n",
    "* `map()`\n",
    "* `filter()`\n",
    "* `reduce()`\n",
    "* These functions are typically used with lambda functions"
   ]
  },
  {
   "cell_type": "markdown",
   "id": "458d9e6a-c18a-4804-aad5-8e4de5b2c424",
   "metadata": {},
   "source": [
    "#### `map()`\n",
    "* Syntax: `map(function, iterable)`\n",
    "* Applies a function to each item in an iterable"
   ]
  },
  {
   "cell_type": "code",
   "execution_count": 49,
   "id": "1b4595a3-1735-4fb4-b27c-f7f4c83a0e14",
   "metadata": {},
   "outputs": [
    {
     "data": {
      "text/plain": [
       "<map at 0x1083ca680>"
      ]
     },
     "execution_count": 49,
     "metadata": {},
     "output_type": "execute_result"
    }
   ],
   "source": [
    "def square(x):\n",
    "    return x ** 2\n",
    "# returns a map object, which is also an iterable\n",
    "sqrt_lst = map(square, range(6))\n",
    "sqrt_lst"
   ]
  },
  {
   "cell_type": "code",
   "execution_count": 50,
   "id": "4613b390-494a-482b-bbb8-a0301775454f",
   "metadata": {},
   "outputs": [
    {
     "data": {
      "text/plain": [
       "[0, 1, 4, 9, 16, 25]"
      ]
     },
     "execution_count": 50,
     "metadata": {},
     "output_type": "execute_result"
    }
   ],
   "source": [
    "list(sqrt_lst)"
   ]
  },
  {
   "cell_type": "code",
   "execution_count": 51,
   "id": "a9a2799c-2d7a-4812-9d19-20f8ec1c4f89",
   "metadata": {},
   "outputs": [
    {
     "data": {
      "text/plain": [
       "[0, 1, 4, 9, 16, 25]"
      ]
     },
     "execution_count": 51,
     "metadata": {},
     "output_type": "execute_result"
    }
   ],
   "source": [
    "list(map(lambda x: x ** 2, range(6)))"
   ]
  },
  {
   "cell_type": "markdown",
   "id": "a9d628c4-8c42-4078-b3d5-ca3e5ccf034e",
   "metadata": {},
   "source": [
    "#### `filter()`\n",
    "* Syntax: `filter(function, iterable)`\n",
    "* Filters an iterable based on a boolean function"
   ]
  },
  {
   "cell_type": "code",
   "execution_count": 52,
   "id": "5d527e55-0921-46fb-aaa0-919ed0b45aad",
   "metadata": {},
   "outputs": [
    {
     "data": {
      "text/plain": [
       "<filter at 0x1083c9f60>"
      ]
     },
     "execution_count": 52,
     "metadata": {},
     "output_type": "execute_result"
    }
   ],
   "source": [
    "def is_even(x):\n",
    "    return x % 2 == 0\n",
    "# returns a filter object, which is also an iterable\n",
    "even_lst = filter(is_even, range(6))\n",
    "even_lst"
   ]
  },
  {
   "cell_type": "code",
   "execution_count": 53,
   "id": "49713d95-8ee7-4fe4-815a-a50e98a54fce",
   "metadata": {},
   "outputs": [
    {
     "data": {
      "text/plain": [
       "[0, 2, 4]"
      ]
     },
     "execution_count": 53,
     "metadata": {},
     "output_type": "execute_result"
    }
   ],
   "source": [
    "list(even_lst)"
   ]
  },
  {
   "cell_type": "code",
   "execution_count": 54,
   "id": "7289711b-72b1-4484-8639-78a1dd5c00e5",
   "metadata": {},
   "outputs": [
    {
     "data": {
      "text/plain": [
       "[0, 2, 4]"
      ]
     },
     "execution_count": 54,
     "metadata": {},
     "output_type": "execute_result"
    }
   ],
   "source": [
    "list(filter(lambda x: x % 2 == 0, range(6)))"
   ]
  },
  {
   "cell_type": "markdown",
   "id": "98328080-616b-4720-931b-e9a2a26ad305",
   "metadata": {},
   "source": [
    "#### `reduce()`\n",
    "* Syntax: `reduce(function, iterable)`\n",
    "* Combines all elements in an iterable into a single value by applying a function cumulatively to the items"
   ]
  },
  {
   "cell_type": "code",
   "execution_count": 55,
   "id": "5121a3ce-1b91-4e5a-994c-4875edc79f92",
   "metadata": {},
   "outputs": [
    {
     "data": {
      "text/plain": [
       "6"
      ]
     },
     "execution_count": 55,
     "metadata": {},
     "output_type": "execute_result"
    }
   ],
   "source": [
    "# reduce() is not a built-in function\n",
    "# import it from functools\n",
    "from functools import reduce\n",
    "\n",
    "def add(x, y):\n",
    "    return x + y\n",
    "\n",
    "reduce(add, range(4)) # 0 + 1 + 2 + 3"
   ]
  },
  {
   "cell_type": "code",
   "execution_count": 56,
   "id": "de5983c1-792b-474a-ab1f-857cfa45d689",
   "metadata": {},
   "outputs": [
    {
     "data": {
      "text/plain": [
       "6"
      ]
     },
     "execution_count": 56,
     "metadata": {},
     "output_type": "execute_result"
    }
   ],
   "source": [
    "reduce(lambda x, y: x + y, range(4))"
   ]
  },
  {
   "cell_type": "markdown",
   "id": "51d321e6-735a-42d5-a8cc-67911305723c",
   "metadata": {},
   "source": [
    "## Variable Scope\n",
    "\n",
    "### LEGB Rule\n",
    "* defines the order in which the interpreter searches for a name (variable, function, etc.)\n",
    "1. local\n",
    "2. enclosing\n",
    "3. global\n",
    "4. [built-in](https://docs.python.org/3/library/functions.html) (e.g., print(), len())"
   ]
  },
  {
   "cell_type": "code",
   "execution_count": 57,
   "id": "1805f44e-445b-4dc0-89db-7b18ec419bc5",
   "metadata": {},
   "outputs": [
    {
     "name": "stdout",
     "output_type": "stream",
     "text": [
      "10 20 30\n"
     ]
    }
   ],
   "source": [
    "# you can nested functions!\n",
    "\n",
    "# if we situated ourselves in the scope of the inner function\n",
    "\n",
    "x = 10  # global scope\n",
    "\n",
    "def outer():\n",
    "    y = 20  # enclosing scope\n",
    "\n",
    "    def inner():\n",
    "        z = 30  # local scope\n",
    "        print(x, y, z)\n",
    "\n",
    "    inner()\n",
    "outer()"
   ]
  },
  {
   "cell_type": "code",
   "execution_count": 58,
   "id": "edc60fbe-de88-4280-ba81-a2139c409a39",
   "metadata": {},
   "outputs": [
    {
     "ename": "NameError",
     "evalue": "name 'y' is not defined",
     "output_type": "error",
     "traceback": [
      "\u001b[0;31m---------------------------------------------------------------------------\u001b[0m",
      "\u001b[0;31mNameError\u001b[0m                                 Traceback (most recent call last)",
      "Cell \u001b[0;32mIn[58], line 6\u001b[0m\n\u001b[1;32m      3\u001b[0m \u001b[38;5;28;01mdef\u001b[39;00m \u001b[38;5;21mscope_example\u001b[39m():\n\u001b[1;32m      4\u001b[0m     y \u001b[38;5;241m=\u001b[39m \u001b[38;5;241m20\u001b[39m \u001b[38;5;66;03m# local\u001b[39;00m\n\u001b[0;32m----> 6\u001b[0m \u001b[43my\u001b[49m \u001b[38;5;66;03m# cannot find y globally\u001b[39;00m\n\u001b[1;32m      7\u001b[0m \u001b[38;5;66;03m# y is only local to the scope_example function \u001b[39;00m\n",
      "\u001b[0;31mNameError\u001b[0m: name 'y' is not defined"
     ]
    }
   ],
   "source": [
    "x = 10  # global \n",
    "\n",
    "def scope_example():\n",
    "    y = 20 # local\n",
    "\n",
    "y # cannot find y globally\n",
    "# y is only local to the scope_example function "
   ]
  },
  {
   "cell_type": "code",
   "execution_count": 59,
   "id": "3228f16e-a83e-4878-a155-b3ca65759531",
   "metadata": {},
   "outputs": [
    {
     "name": "stdout",
     "output_type": "stream",
     "text": [
      "1000\n"
     ]
    }
   ],
   "source": [
    "x = 10  # global \n",
    "\n",
    "def scope_example():\n",
    "    # this is a local variable for the scope_example function\n",
    "    # not the global x\n",
    "    x = 1000 \n",
    "    # the interpreter will try to find x locally then gloablly\n",
    "    print(x)\n",
    "\n",
    "scope_example()"
   ]
  },
  {
   "cell_type": "code",
   "execution_count": 60,
   "id": "43546fe3-7776-430b-a662-b23d33db579d",
   "metadata": {},
   "outputs": [
    {
     "data": {
      "text/plain": [
       "10"
      ]
     },
     "execution_count": 60,
     "metadata": {},
     "output_type": "execute_result"
    }
   ],
   "source": [
    "# globals() returns all global variables\n",
    "globals()['x']"
   ]
  },
  {
   "cell_type": "code",
   "execution_count": 61,
   "id": "ee06c67e-b3a7-4f9c-8093-2556a11760b3",
   "metadata": {},
   "outputs": [
    {
     "name": "stdout",
     "output_type": "stream",
     "text": [
      "{'x': 1000, 'y': 2000}\n",
      "1000\n"
     ]
    }
   ],
   "source": [
    "x = 10  \n",
    "\n",
    "def scope_example():\n",
    "    x = 1000 \n",
    "    y = 2000\n",
    "    # locals() returns all local variables\n",
    "    print(locals())\n",
    "    print(x)\n",
    "\n",
    "scope_example()"
   ]
  },
  {
   "cell_type": "code",
   "execution_count": 62,
   "id": "ff7e1570-4ce2-4f47-ba2a-da2ddb292a30",
   "metadata": {},
   "outputs": [
    {
     "name": "stdout",
     "output_type": "stream",
     "text": [
      "10 2000 30\n"
     ]
    }
   ],
   "source": [
    "x = 10  # global scope\n",
    "\n",
    "def outer():\n",
    "    y = 20  # enclosing scope\n",
    "\n",
    "    def inner():\n",
    "        # similarly, the interpreter will try to find names from smallest scope to largest (LEGB rule)\n",
    "        y = 2000\n",
    "        z = 30  # local scope\n",
    "        print(x, y, z)\n",
    "\n",
    "    inner()\n",
    "outer()"
   ]
  },
  {
   "cell_type": "code",
   "execution_count": 63,
   "id": "00a949ef-1aa7-4520-8400-ec2e9dbee116",
   "metadata": {},
   "outputs": [
    {
     "data": {
      "text/plain": [
       "10"
      ]
     },
     "execution_count": 63,
     "metadata": {},
     "output_type": "execute_result"
    }
   ],
   "source": [
    "# you can even overwite a built-in name!\n",
    "print = 10\n",
    "print"
   ]
  },
  {
   "cell_type": "code",
   "execution_count": 64,
   "id": "8f8af90a-22ba-4462-81c1-baed790de0f5",
   "metadata": {},
   "outputs": [
    {
     "ename": "TypeError",
     "evalue": "'int' object is not callable",
     "output_type": "error",
     "traceback": [
      "\u001b[0;31m---------------------------------------------------------------------------\u001b[0m",
      "\u001b[0;31mTypeError\u001b[0m                                 Traceback (most recent call last)",
      "Cell \u001b[0;32mIn[64], line 1\u001b[0m\n\u001b[0;32m----> 1\u001b[0m \u001b[38;5;28;43mprint\u001b[39;49m\u001b[43m(\u001b[49m\u001b[43m)\u001b[49m\n",
      "\u001b[0;31mTypeError\u001b[0m: 'int' object is not callable"
     ]
    }
   ],
   "source": [
    "print()"
   ]
  },
  {
   "cell_type": "code",
   "execution_count": 65,
   "id": "9f439578-d1a4-48a1-841a-bb7c22e5759b",
   "metadata": {},
   "outputs": [
    {
     "name": "stdout",
     "output_type": "stream",
     "text": [
      "123\n"
     ]
    }
   ],
   "source": [
    "# let's revert print function\n",
    "del print\n",
    "print('123')"
   ]
  },
  {
   "cell_type": "code",
   "execution_count": 66,
   "id": "5d8a6b6c-3714-4c6b-8ef6-26c53d760a65",
   "metadata": {},
   "outputs": [
    {
     "ename": "UnboundLocalError",
     "evalue": "cannot access local variable 'x' where it is not associated with a value",
     "output_type": "error",
     "traceback": [
      "\u001b[0;31m---------------------------------------------------------------------------\u001b[0m",
      "\u001b[0;31mUnboundLocalError\u001b[0m                         Traceback (most recent call last)",
      "Cell \u001b[0;32mIn[66], line 8\u001b[0m\n\u001b[1;32m      5\u001b[0m     x \u001b[38;5;241m+\u001b[39m\u001b[38;5;241m=\u001b[39m \u001b[38;5;241m1\u001b[39m\n\u001b[1;32m      6\u001b[0m     \u001b[38;5;28mprint\u001b[39m(x)\n\u001b[0;32m----> 8\u001b[0m \u001b[43mincrement\u001b[49m\u001b[43m(\u001b[49m\u001b[43m)\u001b[49m\n",
      "Cell \u001b[0;32mIn[66], line 5\u001b[0m, in \u001b[0;36mincrement\u001b[0;34m()\u001b[0m\n\u001b[1;32m      3\u001b[0m \u001b[38;5;28;01mdef\u001b[39;00m \u001b[38;5;21mincrement\u001b[39m():\n\u001b[1;32m      4\u001b[0m     \u001b[38;5;66;03m# cannot directly modify a larger-scope variable in a smaller scope\u001b[39;00m\n\u001b[0;32m----> 5\u001b[0m     \u001b[43mx\u001b[49m \u001b[38;5;241m+\u001b[39m\u001b[38;5;241m=\u001b[39m \u001b[38;5;241m1\u001b[39m\n\u001b[1;32m      6\u001b[0m     \u001b[38;5;28mprint\u001b[39m(x)\n",
      "\u001b[0;31mUnboundLocalError\u001b[0m: cannot access local variable 'x' where it is not associated with a value"
     ]
    }
   ],
   "source": [
    "x = 10  \n",
    "\n",
    "def increment():\n",
    "    # cannot directly modify a larger-scope variable in a smaller scope\n",
    "    x += 1\n",
    "    print(x)\n",
    "\n",
    "increment()"
   ]
  },
  {
   "cell_type": "code",
   "execution_count": 67,
   "id": "a43dc924-698a-41a6-81de-fd8258d75657",
   "metadata": {},
   "outputs": [
    {
     "name": "stdout",
     "output_type": "stream",
     "text": [
      "11\n"
     ]
    }
   ],
   "source": [
    "x = 10  \n",
    "\n",
    "def increment():\n",
    "    global x # global keyword allows you modify a global-scope var in a smaller scope\n",
    "    x += 1\n",
    "    print(x)\n",
    "\n",
    "increment()"
   ]
  },
  {
   "cell_type": "code",
   "execution_count": 68,
   "id": "c758a623-53e7-4077-a142-12c373432587",
   "metadata": {},
   "outputs": [
    {
     "ename": "UnboundLocalError",
     "evalue": "cannot access local variable 'y' where it is not associated with a value",
     "output_type": "error",
     "traceback": [
      "\u001b[0;31m---------------------------------------------------------------------------\u001b[0m",
      "\u001b[0;31mUnboundLocalError\u001b[0m                         Traceback (most recent call last)",
      "Cell \u001b[0;32mIn[68], line 12\u001b[0m\n\u001b[1;32m      9\u001b[0m         \u001b[38;5;28mprint\u001b[39m(x, y, z)\n\u001b[1;32m     11\u001b[0m     inner()\n\u001b[0;32m---> 12\u001b[0m \u001b[43mouter\u001b[49m\u001b[43m(\u001b[49m\u001b[43m)\u001b[49m\n",
      "Cell \u001b[0;32mIn[68], line 11\u001b[0m, in \u001b[0;36mouter\u001b[0;34m()\u001b[0m\n\u001b[1;32m      8\u001b[0m     z \u001b[38;5;241m=\u001b[39m \u001b[38;5;241m30\u001b[39m  \n\u001b[1;32m      9\u001b[0m     \u001b[38;5;28mprint\u001b[39m(x, y, z)\n\u001b[0;32m---> 11\u001b[0m \u001b[43minner\u001b[49m\u001b[43m(\u001b[49m\u001b[43m)\u001b[49m\n",
      "Cell \u001b[0;32mIn[68], line 7\u001b[0m, in \u001b[0;36mouter.<locals>.inner\u001b[0;34m()\u001b[0m\n\u001b[1;32m      6\u001b[0m \u001b[38;5;28;01mdef\u001b[39;00m \u001b[38;5;21minner\u001b[39m():\n\u001b[0;32m----> 7\u001b[0m     \u001b[43my\u001b[49m \u001b[38;5;241m+\u001b[39m\u001b[38;5;241m=\u001b[39m \u001b[38;5;241m10\u001b[39m \u001b[38;5;66;03m# similarly, cannot directly modify a larger-scope variable in a smaller scope\u001b[39;00m\n\u001b[1;32m      8\u001b[0m     z \u001b[38;5;241m=\u001b[39m \u001b[38;5;241m30\u001b[39m  \n\u001b[1;32m      9\u001b[0m     \u001b[38;5;28mprint\u001b[39m(x, y, z)\n",
      "\u001b[0;31mUnboundLocalError\u001b[0m: cannot access local variable 'y' where it is not associated with a value"
     ]
    }
   ],
   "source": [
    "x = 10  \n",
    "\n",
    "def outer():\n",
    "    y = 20  \n",
    "\n",
    "    def inner():\n",
    "        y += 10 # similarly, cannot directly modify a larger-scope variable in a smaller scope\n",
    "        z = 30  \n",
    "        print(x, y, z)\n",
    "\n",
    "    inner()\n",
    "outer()"
   ]
  },
  {
   "cell_type": "code",
   "execution_count": 69,
   "id": "2e599f81-b54f-44d5-ac9e-bf05a16f3c88",
   "metadata": {},
   "outputs": [
    {
     "name": "stdout",
     "output_type": "stream",
     "text": [
      "10 120 30\n"
     ]
    }
   ],
   "source": [
    "x = 10  \n",
    "\n",
    "def outer():\n",
    "    y = 20  \n",
    "\n",
    "    def inner():\n",
    "        nonlocal y # nonlocal keyword allows you modify an enclosing-scope var in a smaller scope\n",
    "        y += 100\n",
    "        z = 30  \n",
    "        print(x, y, z)\n",
    "\n",
    "    inner()\n",
    "outer()"
   ]
  },
  {
   "cell_type": "code",
   "execution_count": 70,
   "id": "5f983164-3856-48cf-934a-6a43183192d4",
   "metadata": {},
   "outputs": [
    {
     "name": "stdout",
     "output_type": "stream",
     "text": [
      "[1, 2, 3, 4]\n"
     ]
    }
   ],
   "source": [
    "x = [1, 2, 3]\n",
    "\n",
    "def scope_list_example(): \n",
    "    x.append(4)\n",
    "\n",
    "# special case here\n",
    "# list is mutable, so you're only changing values in the list but not the object (variable value) entirely\n",
    "scope_list_example()\n",
    "print(x)"
   ]
  },
  {
   "cell_type": "code",
   "execution_count": null,
   "id": "6d2a4566-c9bf-49a7-a37e-abb24c01de97",
   "metadata": {},
   "outputs": [],
   "source": []
  }
 ],
 "metadata": {
  "kernelspec": {
   "display_name": "Python 3 (ipykernel)",
   "language": "python",
   "name": "python3"
  },
  "language_info": {
   "codemirror_mode": {
    "name": "ipython",
    "version": 3
   },
   "file_extension": ".py",
   "mimetype": "text/x-python",
   "name": "python",
   "nbconvert_exporter": "python",
   "pygments_lexer": "ipython3",
   "version": "3.12.5"
  }
 },
 "nbformat": 4,
 "nbformat_minor": 5
}
