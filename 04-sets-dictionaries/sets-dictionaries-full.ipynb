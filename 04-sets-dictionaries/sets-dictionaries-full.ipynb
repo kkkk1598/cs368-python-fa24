{
 "cells": [
  {
   "cell_type": "markdown",
   "id": "3869f5a6-540c-4bef-be2e-df6b9f23675c",
   "metadata": {},
   "source": [
    "# Lecture 4 Sets & Dictionaries \n",
    "\n",
    "### Learning Objectives:\n",
    "* Understand the characteristics and properties of sets and dictionaries.\n",
    "* Effectively perform common operations on sets and dictionaries.\n",
    "* Comprehend how hash tables are used to implement sets and dictionaries.\n",
    "* Understand why lookup, insertion, and deletion in sets and dictionaries have O(1) time complexity.\n",
    "\n",
    "\n",
    "### Commonalities of sets & dictionaries \n",
    "\n",
    "* Unordered (no indexing)\n",
    "    * Sets: unordered collection of elements\n",
    "    * Dicts: unordered collection of key-value pairs\n",
    "* Unique elements (no duplicates)\n",
    "    * Sets: unique elements\n",
    "    * Dicts: unique keys\n",
    "* Hash-based\n",
    "    * Sets and dict keys use hashing to allow **O(1)** average\n",
    "        * lookup\n",
    "        * insertion\n",
    "        * deletion\n",
    "* Heterogeneous \n",
    "* Mutable\n",
    "* Iterable"
   ]
  },
  {
   "cell_type": "markdown",
   "id": "59dbbfbc-0ec8-41d7-896c-d15adebad454",
   "metadata": {},
   "source": [
    "## Sets"
   ]
  },
  {
   "cell_type": "code",
   "execution_count": 1,
   "id": "a69a1b30-fc4d-425f-a7ca-de432c8e922e",
   "metadata": {},
   "outputs": [
    {
     "data": {
      "text/plain": [
       "{1, 2, 3}"
      ]
     },
     "execution_count": 1,
     "metadata": {},
     "output_type": "execute_result"
    }
   ],
   "source": [
    "# {element1, element2, ...} => sets\n",
    "s = {1, 2, 3}\n",
    "s"
   ]
  },
  {
   "cell_type": "code",
   "execution_count": 2,
   "id": "1ce733f0-3852-406d-93a2-f3e658e5d741",
   "metadata": {},
   "outputs": [
    {
     "data": {
      "text/plain": [
       "set"
      ]
     },
     "execution_count": 2,
     "metadata": {},
     "output_type": "execute_result"
    }
   ],
   "source": [
    "type(s)"
   ]
  },
  {
   "cell_type": "code",
   "execution_count": 3,
   "id": "6b157825-71bf-46dd-9ef3-20c2ed659273",
   "metadata": {},
   "outputs": [
    {
     "data": {
      "text/plain": [
       "dict"
      ]
     },
     "execution_count": 3,
     "metadata": {},
     "output_type": "execute_result"
    }
   ],
   "source": [
    "type({})"
   ]
  },
  {
   "cell_type": "code",
   "execution_count": 4,
   "id": "c49b826c-37e8-49f2-83c1-e3df47f0aa26",
   "metadata": {},
   "outputs": [],
   "source": [
    "# empty set\n",
    "s = set()"
   ]
  },
  {
   "cell_type": "code",
   "execution_count": 5,
   "id": "f7f2e781-3f1b-43ea-8ceb-b2bd96e052d1",
   "metadata": {},
   "outputs": [
    {
     "data": {
      "text/plain": [
       "set"
      ]
     },
     "execution_count": 5,
     "metadata": {},
     "output_type": "execute_result"
    }
   ],
   "source": [
    "type(s)"
   ]
  },
  {
   "cell_type": "code",
   "execution_count": 6,
   "id": "59b51460-ce12-4089-a31d-b58df447490c",
   "metadata": {},
   "outputs": [
    {
     "data": {
      "text/plain": [
       "{1, 2, 3}"
      ]
     },
     "execution_count": 6,
     "metadata": {},
     "output_type": "execute_result"
    }
   ],
   "source": [
    "# set([iterable])\n",
    "set([1, 2, 3])"
   ]
  },
  {
   "cell_type": "code",
   "execution_count": 7,
   "id": "b740c74f-e056-4b81-8784-45eed7e495e3",
   "metadata": {},
   "outputs": [
    {
     "data": {
      "text/plain": [
       "{1, 2, 3}"
      ]
     },
     "execution_count": 7,
     "metadata": {},
     "output_type": "execute_result"
    }
   ],
   "source": [
    "set((1, 2, 3))"
   ]
  },
  {
   "cell_type": "code",
   "execution_count": 8,
   "id": "210335f7-e76a-4771-9753-889a4f7d038e",
   "metadata": {},
   "outputs": [
    {
     "data": {
      "text/plain": [
       "{'a', 'b', 'c'}"
      ]
     },
     "execution_count": 8,
     "metadata": {},
     "output_type": "execute_result"
    }
   ],
   "source": [
    "set('abc')"
   ]
  },
  {
   "cell_type": "code",
   "execution_count": 9,
   "id": "e1f07a58-e549-46e9-9570-b8e8f5126895",
   "metadata": {},
   "outputs": [
    {
     "ename": "TypeError",
     "evalue": "'set' object is not subscriptable",
     "output_type": "error",
     "traceback": [
      "\u001b[0;31m---------------------------------------------------------------------------\u001b[0m",
      "\u001b[0;31mTypeError\u001b[0m                                 Traceback (most recent call last)",
      "Cell \u001b[0;32mIn[9], line 3\u001b[0m\n\u001b[1;32m      1\u001b[0m \u001b[38;5;66;03m# Unordered/unindexed/not subscriptable\u001b[39;00m\n\u001b[1;32m      2\u001b[0m s \u001b[38;5;241m=\u001b[39m {\u001b[38;5;241m1\u001b[39m, \u001b[38;5;241m2\u001b[39m, \u001b[38;5;241m3\u001b[39m}\n\u001b[0;32m----> 3\u001b[0m \u001b[43ms\u001b[49m\u001b[43m[\u001b[49m\u001b[38;5;241;43m0\u001b[39;49m\u001b[43m]\u001b[49m\n",
      "\u001b[0;31mTypeError\u001b[0m: 'set' object is not subscriptable"
     ]
    }
   ],
   "source": [
    "# Unordered/unindexed/not subscriptable\n",
    "s = {1, 2, 3}\n",
    "s[0]"
   ]
  },
  {
   "cell_type": "code",
   "execution_count": 10,
   "id": "ed4cc1f8-31ff-4605-969c-756161a6affc",
   "metadata": {},
   "outputs": [
    {
     "data": {
      "text/plain": [
       "{1, 2, 3}"
      ]
     },
     "execution_count": 10,
     "metadata": {},
     "output_type": "execute_result"
    }
   ],
   "source": [
    "# Unique elements (no duplicates)\n",
    "{1, 1, 1, 2, 2, 3}"
   ]
  },
  {
   "cell_type": "code",
   "execution_count": 11,
   "id": "4fe22f6c-f651-465d-a6f4-94127afd5251",
   "metadata": {},
   "outputs": [
    {
     "data": {
      "text/plain": [
       "{(1, 2, 3), 0.5, 1, 'abc'}"
      ]
     },
     "execution_count": 11,
     "metadata": {},
     "output_type": "execute_result"
    }
   ],
   "source": [
    "# heterogeneous\n",
    "{1, 0.5, 'abc', (1, 2, 3)}"
   ]
  },
  {
   "cell_type": "markdown",
   "id": "fd17fa6b-9ef1-4f22-9052-2ff2d44a45a8",
   "metadata": {},
   "source": [
    "Sets can only contain **hashable** objects\n",
    "* has a function to convert the object's value to an integer\n",
    "    * implemented in the `hash()` method  \n",
    "* this hash value remains **consistent** during its lifetime\n",
    "    * **immutable** objects\n",
    "* examples:\n",
    "    * `int`\n",
    "    * `float`\n",
    "    * `str`\n",
    "    * `tuple` if all elements in the tuple are hashable"
   ]
  },
  {
   "cell_type": "code",
   "execution_count": 12,
   "id": "14da074a-d9aa-4b49-b93b-2fb6491b62a8",
   "metadata": {},
   "outputs": [
    {
     "data": {
      "text/plain": [
       "1"
      ]
     },
     "execution_count": 12,
     "metadata": {},
     "output_type": "execute_result"
    }
   ],
   "source": [
    "hash(1)"
   ]
  },
  {
   "cell_type": "code",
   "execution_count": 13,
   "id": "3d635ee3-4a1f-4f65-8530-55f9142151b8",
   "metadata": {},
   "outputs": [
    {
     "data": {
      "text/plain": [
       "500"
      ]
     },
     "execution_count": 13,
     "metadata": {},
     "output_type": "execute_result"
    }
   ],
   "source": [
    "hash(500)"
   ]
  },
  {
   "cell_type": "code",
   "execution_count": 14,
   "id": "61007b6a-b8a0-4f9e-a699-f140eb201c5c",
   "metadata": {},
   "outputs": [
    {
     "data": {
      "text/plain": [
       "230584300921369408"
      ]
     },
     "execution_count": 14,
     "metadata": {},
     "output_type": "execute_result"
    }
   ],
   "source": [
    "hash(0.1)"
   ]
  },
  {
   "cell_type": "code",
   "execution_count": 15,
   "id": "71f94d80-2ec5-45b0-a8c0-0cd4d422a8da",
   "metadata": {},
   "outputs": [
    {
     "data": {
      "text/plain": [
       "1152921504606846976"
      ]
     },
     "execution_count": 15,
     "metadata": {},
     "output_type": "execute_result"
    }
   ],
   "source": [
    "hash(0.5)"
   ]
  },
  {
   "cell_type": "code",
   "execution_count": 16,
   "id": "472523dc-bf24-4100-8853-79bc81aafc76",
   "metadata": {},
   "outputs": [
    {
     "data": {
      "text/plain": [
       "-2853043819228629119"
      ]
     },
     "execution_count": 16,
     "metadata": {},
     "output_type": "execute_result"
    }
   ],
   "source": [
    "hash('a')"
   ]
  },
  {
   "cell_type": "code",
   "execution_count": 17,
   "id": "07146f7f-9c52-4e81-81e7-1cc5c8686b22",
   "metadata": {},
   "outputs": [
    {
     "data": {
      "text/plain": [
       "-2188954152372417382"
      ]
     },
     "execution_count": 17,
     "metadata": {},
     "output_type": "execute_result"
    }
   ],
   "source": [
    "hash('abc')"
   ]
  },
  {
   "cell_type": "code",
   "execution_count": 18,
   "id": "af59ce62-6141-4f5d-9ae5-e13cbfe41792",
   "metadata": {},
   "outputs": [
    {
     "data": {
      "text/plain": [
       "-5259906774421471684"
      ]
     },
     "execution_count": 18,
     "metadata": {},
     "output_type": "execute_result"
    }
   ],
   "source": [
    "hash('hello, world')"
   ]
  },
  {
   "cell_type": "code",
   "execution_count": 19,
   "id": "c93a78c5-ce1b-463f-af15-114b17f94882",
   "metadata": {},
   "outputs": [
    {
     "data": {
      "text/plain": [
       "-1314201354667449936"
      ]
     },
     "execution_count": 19,
     "metadata": {},
     "output_type": "execute_result"
    }
   ],
   "source": [
    "hash((1, 0.5, 'abc'))"
   ]
  },
  {
   "cell_type": "code",
   "execution_count": 20,
   "id": "d0f2217f-def2-461c-a078-302cd2d92060",
   "metadata": {},
   "outputs": [
    {
     "ename": "TypeError",
     "evalue": "unhashable type: 'list'",
     "output_type": "error",
     "traceback": [
      "\u001b[0;31m---------------------------------------------------------------------------\u001b[0m",
      "\u001b[0;31mTypeError\u001b[0m                                 Traceback (most recent call last)",
      "Cell \u001b[0;32mIn[20], line 2\u001b[0m\n\u001b[1;32m      1\u001b[0m \u001b[38;5;66;03m# lists are mutable, so unhashable!\u001b[39;00m\n\u001b[0;32m----> 2\u001b[0m \u001b[38;5;28;43mhash\u001b[39;49m\u001b[43m(\u001b[49m\u001b[43m[\u001b[49m\u001b[38;5;241;43m1\u001b[39;49m\u001b[43m,\u001b[49m\u001b[43m \u001b[49m\u001b[38;5;241;43m2\u001b[39;49m\u001b[43m,\u001b[49m\u001b[43m \u001b[49m\u001b[38;5;241;43m3\u001b[39;49m\u001b[43m]\u001b[49m\u001b[43m)\u001b[49m\n",
      "\u001b[0;31mTypeError\u001b[0m: unhashable type: 'list'"
     ]
    }
   ],
   "source": [
    "# lists are mutable, so unhashable!\n",
    "hash([1, 2, 3])"
   ]
  },
  {
   "cell_type": "code",
   "execution_count": 21,
   "id": "6b7b298d-f259-4c8b-b548-3d21dab3d6d8",
   "metadata": {},
   "outputs": [
    {
     "ename": "TypeError",
     "evalue": "unhashable type: 'set'",
     "output_type": "error",
     "traceback": [
      "\u001b[0;31m---------------------------------------------------------------------------\u001b[0m",
      "\u001b[0;31mTypeError\u001b[0m                                 Traceback (most recent call last)",
      "Cell \u001b[0;32mIn[21], line 2\u001b[0m\n\u001b[1;32m      1\u001b[0m \u001b[38;5;66;03m# sets themselves are mutable, so unhashable\u001b[39;00m\n\u001b[0;32m----> 2\u001b[0m \u001b[38;5;28;43mhash\u001b[39;49m\u001b[43m(\u001b[49m\u001b[43m{\u001b[49m\u001b[38;5;241;43m1\u001b[39;49m\u001b[43m,\u001b[49m\u001b[43m \u001b[49m\u001b[38;5;241;43m2\u001b[39;49m\u001b[43m,\u001b[49m\u001b[43m \u001b[49m\u001b[38;5;241;43m3\u001b[39;49m\u001b[43m}\u001b[49m\u001b[43m)\u001b[49m\n",
      "\u001b[0;31mTypeError\u001b[0m: unhashable type: 'set'"
     ]
    }
   ],
   "source": [
    "# sets themselves are mutable, so unhashable\n",
    "hash({1, 2, 3})"
   ]
  },
  {
   "cell_type": "code",
   "execution_count": 22,
   "id": "60573e95-e7a7-4ff3-9cdb-45b3827e9d14",
   "metadata": {},
   "outputs": [
    {
     "ename": "TypeError",
     "evalue": "unhashable type: 'list'",
     "output_type": "error",
     "traceback": [
      "\u001b[0;31m---------------------------------------------------------------------------\u001b[0m",
      "\u001b[0;31mTypeError\u001b[0m                                 Traceback (most recent call last)",
      "Cell \u001b[0;32mIn[22], line 2\u001b[0m\n\u001b[1;32m      1\u001b[0m \u001b[38;5;66;03m# all elements in the tuple need to be hashable to make the tuple hashable\u001b[39;00m\n\u001b[0;32m----> 2\u001b[0m \u001b[38;5;28;43mhash\u001b[39;49m\u001b[43m(\u001b[49m\u001b[43m(\u001b[49m\u001b[38;5;241;43m1\u001b[39;49m\u001b[43m,\u001b[49m\u001b[43m \u001b[49m\u001b[38;5;241;43m2\u001b[39;49m\u001b[43m,\u001b[49m\u001b[43m \u001b[49m\u001b[43m[\u001b[49m\u001b[38;5;241;43m1\u001b[39;49m\u001b[43m,\u001b[49m\u001b[43m \u001b[49m\u001b[38;5;241;43m2\u001b[39;49m\u001b[43m]\u001b[49m\u001b[43m)\u001b[49m\u001b[43m)\u001b[49m\n",
      "\u001b[0;31mTypeError\u001b[0m: unhashable type: 'list'"
     ]
    }
   ],
   "source": [
    "# all elements in the tuple need to be hashable to make the tuple hashable\n",
    "hash((1, 2, [1, 2]))"
   ]
  },
  {
   "cell_type": "markdown",
   "id": "d8631c2e-c956-42ba-a5c1-755f600d9f06",
   "metadata": {},
   "source": [
    "hashing allows **O(1)** average complexity of\n",
    "* lookup\n",
    "* insertion\n",
    "* deletion\n",
    "\n",
    "we'll cover the reasons in slides later"
   ]
  },
  {
   "cell_type": "code",
   "execution_count": 23,
   "id": "14f54f5a-74da-45cf-8c9b-0b37974d906e",
   "metadata": {},
   "outputs": [
    {
     "data": {
      "text/plain": [
       "{'a', 'b', 'c'}"
      ]
     },
     "execution_count": 23,
     "metadata": {},
     "output_type": "execute_result"
    }
   ],
   "source": [
    "s = set('abc')\n",
    "s"
   ]
  },
  {
   "cell_type": "code",
   "execution_count": 24,
   "id": "738df538-a7d7-496a-ad4a-d05abe7a447a",
   "metadata": {},
   "outputs": [
    {
     "data": {
      "text/plain": [
       "True"
      ]
     },
     "execution_count": 24,
     "metadata": {},
     "output_type": "execute_result"
    }
   ],
   "source": [
    "# lookup\n",
    "# O(1)\n",
    "'a' in s"
   ]
  },
  {
   "cell_type": "code",
   "execution_count": 25,
   "id": "3262a3df-9f57-4b57-8a1c-dd5154f76b23",
   "metadata": {},
   "outputs": [
    {
     "data": {
      "text/plain": [
       "False"
      ]
     },
     "execution_count": 25,
     "metadata": {},
     "output_type": "execute_result"
    }
   ],
   "source": [
    "'d' in s"
   ]
  },
  {
   "cell_type": "code",
   "execution_count": 26,
   "id": "d909e5fb-ab65-41a9-8411-f121d56f300c",
   "metadata": {},
   "outputs": [
    {
     "data": {
      "text/plain": [
       "True"
      ]
     },
     "execution_count": 26,
     "metadata": {},
     "output_type": "execute_result"
    }
   ],
   "source": [
    "'d' not in s"
   ]
  },
  {
   "cell_type": "code",
   "execution_count": 27,
   "id": "45781ee0-59eb-4f2c-8e2d-120993672609",
   "metadata": {},
   "outputs": [
    {
     "data": {
      "text/plain": [
       "3"
      ]
     },
     "execution_count": 27,
     "metadata": {},
     "output_type": "execute_result"
    }
   ],
   "source": [
    "# O(1)\n",
    "len(s)"
   ]
  },
  {
   "cell_type": "code",
   "execution_count": 28,
   "id": "3704d79b-4883-40e6-8eac-71d8ba093e9a",
   "metadata": {},
   "outputs": [
    {
     "data": {
      "text/plain": [
       "{'a', 'b', 'c', 'd'}"
      ]
     },
     "execution_count": 28,
     "metadata": {},
     "output_type": "execute_result"
    }
   ],
   "source": [
    "# insertion\n",
    "# O(1)\n",
    "s.add('d')\n",
    "s"
   ]
  },
  {
   "cell_type": "code",
   "execution_count": 29,
   "id": "b812b7ca-9eef-44ff-af79-113c44ef89bd",
   "metadata": {},
   "outputs": [
    {
     "data": {
      "text/plain": [
       "{'a', 'b', 'c', 'd'}"
      ]
     },
     "execution_count": 29,
     "metadata": {},
     "output_type": "execute_result"
    }
   ],
   "source": [
    "# unique elements \n",
    "s.add('d')\n",
    "s"
   ]
  },
  {
   "cell_type": "code",
   "execution_count": 30,
   "id": "91a942a8-94d2-4cad-bcbe-691d5c5780bf",
   "metadata": {},
   "outputs": [
    {
     "data": {
      "text/plain": [
       "{'a', 'c', 'd'}"
      ]
     },
     "execution_count": 30,
     "metadata": {},
     "output_type": "execute_result"
    }
   ],
   "source": [
    "# deletion \n",
    "s.remove('b')\n",
    "s"
   ]
  },
  {
   "cell_type": "code",
   "execution_count": 31,
   "id": "a166a18d-cfd3-4eb8-b04e-baca72e031ab",
   "metadata": {},
   "outputs": [
    {
     "ename": "KeyError",
     "evalue": "'b'",
     "output_type": "error",
     "traceback": [
      "\u001b[0;31m---------------------------------------------------------------------------\u001b[0m",
      "\u001b[0;31mKeyError\u001b[0m                                  Traceback (most recent call last)",
      "Cell \u001b[0;32mIn[31], line 3\u001b[0m\n\u001b[1;32m      1\u001b[0m \u001b[38;5;66;03m# remove() raise KeyError if no such element\u001b[39;00m\n\u001b[1;32m      2\u001b[0m \u001b[38;5;66;03m# we can call set elements keys \u001b[39;00m\n\u001b[0;32m----> 3\u001b[0m \u001b[43ms\u001b[49m\u001b[38;5;241;43m.\u001b[39;49m\u001b[43mremove\u001b[49m\u001b[43m(\u001b[49m\u001b[38;5;124;43m'\u001b[39;49m\u001b[38;5;124;43mb\u001b[39;49m\u001b[38;5;124;43m'\u001b[39;49m\u001b[43m)\u001b[49m\n",
      "\u001b[0;31mKeyError\u001b[0m: 'b'"
     ]
    }
   ],
   "source": [
    "# remove() raise KeyError if no such element\n",
    "# we can call set elements keys \n",
    "s.remove('b')"
   ]
  },
  {
   "cell_type": "code",
   "execution_count": 32,
   "id": "2d3980e2-198c-4c7c-9249-6f6ef17589b3",
   "metadata": {},
   "outputs": [
    {
     "data": {
      "text/plain": [
       "{'c', 'd'}"
      ]
     },
     "execution_count": 32,
     "metadata": {},
     "output_type": "execute_result"
    }
   ],
   "source": [
    "s.discard('a')\n",
    "s"
   ]
  },
  {
   "cell_type": "code",
   "execution_count": 33,
   "id": "1ff7a1ae-cc78-4147-a11c-8cb758f9ea1b",
   "metadata": {},
   "outputs": [],
   "source": [
    "# discard() won't raise KeyError\n",
    "s.discard('a')"
   ]
  },
  {
   "cell_type": "code",
   "execution_count": 34,
   "id": "cbf4601b-11ff-4eee-8560-3db4948892ea",
   "metadata": {},
   "outputs": [
    {
     "name": "stdout",
     "output_type": "stream",
     "text": [
      "c\n",
      "d\n"
     ]
    }
   ],
   "source": [
    "# iterable\n",
    "for i in s: \n",
    "    print(i)"
   ]
  },
  {
   "cell_type": "markdown",
   "id": "680502b1-649a-4164-a9aa-ca79440323b8",
   "metadata": {},
   "source": [
    "Common set operations\n",
    "* union\n",
    "* intersection\n",
    "* difference"
   ]
  },
  {
   "cell_type": "code",
   "execution_count": 35,
   "id": "8a981069-a6fc-42f8-9222-c7926abf1d08",
   "metadata": {},
   "outputs": [
    {
     "data": {
      "text/plain": [
       "({0, 1, 2, 3, 4}, {3, 4, 5, 6, 7})"
      ]
     },
     "execution_count": 35,
     "metadata": {},
     "output_type": "execute_result"
    }
   ],
   "source": [
    "s1 = set(range(5))\n",
    "s2 = set(range(3, 8))\n",
    "s1, s2"
   ]
  },
  {
   "cell_type": "code",
   "execution_count": 36,
   "id": "a691ed95-fb8b-43f7-a8f3-2aa6c490f67f",
   "metadata": {},
   "outputs": [
    {
     "data": {
      "text/plain": [
       "{0, 1, 2, 3, 4, 5, 6, 7}"
      ]
     },
     "execution_count": 36,
     "metadata": {},
     "output_type": "execute_result"
    }
   ],
   "source": [
    "# union combines all unique elements from both sets\n",
    "s1.union(s2)"
   ]
  },
  {
   "cell_type": "code",
   "execution_count": 37,
   "id": "160e4b47-aec3-4d9f-9594-45e640a32a49",
   "metadata": {},
   "outputs": [
    {
     "data": {
      "text/plain": [
       "{0, 1, 2, 3, 4, 5, 6, 7}"
      ]
     },
     "execution_count": 37,
     "metadata": {},
     "output_type": "execute_result"
    }
   ],
   "source": [
    "# same as s1.union(s2)\n",
    "s1 | s2"
   ]
  },
  {
   "cell_type": "code",
   "execution_count": 38,
   "id": "fd524df4-ad81-4c82-96ae-da34d59badbd",
   "metadata": {},
   "outputs": [
    {
     "data": {
      "text/plain": [
       "{3, 4}"
      ]
     },
     "execution_count": 38,
     "metadata": {},
     "output_type": "execute_result"
    }
   ],
   "source": [
    "# intersection returns only the elements common to both sets\n",
    "s1.intersection(s2)"
   ]
  },
  {
   "cell_type": "code",
   "execution_count": 39,
   "id": "29615408-7bd6-4843-a9ff-b432249f0cd8",
   "metadata": {},
   "outputs": [
    {
     "data": {
      "text/plain": [
       "{3, 4}"
      ]
     },
     "execution_count": 39,
     "metadata": {},
     "output_type": "execute_result"
    }
   ],
   "source": [
    "# same as s1.intersection(s2)\n",
    "s1 & s2"
   ]
  },
  {
   "cell_type": "code",
   "execution_count": 40,
   "id": "59cb55b1-9d19-4ab0-9cc0-6b305b5e989f",
   "metadata": {},
   "outputs": [
    {
     "data": {
      "text/plain": [
       "{0, 1, 2}"
      ]
     },
     "execution_count": 40,
     "metadata": {},
     "output_type": "execute_result"
    }
   ],
   "source": [
    "# s1.difference(s2) returns elements that are in s1 but not in s2\n",
    "s1.difference(s2)"
   ]
  },
  {
   "cell_type": "code",
   "execution_count": 41,
   "id": "5396ba59-ff1a-4f30-bcf6-cba5749e604a",
   "metadata": {},
   "outputs": [
    {
     "data": {
      "text/plain": [
       "{5, 6, 7}"
      ]
     },
     "execution_count": 41,
     "metadata": {},
     "output_type": "execute_result"
    }
   ],
   "source": [
    "s2.difference(s1)"
   ]
  },
  {
   "cell_type": "code",
   "execution_count": 42,
   "id": "e7b3b545-95c4-429d-826d-b999248fec6f",
   "metadata": {},
   "outputs": [
    {
     "data": {
      "text/plain": [
       "{0, 1, 2}"
      ]
     },
     "execution_count": 42,
     "metadata": {},
     "output_type": "execute_result"
    }
   ],
   "source": [
    "# same as s1.difference(s2)\n",
    "s1 - s2"
   ]
  },
  {
   "cell_type": "markdown",
   "id": "9be483d0-f8d6-46c5-9356-a184d93a82be",
   "metadata": {},
   "source": [
    "more [set operations](https://docs.python.org/3/library/stdtypes.html#set)"
   ]
  },
  {
   "cell_type": "code",
   "execution_count": 43,
   "id": "3983985c-1968-4a4f-bc59-7ffb0d5d8a1f",
   "metadata": {},
   "outputs": [
    {
     "data": {
      "text/plain": [
       "{0, 1, 2, 5, 6, 7}"
      ]
     },
     "execution_count": 43,
     "metadata": {},
     "output_type": "execute_result"
    }
   ],
   "source": [
    "# s1.symmetric_difference(s2) returns elements in either the s1 or s2 but not both\n",
    "s1.symmetric_difference(s2)"
   ]
  },
  {
   "cell_type": "code",
   "execution_count": 44,
   "id": "ba30ef26-8cc0-4880-b2b7-fd7ee39ffbc5",
   "metadata": {},
   "outputs": [
    {
     "data": {
      "text/plain": [
       "{0, 1, 2, 5, 6, 7}"
      ]
     },
     "execution_count": 44,
     "metadata": {},
     "output_type": "execute_result"
    }
   ],
   "source": [
    "# same as s1.symmetric_difference(s2)\n",
    "s1 ^ s2"
   ]
  },
  {
   "cell_type": "code",
   "execution_count": 45,
   "id": "f39ccc2d-9b09-4f96-b327-d8a6d4fd4c6d",
   "metadata": {},
   "outputs": [
    {
     "data": {
      "text/plain": [
       "({0, 1, 2, 3, 4}, {0, 1, 2})"
      ]
     },
     "execution_count": 45,
     "metadata": {},
     "output_type": "execute_result"
    }
   ],
   "source": [
    "s1 = set(range(5))\n",
    "s2 = set(range(3))\n",
    "s1, s2"
   ]
  },
  {
   "cell_type": "code",
   "execution_count": 46,
   "id": "0d214a65-73fb-41bd-9ac1-0f13d40574db",
   "metadata": {},
   "outputs": [
    {
     "data": {
      "text/plain": [
       "True"
      ]
     },
     "execution_count": 46,
     "metadata": {},
     "output_type": "execute_result"
    }
   ],
   "source": [
    "# whether every element in s2 is in s1\n",
    "s1.issuperset(s2)"
   ]
  },
  {
   "cell_type": "code",
   "execution_count": 47,
   "id": "7e797d66-5e6f-4197-92e8-25ca2b7c66ab",
   "metadata": {},
   "outputs": [
    {
     "data": {
      "text/plain": [
       "True"
      ]
     },
     "execution_count": 47,
     "metadata": {},
     "output_type": "execute_result"
    }
   ],
   "source": [
    "# same as s1.issuperset(s2)\n",
    "s1 >= s2"
   ]
  },
  {
   "cell_type": "code",
   "execution_count": 48,
   "id": "30198be0-b688-4f6a-b99e-d1eedf884a8a",
   "metadata": {},
   "outputs": [
    {
     "data": {
      "text/plain": [
       "False"
      ]
     },
     "execution_count": 48,
     "metadata": {},
     "output_type": "execute_result"
    }
   ],
   "source": [
    "s2.issuperset(s1)"
   ]
  },
  {
   "cell_type": "code",
   "execution_count": 49,
   "id": "44cf1888-512a-4f73-9608-2283cdb02acd",
   "metadata": {},
   "outputs": [
    {
     "data": {
      "text/plain": [
       "True"
      ]
     },
     "execution_count": 49,
     "metadata": {},
     "output_type": "execute_result"
    }
   ],
   "source": [
    "# whether every element in s1 is in s2\n",
    "s2.issubset(s1)"
   ]
  },
  {
   "cell_type": "code",
   "execution_count": 50,
   "id": "bf00f455-2551-45f1-9782-c77b8e984b8c",
   "metadata": {},
   "outputs": [
    {
     "data": {
      "text/plain": [
       "True"
      ]
     },
     "execution_count": 50,
     "metadata": {},
     "output_type": "execute_result"
    }
   ],
   "source": [
    "# same as s2.issubset(s1)\n",
    "s2 <= s1"
   ]
  },
  {
   "cell_type": "code",
   "execution_count": 51,
   "id": "a3bceede-35da-4566-9838-34c5479822ac",
   "metadata": {},
   "outputs": [
    {
     "data": {
      "text/plain": [
       "False"
      ]
     },
     "execution_count": 51,
     "metadata": {},
     "output_type": "execute_result"
    }
   ],
   "source": [
    "s1.issubset(s2)"
   ]
  },
  {
   "cell_type": "markdown",
   "id": "846681b0-8f3c-4e60-91fe-7af82819d73c",
   "metadata": {},
   "source": [
    "## Dictionaries "
   ]
  },
  {
   "cell_type": "code",
   "execution_count": 52,
   "id": "ec6a859c-89bb-42d3-95aa-096314b99510",
   "metadata": {},
   "outputs": [
    {
     "data": {
      "text/plain": [
       "{'Alice': '555-1234', 'Bob': '555-5678'}"
      ]
     },
     "execution_count": 52,
     "metadata": {},
     "output_type": "execute_result"
    }
   ],
   "source": [
    "# key value pairs \n",
    "# literal {key1: value1, key2: value2, ...}\n",
    "phonebook = {'Alice': '555-1234', 'Bob': '555-5678'}\n",
    "phonebook"
   ]
  },
  {
   "cell_type": "code",
   "execution_count": 53,
   "id": "05925d08-8075-4a8f-bc98-39cdabd034b8",
   "metadata": {},
   "outputs": [
    {
     "data": {
      "text/plain": [
       "dict"
      ]
     },
     "execution_count": 53,
     "metadata": {},
     "output_type": "execute_result"
    }
   ],
   "source": [
    "type(phonebook)"
   ]
  },
  {
   "cell_type": "code",
   "execution_count": 54,
   "id": "a91eab20-5a44-43f4-9937-17d70ad9f102",
   "metadata": {},
   "outputs": [
    {
     "data": {
      "text/plain": [
       "{}"
      ]
     },
     "execution_count": 54,
     "metadata": {},
     "output_type": "execute_result"
    }
   ],
   "source": [
    "# empty dict \n",
    "s = {}\n",
    "s"
   ]
  },
  {
   "cell_type": "code",
   "execution_count": 55,
   "id": "bccbf9b4-81db-4ea0-b7a3-c34570724e20",
   "metadata": {},
   "outputs": [
    {
     "data": {
      "text/plain": [
       "dict"
      ]
     },
     "execution_count": 55,
     "metadata": {},
     "output_type": "execute_result"
    }
   ],
   "source": [
    "type(s)"
   ]
  },
  {
   "cell_type": "code",
   "execution_count": 56,
   "id": "243e2996-f2ff-488d-9843-5342538eaeae",
   "metadata": {},
   "outputs": [
    {
     "data": {
      "text/plain": [
       "{'Alice': '555-1234', 'Bob': '555-5678'}"
      ]
     },
     "execution_count": 56,
     "metadata": {},
     "output_type": "execute_result"
    }
   ],
   "source": [
    "# create dict using a list of key-value tuples\n",
    "dict([('Alice', '555-1234'), ('Bob', '555-5678')])"
   ]
  },
  {
   "cell_type": "code",
   "execution_count": 57,
   "id": "ad6bdaf1-34d6-4390-867f-ff7271ae48cb",
   "metadata": {},
   "outputs": [
    {
     "data": {
      "text/plain": [
       "{'Alice': '555-1234', 'Bob': '555-5678'}"
      ]
     },
     "execution_count": 57,
     "metadata": {},
     "output_type": "execute_result"
    }
   ],
   "source": [
    "# create dict using zip([keys], [values])\n",
    "dict(zip(['Alice', 'Bob'], ['555-1234', '555-5678']))"
   ]
  },
  {
   "cell_type": "code",
   "execution_count": 58,
   "id": "2d78bac0-ff6a-4a81-ad6e-0cd517b8d05e",
   "metadata": {},
   "outputs": [
    {
     "data": {
      "text/plain": [
       "{'Alice': '555-5678'}"
      ]
     },
     "execution_count": 58,
     "metadata": {},
     "output_type": "execute_result"
    }
   ],
   "source": [
    "# Unique elements (no duplicates)\n",
    "# duplicate keys take the last value\n",
    "{'Alice': '555-1234', 'Alice': '555-5678'}"
   ]
  },
  {
   "cell_type": "code",
   "execution_count": 59,
   "id": "2f3ecfa0-a0d1-451e-a1b2-ddb5cf97411c",
   "metadata": {},
   "outputs": [
    {
     "data": {
      "text/plain": [
       "{'Alice': '555-1234', 'Bob': '555-1234'}"
      ]
     },
     "execution_count": 59,
     "metadata": {},
     "output_type": "execute_result"
    }
   ],
   "source": [
    "# you can have same values \n",
    "{'Alice': '555-1234', 'Bob': '555-1234'}"
   ]
  },
  {
   "cell_type": "code",
   "execution_count": 60,
   "id": "17ce12a9-4d13-4ed2-ae38-6dc9fc24be1d",
   "metadata": {},
   "outputs": [
    {
     "data": {
      "text/plain": [
       "2"
      ]
     },
     "execution_count": 60,
     "metadata": {},
     "output_type": "execute_result"
    }
   ],
   "source": [
    "# O(1)\n",
    "len(phonebook)"
   ]
  },
  {
   "cell_type": "code",
   "execution_count": 61,
   "id": "0fc4c472-b4fd-4c88-abe7-f29d36fad992",
   "metadata": {},
   "outputs": [
    {
     "data": {
      "text/plain": [
       "{'name': 'Alice', 'phone': '555-1234', 1: 'one', (2, 3): 1}"
      ]
     },
     "execution_count": 61,
     "metadata": {},
     "output_type": "execute_result"
    }
   ],
   "source": [
    "# heterogeneous\n",
    "person = {\n",
    "    'name': 'Alice',\n",
    "    'phone': '555-1234',\n",
    "    1: 'one',\n",
    "    (2, 3): 1\n",
    "}\n",
    "person"
   ]
  },
  {
   "cell_type": "markdown",
   "id": "81de23bd-0fcd-40dd-8021-ac80d54a9884",
   "metadata": {},
   "source": [
    "All keys need to be **hashable**, like set elements"
   ]
  },
  {
   "cell_type": "code",
   "execution_count": 62,
   "id": "8ded5b60-dfde-4ef1-b4fe-30a8e31099b3",
   "metadata": {},
   "outputs": [
    {
     "ename": "TypeError",
     "evalue": "unhashable type: 'list'",
     "output_type": "error",
     "traceback": [
      "\u001b[0;31m---------------------------------------------------------------------------\u001b[0m",
      "\u001b[0;31mTypeError\u001b[0m                                 Traceback (most recent call last)",
      "Cell \u001b[0;32mIn[62], line 1\u001b[0m\n\u001b[0;32m----> 1\u001b[0m {[\u001b[38;5;241m1\u001b[39m, \u001b[38;5;241m2\u001b[39m, \u001b[38;5;241m3\u001b[39m]: \u001b[38;5;241m1\u001b[39m}\n",
      "\u001b[0;31mTypeError\u001b[0m: unhashable type: 'list'"
     ]
    }
   ],
   "source": [
    "{[1, 2, 3]: 1}"
   ]
  },
  {
   "cell_type": "markdown",
   "id": "545789b3-0d9d-4eba-b201-1da6845ddaad",
   "metadata": {},
   "source": [
    "Similarly, dicts have **O(1)** average complexity of\n",
    "* lookup\n",
    "* insertion\n",
    "* deletion\n",
    "  \n",
    "and \n",
    "* update"
   ]
  },
  {
   "cell_type": "code",
   "execution_count": 63,
   "id": "c858c591-14dc-4d44-a397-110e5c6d84ed",
   "metadata": {},
   "outputs": [
    {
     "data": {
      "text/plain": [
       "True"
      ]
     },
     "execution_count": 63,
     "metadata": {},
     "output_type": "execute_result"
    }
   ],
   "source": [
    "# lookup\n",
    "'Alice' in phonebook"
   ]
  },
  {
   "cell_type": "code",
   "execution_count": 64,
   "id": "ab80f23a-221e-4463-b0de-46be125c7160",
   "metadata": {},
   "outputs": [
    {
     "data": {
      "text/plain": [
       "False"
      ]
     },
     "execution_count": 64,
     "metadata": {},
     "output_type": "execute_result"
    }
   ],
   "source": [
    "'Charles' in phonebook"
   ]
  },
  {
   "cell_type": "code",
   "execution_count": 65,
   "id": "ce3c7263-07b5-4cdc-befd-3a20b01a5663",
   "metadata": {},
   "outputs": [
    {
     "data": {
      "text/plain": [
       "True"
      ]
     },
     "execution_count": 65,
     "metadata": {},
     "output_type": "execute_result"
    }
   ],
   "source": [
    "'Charles' not in phonebook"
   ]
  },
  {
   "cell_type": "code",
   "execution_count": 66,
   "id": "444f3d7c-41be-497c-9783-03ec3b562439",
   "metadata": {},
   "outputs": [
    {
     "data": {
      "text/plain": [
       "'555-1234'"
      ]
     },
     "execution_count": 66,
     "metadata": {},
     "output_type": "execute_result"
    }
   ],
   "source": [
    "# accessing values \n",
    "phonebook['Alice']"
   ]
  },
  {
   "cell_type": "code",
   "execution_count": 67,
   "id": "abbfdcda-c728-4b46-8156-c097f03d6c5a",
   "metadata": {},
   "outputs": [
    {
     "ename": "KeyError",
     "evalue": "'Charles'",
     "output_type": "error",
     "traceback": [
      "\u001b[0;31m---------------------------------------------------------------------------\u001b[0m",
      "\u001b[0;31mKeyError\u001b[0m                                  Traceback (most recent call last)",
      "Cell \u001b[0;32mIn[67], line 2\u001b[0m\n\u001b[1;32m      1\u001b[0m \u001b[38;5;66;03m# raise KeyError if key not in dict \u001b[39;00m\n\u001b[0;32m----> 2\u001b[0m \u001b[43mphonebook\u001b[49m\u001b[43m[\u001b[49m\u001b[38;5;124;43m'\u001b[39;49m\u001b[38;5;124;43mCharles\u001b[39;49m\u001b[38;5;124;43m'\u001b[39;49m\u001b[43m]\u001b[49m\n",
      "\u001b[0;31mKeyError\u001b[0m: 'Charles'"
     ]
    }
   ],
   "source": [
    "# raise KeyError if key not in dict \n",
    "phonebook['Charles']"
   ]
  },
  {
   "cell_type": "code",
   "execution_count": 68,
   "id": "ae7694a8-a120-412f-bcf0-c0bafb8f21fe",
   "metadata": {},
   "outputs": [
    {
     "data": {
      "text/plain": [
       "'555-1234'"
      ]
     },
     "execution_count": 68,
     "metadata": {},
     "output_type": "execute_result"
    }
   ],
   "source": [
    "phonebook.get('Alice')"
   ]
  },
  {
   "cell_type": "code",
   "execution_count": 69,
   "id": "ae99782d-58d9-4da5-926c-5e10d5614e37",
   "metadata": {},
   "outputs": [
    {
     "data": {
      "text/plain": [
       "'Name not found'"
      ]
     },
     "execution_count": 69,
     "metadata": {},
     "output_type": "execute_result"
    }
   ],
   "source": [
    "# use get(key, default) method to set a default\n",
    "phonebook.get('Charles', 'Name not found')"
   ]
  },
  {
   "cell_type": "code",
   "execution_count": 70,
   "id": "47cd72dd-548c-4af1-ab6b-ef020d0b579a",
   "metadata": {},
   "outputs": [
    {
     "data": {
      "text/plain": [
       "{'Alice': '555-0000', 'Bob': '555-5678'}"
      ]
     },
     "execution_count": 70,
     "metadata": {},
     "output_type": "execute_result"
    }
   ],
   "source": [
    "# update\n",
    "phonebook['Alice'] = '555-0000'\n",
    "phonebook"
   ]
  },
  {
   "cell_type": "code",
   "execution_count": 71,
   "id": "feb54f99-3d8c-412c-adb7-5c9dcf2f6c22",
   "metadata": {},
   "outputs": [
    {
     "data": {
      "text/plain": [
       "{'Alice': '555-0000', 'Bob': '555-5678', 'David': '555-5555'}"
      ]
     },
     "execution_count": 71,
     "metadata": {},
     "output_type": "execute_result"
    }
   ],
   "source": [
    "# insertion\n",
    "phonebook['David'] = '555-5555'\n",
    "phonebook"
   ]
  },
  {
   "cell_type": "code",
   "execution_count": 72,
   "id": "aa177ef7-8c64-4361-8517-a027174ab77e",
   "metadata": {},
   "outputs": [
    {
     "data": {
      "text/plain": [
       "{'Alice': '777-1234',\n",
       " 'Bob': '222-5678',\n",
       " 'David': '555-5555',\n",
       " 'Elaine': '999-9876'}"
      ]
     },
     "execution_count": 72,
     "metadata": {},
     "output_type": "execute_result"
    }
   ],
   "source": [
    "# batch update with update() method\n",
    "phonebook.update({\n",
    "    'Alice': '777-1234', \n",
    "    'Bob': '222-5678',\n",
    "    'Elaine': '999-9876'\n",
    "})\n",
    "phonebook"
   ]
  },
  {
   "cell_type": "code",
   "execution_count": 73,
   "id": "1ab7dba5-a3f8-47db-be0b-018f5642b8d0",
   "metadata": {},
   "outputs": [
    {
     "data": {
      "text/plain": [
       "{'Alice': '777-1234', 'Bob': '222-5678', 'Elaine': '999-9876'}"
      ]
     },
     "execution_count": 73,
     "metadata": {},
     "output_type": "execute_result"
    }
   ],
   "source": [
    "# deletion\n",
    "del phonebook['David']\n",
    "phonebook"
   ]
  },
  {
   "cell_type": "code",
   "execution_count": 74,
   "id": "97a6c08d-5832-4b35-9be0-4070ad44da22",
   "metadata": {},
   "outputs": [
    {
     "ename": "KeyError",
     "evalue": "'David'",
     "output_type": "error",
     "traceback": [
      "\u001b[0;31m---------------------------------------------------------------------------\u001b[0m",
      "\u001b[0;31mKeyError\u001b[0m                                  Traceback (most recent call last)",
      "Cell \u001b[0;32mIn[74], line 1\u001b[0m\n\u001b[0;32m----> 1\u001b[0m \u001b[38;5;28;01mdel\u001b[39;00m \u001b[43mphonebook\u001b[49m\u001b[43m[\u001b[49m\u001b[38;5;124;43m'\u001b[39;49m\u001b[38;5;124;43mDavid\u001b[39;49m\u001b[38;5;124;43m'\u001b[39;49m\u001b[43m]\u001b[49m\n",
      "\u001b[0;31mKeyError\u001b[0m: 'David'"
     ]
    }
   ],
   "source": [
    "del phonebook['David']"
   ]
  },
  {
   "cell_type": "code",
   "execution_count": 75,
   "id": "81c2dc21-eda4-4086-ad6f-c59d6b029cb4",
   "metadata": {},
   "outputs": [
    {
     "data": {
      "text/plain": [
       "{'Alice': '777-1234', 'Bob': '222-5678', 'Elaine': '999-9876'}"
      ]
     },
     "execution_count": 75,
     "metadata": {},
     "output_type": "execute_result"
    }
   ],
   "source": [
    "# is better to check before delete to avoid KeyError\n",
    "if 'David' in phonebook:\n",
    "    del phonebook['David']\n",
    "phonebook"
   ]
  },
  {
   "cell_type": "code",
   "execution_count": 76,
   "id": "e41fe996-2fcf-4fc0-83eb-c7036645c6cb",
   "metadata": {},
   "outputs": [
    {
     "data": {
      "text/plain": [
       "dict_keys(['Alice', 'Bob', 'Elaine'])"
      ]
     },
     "execution_count": 76,
     "metadata": {},
     "output_type": "execute_result"
    }
   ],
   "source": [
    "phonebook.keys()"
   ]
  },
  {
   "cell_type": "code",
   "execution_count": 77,
   "id": "40d2e82f-5baa-47b2-8bcf-041d624d3ee7",
   "metadata": {},
   "outputs": [
    {
     "data": {
      "text/plain": [
       "dict_values(['777-1234', '222-5678', '999-9876'])"
      ]
     },
     "execution_count": 77,
     "metadata": {},
     "output_type": "execute_result"
    }
   ],
   "source": [
    "phonebook.values()"
   ]
  },
  {
   "cell_type": "code",
   "execution_count": 78,
   "id": "e0ba1287-5077-476f-b9bb-c00aac253e05",
   "metadata": {},
   "outputs": [
    {
     "data": {
      "text/plain": [
       "dict_items([('Alice', '777-1234'), ('Bob', '222-5678'), ('Elaine', '999-9876')])"
      ]
     },
     "execution_count": 78,
     "metadata": {},
     "output_type": "execute_result"
    }
   ],
   "source": [
    "phonebook.items()"
   ]
  },
  {
   "cell_type": "code",
   "execution_count": 79,
   "id": "538b9340-ff36-4223-8935-d8fa5352f5ee",
   "metadata": {},
   "outputs": [
    {
     "name": "stdout",
     "output_type": "stream",
     "text": [
      "Alice\n",
      "Bob\n",
      "Elaine\n"
     ]
    }
   ],
   "source": [
    "for key in phonebook: # same as for key in phonebook.keys()\n",
    "    print(key)"
   ]
  },
  {
   "cell_type": "code",
   "execution_count": 80,
   "id": "5ab14715-90cc-4711-a370-3745b5880875",
   "metadata": {},
   "outputs": [
    {
     "name": "stdout",
     "output_type": "stream",
     "text": [
      "777-1234\n",
      "222-5678\n",
      "999-9876\n"
     ]
    }
   ],
   "source": [
    "for value in phonebook.values():\n",
    "    print(value)"
   ]
  },
  {
   "cell_type": "code",
   "execution_count": 81,
   "id": "5cc6a795-c9c3-4950-bf89-0de12de54d96",
   "metadata": {},
   "outputs": [
    {
     "name": "stdout",
     "output_type": "stream",
     "text": [
      "Alice 777-1234\n",
      "Bob 222-5678\n",
      "Elaine 999-9876\n"
     ]
    }
   ],
   "source": [
    "# we're unpacking here\n",
    "for key, value in phonebook.items():\n",
    "    print(key, value)"
   ]
  },
  {
   "cell_type": "code",
   "execution_count": 82,
   "id": "0ff99c88-4c5e-4b79-9424-1c1745a46c9b",
   "metadata": {},
   "outputs": [],
   "source": [
    "# can be nested\n",
    "users = {\n",
    "    'Alice': {'age': 25, 'phone': '555-1234'}, \n",
    "    'Bob': {'age': 30, 'phone': '777-5678'}\n",
    "}"
   ]
  },
  {
   "cell_type": "code",
   "execution_count": 83,
   "id": "81728e29-597b-42a5-beae-5adb41d389d9",
   "metadata": {},
   "outputs": [
    {
     "data": {
      "text/plain": [
       "{'age': 25, 'phone': '555-1234'}"
      ]
     },
     "execution_count": 83,
     "metadata": {},
     "output_type": "execute_result"
    }
   ],
   "source": [
    "users['Alice']"
   ]
  },
  {
   "cell_type": "code",
   "execution_count": 84,
   "id": "f21defca-5afb-4df4-b113-2bf0bb0d678c",
   "metadata": {},
   "outputs": [
    {
     "data": {
      "text/plain": [
       "25"
      ]
     },
     "execution_count": 84,
     "metadata": {},
     "output_type": "execute_result"
    }
   ],
   "source": [
    "users['Alice']['age']"
   ]
  },
  {
   "cell_type": "code",
   "execution_count": 85,
   "id": "775fb89e-1b61-4251-a0a5-21023e0cc8d8",
   "metadata": {},
   "outputs": [
    {
     "data": {
      "text/plain": [
       "{'Alice': {'age': 27, 'phone': '555-1234'},\n",
       " 'Bob': {'age': 30, 'phone': '777-5678'}}"
      ]
     },
     "execution_count": 85,
     "metadata": {},
     "output_type": "execute_result"
    }
   ],
   "source": [
    "users['Alice']['age'] = 27\n",
    "users"
   ]
  },
  {
   "cell_type": "code",
   "execution_count": 86,
   "id": "def80e99-c7cb-4c00-8868-3042227f88e2",
   "metadata": {},
   "outputs": [
    {
     "data": {
      "text/plain": [
       "{'Alice': {'age': 27,\n",
       "  'phone': '555-1234',\n",
       "  'address': '1000 x st, Madison, WI'},\n",
       " 'Bob': {'age': 30, 'phone': '777-5678'}}"
      ]
     },
     "execution_count": 86,
     "metadata": {},
     "output_type": "execute_result"
    }
   ],
   "source": [
    "users['Alice']['address'] = '1000 x st, Madison, WI'\n",
    "users"
   ]
  },
  {
   "cell_type": "markdown",
   "id": "28ac502c-c629-4c0a-b71f-94b648687ab2",
   "metadata": {},
   "source": [
    "One use case: counting occurances"
   ]
  },
  {
   "cell_type": "code",
   "execution_count": 87,
   "id": "91d53d74-be6e-4ea3-9306-f774a7c19c92",
   "metadata": {},
   "outputs": [
    {
     "data": {
      "text/plain": [
       "{6: 4, 2: 2, 9: 3, 8: 4, 3: 3, 7: 3, 5: 5, 4: 5, 1: 1}"
      ]
     },
     "execution_count": 87,
     "metadata": {},
     "output_type": "execute_result"
    }
   ],
   "source": [
    "nums = [6, 2, 9, 6, 6, 9, 8, 3, 7, 7, 5, 8, 4, 5, 3, 5, 4, 5, 7, 4, 5, 6, 8, 8, 3, 9, 2, 1, 4, 4]\n",
    "counts = {}\n",
    "for i in nums: \n",
    "    if i in counts:\n",
    "        counts[i] += 1\n",
    "    else: \n",
    "        counts[i] = 1\n",
    "counts"
   ]
  },
  {
   "cell_type": "code",
   "execution_count": null,
   "id": "a3808db0-9acf-4d39-9559-cd049a0bba0b",
   "metadata": {},
   "outputs": [],
   "source": []
  }
 ],
 "metadata": {
  "kernelspec": {
   "display_name": "Python 3 (ipykernel)",
   "language": "python",
   "name": "python3"
  },
  "language_info": {
   "codemirror_mode": {
    "name": "ipython",
    "version": 3
   },
   "file_extension": ".py",
   "mimetype": "text/x-python",
   "name": "python",
   "nbconvert_exporter": "python",
   "pygments_lexer": "ipython3",
   "version": "3.12.5"
  }
 },
 "nbformat": 4,
 "nbformat_minor": 5
}
