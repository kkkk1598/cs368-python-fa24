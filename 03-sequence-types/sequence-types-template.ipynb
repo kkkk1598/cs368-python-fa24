{
 "cells": [
  {
   "cell_type": "markdown",
   "id": "0d34f098-8d20-46a3-b667-24f349f345d0",
   "metadata": {
    "tags": []
   },
   "source": [
    "# Lecture 3 Sequence Types"
   ]
  },
  {
   "cell_type": "markdown",
   "id": "5fbf88b7-1336-4c55-8bf0-f34f3aa578fb",
   "metadata": {},
   "source": [
    "# If-elif-else Statements\n",
    "syntax: \n",
    "```python\n",
    "if boolean_expression: \n",
    "    ...\n",
    "elif boolean_expression: \n",
    "    ...\n",
    "else:\n",
    "    ...\n",
    "```\n",
    "* can be nested\n",
    "    * use indentations to determine the scopes\n",
    "    * if-elif-else on the same level of indentation has the same level of scope"
   ]
  },
  {
   "cell_type": "code",
   "execution_count": null,
   "id": "dcdb45ca-2d18-4fc2-9601-9cc27eb9ec90",
   "metadata": {},
   "outputs": [],
   "source": [
    "subject = 'cs'\n",
    "course = 368\n",
    "\n",
    "# nested\n",
    "if subject == 'cs': # largest scope\n",
    "    if course == 368: # second largest scope\n",
    "        print('this is the course you are taking')\n",
    "else: # largest scope\n",
    "    print('not a cs course')"
   ]
  },
  {
   "cell_type": "markdown",
   "id": "6725f3ef-8cc0-4102-85ee-de96c383e22e",
   "metadata": {},
   "source": [
    "Java's equivalent\n",
    "```java\n",
    "String subject = \"cs\";\n",
    "int course = 368;\n",
    "if (subject.equals(\"cs\")) {\n",
    "    if (course == 368) {\n",
    "        System.out.println(\"This is the course you are taking\");\n",
    "    }\n",
    "} else {\n",
    "    System.out.println(\"Not a cs course\");\n",
    "}\n",
    "```\n",
    "\n",
    "Beware!\n",
    "```java\n",
    "String subject = \"cs\";\n",
    "int course = 0;\n",
    "if (subject.equals(\"cs\"))\n",
    "    if (course == 368)\n",
    "        System.out.println(\"This is the course you are taking\");\n",
    "else\n",
    "    System.out.println(\"Not a cs course\");\n",
    "```"
   ]
  },
  {
   "cell_type": "code",
   "execution_count": null,
   "id": "6184c562-88bb-4b97-ba25-d7daa8906642",
   "metadata": {},
   "outputs": [],
   "source": [
    "# another example: \n",
    "score = 93\n",
    "if score >= 90: \n",
    "    grade = 'A'\n",
    "elif score >= 80:\n",
    "    grade = 'B'\n",
    "elif score >= 70: \n",
    "    grade = 'C'\n",
    "elif score >= 60: \n",
    "    grade = 'D'\n",
    "else: \n",
    "    grade = 'F'\n",
    "grade"
   ]
  },
  {
   "cell_type": "code",
   "execution_count": null,
   "id": "91e94671-7d81-4ce6-9c28-6208e1a49118",
   "metadata": {},
   "outputs": [],
   "source": [
    "if score >= 70: \n",
    "    grade = 'P'\n",
    "else:\n",
    "    grade = 'NP'\n",
    "# can be shorthaned as \n",
    "grade = ...\n",
    "grade"
   ]
  },
  {
   "cell_type": "markdown",
   "id": "38904a71-80bd-4419-a3eb-18c6d1cea6e0",
   "metadata": {},
   "source": [
    "### Mutability\n",
    "\n",
    "* An object is **mutable** if its state can be changed after it is created. \n",
    "    * one or more its attributes can be changed \n",
    "    * e.g., lists, sets, dicts, ...\n",
    "* An object is **immutable** if its state can **NOT** be changed after it is created. \n",
    "    * e.g., ints, floats, bools, strings, tuples, ..."
   ]
  },
  {
   "cell_type": "code",
   "execution_count": null,
   "id": "c6a3d75f-f11d-4c53-b86d-482aff127bc5",
   "metadata": {
    "tags": []
   },
   "outputs": [],
   "source": [
    "x = 300\n",
    "id(x)"
   ]
  },
  {
   "cell_type": "code",
   "execution_count": null,
   "id": "9bf26102-9053-4158-8a20-900dfe24924e",
   "metadata": {
    "tags": []
   },
   "outputs": [],
   "source": [
    "# int is immutable\n",
    "# a new int object is created \n",
    "x = 400\n",
    "id(x)"
   ]
  },
  {
   "cell_type": "code",
   "execution_count": null,
   "id": "fe1b81ac-3eea-41ff-bac5-c3014d3670c0",
   "metadata": {
    "tags": []
   },
   "outputs": [],
   "source": [
    "x = [1, 2, 3]\n",
    "id(x)"
   ]
  },
  {
   "cell_type": "code",
   "execution_count": null,
   "id": "4253422a-ec0a-4da9-89e2-6dbf6449551e",
   "metadata": {
    "tags": []
   },
   "outputs": [],
   "source": [
    "# list is mutable\n",
    "# 4 is added directly to the original list\n",
    "x.append(4)\n",
    "x"
   ]
  },
  {
   "cell_type": "code",
   "execution_count": null,
   "id": "dbf60c20-0154-47e9-83ce-dac897d8343c",
   "metadata": {},
   "outputs": [],
   "source": [
    "id(x)"
   ]
  },
  {
   "cell_type": "markdown",
   "id": "e1a903ae-cfb4-48e9-8fed-17fb836bd785",
   "metadata": {},
   "source": [
    "## Sequences\n",
    "* Ordered/indexed collection of items\n",
    "    * 1st element, 2nd element, 3rd element, ...\n",
    "* Accessing operations\n",
    "    * length\n",
    "    * indexing\n",
    "    * slicing\n",
    "    * iteration\n",
    "* Container type objects\n",
    "    * Objects that contains objects \n",
    "\n",
    "### Homogeneous vs. Heterogeneous sequences\n",
    "* **Homogeneous**: can **only** contain objects of the same type\n",
    "* **Heterogeneous**: can contain objects of different types\n",
    "  \n",
    "Common Python sequence objects:\n",
    "* **lists**: mutable and heterogeneous\n",
    "* **tuples**: immutable and heterogeneous\n",
    "* **strings**: immutable and homogeneous"
   ]
  },
  {
   "cell_type": "markdown",
   "id": "81439ac4-bb3b-40f8-82a0-ca27b5be3564",
   "metadata": {},
   "source": [
    "## Lists\n",
    "\n",
    "Similar to Java's array, but ...\n",
    "* heterogeneous\n",
    "* dynamic size\n",
    "    * grow or shrink during run time "
   ]
  },
  {
   "cell_type": "code",
   "execution_count": null,
   "id": "ebe7ec39-bc23-457b-8456-63d87b2e3fdf",
   "metadata": {},
   "outputs": [],
   "source": [
    "# square brackets => lists\n",
    "x = [1, 2, 3, 4]\n",
    "x"
   ]
  },
  {
   "cell_type": "code",
   "execution_count": null,
   "id": "e514c02f-2a05-4435-88a2-4969566372b8",
   "metadata": {},
   "outputs": [],
   "source": [
    "type(x)"
   ]
  },
  {
   "cell_type": "code",
   "execution_count": null,
   "id": "17714ede-6273-4255-a4c2-6749d06bf052",
   "metadata": {},
   "outputs": [],
   "source": [
    "list.mro()"
   ]
  },
  {
   "cell_type": "code",
   "execution_count": null,
   "id": "13b54deb-cdab-41be-b68c-b64bd131248a",
   "metadata": {},
   "outputs": [],
   "source": [
    "# empty list \n",
    "x = []\n",
    "x"
   ]
  },
  {
   "cell_type": "code",
   "execution_count": null,
   "id": "16aa3cba-fb57-438a-8f45-d05cc8ced71b",
   "metadata": {},
   "outputs": [],
   "source": [
    "# heterogeneous\n",
    "x = [1, 0.5, True, 'a']\n",
    "x"
   ]
  },
  {
   "cell_type": "code",
   "execution_count": null,
   "id": "0322bda3-d643-4ef1-8539-add841ccaf24",
   "metadata": {},
   "outputs": [],
   "source": [
    "# can be nested\n",
    "x = [1, 0.5, [1, 0.5, [1, 0.5]]]\n",
    "x"
   ]
  },
  {
   "cell_type": "code",
   "execution_count": null,
   "id": "1175a8f3-f487-40d6-8422-9c583ba3dec6",
   "metadata": {},
   "outputs": [],
   "source": [
    "x[2][2][1]"
   ]
  },
  {
   "cell_type": "markdown",
   "id": "19a5f42f-7118-4dfb-8928-96944e8008b1",
   "metadata": {},
   "source": [
    "### Length"
   ]
  },
  {
   "cell_type": "code",
   "execution_count": null,
   "id": "8cae8bef-fd3c-44b5-98d1-641632a7cbb8",
   "metadata": {},
   "outputs": [],
   "source": [
    "# O(1)\n",
    "len(x)"
   ]
  },
  {
   "cell_type": "code",
   "execution_count": null,
   "id": "1b5bed45-a1b4-4129-b976-710a4f801389",
   "metadata": {},
   "outputs": [],
   "source": [
    "print(x[2])\n",
    "len(x[2])"
   ]
  },
  {
   "cell_type": "markdown",
   "id": "7ef6e545-314f-4918-8d82-fb71d72aa211",
   "metadata": {},
   "source": [
    "### Indexing\n",
    "* Access one element given index"
   ]
  },
  {
   "cell_type": "code",
   "execution_count": null,
   "id": "d6498cbe-dfab-44fa-85e2-3f531d290dd9",
   "metadata": {},
   "outputs": [],
   "source": [
    "x = [0, 1, 2, 3, 4, 5, 6, 7]"
   ]
  },
  {
   "cell_type": "code",
   "execution_count": null,
   "id": "4465a087-630c-4864-a8a1-f7a75128967f",
   "metadata": {},
   "outputs": [],
   "source": [
    "# 0-based indexing\n",
    "# first element\n",
    "# O(1)\n",
    "x[0]"
   ]
  },
  {
   "cell_type": "code",
   "execution_count": null,
   "id": "562e4436-6503-4195-8fbd-f6f5ce4c4ad4",
   "metadata": {},
   "outputs": [],
   "source": [
    "x[4]"
   ]
  },
  {
   "cell_type": "code",
   "execution_count": null,
   "id": "007806f6-4023-4345-80f4-f132dc48bf7f",
   "metadata": {
    "scrolled": true
   },
   "outputs": [],
   "source": [
    "# IndexError\n",
    "x[8]"
   ]
  },
  {
   "cell_type": "code",
   "execution_count": null,
   "id": "54d77d68-882d-44be-a3b5-f091f66e9474",
   "metadata": {},
   "outputs": [],
   "source": [
    "# negative indexing \n",
    "# -1 last element \n",
    "# -2 second last element \n",
    "# -3 third last element\n",
    "x[-1]"
   ]
  },
  {
   "cell_type": "code",
   "execution_count": null,
   "id": "6f4d2d84-ea41-4bc5-a046-c83d7301f16b",
   "metadata": {},
   "outputs": [],
   "source": [
    "x[-2]"
   ]
  },
  {
   "cell_type": "code",
   "execution_count": null,
   "id": "53bbf49a-39c8-4bc6-8adf-1d4499be6a81",
   "metadata": {},
   "outputs": [],
   "source": [
    "x[-5]"
   ]
  },
  {
   "cell_type": "code",
   "execution_count": null,
   "id": "d5a1573e-5136-4580-a839-230b710659eb",
   "metadata": {},
   "outputs": [],
   "source": [
    "x[-9]"
   ]
  },
  {
   "cell_type": "markdown",
   "id": "fff6e4f8-096d-4cbf-8d16-f36f1d6244c2",
   "metadata": {},
   "source": [
    "### Slicing\n",
    "* Extract a range of elements in the form of `[start:end]`\n",
    "    * start index (inclusive)\n",
    "    * end index (**exclusive**)"
   ]
  },
  {
   "cell_type": "code",
   "execution_count": null,
   "id": "3766b2c1-e5e9-45bc-b96f-afb279d82804",
   "metadata": {},
   "outputs": [],
   "source": [
    "x[1:3]"
   ]
  },
  {
   "cell_type": "code",
   "execution_count": null,
   "id": "d1bc1f89-a3ca-4db5-a75d-594f7312165a",
   "metadata": {},
   "outputs": [],
   "source": [
    "# If didn't specify an end index\n",
    "# end index defaults to the last element\n",
    "x[3:]"
   ]
  },
  {
   "cell_type": "code",
   "execution_count": null,
   "id": "735a6375-f6c3-4c10-a192-71a90109b379",
   "metadata": {},
   "outputs": [],
   "source": [
    "# If didn't specify an end index\n",
    "# start index defaults to the first element\n",
    "x[:3]"
   ]
  },
  {
   "cell_type": "code",
   "execution_count": null,
   "id": "051f5c27-2310-4946-b7e4-b83ee941709a",
   "metadata": {},
   "outputs": [],
   "source": [
    "x[:]"
   ]
  },
  {
   "cell_type": "code",
   "execution_count": null,
   "id": "f57dd396-ba2f-47c7-a87e-0aa2f93f547c",
   "metadata": {},
   "outputs": [],
   "source": [
    "x[1:-2]"
   ]
  },
  {
   "cell_type": "code",
   "execution_count": null,
   "id": "91f76a6b-8d08-4477-a20b-d1de121fbd9e",
   "metadata": {},
   "outputs": [],
   "source": [
    "x[5:3]"
   ]
  },
  {
   "cell_type": "markdown",
   "id": "56d50175-61fc-4eed-b310-0cbc1edf3d7d",
   "metadata": {},
   "source": [
    "You can also optionally add a step in the form of `[start:end:step]`"
   ]
  },
  {
   "cell_type": "code",
   "execution_count": null,
   "id": "4d615e44-6ce4-4437-913e-e7935d798d7f",
   "metadata": {},
   "outputs": [],
   "source": [
    "# 3rd, 5th elements\n",
    "x[2:5:2]"
   ]
  },
  {
   "cell_type": "code",
   "execution_count": null,
   "id": "9f96bb10-2b64-4912-88c8-4b5bb798cd78",
   "metadata": {},
   "outputs": [],
   "source": [
    "x[2:5:3]"
   ]
  },
  {
   "cell_type": "code",
   "execution_count": null,
   "id": "305939a4-7ea4-4547-8d65-156ec1031443",
   "metadata": {},
   "outputs": [],
   "source": [
    "# You can have negative step that goes backward\n",
    "x[6:2:-1]"
   ]
  },
  {
   "cell_type": "code",
   "execution_count": null,
   "id": "1fc1fca4-971f-4074-ba9a-65c824ef6832",
   "metadata": {},
   "outputs": [],
   "source": [
    "# Reverse the list\n",
    "x[::-1]"
   ]
  },
  {
   "cell_type": "code",
   "execution_count": null,
   "id": "05f7fcdb-6ed0-4a12-864e-0de1f150b160",
   "metadata": {},
   "outputs": [],
   "source": [
    "x[2:6:-1]"
   ]
  },
  {
   "cell_type": "code",
   "execution_count": null,
   "id": "a0d2643c-c755-4ba1-b383-6ed5efcc27ad",
   "metadata": {},
   "outputs": [],
   "source": [
    "# replace 3-4th element\n",
    "# add new ones in\n",
    "x[3:5] = [91, 92, 93, 94]\n",
    "x"
   ]
  },
  {
   "cell_type": "code",
   "execution_count": null,
   "id": "73b95e03-a83a-42b9-a39c-e9fce55788ad",
   "metadata": {},
   "outputs": [],
   "source": [
    "# you can also replace with step\n",
    "x[::2] = 'abcde'\n",
    "x"
   ]
  },
  {
   "cell_type": "code",
   "execution_count": null,
   "id": "bac4fe76-33fd-46a3-9777-25677d7ea7bb",
   "metadata": {},
   "outputs": [],
   "source": [
    "# cannot go more slicing assignment \n",
    "x[::2] = 'abcdefgh'\n",
    "x"
   ]
  },
  {
   "cell_type": "code",
   "execution_count": null,
   "id": "8b236e21-e8a3-4d8a-b5a8-5194073c100f",
   "metadata": {},
   "outputs": [],
   "source": [
    "# or go under\n",
    "x[::2] = 'ab'\n",
    "x"
   ]
  },
  {
   "cell_type": "markdown",
   "id": "dfbe3aa0-9c6f-4690-a04c-604e107c2b6f",
   "metadata": {},
   "source": [
    "### Iteration"
   ]
  },
  {
   "cell_type": "code",
   "execution_count": null,
   "id": "801f3b31-d1ef-46e0-aab3-164e8ece574a",
   "metadata": {},
   "outputs": [],
   "source": [
    "# syntax: for i in list\n",
    "# i is a variable that will take the value of each element in the list, \n",
    "# one by one, during each iteration of the loop\n",
    "# O(N)\n",
    "for i in x: \n",
    "    print(i)"
   ]
  },
  {
   "cell_type": "code",
   "execution_count": null,
   "id": "89494015-6d26-4cd8-b809-ca8cd80c5898",
   "metadata": {},
   "outputs": [],
   "source": [
    "for i in x[5:1:-1]:\n",
    "    print(i)"
   ]
  },
  {
   "cell_type": "markdown",
   "id": "a538dbd3-8193-47fc-b92b-06e5228a6fcd",
   "metadata": {},
   "source": [
    "### Modification operations\n",
    "Since lists are mutable, you can change them\n",
    "\n",
    "Common list modification operations\n",
    "* append()\n",
    "* extend()\n",
    "* insert()\n",
    "* del"
   ]
  },
  {
   "cell_type": "code",
   "execution_count": null,
   "id": "f07197af-266d-4f74-b767-4112aca364a7",
   "metadata": {},
   "outputs": [],
   "source": [
    "x = [0, 1, 2, 3, 4, 5, 6, 7]"
   ]
  },
  {
   "cell_type": "code",
   "execution_count": null,
   "id": "4afd59b4-6d4c-4c94-b6a5-d297f92d2848",
   "metadata": {},
   "outputs": [],
   "source": [
    "# Mutable\n",
    "x[2] = 0.6\n",
    "x"
   ]
  },
  {
   "cell_type": "code",
   "execution_count": null,
   "id": "c7030fe6-492a-444c-aa56-56fbc8d06687",
   "metadata": {},
   "outputs": [],
   "source": [
    "# Add one element at the end of the list\n",
    "# O(1)\n",
    "x.append(368)\n",
    "x"
   ]
  },
  {
   "cell_type": "code",
   "execution_count": null,
   "id": "ce06c017-cec0-4425-a86b-ffde43d91c98",
   "metadata": {},
   "outputs": [],
   "source": [
    "# Add all the elements of a list at the end\n",
    "# O(M) if extending M elements\n",
    "x.extend([1, 2, 3])\n",
    "x"
   ]
  },
  {
   "cell_type": "code",
   "execution_count": null,
   "id": "c5cbad1e-67dd-4763-842c-5593aeb129e2",
   "metadata": {},
   "outputs": [],
   "source": [
    "x.append([1, 2, 3])"
   ]
  },
  {
   "cell_type": "code",
   "execution_count": null,
   "id": "dbe76195-b5b4-4189-a36c-7402b1b0ad8f",
   "metadata": {},
   "outputs": [],
   "source": [
    "# list.insert(index, element)\n",
    "# O(N) if x has N elements\n",
    "x.insert(0, 0)\n",
    "x"
   ]
  },
  {
   "cell_type": "code",
   "execution_count": null,
   "id": "ad36a019-4323-4443-be52-a1fe0cdbc737",
   "metadata": {},
   "outputs": [],
   "source": [
    "# O(N)\n",
    "del x[2]\n",
    "x"
   ]
  },
  {
   "cell_type": "code",
   "execution_count": null,
   "id": "95a77e24-e33e-4a7f-9c95-e3e64bfe686b",
   "metadata": {},
   "outputs": [],
   "source": [
    "del x[0:2]\n",
    "x"
   ]
  },
  {
   "cell_type": "markdown",
   "id": "c94278ac-f0bd-4f7c-bc6d-e35d05e4db32",
   "metadata": {},
   "source": [
    "## Tuples\n",
    "* heterogeneous\n",
    "* immutable"
   ]
  },
  {
   "cell_type": "code",
   "execution_count": null,
   "id": "37b4d0bf-2176-4cca-9eac-49bc815645d9",
   "metadata": {},
   "outputs": [],
   "source": [
    "# Parentheses () => tuples\n",
    "x = (1, 2, 3)\n",
    "x"
   ]
  },
  {
   "cell_type": "code",
   "execution_count": null,
   "id": "5ecbea71-c512-4f71-8412-6b7c37d7ed7c",
   "metadata": {},
   "outputs": [],
   "source": [
    "type(x)"
   ]
  },
  {
   "cell_type": "code",
   "execution_count": null,
   "id": "04dbc30d-2860-42f1-8575-1caa102af656",
   "metadata": {},
   "outputs": [],
   "source": [
    "tuple.mro()"
   ]
  },
  {
   "cell_type": "code",
   "execution_count": null,
   "id": "96ad983f-5cb5-4c1f-9438-ab32c4f2275d",
   "metadata": {},
   "outputs": [],
   "source": [
    "# empty tuple\n",
    "()"
   ]
  },
  {
   "cell_type": "code",
   "execution_count": null,
   "id": "2ea21b73-5e5d-4f82-b7af-7aafca3be99c",
   "metadata": {},
   "outputs": [],
   "source": [
    "# you can ommit the ()\n",
    "# comma-separated\n",
    "# but write () for better styling\n",
    "1, 2, 3"
   ]
  },
  {
   "cell_type": "code",
   "execution_count": null,
   "id": "1691d77c-068f-45f5-afdb-eedfe239ea33",
   "metadata": {},
   "outputs": [],
   "source": [
    "# can be nested\n",
    "(1, (2, 3))"
   ]
  },
  {
   "cell_type": "code",
   "execution_count": null,
   "id": "6f67815a-6266-485d-af5b-e2077117f247",
   "metadata": {},
   "outputs": [],
   "source": [
    "# heterogeneous\n",
    "x = (1, [2, 3], \"cs\", (4, 5))\n",
    "x"
   ]
  },
  {
   "cell_type": "markdown",
   "id": "e0fbeb70-1c85-4c69-8e3c-92494db9bdd1",
   "metadata": {},
   "source": [
    "Tuples support all the same sequence accessing operations just like lists do."
   ]
  },
  {
   "cell_type": "code",
   "execution_count": null,
   "id": "2b7c72c1-ac5a-4c38-8c6a-80e77c889098",
   "metadata": {},
   "outputs": [],
   "source": [
    "# length\n",
    "len(x)"
   ]
  },
  {
   "cell_type": "code",
   "execution_count": null,
   "id": "58a57af7-e6de-43b7-b4af-f4d8f616fcdb",
   "metadata": {},
   "outputs": [],
   "source": [
    "# indexing\n",
    "x[1]"
   ]
  },
  {
   "cell_type": "code",
   "execution_count": null,
   "id": "c8125e8a-6307-4ba0-b513-2bc62652e42d",
   "metadata": {},
   "outputs": [],
   "source": [
    "x[-1]"
   ]
  },
  {
   "cell_type": "code",
   "execution_count": null,
   "id": "d2036a1d-ab0f-4804-96de-ffc0b643d5f7",
   "metadata": {},
   "outputs": [],
   "source": [
    "# slicing\n",
    "x[::-1]"
   ]
  },
  {
   "cell_type": "code",
   "execution_count": null,
   "id": "435e18cd-e7c7-4f84-bc53-3c03c567c2b2",
   "metadata": {},
   "outputs": [],
   "source": [
    "x[2:3:2]"
   ]
  },
  {
   "cell_type": "code",
   "execution_count": null,
   "id": "d207713d-b3e2-4a22-aa26-adc4e634ef60",
   "metadata": {},
   "outputs": [],
   "source": [
    "# iteration \n",
    "for i in x: \n",
    "    print(i)"
   ]
  },
  {
   "cell_type": "markdown",
   "id": "4089cdae-ea50-4375-9291-1570c5373739",
   "metadata": {},
   "source": [
    "Tuples are immutable. \n",
    "\n",
    "Cannot replace, add or delete an item.\n",
    "\n",
    "The immutablility makes tuple a good data structure for read-only data. "
   ]
  },
  {
   "cell_type": "code",
   "execution_count": null,
   "id": "920a48a7-6803-47e8-bdd7-92b48c5d44dc",
   "metadata": {},
   "outputs": [],
   "source": [
    "x[1] = 10"
   ]
  },
  {
   "cell_type": "code",
   "execution_count": null,
   "id": "45a4324e-44c5-45fa-a204-cda11a653400",
   "metadata": {},
   "outputs": [],
   "source": [
    "x.append(1)"
   ]
  },
  {
   "cell_type": "code",
   "execution_count": null,
   "id": "a8c449ff-2e7e-4f4b-9c6a-25678b5330cd",
   "metadata": {},
   "outputs": [],
   "source": [
    "del x[1]"
   ]
  },
  {
   "cell_type": "markdown",
   "id": "ed77c68b-c4c5-43fb-8c85-2556dbf08036",
   "metadata": {},
   "source": [
    "You can concatenate two tuples, but it will produce a new tuple."
   ]
  },
  {
   "cell_type": "code",
   "execution_count": null,
   "id": "842e0cd1-24a6-4def-8f45-08f4c2784b70",
   "metadata": {},
   "outputs": [],
   "source": [
    "(1, 2) + (3, 4)"
   ]
  },
  {
   "cell_type": "markdown",
   "id": "7afe1072-ef19-44cf-adcf-2e72f0be5556",
   "metadata": {},
   "source": [
    "## Strings\n",
    "* homogeneous\n",
    "* immutable"
   ]
  },
  {
   "cell_type": "code",
   "execution_count": null,
   "id": "07ab2da3-e2bd-4d80-99dd-3c18bf410b94",
   "metadata": {},
   "outputs": [],
   "source": [
    "# both single or double quotation marks can be used for strings\n",
    "# homogeneous: you can only have strings in strings\n",
    "\"string\""
   ]
  },
  {
   "cell_type": "code",
   "execution_count": null,
   "id": "c782844b-3256-4c38-a82a-555a6f8075a3",
   "metadata": {},
   "outputs": [],
   "source": [
    "'string'"
   ]
  },
  {
   "cell_type": "code",
   "execution_count": null,
   "id": "ef65b91c-56c7-4607-b002-d379326f8d56",
   "metadata": {},
   "outputs": [],
   "source": [
    "# no char\n",
    "# this is a string\n",
    "type('a')"
   ]
  },
  {
   "cell_type": "code",
   "execution_count": null,
   "id": "084ce7a5-bb51-4490-aa90-bea5676042b1",
   "metadata": {},
   "outputs": [],
   "source": [
    "'You can use \"double quotation\" marks in a string'"
   ]
  },
  {
   "cell_type": "code",
   "execution_count": null,
   "id": "dc8570ae-bec5-4464-8e80-918d634c06ca",
   "metadata": {},
   "outputs": [],
   "source": [
    "str.mro()"
   ]
  },
  {
   "cell_type": "markdown",
   "id": "56466d12-311d-4ec5-bfa0-77e0c172e2ae",
   "metadata": {},
   "source": [
    "Again, strings support all the same sequence accessing operations just like lists and tuples do."
   ]
  },
  {
   "cell_type": "code",
   "execution_count": null,
   "id": "88066ef0-795a-4b77-8179-05c9534ee7df",
   "metadata": {},
   "outputs": [],
   "source": [
    "x = 'hello, world!'"
   ]
  },
  {
   "cell_type": "code",
   "execution_count": null,
   "id": "21688d4b-cfdc-41cc-a525-97cbc00c6b9a",
   "metadata": {},
   "outputs": [],
   "source": [
    "len(x)"
   ]
  },
  {
   "cell_type": "code",
   "execution_count": null,
   "id": "6067e052-d121-4d36-982c-78601ac8979f",
   "metadata": {},
   "outputs": [],
   "source": [
    "x[1]"
   ]
  },
  {
   "cell_type": "code",
   "execution_count": null,
   "id": "a0840cde-0527-4525-84d8-b4dec15b0f04",
   "metadata": {},
   "outputs": [],
   "source": [
    "x[2:10:3]"
   ]
  },
  {
   "cell_type": "code",
   "execution_count": null,
   "id": "5d52e0e3-f1d7-4b5e-906c-5429966ae1e5",
   "metadata": {},
   "outputs": [],
   "source": [
    "for i in x: \n",
    "    print(i)"
   ]
  },
  {
   "cell_type": "markdown",
   "id": "efdc86e3-ba82-464b-8f2c-15d3f0d2bee6",
   "metadata": {},
   "source": [
    "Strings are immutable, so no replace, add, or delete"
   ]
  },
  {
   "cell_type": "code",
   "execution_count": null,
   "id": "93b3ff1a-9471-4570-96eb-311e84e07c51",
   "metadata": {},
   "outputs": [],
   "source": [
    "x[1] = 's'"
   ]
  },
  {
   "cell_type": "code",
   "execution_count": null,
   "id": "00820db6-26f6-457e-9f53-d9f4a98425ab",
   "metadata": {},
   "outputs": [],
   "source": [
    "x.append('s')"
   ]
  },
  {
   "cell_type": "code",
   "execution_count": null,
   "id": "90552e41-f0a1-4e6f-9fa5-22034e3ccab2",
   "metadata": {},
   "outputs": [],
   "source": [
    "del x[1]"
   ]
  },
  {
   "cell_type": "markdown",
   "id": "5b114022-e202-4058-b302-8ce6f444da15",
   "metadata": {},
   "source": [
    "You can concatenate two strings, but it will produce a new string."
   ]
  },
  {
   "cell_type": "code",
   "execution_count": null,
   "id": "45edf08a-2793-44f6-b3ff-a25e583ee409",
   "metadata": {},
   "outputs": [],
   "source": [
    "'hello' + 'world'"
   ]
  },
  {
   "cell_type": "markdown",
   "id": "8a072200-93b6-4f7a-8452-1d39878a49ff",
   "metadata": {},
   "source": [
    "### More useful string methods"
   ]
  },
  {
   "cell_type": "code",
   "execution_count": null,
   "id": "4cb83771-19e7-4283-b7b1-2ba6360d58ac",
   "metadata": {},
   "outputs": [],
   "source": [
    "'Hello, World!'.lower()"
   ]
  },
  {
   "cell_type": "code",
   "execution_count": null,
   "id": "5d3cf34c-685f-44e5-8944-e8a561cda6e7",
   "metadata": {},
   "outputs": [],
   "source": [
    "'hello, world!'.upper()"
   ]
  },
  {
   "cell_type": "code",
   "execution_count": null,
   "id": "bfbb50d5-ce92-4ebf-9241-002615269918",
   "metadata": {},
   "outputs": [],
   "source": [
    "'hello, world!'.title()"
   ]
  },
  {
   "cell_type": "code",
   "execution_count": null,
   "id": "0122aa19-cfd9-42e2-bc2f-b1e7b646123a",
   "metadata": {},
   "outputs": [],
   "source": [
    "'   hello, world   '.strip()"
   ]
  },
  {
   "cell_type": "code",
   "execution_count": null,
   "id": "4dc93dbb-8ea4-4596-bcf8-9961929a84f5",
   "metadata": {},
   "outputs": [],
   "source": [
    "'1, 2, 3, 4'.split(', ')"
   ]
  },
  {
   "cell_type": "code",
   "execution_count": null,
   "id": "babfa3e5-3dfb-44d8-bcba-dbe64e82a55a",
   "metadata": {},
   "outputs": [],
   "source": [
    "''.join(['1', '2', '3', '4'])"
   ]
  },
  {
   "cell_type": "markdown",
   "id": "a9803708-b856-4a3a-9aca-b8b437e9722d",
   "metadata": {},
   "source": [
    "## More you can do with sequences"
   ]
  },
  {
   "cell_type": "markdown",
   "id": "691710f3-af96-4da0-bd49-6b88ea472f06",
   "metadata": {},
   "source": [
    "Sequence objects can be converted to on another. "
   ]
  },
  {
   "cell_type": "code",
   "execution_count": null,
   "id": "a0d1e10d-03ca-4810-89ab-3224e00c2e4d",
   "metadata": {},
   "outputs": [],
   "source": [
    "tuple('hello, world!')"
   ]
  },
  {
   "cell_type": "code",
   "execution_count": null,
   "id": "d13e7a27-ec03-4e3e-8c54-0a56c3c51e04",
   "metadata": {},
   "outputs": [],
   "source": [
    "tuple([1, 2, 3])"
   ]
  },
  {
   "cell_type": "code",
   "execution_count": null,
   "id": "8938f889-a7d3-4180-a61c-c64e4d88bdf8",
   "metadata": {},
   "outputs": [],
   "source": [
    "list('hello, world!')"
   ]
  },
  {
   "cell_type": "code",
   "execution_count": null,
   "id": "73040bcf-1635-41da-80d5-b5592424a19b",
   "metadata": {},
   "outputs": [],
   "source": [
    "list((1, 2, 3))"
   ]
  },
  {
   "cell_type": "code",
   "execution_count": null,
   "id": "3f6587c2-9029-446f-b000-57bd2475298a",
   "metadata": {},
   "outputs": [],
   "source": [
    "str([1, 2, 3])"
   ]
  },
  {
   "cell_type": "code",
   "execution_count": null,
   "id": "a44c8bf0-4d7d-477c-820b-5edf03ecd64d",
   "metadata": {},
   "outputs": [],
   "source": [
    "str((1, 2, 3))"
   ]
  },
  {
   "cell_type": "markdown",
   "id": "f1576d53-7bf8-4792-a53e-4fc662f43ab1",
   "metadata": {},
   "source": [
    "You can also use sequence objects to unpack values"
   ]
  },
  {
   "cell_type": "code",
   "execution_count": null,
   "id": "2ff5f8b9-8f4e-4628-b378-5fe1ba782668",
   "metadata": {},
   "outputs": [],
   "source": [
    "x = (300, 400, 500)\n",
    "a, b, c = x\n",
    "print(a)\n",
    "print(b)\n",
    "print(c)"
   ]
  },
  {
   "cell_type": "code",
   "execution_count": null,
   "id": "34cbd8ad-5784-404b-abab-0875a7f5fb53",
   "metadata": {},
   "outputs": [],
   "source": [
    "print(id(x[0]))\n",
    "print(id(a))"
   ]
  },
  {
   "cell_type": "code",
   "execution_count": null,
   "id": "f8548042-df86-4635-a181-513e41cfee14",
   "metadata": {},
   "outputs": [],
   "source": [
    "a, b, c = [1, 2, 3]\n",
    "print(a)\n",
    "print(b)\n",
    "print(c)"
   ]
  },
  {
   "cell_type": "code",
   "execution_count": null,
   "id": "acf49d2a-44e8-4b72-bcba-22f198ed5b17",
   "metadata": {},
   "outputs": [],
   "source": [
    "a, b, c = '123'\n",
    "print(a)\n",
    "print(b)\n",
    "print(c)"
   ]
  },
  {
   "cell_type": "code",
   "execution_count": null,
   "id": "8ddcd45b-9e87-4ccd-baa3-c925a6a22d01",
   "metadata": {},
   "outputs": [],
   "source": [
    "# needs to have same number of items to unpack\n",
    "a, b = '123'"
   ]
  },
  {
   "cell_type": "code",
   "execution_count": null,
   "id": "26c186b2-ad6f-4712-b850-557e274620b9",
   "metadata": {},
   "outputs": [],
   "source": [
    "a, b, c = '12'"
   ]
  },
  {
   "cell_type": "code",
   "execution_count": null,
   "id": "d7f19530-6a14-4b37-8ce5-3ba4f8b4dfe1",
   "metadata": {},
   "outputs": [],
   "source": [
    "# You can also use it to swap values \n",
    "a, b = b, a\n",
    "a, b"
   ]
  },
  {
   "cell_type": "markdown",
   "id": "5d432fe1-a382-4f97-9eab-5022cb24c2ac",
   "metadata": {},
   "source": [
    "## Shallow vs. Deep Copy"
   ]
  },
  {
   "cell_type": "markdown",
   "id": "5ddc0038-202b-496d-9d62-3d367230e669",
   "metadata": {},
   "source": [
    "### Shallow copy\n",
    "Slicing is copying"
   ]
  },
  {
   "cell_type": "code",
   "execution_count": null,
   "id": "e994eab1-96e0-4a0c-b497-f91647d4af25",
   "metadata": {},
   "outputs": [],
   "source": [
    "x = [0.1, 0.2, 0.3, 0.4, 0.5, 0.6]\n",
    "x2 = x[::2]\n",
    "x2"
   ]
  },
  {
   "cell_type": "markdown",
   "id": "33d6a870-c65a-47b1-87ed-76e80bbb4382",
   "metadata": {},
   "source": [
    "It is shallow copying! \n",
    "* No new objects are created.\n",
    "* We're only creating new variables that reference the same objects. "
   ]
  },
  {
   "cell_type": "code",
   "execution_count": null,
   "id": "92733665-ab39-4e24-b075-bf7a83098d40",
   "metadata": {},
   "outputs": [],
   "source": [
    "print(id(x[0]))\n",
    "print(id(x2[0]))\n",
    "print(x[2] is x2[1])\n",
    "print(x[4] is x2[2])"
   ]
  },
  {
   "cell_type": "markdown",
   "id": "44387200-6214-4ee2-8920-9e3cd6e84e2f",
   "metadata": {},
   "source": [
    "`.copy()` method also creates shallow copies. "
   ]
  },
  {
   "cell_type": "code",
   "execution_count": null,
   "id": "82ae5e3a-acff-4b1e-b1ac-865cac4f254e",
   "metadata": {},
   "outputs": [],
   "source": [
    "x3 = x.copy()\n",
    "x3"
   ]
  },
  {
   "cell_type": "code",
   "execution_count": null,
   "id": "b40c9265-7043-4a88-b7ba-07916aee0fc1",
   "metadata": {},
   "outputs": [],
   "source": [
    "print(id(x[0]))\n",
    "print(id(x3[0]))\n",
    "print(x[2] is x3[2])"
   ]
  },
  {
   "cell_type": "markdown",
   "id": "c6f7e324-1a00-4218-91e3-0a23758bebb3",
   "metadata": {},
   "source": [
    "If you have nested lists ..."
   ]
  },
  {
   "cell_type": "code",
   "execution_count": null,
   "id": "e982adcc-6c3a-4d8f-abec-a0c0858d8a8d",
   "metadata": {},
   "outputs": [],
   "source": [
    "y = [[0, 0, 0], [1, 1, 1], [2, 2, 2]]\n",
    "y"
   ]
  },
  {
   "cell_type": "code",
   "execution_count": null,
   "id": "69f5a91b-a943-41d7-81ab-df16f3eabf87",
   "metadata": {},
   "outputs": [],
   "source": [
    "y1 = y.copy()\n",
    "y1"
   ]
  },
  {
   "cell_type": "code",
   "execution_count": null,
   "id": "9e04fb18-b691-48d0-8b5d-1e0befc75593",
   "metadata": {},
   "outputs": [],
   "source": [
    "y[0][0] = 0.1\n",
    "y"
   ]
  },
  {
   "cell_type": "code",
   "execution_count": null,
   "id": "d9528824-04ec-404d-965e-7331e0a4f66b",
   "metadata": {},
   "outputs": [],
   "source": [
    "# y[0] and y1[0] are referencing the same object!\n",
    "y1"
   ]
  },
  {
   "cell_type": "code",
   "execution_count": null,
   "id": "dceaec4b-a582-4f7f-8c2e-23d8f74f34aa",
   "metadata": {},
   "outputs": [],
   "source": [
    "y[0] is y1[0]"
   ]
  },
  {
   "cell_type": "code",
   "execution_count": null,
   "id": "5c5ea8cf-77f1-4de5-88d1-c8268037c53d",
   "metadata": {},
   "outputs": [],
   "source": [
    "y1[1][2] = 0.2\n",
    "y1"
   ]
  },
  {
   "cell_type": "code",
   "execution_count": null,
   "id": "0b2fc54c-9055-4de6-9299-09122e52a857",
   "metadata": {},
   "outputs": [],
   "source": [
    "y"
   ]
  },
  {
   "cell_type": "code",
   "execution_count": null,
   "id": "9998a9d2-dcdf-4f01-84a0-175c63b3471d",
   "metadata": {},
   "outputs": [],
   "source": [
    "y.append('123')\n",
    "y"
   ]
  },
  {
   "cell_type": "code",
   "execution_count": null,
   "id": "fafc533c-5329-4667-ba99-c6a72be3622c",
   "metadata": {},
   "outputs": [],
   "source": [
    "# new append is made on y and y1 cannot acknowledge this\n",
    "y1"
   ]
  },
  {
   "cell_type": "code",
   "execution_count": null,
   "id": "2a7bfb4b-bf7d-4cad-a898-f21d43ac49cc",
   "metadata": {},
   "outputs": [],
   "source": [
    "x = [1, 2, 3] * 3\n",
    "x"
   ]
  },
  {
   "cell_type": "code",
   "execution_count": null,
   "id": "eecf243f-c730-4f88-be7c-cbed7cf09f1e",
   "metadata": {},
   "outputs": [],
   "source": [
    "x = [[1, 2, 3]] * 3\n",
    "x"
   ]
  },
  {
   "cell_type": "code",
   "execution_count": null,
   "id": "7dc51857-de1a-47a8-bad9-d0654367c4d5",
   "metadata": {},
   "outputs": [],
   "source": [
    "# * N is also shallow copying!\n",
    "x[1][1] = 10\n",
    "x"
   ]
  },
  {
   "cell_type": "code",
   "execution_count": null,
   "id": "51893a62-0d1b-48d8-9c46-f6874a1581b4",
   "metadata": {},
   "outputs": [],
   "source": [
    "# we don't care much about shallow vs deep copying for tuples or string \n",
    "# since they are immutable\n",
    "s = 'abc' * 3\n",
    "s"
   ]
  },
  {
   "cell_type": "code",
   "execution_count": null,
   "id": "f07240e9-bc21-441a-a31e-ab472b728885",
   "metadata": {},
   "outputs": [],
   "source": [
    "t = (((1, 2, 3))) * 3\n",
    "t"
   ]
  },
  {
   "cell_type": "markdown",
   "id": "24794e45-8271-427b-9cca-911c6d6390d8",
   "metadata": {},
   "source": [
    "### Deep Copy\n",
    "* creates copies, new objects, when copying"
   ]
  },
  {
   "cell_type": "code",
   "execution_count": null,
   "id": "472fb76c-2590-4135-9851-1001df887bf4",
   "metadata": {},
   "outputs": [],
   "source": [
    "from copy import deepcopy\n",
    "z = [[300, 300, 300], [400, 400, 400], [500, 500, 500]]\n",
    "z"
   ]
  },
  {
   "cell_type": "code",
   "execution_count": null,
   "id": "bb3d4948-2b2f-450a-bd56-9e10a9d409e0",
   "metadata": {},
   "outputs": [],
   "source": [
    "z1 = deepcopy(z)\n",
    "z1"
   ]
  },
  {
   "cell_type": "code",
   "execution_count": null,
   "id": "9f51e3e9-cff8-4992-bd0b-a6d544612530",
   "metadata": {},
   "outputs": [],
   "source": [
    "z[0] is z1[0]"
   ]
  },
  {
   "cell_type": "code",
   "execution_count": null,
   "id": "aab63fef-10b3-4cc3-a970-308967c0fd07",
   "metadata": {},
   "outputs": [],
   "source": [
    "z[1].append(100)\n",
    "z"
   ]
  },
  {
   "cell_type": "code",
   "execution_count": null,
   "id": "9472fc64-e019-4f48-a74d-146a3ea94904",
   "metadata": {},
   "outputs": [],
   "source": [
    "z1"
   ]
  },
  {
   "cell_type": "code",
   "execution_count": null,
   "id": "dda2e458-2315-42a4-a42f-74f589f6e415",
   "metadata": {},
   "outputs": [],
   "source": [
    "z[1][0] = 0\n",
    "z"
   ]
  },
  {
   "cell_type": "code",
   "execution_count": null,
   "id": "280d69c3-2002-4f0a-867d-a35a9549db94",
   "metadata": {},
   "outputs": [],
   "source": [
    "z1"
   ]
  }
 ],
 "metadata": {
  "kernelspec": {
   "display_name": "Python 3 (ipykernel)",
   "language": "python",
   "name": "python3"
  },
  "language_info": {
   "codemirror_mode": {
    "name": "ipython",
    "version": 3
   },
   "file_extension": ".py",
   "mimetype": "text/x-python",
   "name": "python",
   "nbconvert_exporter": "python",
   "pygments_lexer": "ipython3",
   "version": "3.12.5"
  }
 },
 "nbformat": 4,
 "nbformat_minor": 5
}
