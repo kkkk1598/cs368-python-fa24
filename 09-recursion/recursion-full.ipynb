{
 "cells": [
  {
   "cell_type": "markdown",
   "id": "0099e0f0-9fbf-43b2-a9bc-317765deea00",
   "metadata": {},
   "source": [
    "# Lecture 9 Recursion\n",
    "\n",
    "**Learning Objectives**: \n",
    "* Understand the concept of recursion, including base and recursive cases\n",
    "* Write recursive functions in Python\n",
    "* Review basic graph and tree terminology\n",
    "* Implement recursive BST operations: insertion, search, and height\n",
    "\n",
    "What is Recursion?\n",
    "* A function calls itself to solve a smaller part of the problem.\n",
    "\n",
    "Components of a Recursive Function\n",
    "* **Base Case**: The stopping condition; without it, recursion continues indefinitely.\n",
    "* **Recursive Case**: The function calls itself, reducing the problem size each time."
   ]
  },
  {
   "cell_type": "markdown",
   "id": "3df675b4-5752-483e-9f87-1639a9cfef67",
   "metadata": {},
   "source": [
    "### Factorial\n",
    "\n",
    "$n! = n \\times (n-1) \\times (n-2) \\times \\cdots \\times 2 \\times 1$\n",
    "\n",
    "* **Base Case**: $0! = 1$\n",
    "* **Recursive Case**: $n! = n \\times (n-1)!$"
   ]
  },
  {
   "cell_type": "code",
   "execution_count": 1,
   "id": "0089d799-edcb-4ba2-a2ed-bc5e126bcfab",
   "metadata": {},
   "outputs": [],
   "source": [
    "def factorial(n): \n",
    "    # Base case\n",
    "    if n == 0:\n",
    "        return 1  \n",
    "    # Recursive case\n",
    "    return n * factorial(n - 1)  "
   ]
  },
  {
   "cell_type": "code",
   "execution_count": 2,
   "id": "e2af09af-7b92-40fc-b2f5-424d2b38b5ab",
   "metadata": {},
   "outputs": [
    {
     "data": {
      "text/plain": [
       "1"
      ]
     },
     "execution_count": 2,
     "metadata": {},
     "output_type": "execute_result"
    }
   ],
   "source": [
    "factorial(0)"
   ]
  },
  {
   "cell_type": "code",
   "execution_count": 3,
   "id": "3696c54f-7254-4059-9174-6b0b4b618009",
   "metadata": {},
   "outputs": [
    {
     "data": {
      "text/plain": [
       "1"
      ]
     },
     "execution_count": 3,
     "metadata": {},
     "output_type": "execute_result"
    }
   ],
   "source": [
    "factorial(1)"
   ]
  },
  {
   "cell_type": "code",
   "execution_count": 4,
   "id": "332ed00a-c974-4ad0-9485-484fe8eac883",
   "metadata": {},
   "outputs": [
    {
     "data": {
      "text/plain": [
       "120"
      ]
     },
     "execution_count": 4,
     "metadata": {},
     "output_type": "execute_result"
    }
   ],
   "source": [
    "factorial(5)"
   ]
  },
  {
   "cell_type": "code",
   "execution_count": 5,
   "id": "687ddf32-8afa-4130-bc86-59900d95fdc3",
   "metadata": {},
   "outputs": [
    {
     "ename": "RecursionError",
     "evalue": "maximum recursion depth exceeded",
     "output_type": "error",
     "traceback": [
      "\u001b[0;31m---------------------------------------------------------------------------\u001b[0m",
      "\u001b[0;31mRecursionError\u001b[0m                            Traceback (most recent call last)",
      "Cell \u001b[0;32mIn[5], line 4\u001b[0m\n\u001b[1;32m      2\u001b[0m \u001b[38;5;28;01mdef\u001b[39;00m \u001b[38;5;21mbad\u001b[39m(n): \n\u001b[1;32m      3\u001b[0m     \u001b[38;5;28;01mreturn\u001b[39;00m bad(n) \n\u001b[0;32m----> 4\u001b[0m \u001b[43mbad\u001b[49m\u001b[43m(\u001b[49m\u001b[38;5;241;43m1\u001b[39;49m\u001b[43m)\u001b[49m\n",
      "Cell \u001b[0;32mIn[5], line 3\u001b[0m, in \u001b[0;36mbad\u001b[0;34m(n)\u001b[0m\n\u001b[1;32m      2\u001b[0m \u001b[38;5;28;01mdef\u001b[39;00m \u001b[38;5;21mbad\u001b[39m(n): \n\u001b[0;32m----> 3\u001b[0m     \u001b[38;5;28;01mreturn\u001b[39;00m \u001b[43mbad\u001b[49m\u001b[43m(\u001b[49m\u001b[43mn\u001b[49m\u001b[43m)\u001b[49m\n",
      "Cell \u001b[0;32mIn[5], line 3\u001b[0m, in \u001b[0;36mbad\u001b[0;34m(n)\u001b[0m\n\u001b[1;32m      2\u001b[0m \u001b[38;5;28;01mdef\u001b[39;00m \u001b[38;5;21mbad\u001b[39m(n): \n\u001b[0;32m----> 3\u001b[0m     \u001b[38;5;28;01mreturn\u001b[39;00m \u001b[43mbad\u001b[49m\u001b[43m(\u001b[49m\u001b[43mn\u001b[49m\u001b[43m)\u001b[49m\n",
      "    \u001b[0;31m[... skipping similar frames: bad at line 3 (2974 times)]\u001b[0m\n",
      "Cell \u001b[0;32mIn[5], line 3\u001b[0m, in \u001b[0;36mbad\u001b[0;34m(n)\u001b[0m\n\u001b[1;32m      2\u001b[0m \u001b[38;5;28;01mdef\u001b[39;00m \u001b[38;5;21mbad\u001b[39m(n): \n\u001b[0;32m----> 3\u001b[0m     \u001b[38;5;28;01mreturn\u001b[39;00m \u001b[43mbad\u001b[49m\u001b[43m(\u001b[49m\u001b[43mn\u001b[49m\u001b[43m)\u001b[49m\n",
      "\u001b[0;31mRecursionError\u001b[0m: maximum recursion depth exceeded"
     ]
    }
   ],
   "source": [
    "# RecursionError\n",
    "def bad(n): \n",
    "    return bad(n) \n",
    "bad(1)"
   ]
  },
  {
   "cell_type": "markdown",
   "id": "fa572372-b79d-4bfb-bbf6-93bcd3b49e7a",
   "metadata": {},
   "source": [
    "### Fibonacci Sequence\n",
    "\n",
    "* **Base Case**: $F(0)=0, F(1)=1$\n",
    "* **Recursive Case**: $F(n)=F(n-1)+F(n-2)$"
   ]
  },
  {
   "cell_type": "code",
   "execution_count": 6,
   "id": "a01c30a4-ca43-4cd9-9074-69f6dfb82605",
   "metadata": {},
   "outputs": [],
   "source": [
    "def fib(n):\n",
    "    # Base case\n",
    "    if n == 0: \n",
    "        return 0\n",
    "    # Base case\n",
    "    if n == 1: \n",
    "        return 1\n",
    "    # Recursive case\n",
    "    return fib(n - 1) + fib(n - 2)"
   ]
  },
  {
   "cell_type": "code",
   "execution_count": 7,
   "id": "793471ae-342f-4239-91f0-ed1bd77666fa",
   "metadata": {},
   "outputs": [
    {
     "data": {
      "text/plain": [
       "0"
      ]
     },
     "execution_count": 7,
     "metadata": {},
     "output_type": "execute_result"
    }
   ],
   "source": [
    "fib(0)"
   ]
  },
  {
   "cell_type": "code",
   "execution_count": 8,
   "id": "c65a6f82-ac7c-4f57-9c83-0b4b60b3f1fc",
   "metadata": {},
   "outputs": [
    {
     "data": {
      "text/plain": [
       "1"
      ]
     },
     "execution_count": 8,
     "metadata": {},
     "output_type": "execute_result"
    }
   ],
   "source": [
    "fib(1)"
   ]
  },
  {
   "cell_type": "code",
   "execution_count": 9,
   "id": "3643ad02-42d6-4a15-817c-5f29bbff97b8",
   "metadata": {},
   "outputs": [
    {
     "data": {
      "text/plain": [
       "3"
      ]
     },
     "execution_count": 9,
     "metadata": {},
     "output_type": "execute_result"
    }
   ],
   "source": [
    "fib(4)"
   ]
  },
  {
   "cell_type": "markdown",
   "id": "6fce4db7-b079-482e-b722-537a89e69c05",
   "metadata": {},
   "source": [
    "### Grid Path Count\n",
    "\n",
    "Count all possible paths from the top-left corner to the bottom-right corner of an m x n grid. Only moves allowed are right and down."
   ]
  },
  {
   "cell_type": "code",
   "execution_count": 10,
   "id": "1ae4ca47-d824-45e1-90a0-56dd1e68d730",
   "metadata": {},
   "outputs": [],
   "source": [
    "def count_paths(grid_size, position=(1, 1)): # Use tuples to keep track of positions\n",
    "    m, n = grid_size\n",
    "    row, col = position\n",
    "\n",
    "    # Base Case: if at the bottom-right corner, found a path\n",
    "    if row == m and col == n:\n",
    "        return 1\n",
    "\n",
    "    # Base Case: if out of bounds, no valid path\n",
    "    if row > m or col > n:\n",
    "        return 0\n",
    "\n",
    "    # Recursive Case: move right or down, passing updated position tuples\n",
    "    return count_paths((m, n), (row + 1, col)) + count_paths((m, n), (row, col + 1))"
   ]
  },
  {
   "cell_type": "code",
   "execution_count": 11,
   "id": "a40d1d32-5cb8-4d05-bd08-28d4fce394ec",
   "metadata": {},
   "outputs": [
    {
     "data": {
      "text/plain": [
       "0"
      ]
     },
     "execution_count": 11,
     "metadata": {},
     "output_type": "execute_result"
    }
   ],
   "source": [
    "count_paths((-1, -1))"
   ]
  },
  {
   "cell_type": "code",
   "execution_count": 12,
   "id": "b47c8786-5b9f-4d5a-92d4-03d4c36b8c1f",
   "metadata": {},
   "outputs": [
    {
     "data": {
      "text/plain": [
       "1"
      ]
     },
     "execution_count": 12,
     "metadata": {},
     "output_type": "execute_result"
    }
   ],
   "source": [
    "count_paths((1, 1))"
   ]
  },
  {
   "cell_type": "code",
   "execution_count": 13,
   "id": "05463e2f-cdd4-4d2a-acd6-f83e332b0261",
   "metadata": {},
   "outputs": [
    {
     "data": {
      "text/plain": [
       "2"
      ]
     },
     "execution_count": 13,
     "metadata": {},
     "output_type": "execute_result"
    }
   ],
   "source": [
    "count_paths((2, 2))"
   ]
  },
  {
   "cell_type": "code",
   "execution_count": 14,
   "id": "dd1d63a8-0422-446c-ae93-6258f746c20e",
   "metadata": {},
   "outputs": [
    {
     "data": {
      "text/plain": [
       "6"
      ]
     },
     "execution_count": 14,
     "metadata": {},
     "output_type": "execute_result"
    }
   ],
   "source": [
    "count_paths((3, 3))"
   ]
  },
  {
   "cell_type": "code",
   "execution_count": 15,
   "id": "fbd9aa72-0ec5-45a8-b3e1-e82b589f2eae",
   "metadata": {},
   "outputs": [
    {
     "data": {
      "text/plain": [
       "11440"
      ]
     },
     "execution_count": 15,
     "metadata": {},
     "output_type": "execute_result"
    }
   ],
   "source": [
    "count_paths((10, 8))"
   ]
  },
  {
   "cell_type": "markdown",
   "id": "a3d4fc72-dfe1-4772-80fb-c9aa0af0dabc",
   "metadata": {},
   "source": [
    "### Reverse List"
   ]
  },
  {
   "cell_type": "code",
   "execution_count": 16,
   "id": "dd1b4d80-163c-471e-9bca-94686d27bdfd",
   "metadata": {},
   "outputs": [],
   "source": [
    "def reverse_list(lst):\n",
    "    # Base Case: If the list is empty, return an empty list\n",
    "    if not lst:\n",
    "        return []\n",
    "    \n",
    "    # Recursive Case: Take the last element and append it to the reversed remainder\n",
    "    return [lst[-1]] + reverse_list(lst[:-1])"
   ]
  },
  {
   "cell_type": "code",
   "execution_count": 17,
   "id": "2d06ca4a-1727-4b47-b48e-cefd49fe31cb",
   "metadata": {},
   "outputs": [
    {
     "data": {
      "text/plain": [
       "[]"
      ]
     },
     "execution_count": 17,
     "metadata": {},
     "output_type": "execute_result"
    }
   ],
   "source": [
    "reverse_list([])"
   ]
  },
  {
   "cell_type": "code",
   "execution_count": 18,
   "id": "41ac4f25-d6ef-42d3-89b2-3ef6a2704ed6",
   "metadata": {},
   "outputs": [
    {
     "data": {
      "text/plain": [
       "[5, 4, 3, 2, 1]"
      ]
     },
     "execution_count": 18,
     "metadata": {},
     "output_type": "execute_result"
    }
   ],
   "source": [
    "original_list = [1, 2, 3, 4, 5]\n",
    "reverse_list(original_list)"
   ]
  },
  {
   "cell_type": "markdown",
   "id": "21e7dfd8-3986-43f0-811d-3363fa137ada",
   "metadata": {},
   "source": [
    "### Flatten List\n",
    "\n",
    "Given a nested list, return a single flattened list where all nested elements are brought to the top level.\n",
    "\n",
    "Example: `[1, [2, [3, 4], 5], 6]` => `[1, 2, 3, 4, 5, 6]`"
   ]
  },
  {
   "cell_type": "code",
   "execution_count": 19,
   "id": "d614221c-6373-4494-b584-0f5a3ec31755",
   "metadata": {},
   "outputs": [],
   "source": [
    "def flatten_list(nested_list):\n",
    "    # Base Case: If the list is empty, return an empty list\n",
    "    if not nested_list:\n",
    "        return []\n",
    "    \n",
    "    # Recursive Case: Check the first element\n",
    "    first, rest = nested_list[0], nested_list[1:]\n",
    "    \n",
    "    # If first element is a list, recursively flatten it and append the flattened rest\n",
    "    if isinstance(first, list):\n",
    "        return flatten_list(first) + flatten_list(rest)\n",
    "    else:\n",
    "        # If first element is not a list, append it to the flattened rest\n",
    "        return [first] + flatten_list(rest)"
   ]
  },
  {
   "cell_type": "code",
   "execution_count": 20,
   "id": "3a738d45-9abe-4177-aced-d118a1655f58",
   "metadata": {},
   "outputs": [
    {
     "data": {
      "text/plain": [
       "[1, 2, 3, 4, 5, 6]"
      ]
     },
     "execution_count": 20,
     "metadata": {},
     "output_type": "execute_result"
    }
   ],
   "source": [
    "nested_list = [1, [2, [3, 4], 5], 6]\n",
    "flatten_list(nested_list)"
   ]
  },
  {
   "cell_type": "markdown",
   "id": "8073721c-87c0-4f25-a7ad-6845fac4545f",
   "metadata": {},
   "source": [
    "# Binary Search Trees"
   ]
  },
  {
   "cell_type": "markdown",
   "id": "0a11198e-4527-4442-8277-dce803398313",
   "metadata": {
    "jp-MarkdownHeadingCollapsed": true
   },
   "source": [
    "graphviz is a graph visualization software\n",
    "* Download on your OS following [this](https://graphviz.org/download/)\n",
    "* Install Python package with `pip install graphviz`\n",
    "\n",
    "You don't have to install them! Just for lecture visualization purpose. "
   ]
  },
  {
   "cell_type": "code",
   "execution_count": 21,
   "id": "a0f78669-a9ef-4b69-875b-c17adf859615",
   "metadata": {},
   "outputs": [],
   "source": [
    "from graphviz import Digraph"
   ]
  },
  {
   "cell_type": "markdown",
   "id": "1f0d3792-8571-49ea-ba9a-5817b99e574f",
   "metadata": {},
   "source": [
    "Recall graph and tree terminologies:\n",
    "\n",
    "* **graph**: a data structure consisting of a set of nodes connected by edges\n",
    "* **cyclic**: contains a path starts and ends at the same node\n",
    "* **root**: node with no parents\n",
    "* **leaf**: node with no children"
   ]
  },
  {
   "cell_type": "code",
   "execution_count": 22,
   "id": "deafa992-666b-477b-b1c7-91bba664a234",
   "metadata": {},
   "outputs": [
    {
     "data": {
      "image/svg+xml": [
       "<?xml version=\"1.0\" encoding=\"UTF-8\" standalone=\"no\"?>\n",
       "<!DOCTYPE svg PUBLIC \"-//W3C//DTD SVG 1.1//EN\"\n",
       " \"http://www.w3.org/Graphics/SVG/1.1/DTD/svg11.dtd\">\n",
       "<!-- Generated by graphviz version 10.0.1 (20240210.2158)\n",
       " -->\n",
       "<!-- Pages: 1 -->\n",
       "<svg width=\"148pt\" height=\"260pt\"\n",
       " viewBox=\"0.00 0.00 148.47 260.00\" xmlns=\"http://www.w3.org/2000/svg\" xmlns:xlink=\"http://www.w3.org/1999/xlink\">\n",
       "<g id=\"graph0\" class=\"graph\" transform=\"scale(1 1) rotate(0) translate(4 256)\">\n",
       "<polygon fill=\"white\" stroke=\"none\" points=\"-4,4 -4,-256 144.47,-256 144.47,4 -4,4\"/>\n",
       "<!-- A -->\n",
       "<g id=\"node1\" class=\"node\">\n",
       "<title>A</title>\n",
       "<ellipse fill=\"none\" stroke=\"black\" cx=\"99\" cy=\"-234\" rx=\"27\" ry=\"18\"/>\n",
       "<text text-anchor=\"middle\" x=\"99\" y=\"-228.95\" font-family=\"Times,serif\" font-size=\"14.00\">A</text>\n",
       "</g>\n",
       "<!-- B -->\n",
       "<g id=\"node2\" class=\"node\">\n",
       "<title>B</title>\n",
       "<ellipse fill=\"none\" stroke=\"black\" cx=\"27\" cy=\"-162\" rx=\"27\" ry=\"18\"/>\n",
       "<text text-anchor=\"middle\" x=\"27\" y=\"-156.95\" font-family=\"Times,serif\" font-size=\"14.00\">B</text>\n",
       "</g>\n",
       "<!-- A&#45;&gt;B -->\n",
       "<g id=\"edge1\" class=\"edge\">\n",
       "<title>A&#45;&gt;B</title>\n",
       "<path fill=\"none\" stroke=\"black\" d=\"M84.08,-218.5C74.23,-208.92 61.14,-196.19 49.97,-185.34\"/>\n",
       "<polygon fill=\"black\" stroke=\"black\" points=\"52.59,-183 42.98,-178.54 47.71,-188.02 52.59,-183\"/>\n",
       "</g>\n",
       "<!-- E -->\n",
       "<g id=\"node5\" class=\"node\">\n",
       "<title>E</title>\n",
       "<ellipse fill=\"none\" stroke=\"black\" cx=\"99\" cy=\"-162\" rx=\"27\" ry=\"18\"/>\n",
       "<text text-anchor=\"middle\" x=\"99\" y=\"-156.95\" font-family=\"Times,serif\" font-size=\"14.00\">E</text>\n",
       "</g>\n",
       "<!-- A&#45;&gt;E -->\n",
       "<g id=\"edge5\" class=\"edge\">\n",
       "<title>A&#45;&gt;E</title>\n",
       "<path fill=\"none\" stroke=\"black\" d=\"M99,-215.7C99,-208.41 99,-199.73 99,-191.54\"/>\n",
       "<polygon fill=\"black\" stroke=\"black\" points=\"102.5,-191.62 99,-181.62 95.5,-191.62 102.5,-191.62\"/>\n",
       "</g>\n",
       "<!-- C -->\n",
       "<g id=\"node3\" class=\"node\">\n",
       "<title>C</title>\n",
       "<ellipse fill=\"none\" stroke=\"black\" cx=\"63\" cy=\"-90\" rx=\"27\" ry=\"18\"/>\n",
       "<text text-anchor=\"middle\" x=\"63\" y=\"-84.95\" font-family=\"Times,serif\" font-size=\"14.00\">C</text>\n",
       "</g>\n",
       "<!-- B&#45;&gt;C -->\n",
       "<g id=\"edge2\" class=\"edge\">\n",
       "<title>B&#45;&gt;C</title>\n",
       "<path fill=\"none\" stroke=\"black\" d=\"M35.35,-144.76C39.58,-136.55 44.81,-126.37 49.58,-117.09\"/>\n",
       "<polygon fill=\"black\" stroke=\"black\" points=\"52.54,-118.99 54,-108.49 46.32,-115.79 52.54,-118.99\"/>\n",
       "</g>\n",
       "<!-- D -->\n",
       "<g id=\"node4\" class=\"node\">\n",
       "<title>D</title>\n",
       "<ellipse fill=\"none\" stroke=\"black\" cx=\"108\" cy=\"-18\" rx=\"27\" ry=\"18\"/>\n",
       "<text text-anchor=\"middle\" x=\"108\" y=\"-12.95\" font-family=\"Times,serif\" font-size=\"14.00\">D</text>\n",
       "</g>\n",
       "<!-- C&#45;&gt;D -->\n",
       "<g id=\"edge3\" class=\"edge\">\n",
       "<title>C&#45;&gt;D</title>\n",
       "<path fill=\"none\" stroke=\"black\" d=\"M73.21,-73.12C78.68,-64.61 85.54,-53.94 91.72,-44.32\"/>\n",
       "<polygon fill=\"black\" stroke=\"black\" points=\"94.55,-46.4 97.01,-36.09 88.66,-42.61 94.55,-46.4\"/>\n",
       "</g>\n",
       "<!-- D&#45;&gt;A -->\n",
       "<g id=\"edge4\" class=\"edge\">\n",
       "<title>D&#45;&gt;A</title>\n",
       "<path fill=\"none\" stroke=\"black\" d=\"M115.61,-35.32C128.29,-64.77 150.83,-128.53 135,-180 131.82,-190.35 125.85,-200.49 119.67,-209.09\"/>\n",
       "<polygon fill=\"black\" stroke=\"black\" points=\"117.01,-206.81 113.67,-216.87 122.55,-211.09 117.01,-206.81\"/>\n",
       "</g>\n",
       "</g>\n",
       "</svg>\n"
      ],
      "text/plain": [
       "<graphviz.graphs.Digraph at 0x103f0cef0>"
      ]
     },
     "execution_count": 22,
     "metadata": {},
     "output_type": "execute_result"
    }
   ],
   "source": [
    "# cyclic\n",
    "g = Digraph()\n",
    "g.edge(\"A\", \"B\")\n",
    "g.edge(\"B\", \"C\")\n",
    "g.edge(\"C\", \"D\")\n",
    "g.edge(\"D\", \"A\")\n",
    "g.edge(\"A\", \"E\")\n",
    "g\n",
    "# A is a root\n",
    "# E is a leaf"
   ]
  },
  {
   "cell_type": "markdown",
   "id": "30246911-a531-4a61-8432-fa8dcd94f28b",
   "metadata": {},
   "source": [
    "* **tree**: acyclic graph that\n",
    "    * has only one root\n",
    "    * all other nodes have only one parent\n",
    "* **binary tree**: trees have at most two children"
   ]
  },
  {
   "cell_type": "code",
   "execution_count": 23,
   "id": "92e0538d-235c-4e19-93c8-10d194f51703",
   "metadata": {},
   "outputs": [
    {
     "data": {
      "image/svg+xml": [
       "<?xml version=\"1.0\" encoding=\"UTF-8\" standalone=\"no\"?>\n",
       "<!DOCTYPE svg PUBLIC \"-//W3C//DTD SVG 1.1//EN\"\n",
       " \"http://www.w3.org/Graphics/SVG/1.1/DTD/svg11.dtd\">\n",
       "<!-- Generated by graphviz version 10.0.1 (20240210.2158)\n",
       " -->\n",
       "<!-- Pages: 1 -->\n",
       "<svg width=\"172pt\" height=\"260pt\"\n",
       " viewBox=\"0.00 0.00 172.00 260.00\" xmlns=\"http://www.w3.org/2000/svg\" xmlns:xlink=\"http://www.w3.org/1999/xlink\">\n",
       "<g id=\"graph0\" class=\"graph\" transform=\"scale(1 1) rotate(0) translate(4 256)\">\n",
       "<polygon fill=\"white\" stroke=\"none\" points=\"-4,4 -4,-256 168,-256 168,4 -4,4\"/>\n",
       "<!-- A -->\n",
       "<g id=\"node1\" class=\"node\">\n",
       "<title>A</title>\n",
       "<ellipse fill=\"none\" stroke=\"black\" cx=\"82\" cy=\"-234\" rx=\"27\" ry=\"18\"/>\n",
       "<text text-anchor=\"middle\" x=\"82\" y=\"-228.95\" font-family=\"Times,serif\" font-size=\"14.00\">A</text>\n",
       "</g>\n",
       "<!-- B -->\n",
       "<g id=\"node2\" class=\"node\">\n",
       "<title>B</title>\n",
       "<ellipse fill=\"none\" stroke=\"black\" cx=\"27\" cy=\"-162\" rx=\"27\" ry=\"18\"/>\n",
       "<text text-anchor=\"middle\" x=\"27\" y=\"-156.95\" font-family=\"Times,serif\" font-size=\"14.00\">B</text>\n",
       "</g>\n",
       "<!-- A&#45;&gt;B -->\n",
       "<g id=\"edge1\" class=\"edge\">\n",
       "<title>A&#45;&gt;B</title>\n",
       "<path fill=\"none\" stroke=\"black\" d=\"M69.79,-217.46C62.89,-208.67 54.09,-197.48 46.27,-187.53\"/>\n",
       "<polygon fill=\"black\" stroke=\"black\" points=\"49.04,-185.38 40.11,-179.68 43.53,-189.71 49.04,-185.38\"/>\n",
       "</g>\n",
       "<!-- D -->\n",
       "<g id=\"node4\" class=\"node\">\n",
       "<title>D</title>\n",
       "<ellipse fill=\"none\" stroke=\"black\" cx=\"54\" cy=\"-18\" rx=\"27\" ry=\"18\"/>\n",
       "<text text-anchor=\"middle\" x=\"54\" y=\"-12.95\" font-family=\"Times,serif\" font-size=\"14.00\">D</text>\n",
       "</g>\n",
       "<!-- A&#45;&gt;D -->\n",
       "<g id=\"edge4\" class=\"edge\">\n",
       "<title>A&#45;&gt;D</title>\n",
       "<path fill=\"none\" stroke=\"black\" d=\"M80.24,-215.57C77.18,-185.99 70.49,-124.1 63,-72 61.85,-64.02 60.46,-55.4 59.11,-47.47\"/>\n",
       "<polygon fill=\"black\" stroke=\"black\" points=\"62.56,-46.89 57.4,-37.64 55.66,-48.09 62.56,-46.89\"/>\n",
       "</g>\n",
       "<!-- E -->\n",
       "<g id=\"node5\" class=\"node\">\n",
       "<title>E</title>\n",
       "<ellipse fill=\"none\" stroke=\"black\" cx=\"137\" cy=\"-162\" rx=\"27\" ry=\"18\"/>\n",
       "<text text-anchor=\"middle\" x=\"137\" y=\"-156.95\" font-family=\"Times,serif\" font-size=\"14.00\">E</text>\n",
       "</g>\n",
       "<!-- A&#45;&gt;E -->\n",
       "<g id=\"edge5\" class=\"edge\">\n",
       "<title>A&#45;&gt;E</title>\n",
       "<path fill=\"none\" stroke=\"black\" d=\"M94.21,-217.46C101.11,-208.67 109.91,-197.48 117.73,-187.53\"/>\n",
       "<polygon fill=\"black\" stroke=\"black\" points=\"120.47,-189.71 123.89,-179.68 114.96,-185.38 120.47,-189.71\"/>\n",
       "</g>\n",
       "<!-- C -->\n",
       "<g id=\"node3\" class=\"node\">\n",
       "<title>C</title>\n",
       "<ellipse fill=\"none\" stroke=\"black\" cx=\"27\" cy=\"-90\" rx=\"27\" ry=\"18\"/>\n",
       "<text text-anchor=\"middle\" x=\"27\" y=\"-84.95\" font-family=\"Times,serif\" font-size=\"14.00\">C</text>\n",
       "</g>\n",
       "<!-- B&#45;&gt;C -->\n",
       "<g id=\"edge2\" class=\"edge\">\n",
       "<title>B&#45;&gt;C</title>\n",
       "<path fill=\"none\" stroke=\"black\" d=\"M27,-143.7C27,-136.41 27,-127.73 27,-119.54\"/>\n",
       "<polygon fill=\"black\" stroke=\"black\" points=\"30.5,-119.62 27,-109.62 23.5,-119.62 30.5,-119.62\"/>\n",
       "</g>\n",
       "<!-- C&#45;&gt;D -->\n",
       "<g id=\"edge3\" class=\"edge\">\n",
       "<title>C&#45;&gt;D</title>\n",
       "<path fill=\"none\" stroke=\"black\" d=\"M33.54,-72.05C36.52,-64.32 40.13,-54.96 43.48,-46.27\"/>\n",
       "<polygon fill=\"black\" stroke=\"black\" points=\"46.65,-47.79 46.98,-37.2 40.12,-45.27 46.65,-47.79\"/>\n",
       "</g>\n",
       "</g>\n",
       "</svg>\n"
      ],
      "text/plain": [
       "<graphviz.graphs.Digraph at 0x103f0d130>"
      ]
     },
     "execution_count": 23,
     "metadata": {},
     "output_type": "execute_result"
    }
   ],
   "source": [
    "# not a tree\n",
    "g = Digraph()\n",
    "g.edge(\"A\", \"B\")\n",
    "g.edge(\"B\", \"C\")\n",
    "g.edge(\"C\", \"D\")\n",
    "g.edge(\"A\", \"D\")\n",
    "g.edge(\"A\", \"E\")\n",
    "g"
   ]
  },
  {
   "cell_type": "code",
   "execution_count": 24,
   "id": "95cc9eea-20c2-4a10-a1b6-3141c96bc6dd",
   "metadata": {},
   "outputs": [
    {
     "data": {
      "image/svg+xml": [
       "<?xml version=\"1.0\" encoding=\"UTF-8\" standalone=\"no\"?>\n",
       "<!DOCTYPE svg PUBLIC \"-//W3C//DTD SVG 1.1//EN\"\n",
       " \"http://www.w3.org/Graphics/SVG/1.1/DTD/svg11.dtd\">\n",
       "<!-- Generated by graphviz version 10.0.1 (20240210.2158)\n",
       " -->\n",
       "<!-- Pages: 1 -->\n",
       "<svg width=\"278pt\" height=\"188pt\"\n",
       " viewBox=\"0.00 0.00 278.00 188.00\" xmlns=\"http://www.w3.org/2000/svg\" xmlns:xlink=\"http://www.w3.org/1999/xlink\">\n",
       "<g id=\"graph0\" class=\"graph\" transform=\"scale(1 1) rotate(0) translate(4 184)\">\n",
       "<polygon fill=\"white\" stroke=\"none\" points=\"-4,4 -4,-184 274,-184 274,4 -4,4\"/>\n",
       "<!-- A -->\n",
       "<g id=\"node1\" class=\"node\">\n",
       "<title>A</title>\n",
       "<ellipse fill=\"none\" stroke=\"black\" cx=\"171\" cy=\"-162\" rx=\"27\" ry=\"18\"/>\n",
       "<text text-anchor=\"middle\" x=\"171\" y=\"-156.95\" font-family=\"Times,serif\" font-size=\"14.00\">A</text>\n",
       "</g>\n",
       "<!-- B -->\n",
       "<g id=\"node2\" class=\"node\">\n",
       "<title>B</title>\n",
       "<ellipse fill=\"none\" stroke=\"black\" cx=\"99\" cy=\"-90\" rx=\"27\" ry=\"18\"/>\n",
       "<text text-anchor=\"middle\" x=\"99\" y=\"-84.95\" font-family=\"Times,serif\" font-size=\"14.00\">B</text>\n",
       "</g>\n",
       "<!-- A&#45;&gt;B -->\n",
       "<g id=\"edge1\" class=\"edge\">\n",
       "<title>A&#45;&gt;B</title>\n",
       "<path fill=\"none\" stroke=\"black\" d=\"M156.08,-146.5C146.23,-136.92 133.14,-124.19 121.97,-113.34\"/>\n",
       "<polygon fill=\"black\" stroke=\"black\" points=\"124.59,-111 114.98,-106.54 119.71,-116.02 124.59,-111\"/>\n",
       "</g>\n",
       "<!-- C -->\n",
       "<g id=\"node3\" class=\"node\">\n",
       "<title>C</title>\n",
       "<ellipse fill=\"none\" stroke=\"black\" cx=\"171\" cy=\"-90\" rx=\"27\" ry=\"18\"/>\n",
       "<text text-anchor=\"middle\" x=\"171\" y=\"-84.95\" font-family=\"Times,serif\" font-size=\"14.00\">C</text>\n",
       "</g>\n",
       "<!-- A&#45;&gt;C -->\n",
       "<g id=\"edge2\" class=\"edge\">\n",
       "<title>A&#45;&gt;C</title>\n",
       "<path fill=\"none\" stroke=\"black\" d=\"M171,-143.7C171,-136.41 171,-127.73 171,-119.54\"/>\n",
       "<polygon fill=\"black\" stroke=\"black\" points=\"174.5,-119.62 171,-109.62 167.5,-119.62 174.5,-119.62\"/>\n",
       "</g>\n",
       "<!-- D -->\n",
       "<g id=\"node4\" class=\"node\">\n",
       "<title>D</title>\n",
       "<ellipse fill=\"none\" stroke=\"black\" cx=\"243\" cy=\"-90\" rx=\"27\" ry=\"18\"/>\n",
       "<text text-anchor=\"middle\" x=\"243\" y=\"-84.95\" font-family=\"Times,serif\" font-size=\"14.00\">D</text>\n",
       "</g>\n",
       "<!-- A&#45;&gt;D -->\n",
       "<g id=\"edge3\" class=\"edge\">\n",
       "<title>A&#45;&gt;D</title>\n",
       "<path fill=\"none\" stroke=\"black\" d=\"M185.92,-146.5C195.77,-136.92 208.86,-124.19 220.03,-113.34\"/>\n",
       "<polygon fill=\"black\" stroke=\"black\" points=\"222.29,-116.02 227.02,-106.54 217.41,-111 222.29,-116.02\"/>\n",
       "</g>\n",
       "<!-- E -->\n",
       "<g id=\"node5\" class=\"node\">\n",
       "<title>E</title>\n",
       "<ellipse fill=\"none\" stroke=\"black\" cx=\"27\" cy=\"-18\" rx=\"27\" ry=\"18\"/>\n",
       "<text text-anchor=\"middle\" x=\"27\" y=\"-12.95\" font-family=\"Times,serif\" font-size=\"14.00\">E</text>\n",
       "</g>\n",
       "<!-- B&#45;&gt;E -->\n",
       "<g id=\"edge4\" class=\"edge\">\n",
       "<title>B&#45;&gt;E</title>\n",
       "<path fill=\"none\" stroke=\"black\" d=\"M84.08,-74.5C74.23,-64.92 61.14,-52.19 49.97,-41.34\"/>\n",
       "<polygon fill=\"black\" stroke=\"black\" points=\"52.59,-39 42.98,-34.54 47.71,-44.02 52.59,-39\"/>\n",
       "</g>\n",
       "<!-- F -->\n",
       "<g id=\"node6\" class=\"node\">\n",
       "<title>F</title>\n",
       "<ellipse fill=\"none\" stroke=\"black\" cx=\"99\" cy=\"-18\" rx=\"27\" ry=\"18\"/>\n",
       "<text text-anchor=\"middle\" x=\"99\" y=\"-12.95\" font-family=\"Times,serif\" font-size=\"14.00\">F</text>\n",
       "</g>\n",
       "<!-- B&#45;&gt;F -->\n",
       "<g id=\"edge5\" class=\"edge\">\n",
       "<title>B&#45;&gt;F</title>\n",
       "<path fill=\"none\" stroke=\"black\" d=\"M99,-71.7C99,-64.41 99,-55.73 99,-47.54\"/>\n",
       "<polygon fill=\"black\" stroke=\"black\" points=\"102.5,-47.62 99,-37.62 95.5,-47.62 102.5,-47.62\"/>\n",
       "</g>\n",
       "<!-- G -->\n",
       "<g id=\"node7\" class=\"node\">\n",
       "<title>G</title>\n",
       "<ellipse fill=\"none\" stroke=\"black\" cx=\"171\" cy=\"-18\" rx=\"27\" ry=\"18\"/>\n",
       "<text text-anchor=\"middle\" x=\"171\" y=\"-12.95\" font-family=\"Times,serif\" font-size=\"14.00\">G</text>\n",
       "</g>\n",
       "<!-- C&#45;&gt;G -->\n",
       "<g id=\"edge6\" class=\"edge\">\n",
       "<title>C&#45;&gt;G</title>\n",
       "<path fill=\"none\" stroke=\"black\" d=\"M171,-71.7C171,-64.41 171,-55.73 171,-47.54\"/>\n",
       "<polygon fill=\"black\" stroke=\"black\" points=\"174.5,-47.62 171,-37.62 167.5,-47.62 174.5,-47.62\"/>\n",
       "</g>\n",
       "</g>\n",
       "</svg>\n"
      ],
      "text/plain": [
       "<graphviz.graphs.Digraph at 0x103ccad20>"
      ]
     },
     "execution_count": 24,
     "metadata": {},
     "output_type": "execute_result"
    }
   ],
   "source": [
    "# tree but not binary\n",
    "t = Digraph()\n",
    "t.edge(\"A\", \"B\")\n",
    "t.edge(\"A\", \"C\")\n",
    "t.edge(\"A\", \"D\")\n",
    "t.edge(\"B\", \"E\")\n",
    "t.edge(\"B\", \"F\")\n",
    "t.edge(\"C\", \"G\")\n",
    "\n",
    "t"
   ]
  },
  {
   "cell_type": "markdown",
   "id": "c51b362c-13a1-4b61-b92f-968490f0c188",
   "metadata": {},
   "source": [
    "### BST Rule:\n",
    "* All nodes in the left subtree of a given node must have values less than the node’s value\n",
    "* All nodes in the right subtree of a given node must have values greater than the node’s value."
   ]
  },
  {
   "cell_type": "code",
   "execution_count": 25,
   "id": "4f7bf48f-0173-42d4-988f-7830f9b631aa",
   "metadata": {},
   "outputs": [
    {
     "data": {
      "image/svg+xml": [
       "<?xml version=\"1.0\" encoding=\"UTF-8\" standalone=\"no\"?>\n",
       "<!DOCTYPE svg PUBLIC \"-//W3C//DTD SVG 1.1//EN\"\n",
       " \"http://www.w3.org/Graphics/SVG/1.1/DTD/svg11.dtd\">\n",
       "<!-- Generated by graphviz version 10.0.1 (20240210.2158)\n",
       " -->\n",
       "<!-- Pages: 1 -->\n",
       "<svg width=\"278pt\" height=\"188pt\"\n",
       " viewBox=\"0.00 0.00 278.00 188.00\" xmlns=\"http://www.w3.org/2000/svg\" xmlns:xlink=\"http://www.w3.org/1999/xlink\">\n",
       "<g id=\"graph0\" class=\"graph\" transform=\"scale(1 1) rotate(0) translate(4 184)\">\n",
       "<polygon fill=\"white\" stroke=\"none\" points=\"-4,4 -4,-184 274,-184 274,4 -4,4\"/>\n",
       "<!-- 50 -->\n",
       "<g id=\"node1\" class=\"node\">\n",
       "<title>50</title>\n",
       "<ellipse fill=\"none\" stroke=\"black\" cx=\"135\" cy=\"-162\" rx=\"27\" ry=\"18\"/>\n",
       "<text text-anchor=\"middle\" x=\"135\" y=\"-156.95\" font-family=\"Times,serif\" font-size=\"14.00\">50</text>\n",
       "</g>\n",
       "<!-- 23 -->\n",
       "<g id=\"node2\" class=\"node\">\n",
       "<title>23</title>\n",
       "<ellipse fill=\"none\" stroke=\"black\" cx=\"99\" cy=\"-90\" rx=\"27\" ry=\"18\"/>\n",
       "<text text-anchor=\"middle\" x=\"99\" y=\"-84.95\" font-family=\"Times,serif\" font-size=\"14.00\">23</text>\n",
       "</g>\n",
       "<!-- 50&#45;&gt;23 -->\n",
       "<g id=\"edge1\" class=\"edge\">\n",
       "<title>50&#45;&gt;23</title>\n",
       "<path fill=\"none\" stroke=\"black\" d=\"M126.65,-144.76C122.42,-136.55 117.19,-126.37 112.42,-117.09\"/>\n",
       "<polygon fill=\"black\" stroke=\"black\" points=\"115.68,-115.79 108,-108.49 109.46,-118.99 115.68,-115.79\"/>\n",
       "</g>\n",
       "<!-- 78 -->\n",
       "<g id=\"node3\" class=\"node\">\n",
       "<title>78</title>\n",
       "<ellipse fill=\"none\" stroke=\"black\" cx=\"171\" cy=\"-90\" rx=\"27\" ry=\"18\"/>\n",
       "<text text-anchor=\"middle\" x=\"171\" y=\"-84.95\" font-family=\"Times,serif\" font-size=\"14.00\">78</text>\n",
       "</g>\n",
       "<!-- 50&#45;&gt;78 -->\n",
       "<g id=\"edge2\" class=\"edge\">\n",
       "<title>50&#45;&gt;78</title>\n",
       "<path fill=\"none\" stroke=\"black\" d=\"M143.35,-144.76C147.58,-136.55 152.81,-126.37 157.58,-117.09\"/>\n",
       "<polygon fill=\"black\" stroke=\"black\" points=\"160.54,-118.99 162,-108.49 154.32,-115.79 160.54,-118.99\"/>\n",
       "</g>\n",
       "<!-- 34 -->\n",
       "<g id=\"node4\" class=\"node\">\n",
       "<title>34</title>\n",
       "<ellipse fill=\"none\" stroke=\"black\" cx=\"27\" cy=\"-18\" rx=\"27\" ry=\"18\"/>\n",
       "<text text-anchor=\"middle\" x=\"27\" y=\"-12.95\" font-family=\"Times,serif\" font-size=\"14.00\">34</text>\n",
       "</g>\n",
       "<!-- 23&#45;&gt;34 -->\n",
       "<g id=\"edge3\" class=\"edge\">\n",
       "<title>23&#45;&gt;34</title>\n",
       "<path fill=\"none\" stroke=\"black\" d=\"M84.08,-74.5C74.23,-64.92 61.14,-52.19 49.97,-41.34\"/>\n",
       "<polygon fill=\"black\" stroke=\"black\" points=\"52.59,-39 42.98,-34.54 47.71,-44.02 52.59,-39\"/>\n",
       "</g>\n",
       "<!-- 12 -->\n",
       "<g id=\"node5\" class=\"node\">\n",
       "<title>12</title>\n",
       "<ellipse fill=\"none\" stroke=\"black\" cx=\"99\" cy=\"-18\" rx=\"27\" ry=\"18\"/>\n",
       "<text text-anchor=\"middle\" x=\"99\" y=\"-12.95\" font-family=\"Times,serif\" font-size=\"14.00\">12</text>\n",
       "</g>\n",
       "<!-- 23&#45;&gt;12 -->\n",
       "<g id=\"edge4\" class=\"edge\">\n",
       "<title>23&#45;&gt;12</title>\n",
       "<path fill=\"none\" stroke=\"black\" d=\"M99,-71.7C99,-64.41 99,-55.73 99,-47.54\"/>\n",
       "<polygon fill=\"black\" stroke=\"black\" points=\"102.5,-47.62 99,-37.62 95.5,-47.62 102.5,-47.62\"/>\n",
       "</g>\n",
       "<!-- 65 -->\n",
       "<g id=\"node6\" class=\"node\">\n",
       "<title>65</title>\n",
       "<ellipse fill=\"none\" stroke=\"black\" cx=\"171\" cy=\"-18\" rx=\"27\" ry=\"18\"/>\n",
       "<text text-anchor=\"middle\" x=\"171\" y=\"-12.95\" font-family=\"Times,serif\" font-size=\"14.00\">65</text>\n",
       "</g>\n",
       "<!-- 78&#45;&gt;65 -->\n",
       "<g id=\"edge5\" class=\"edge\">\n",
       "<title>78&#45;&gt;65</title>\n",
       "<path fill=\"none\" stroke=\"black\" d=\"M171,-71.7C171,-64.41 171,-55.73 171,-47.54\"/>\n",
       "<polygon fill=\"black\" stroke=\"black\" points=\"174.5,-47.62 171,-37.62 167.5,-47.62 174.5,-47.62\"/>\n",
       "</g>\n",
       "<!-- 89 -->\n",
       "<g id=\"node7\" class=\"node\">\n",
       "<title>89</title>\n",
       "<ellipse fill=\"none\" stroke=\"black\" cx=\"243\" cy=\"-18\" rx=\"27\" ry=\"18\"/>\n",
       "<text text-anchor=\"middle\" x=\"243\" y=\"-12.95\" font-family=\"Times,serif\" font-size=\"14.00\">89</text>\n",
       "</g>\n",
       "<!-- 78&#45;&gt;89 -->\n",
       "<g id=\"edge6\" class=\"edge\">\n",
       "<title>78&#45;&gt;89</title>\n",
       "<path fill=\"none\" stroke=\"black\" d=\"M185.92,-74.5C195.77,-64.92 208.86,-52.19 220.03,-41.34\"/>\n",
       "<polygon fill=\"black\" stroke=\"black\" points=\"222.29,-44.02 227.02,-34.54 217.41,-39 222.29,-44.02\"/>\n",
       "</g>\n",
       "</g>\n",
       "</svg>\n"
      ],
      "text/plain": [
       "<graphviz.graphs.Digraph at 0x103ebe720>"
      ]
     },
     "execution_count": 25,
     "metadata": {},
     "output_type": "execute_result"
    }
   ],
   "source": [
    "# binary tree but not BST\n",
    "t = Digraph()\n",
    "t.edge(\"50\", \"23\")\n",
    "t.edge(\"50\", \"78\")\n",
    "t.edge(\"23\", \"34\")\n",
    "t.edge(\"23\", \"12\")\n",
    "t.edge(\"78\", \"65\")\n",
    "t.edge(\"78\", \"89\")\n",
    "\n",
    "t"
   ]
  },
  {
   "cell_type": "code",
   "execution_count": 26,
   "id": "2cc20a98-7796-458e-a11d-a277d53bfb93",
   "metadata": {},
   "outputs": [],
   "source": [
    "class BSTNode:\n",
    "    def __init__(self, value):\n",
    "        self.value = value\n",
    "        self.left = None\n",
    "        self.right = None\n",
    "\n",
    "    # In-order traversal to print values \n",
    "    def print(self, prefix=\"\", suffix=\"\"):\n",
    "        if self.left != None:\n",
    "            self.left.print(prefix+\"\\t\", \"(LEFT)\")\n",
    "        \n",
    "        print(prefix, self.value, suffix)\n",
    "       \n",
    "        if self.right != None:\n",
    "            self.right.print(prefix+\"\\t\", \"(RIGHT)\")\n",
    "            \n",
    "    # Search for a value in the BST\n",
    "    def search(self, target):\n",
    "        if target == self.value:\n",
    "            return True\n",
    "        elif target < self.value:\n",
    "            if self.left is None:  \n",
    "                return False\n",
    "            else:\n",
    "                return self.left.search(target)\n",
    "        else:\n",
    "            if self.right is None:\n",
    "                return False\n",
    "            else: \n",
    "                return self.right.search(target)\n",
    "\n",
    "    # Insert a new value in the BST\n",
    "    def insert(self, new_value):\n",
    "        if new_value < self.value:\n",
    "            if self.left is None:\n",
    "                self.left = BSTNode(new_value)\n",
    "            else:\n",
    "                self.left.insert(new_value)\n",
    "        elif new_value > self.value:\n",
    "            if self.right is None:\n",
    "                self.right = BSTNode(new_value)\n",
    "            else:\n",
    "                self.right.insert(new_value)\n",
    "        else: \n",
    "            raise ValueError(f\"{new_value} is already a node in the tree!\")\n",
    "\n",
    "    # Calculate the height of the tree\n",
    "    def height(self):\n",
    "        if self is None:\n",
    "            return -1\n",
    "        left_height = self.left.height() if self.left else -1\n",
    "        right_height = self.right.height() if self.right else -1\n",
    "        return 1 + max(left_height, right_height)"
   ]
  },
  {
   "cell_type": "markdown",
   "id": "99f4e05f-0656-4640-9fe4-89f584792150",
   "metadata": {},
   "source": [
    "### Implement `print()`"
   ]
  },
  {
   "cell_type": "code",
   "execution_count": 27,
   "id": "0fd14b46-d809-4da7-97f1-2490e1400a41",
   "metadata": {},
   "outputs": [
    {
     "name": "stdout",
     "output_type": "stream",
     "text": [
      "\t\t 4 (LEFT)\n",
      "\t 2 (LEFT)\n",
      " 1 \n",
      "\t 3 (RIGHT)\n"
     ]
    }
   ],
   "source": [
    "node1 = BSTNode(1)\n",
    "node2 = BSTNode(2)\n",
    "node3 = BSTNode(3)\n",
    "node4 = BSTNode(4)\n",
    "node1.left = node2\n",
    "node1.right = node3\n",
    "node2.left = node4\n",
    "node1.print()"
   ]
  },
  {
   "cell_type": "markdown",
   "id": "1e706926-bd5e-4406-8717-930ec87995b5",
   "metadata": {},
   "source": [
    "Does this tree satisfy BST rule? If not, which node violates it and how can we fix its position?"
   ]
  },
  {
   "cell_type": "code",
   "execution_count": 28,
   "id": "a201ff3a-d91d-44e1-8e0f-91f766a944e8",
   "metadata": {},
   "outputs": [
    {
     "name": "stdout",
     "output_type": "stream",
     "text": [
      "\t\t 1 (LEFT)\n",
      "\t 2 (LEFT)\n",
      "\t\t\t 3 (LEFT)\n",
      "\t\t 4 (RIGHT)\n",
      " 10 \n",
      "\t\t\t 8 (LEFT)\n",
      "\t\t 12 (LEFT)\n",
      "\t 15 (RIGHT)\n",
      "\t\t 19 (RIGHT)\n"
     ]
    }
   ],
   "source": [
    "root = BSTNode(10)\n",
    "root.left = BSTNode(2)\n",
    "root.left.left = BSTNode(1)\n",
    "root.left.right = BSTNode(4)\n",
    "root.left.right.left = BSTNode(3)\n",
    "root.right = BSTNode(15)\n",
    "root.right.left = BSTNode(12)\n",
    "root.right.right = BSTNode(19)\n",
    "root.right.left.left = BSTNode(8)\n",
    "root.print()"
   ]
  },
  {
   "cell_type": "code",
   "execution_count": 29,
   "id": "7b1e8697-57d9-4d37-9b63-c783e657a1ad",
   "metadata": {},
   "outputs": [
    {
     "name": "stdout",
     "output_type": "stream",
     "text": [
      "\t\t 1 (LEFT)\n",
      "\t 2 (LEFT)\n",
      "\t\t\t 3 (LEFT)\n",
      "\t\t 4 (RIGHT)\n",
      "\t\t\t 8 (RIGHT)\n",
      " 10 \n",
      "\t\t 12 (LEFT)\n",
      "\t 15 (RIGHT)\n",
      "\t\t 19 (RIGHT)\n"
     ]
    }
   ],
   "source": [
    "# Fix\n",
    "root = BSTNode(10)\n",
    "root.left = BSTNode(2)\n",
    "root.left.left = BSTNode(1)\n",
    "root.left.right = BSTNode(4)\n",
    "root.left.right.right = BSTNode(8)\n",
    "root.left.right.left = BSTNode(3)\n",
    "root.right = BSTNode(15)\n",
    "root.right.left = BSTNode(12)\n",
    "root.right.right = BSTNode(19)\n",
    "#root.right.left.left = BSTNode(8)\n",
    "root.print()"
   ]
  },
  {
   "cell_type": "markdown",
   "id": "ef80bcb5-781c-4170-8ea4-f99be2648847",
   "metadata": {},
   "source": [
    "### Implement `search()`"
   ]
  },
  {
   "cell_type": "code",
   "execution_count": 30,
   "id": "d034fe30-cd46-4756-aa33-11e778ef301b",
   "metadata": {},
   "outputs": [
    {
     "name": "stdout",
     "output_type": "stream",
     "text": [
      "True\n",
      "False\n",
      "True\n",
      "False\n"
     ]
    }
   ],
   "source": [
    "print(root.search(10)) \n",
    "print(root.search(11)) \n",
    "print(root.search(19))\n",
    "print(root.search(5))  "
   ]
  },
  {
   "cell_type": "markdown",
   "id": "22ecae92-e2f5-4eff-9641-e62053cfb294",
   "metadata": {},
   "source": [
    "### Implement `insert()`"
   ]
  },
  {
   "cell_type": "code",
   "execution_count": 31,
   "id": "e74995ed-8d94-4897-857e-d355a5f61e15",
   "metadata": {},
   "outputs": [
    {
     "name": "stdout",
     "output_type": "stream",
     "text": [
      "\t\t 1 (LEFT)\n",
      "\t 2 (LEFT)\n",
      "\t\t\t 3 (LEFT)\n",
      "\t\t 4 (RIGHT)\n",
      "\t\t\t 8 (RIGHT)\n",
      " 10 (ROOT)\n",
      "\t\t 12 (LEFT)\n",
      "\t 15 (RIGHT)\n",
      "\t\t 19 (RIGHT)\n"
     ]
    }
   ],
   "source": [
    "values = [10, 2, 1, 4, 8, 3, 15, 12, 19]\n",
    "\n",
    "root = BSTNode(values[0])\n",
    "for val in values[1:]:\n",
    "    root.insert(val)\n",
    "    \n",
    "root.print(\"\", \"(ROOT)\")"
   ]
  },
  {
   "cell_type": "markdown",
   "id": "83ea6568-754a-40ce-9eb4-8c1c01124708",
   "metadata": {},
   "source": [
    "### Implement `height()`"
   ]
  },
  {
   "cell_type": "code",
   "execution_count": 32,
   "id": "c8a429c0-b026-4128-97d0-d8c3ff9cbcf1",
   "metadata": {},
   "outputs": [
    {
     "data": {
      "text/plain": [
       "3"
      ]
     },
     "execution_count": 32,
     "metadata": {},
     "output_type": "execute_result"
    }
   ],
   "source": [
    "root.height()"
   ]
  }
 ],
 "metadata": {
  "kernelspec": {
   "display_name": "Python 3 (ipykernel)",
   "language": "python",
   "name": "python3"
  },
  "language_info": {
   "codemirror_mode": {
    "name": "ipython",
    "version": 3
   },
   "file_extension": ".py",
   "mimetype": "text/x-python",
   "name": "python",
   "nbconvert_exporter": "python",
   "pygments_lexer": "ipython3",
   "version": "3.12.5"
  }
 },
 "nbformat": 4,
 "nbformat_minor": 5
}
