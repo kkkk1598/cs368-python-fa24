{
 "cells": [
  {
   "cell_type": "markdown",
   "id": "0099e0f0-9fbf-43b2-a9bc-317765deea00",
   "metadata": {},
   "source": [
    "# Lecture 9 Recursion\n",
    "\n",
    "**Learning Objectives**: \n",
    "* Understand the concept of recursion, including base and recursive cases\n",
    "* Write recursive functions in Python\n",
    "* Review basic graph and tree terminology\n",
    "* Implement recursive BST operations: insertion, search, and height\n",
    "\n",
    "What is Recursion?\n",
    "* A function calls itself to solve a smaller part of the problem.\n",
    "\n",
    "Components of a Recursive Function\n",
    "* **Base Case**: The stopping condition; without it, recursion continues indefinitely.\n",
    "* **Recursive Case**: The function calls itself, reducing the problem size each time."
   ]
  },
  {
   "cell_type": "markdown",
   "id": "3df675b4-5752-483e-9f87-1639a9cfef67",
   "metadata": {},
   "source": [
    "### Factorial\n",
    "\n",
    "$n! = n \\times (n-1) \\times (n-2) \\times \\cdots \\times 2 \\times 1$\n",
    "\n",
    "* **Base Case**: $0! = 1$\n",
    "* **Recursive Case**: $n! = n \\times (n-1)!$"
   ]
  },
  {
   "cell_type": "code",
   "execution_count": null,
   "id": "0089d799-edcb-4ba2-a2ed-bc5e126bcfab",
   "metadata": {},
   "outputs": [],
   "source": [
    "def factorial(n): \n",
    "    # Base case\n",
    "    ??\n",
    "    # Recursive case\n",
    "    ?? "
   ]
  },
  {
   "cell_type": "code",
   "execution_count": null,
   "id": "e2af09af-7b92-40fc-b2f5-424d2b38b5ab",
   "metadata": {},
   "outputs": [],
   "source": [
    "factorial(0)"
   ]
  },
  {
   "cell_type": "code",
   "execution_count": null,
   "id": "3696c54f-7254-4059-9174-6b0b4b618009",
   "metadata": {},
   "outputs": [],
   "source": [
    "factorial(1)"
   ]
  },
  {
   "cell_type": "code",
   "execution_count": null,
   "id": "332ed00a-c974-4ad0-9485-484fe8eac883",
   "metadata": {},
   "outputs": [],
   "source": [
    "factorial(5)"
   ]
  },
  {
   "cell_type": "markdown",
   "id": "fa572372-b79d-4bfb-bbf6-93bcd3b49e7a",
   "metadata": {},
   "source": [
    "### Fibonacci Sequence\n",
    "\n",
    "* **Base Case**: $F(0)=0, F(1)=1$\n",
    "* **Recursive Case**: $F(n)=F(n-1)+F(n-2)$"
   ]
  },
  {
   "cell_type": "code",
   "execution_count": null,
   "id": "a01c30a4-ca43-4cd9-9074-69f6dfb82605",
   "metadata": {},
   "outputs": [],
   "source": [
    "def fib(n):\n",
    "    # Base case\n",
    "    ??\n",
    "    # Base case\n",
    "    ??\n",
    "    # Recursive case\n",
    "    ??"
   ]
  },
  {
   "cell_type": "code",
   "execution_count": null,
   "id": "793471ae-342f-4239-91f0-ed1bd77666fa",
   "metadata": {},
   "outputs": [],
   "source": [
    "fib(0)"
   ]
  },
  {
   "cell_type": "code",
   "execution_count": null,
   "id": "c65a6f82-ac7c-4f57-9c83-0b4b60b3f1fc",
   "metadata": {},
   "outputs": [],
   "source": [
    "fib(1)"
   ]
  },
  {
   "cell_type": "code",
   "execution_count": null,
   "id": "3643ad02-42d6-4a15-817c-5f29bbff97b8",
   "metadata": {},
   "outputs": [],
   "source": [
    "fib(4)"
   ]
  },
  {
   "cell_type": "code",
   "execution_count": null,
   "id": "5191d54f-a396-420e-961a-db9dc4b1c6eb",
   "metadata": {},
   "outputs": [],
   "source": [
    "# RecursionError\n",
    "def bad(n): \n",
    "    return bad(n) \n",
    "bad(1)"
   ]
  },
  {
   "cell_type": "markdown",
   "id": "6fce4db7-b079-482e-b722-537a89e69c05",
   "metadata": {},
   "source": [
    "### Grid Path Count\n",
    "\n",
    "Count all possible paths from the top-left corner to the bottom-right corner of an m x n grid. Only moves allowed are right and down."
   ]
  },
  {
   "cell_type": "code",
   "execution_count": null,
   "id": "1ae4ca47-d824-45e1-90a0-56dd1e68d730",
   "metadata": {},
   "outputs": [],
   "source": [
    "def count_paths(grid_size, position=(1, 1)): # Use tuples to keep track of positions\n",
    "    m, n = grid_size\n",
    "    row, col = position\n",
    "\n",
    "    # Base Case: if at the bottom-right corner, found a path\n",
    "    ??\n",
    "\n",
    "    # Base Case: if out of bounds, no valid path\n",
    "    ??\n",
    "\n",
    "    # Recursive Case: move right or down, passing updated position tuples\n",
    "    ??"
   ]
  },
  {
   "cell_type": "code",
   "execution_count": null,
   "id": "a40d1d32-5cb8-4d05-bd08-28d4fce394ec",
   "metadata": {},
   "outputs": [],
   "source": [
    "count_paths((-1, -1))"
   ]
  },
  {
   "cell_type": "code",
   "execution_count": null,
   "id": "b47c8786-5b9f-4d5a-92d4-03d4c36b8c1f",
   "metadata": {},
   "outputs": [],
   "source": [
    "count_paths((1, 1))"
   ]
  },
  {
   "cell_type": "code",
   "execution_count": null,
   "id": "05463e2f-cdd4-4d2a-acd6-f83e332b0261",
   "metadata": {},
   "outputs": [],
   "source": [
    "count_paths((2, 2))"
   ]
  },
  {
   "cell_type": "code",
   "execution_count": null,
   "id": "dd1d63a8-0422-446c-ae93-6258f746c20e",
   "metadata": {},
   "outputs": [],
   "source": [
    "count_paths((3, 3))"
   ]
  },
  {
   "cell_type": "code",
   "execution_count": null,
   "id": "fbd9aa72-0ec5-45a8-b3e1-e82b589f2eae",
   "metadata": {},
   "outputs": [],
   "source": [
    "count_paths((10, 8))"
   ]
  },
  {
   "cell_type": "markdown",
   "id": "a3d4fc72-dfe1-4772-80fb-c9aa0af0dabc",
   "metadata": {},
   "source": [
    "### Reverse List"
   ]
  },
  {
   "cell_type": "code",
   "execution_count": null,
   "id": "dd1b4d80-163c-471e-9bca-94686d27bdfd",
   "metadata": {},
   "outputs": [],
   "source": [
    "def reverse_list(lst):\n",
    "    # Base Case: If the list is empty, return an empty list\n",
    "    ??\n",
    "    \n",
    "    # Recursive Case: Take the last element and append it to the reversed remainder\n",
    "    ??"
   ]
  },
  {
   "cell_type": "code",
   "execution_count": null,
   "id": "2d06ca4a-1727-4b47-b48e-cefd49fe31cb",
   "metadata": {},
   "outputs": [],
   "source": [
    "reverse_list([])"
   ]
  },
  {
   "cell_type": "code",
   "execution_count": null,
   "id": "41ac4f25-d6ef-42d3-89b2-3ef6a2704ed6",
   "metadata": {},
   "outputs": [],
   "source": [
    "original_list = [1, 2, 3, 4, 5]\n",
    "reverse_list(original_list)"
   ]
  },
  {
   "cell_type": "markdown",
   "id": "21e7dfd8-3986-43f0-811d-3363fa137ada",
   "metadata": {},
   "source": [
    "### Flatten List\n",
    "\n",
    "Given a nested list, return a single flattened list where all nested elements are brought to the top level.\n",
    "\n",
    "Example: `[1, [2, [3, 4], 5], 6]` => `[1, 2, 3, 4, 5, 6]`"
   ]
  },
  {
   "cell_type": "code",
   "execution_count": null,
   "id": "d614221c-6373-4494-b584-0f5a3ec31755",
   "metadata": {},
   "outputs": [],
   "source": [
    "def flatten_list(nested_list):\n",
    "    # Base Case: If the list is empty, return an empty list\n",
    "    ??\n",
    "    \n",
    "    # Recursive Case: Check the first element\n",
    "    ??\n",
    "    \n",
    "    # If first element is a list, recursively flatten it and append the flattened rest\n",
    "    if isinstance(first, list):\n",
    "        ??\n",
    "    else:\n",
    "        # If first element is not a list, append it to the flattened rest\n",
    "        ??"
   ]
  },
  {
   "cell_type": "code",
   "execution_count": null,
   "id": "3a738d45-9abe-4177-aced-d118a1655f58",
   "metadata": {},
   "outputs": [],
   "source": [
    "nested_list = [1, [2, [3, 4], 5], 6]\n",
    "flatten_list(nested_list)"
   ]
  },
  {
   "cell_type": "markdown",
   "id": "8073721c-87c0-4f25-a7ad-6845fac4545f",
   "metadata": {},
   "source": [
    "# Binary Search Trees"
   ]
  },
  {
   "cell_type": "markdown",
   "id": "0a11198e-4527-4442-8277-dce803398313",
   "metadata": {
    "jp-MarkdownHeadingCollapsed": true
   },
   "source": [
    "graphviz is a graph visualization software\n",
    "* Download on your OS following [this](https://graphviz.org/download/)\n",
    "* Install Python package with `pip install graphviz`\n",
    "\n",
    "You don't have to install them! Just for lecture visualization purpose. "
   ]
  },
  {
   "cell_type": "code",
   "execution_count": null,
   "id": "a0f78669-a9ef-4b69-875b-c17adf859615",
   "metadata": {},
   "outputs": [],
   "source": [
    "from graphviz import Digraph"
   ]
  },
  {
   "cell_type": "markdown",
   "id": "1f0d3792-8571-49ea-ba9a-5817b99e574f",
   "metadata": {},
   "source": [
    "Recall graph and tree terminologies:\n",
    "\n",
    "* **graph**: a data structure consisting of a set of nodes connected by edges\n",
    "* **cyclic**: contains a path starts and ends at the same node\n",
    "* **root**: node with no parents\n",
    "* **leaf**: node with no children"
   ]
  },
  {
   "cell_type": "code",
   "execution_count": null,
   "id": "deafa992-666b-477b-b1c7-91bba664a234",
   "metadata": {},
   "outputs": [],
   "source": [
    "# cyclic\n",
    "g = Digraph()\n",
    "g.edge(\"A\", \"B\")\n",
    "g.edge(\"B\", \"C\")\n",
    "g.edge(\"C\", \"D\")\n",
    "g.edge(\"D\", \"A\")\n",
    "g.edge(\"A\", \"E\")\n",
    "g\n",
    "# A is a root\n",
    "# E is a leaf"
   ]
  },
  {
   "cell_type": "markdown",
   "id": "30246911-a531-4a61-8432-fa8dcd94f28b",
   "metadata": {},
   "source": [
    "* **tree**: acyclic graph that\n",
    "    * has only one root\n",
    "    * all other nodes have only one parent\n",
    "* **binary tree**: trees have at most two children"
   ]
  },
  {
   "cell_type": "code",
   "execution_count": null,
   "id": "92e0538d-235c-4e19-93c8-10d194f51703",
   "metadata": {},
   "outputs": [],
   "source": [
    "# not a tree\n",
    "g = Digraph()\n",
    "g.edge(\"A\", \"B\")\n",
    "g.edge(\"B\", \"C\")\n",
    "g.edge(\"C\", \"D\")\n",
    "g.edge(\"A\", \"D\")\n",
    "g.edge(\"A\", \"E\")\n",
    "g"
   ]
  },
  {
   "cell_type": "code",
   "execution_count": null,
   "id": "95cc9eea-20c2-4a10-a1b6-3141c96bc6dd",
   "metadata": {},
   "outputs": [],
   "source": [
    "# tree but not binary\n",
    "t = Digraph()\n",
    "t.edge(\"A\", \"B\")\n",
    "t.edge(\"A\", \"C\")\n",
    "t.edge(\"A\", \"D\")\n",
    "t.edge(\"B\", \"E\")\n",
    "t.edge(\"B\", \"F\")\n",
    "t.edge(\"C\", \"G\")\n",
    "\n",
    "t"
   ]
  },
  {
   "cell_type": "markdown",
   "id": "c51b362c-13a1-4b61-b92f-968490f0c188",
   "metadata": {},
   "source": [
    "### BST Rule:\n",
    "* All nodes in the left subtree of a given node must have values less than the node’s value\n",
    "* All nodes in the right subtree of a given node must have values greater than the node’s value."
   ]
  },
  {
   "cell_type": "code",
   "execution_count": null,
   "id": "4f7bf48f-0173-42d4-988f-7830f9b631aa",
   "metadata": {},
   "outputs": [],
   "source": [
    "# binary tree but not BST\n",
    "t = Digraph()\n",
    "t.edge(\"50\", \"23\")\n",
    "t.edge(\"50\", \"78\")\n",
    "t.edge(\"23\", \"34\")\n",
    "t.edge(\"23\", \"12\")\n",
    "t.edge(\"78\", \"65\")\n",
    "t.edge(\"78\", \"89\")\n",
    "\n",
    "t"
   ]
  },
  {
   "cell_type": "code",
   "execution_count": null,
   "id": "2cc20a98-7796-458e-a11d-a277d53bfb93",
   "metadata": {},
   "outputs": [],
   "source": [
    "class BSTNode:\n",
    "    def __init__(self, value):\n",
    "        self.value = value\n",
    "        self.left = None\n",
    "        self.right = None\n",
    "\n",
    "    # In-order traversal to print values \n",
    "    def print(self, prefix=\"\", suffix=\"\"):\n",
    "        pass\n",
    "            \n",
    "    # Search for a value in the BST\n",
    "    def search(self, target):\n",
    "        pass\n",
    "\n",
    "    # Insert a new value in the BST\n",
    "    def insert(self, new_value):\n",
    "        pass\n",
    "\n",
    "    # Calculate the height of the tree\n",
    "    def height(self):\n",
    "        pass"
   ]
  },
  {
   "cell_type": "markdown",
   "id": "99f4e05f-0656-4640-9fe4-89f584792150",
   "metadata": {},
   "source": [
    "### Implement `print()`"
   ]
  },
  {
   "cell_type": "code",
   "execution_count": null,
   "id": "0fd14b46-d809-4da7-97f1-2490e1400a41",
   "metadata": {},
   "outputs": [],
   "source": [
    "node1 = BSTNode(1)\n",
    "node2 = BSTNode(2)\n",
    "node3 = BSTNode(3)\n",
    "node4 = BSTNode(4)\n",
    "node1.left = node2\n",
    "node1.right = node3\n",
    "node2.left = node4\n",
    "node1.print()"
   ]
  },
  {
   "cell_type": "markdown",
   "id": "1e706926-bd5e-4406-8717-930ec87995b5",
   "metadata": {},
   "source": [
    "Does this tree satisfy BST rule? If not, which node violates it and how can we fix its position?"
   ]
  },
  {
   "cell_type": "code",
   "execution_count": null,
   "id": "a201ff3a-d91d-44e1-8e0f-91f766a944e8",
   "metadata": {},
   "outputs": [],
   "source": [
    "root = BSTNode(10)\n",
    "root.left = BSTNode(2)\n",
    "root.left.left = BSTNode(1)\n",
    "root.left.right = BSTNode(4)\n",
    "root.left.right.left = BSTNode(3)\n",
    "root.right = BSTNode(15)\n",
    "root.right.left = BSTNode(12)\n",
    "root.right.right = BSTNode(19)\n",
    "root.right.left.left = BSTNode(8)\n",
    "root.print()"
   ]
  },
  {
   "cell_type": "code",
   "execution_count": null,
   "id": "7b1e8697-57d9-4d37-9b63-c783e657a1ad",
   "metadata": {},
   "outputs": [],
   "source": [
    "# Fix\n",
    "root = BSTNode(10)\n",
    "root.left = BSTNode(2)\n",
    "root.left.left = BSTNode(1)\n",
    "root.left.right = BSTNode(4)\n",
    "root.left.right.right = BSTNode(8)\n",
    "root.left.right.left = BSTNode(3)\n",
    "root.right = BSTNode(15)\n",
    "root.right.left = BSTNode(12)\n",
    "root.right.right = BSTNode(19)\n",
    "#root.right.left.left = BSTNode(8)\n",
    "root.print()"
   ]
  },
  {
   "cell_type": "markdown",
   "id": "ef80bcb5-781c-4170-8ea4-f99be2648847",
   "metadata": {},
   "source": [
    "### Implement `search()`"
   ]
  },
  {
   "cell_type": "code",
   "execution_count": null,
   "id": "d034fe30-cd46-4756-aa33-11e778ef301b",
   "metadata": {},
   "outputs": [],
   "source": [
    "print(root.search(10)) \n",
    "print(root.search(11)) \n",
    "print(root.search(19))\n",
    "print(root.search(5))  "
   ]
  },
  {
   "cell_type": "markdown",
   "id": "22ecae92-e2f5-4eff-9641-e62053cfb294",
   "metadata": {},
   "source": [
    "### Implement `insert()`"
   ]
  },
  {
   "cell_type": "code",
   "execution_count": null,
   "id": "e74995ed-8d94-4897-857e-d355a5f61e15",
   "metadata": {},
   "outputs": [],
   "source": [
    "values = [10, 2, 1, 4, 8, 3, 15, 12, 19]\n",
    "\n",
    "root = BSTNode(values[0])\n",
    "for val in values[1:]:\n",
    "    root.insert(val)\n",
    "    \n",
    "root.print(\"\", \"(ROOT)\")"
   ]
  },
  {
   "cell_type": "markdown",
   "id": "83ea6568-754a-40ce-9eb4-8c1c01124708",
   "metadata": {},
   "source": [
    "### Implement `height()`"
   ]
  },
  {
   "cell_type": "code",
   "execution_count": null,
   "id": "c8a429c0-b026-4128-97d0-d8c3ff9cbcf1",
   "metadata": {},
   "outputs": [],
   "source": [
    "root.height()"
   ]
  },
  {
   "cell_type": "code",
   "execution_count": null,
   "id": "087902c7-279a-40e4-ba32-123ba2882f94",
   "metadata": {},
   "outputs": [],
   "source": []
  }
 ],
 "metadata": {
  "kernelspec": {
   "display_name": "Python 3 (ipykernel)",
   "language": "python",
   "name": "python3"
  },
  "language_info": {
   "codemirror_mode": {
    "name": "ipython",
    "version": 3
   },
   "file_extension": ".py",
   "mimetype": "text/x-python",
   "name": "python",
   "nbconvert_exporter": "python",
   "pygments_lexer": "ipython3",
   "version": "3.12.5"
  }
 },
 "nbformat": 4,
 "nbformat_minor": 5
}
