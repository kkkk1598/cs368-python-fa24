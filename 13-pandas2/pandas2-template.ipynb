{
 "cells": [
  {
   "cell_type": "markdown",
   "id": "2ee8918d-ce6c-4fbd-816b-d117530b6583",
   "metadata": {},
   "source": [
    "# Lecture 12 Pandas\n",
    "\n",
    "Learning Objectives:\n",
    "* Load datasets into Pandas from files like CSV, Excel, and JSON\n",
    "* Select rows, columns, and cells\n",
    "* Filter data based on conditions\n",
    "* Handle missing values by detecting, filling, or removing them\n",
    "* Visualize data trends using Pandas' integration with Matplotlib\n",
    "\n",
    "What's [Pandas](https://pandas.pydata.org/)? \n",
    "* A 3rd-party library for data manipulation and analysis\n",
    "* Ideal for tabular data\n",
    "* Install with `pip install pandas`"
   ]
  },
  {
   "cell_type": "code",
   "execution_count": null,
   "id": "43b2b3ed-2912-4dfe-8aa8-20450ec7128f",
   "metadata": {},
   "outputs": [],
   "source": [
    "import pandas as pd  # use pd as the alias"
   ]
  },
  {
   "cell_type": "markdown",
   "id": "8859e91d-2ed4-47f1-bdba-64947b423e66",
   "metadata": {},
   "source": [
    "## Data Loading\n",
    "* `pd.read_csv(filepath)`\n",
    "* `pd.read_excel(filepath)`\n",
    "* `pd.read_json(filepath)`"
   ]
  },
  {
   "cell_type": "code",
   "execution_count": null,
   "id": "8b697f85-c367-4901-8b37-6ab9c3955d66",
   "metadata": {},
   "outputs": [],
   "source": [
    "df = pd.read_csv(\"netflix_titles.csv\")  # load csv into a Pandas DataFrame\n",
    "df  "
   ]
  },
  {
   "cell_type": "code",
   "execution_count": null,
   "id": "54adc10f-18ec-4607-961e-40b510b63455",
   "metadata": {},
   "outputs": [],
   "source": [
    "# df is a DataFrame\n",
    "type(df)"
   ]
  },
  {
   "cell_type": "markdown",
   "id": "73f1ab57-24cd-4851-baca-bc803f177e54",
   "metadata": {},
   "source": [
    "## DataFrame Exploration"
   ]
  },
  {
   "cell_type": "code",
   "execution_count": null,
   "id": "62f695aa-3f6f-4fb6-b786-59e56a7a99ab",
   "metadata": {},
   "outputs": [],
   "source": [
    "# View the first n rows (default is 5)\n",
    "df.head(3)"
   ]
  },
  {
   "cell_type": "code",
   "execution_count": null,
   "id": "339a5137-9ee8-418f-bcbe-54f969bd3850",
   "metadata": {},
   "outputs": [],
   "source": [
    "# View the last n rows (default is 5)\n",
    "df.tail()"
   ]
  },
  {
   "cell_type": "code",
   "execution_count": null,
   "id": "ec1de7aa-2059-44f4-b60e-2ecd94c1d768",
   "metadata": {},
   "outputs": [],
   "source": [
    "# Get the number of rows and columns\n",
    "df.shape"
   ]
  },
  {
   "cell_type": "code",
   "execution_count": null,
   "id": "182296a5-bc49-4efd-9de9-d9e8533f1149",
   "metadata": {},
   "outputs": [],
   "source": [
    "# List column names\n",
    "df.columns"
   ]
  },
  {
   "cell_type": "code",
   "execution_count": null,
   "id": "9a69b41f-8825-4c32-98c7-31b23ffc4a2f",
   "metadata": {},
   "outputs": [],
   "source": [
    "# Summary of the DataFrame (columns, types, non-null values)\n",
    "# Column 3-6 & 8 9 all have missing values\n",
    "df.info()"
   ]
  },
  {
   "cell_type": "code",
   "execution_count": null,
   "id": "b694b622-419d-4765-99b3-57ea1f81dd4c",
   "metadata": {},
   "outputs": [],
   "source": [
    "# Statistical summary of numerical columns\n",
    "df.describe()"
   ]
  },
  {
   "cell_type": "markdown",
   "id": "8f0c16f4-d672-45fb-af1d-58b27e5d4550",
   "metadata": {},
   "source": [
    "## Data Selection"
   ]
  },
  {
   "cell_type": "code",
   "execution_count": null,
   "id": "0902087e-f1be-4061-8bb5-f094644992ea",
   "metadata": {},
   "outputs": [],
   "source": [
    "df.??"
   ]
  },
  {
   "cell_type": "code",
   "execution_count": null,
   "id": "65cb49d3-ab20-460b-b099-c7e5abd7370b",
   "metadata": {},
   "outputs": [],
   "source": [
    "# Select a column\n",
    "titles = df??\n",
    "titles"
   ]
  },
  {
   "cell_type": "code",
   "execution_count": null,
   "id": "366beeb0-c1ca-4fab-984e-128f574fd0c5",
   "metadata": {},
   "outputs": [],
   "source": [
    "# Columns are Pandas Series\n",
    "type(titles)"
   ]
  },
  {
   "cell_type": "code",
   "execution_count": null,
   "id": "baa26a3e-3546-4ff0-b220-f70d11752ba5",
   "metadata": {},
   "outputs": [],
   "source": [
    "pd.core.series.Series.mro()"
   ]
  },
  {
   "cell_type": "code",
   "execution_count": null,
   "id": "fb4446a1-3456-43c3-91fb-a397eb62d992",
   "metadata": {},
   "outputs": [],
   "source": [
    "# Select multiple column\n",
    "df[['title', 'type', 'listed_in']]"
   ]
  },
  {
   "cell_type": "markdown",
   "id": "4d7fcece-3823-4881-bc3f-82f430efa1d6",
   "metadata": {},
   "source": [
    "### Select cell(s)\n",
    "* single cell\n",
    "    * `at`  (by label)\n",
    "    * `iat` (by index)\n",
    "* multiple cells\n",
    "    * `loc` (by labels)\n",
    "    * `iloc`(by indices)"
   ]
  },
  {
   "cell_type": "code",
   "execution_count": null,
   "id": "e87dac4d-7a2f-45b4-8b21-db048c76dc26",
   "metadata": {},
   "outputs": [],
   "source": [
    "# Select single cell by labels\n",
    "# df.at[row label, col label]\n",
    "df.at[??] "
   ]
  },
  {
   "cell_type": "code",
   "execution_count": null,
   "id": "cfdca2ab-ab67-447b-b279-f5e22e4e9102",
   "metadata": {},
   "outputs": [],
   "source": [
    "# Select single cell by indices\n",
    "# df.iat[row index, col index]\n",
    "df.iat[??] "
   ]
  },
  {
   "cell_type": "code",
   "execution_count": null,
   "id": "76063034-9056-433b-85fa-5391038a36d3",
   "metadata": {},
   "outputs": [],
   "source": [
    "# Select multiple cells by labels\n",
    "# df.loc[row labels, col labels]\n",
    "df.loc[??] # slower than df.at if only select a single cell"
   ]
  },
  {
   "cell_type": "code",
   "execution_count": null,
   "id": "e18eea22-417a-4eaa-8562-956177d3c29f",
   "metadata": {},
   "outputs": [],
   "source": [
    "# You can use slicing with loc\n",
    "df.loc[??]"
   ]
  },
  {
   "cell_type": "code",
   "execution_count": null,
   "id": "0e28041b-9f7c-4c56-862a-b78987ccee71",
   "metadata": {},
   "outputs": [],
   "source": [
    "df.loc[??]"
   ]
  },
  {
   "cell_type": "code",
   "execution_count": null,
   "id": "165a253f-4a56-4445-90b9-692373ed8580",
   "metadata": {},
   "outputs": [],
   "source": [
    "# Select multiple cells by indices\n",
    "# df.iloc[row indices, col indices]\n",
    "df.iloc[??]"
   ]
  },
  {
   "cell_type": "code",
   "execution_count": null,
   "id": "3985e7cb-7601-4edf-9d7e-270ae2b8bbdd",
   "metadata": {},
   "outputs": [],
   "source": [
    "# Assigns one or more columns as the new index of the DataFrame\n",
    "df.??('title').head(3)"
   ]
  },
  {
   "cell_type": "code",
   "execution_count": null,
   "id": "742000d5-30ca-412e-bca3-eca2840c0cbf",
   "metadata": {},
   "outputs": [],
   "source": [
    "# Most Pandas functions return a new DataFrame instead of changing in-place!\n",
    "df.head(3)"
   ]
  },
  {
   "cell_type": "code",
   "execution_count": null,
   "id": "a1c44686-6101-4f99-9e0f-c9d2724fe4ee",
   "metadata": {},
   "outputs": [],
   "source": [
    "df_title = df.??('title')\n",
    "# Now you can use titles as row indices to access rows\n",
    "df_title.loc[??, :]"
   ]
  },
  {
   "cell_type": "code",
   "execution_count": null,
   "id": "65a83501-fa98-4d5f-967d-709eb981f543",
   "metadata": {},
   "outputs": [],
   "source": [
    "df_title.loc[??, :]"
   ]
  },
  {
   "cell_type": "code",
   "execution_count": null,
   "id": "650d932e-9676-4bf1-a2e3-38320fc980ce",
   "metadata": {},
   "outputs": [],
   "source": [
    "# Resets the index back to default integers\n",
    "df_title.??().head(3)"
   ]
  },
  {
   "cell_type": "markdown",
   "id": "dc9e4fef-af76-472d-b024-a98d6f7c354c",
   "metadata": {},
   "source": [
    "## Data Filtering"
   ]
  },
  {
   "cell_type": "code",
   "execution_count": null,
   "id": "e869be06-5f11-462e-b761-48277584512f",
   "metadata": {},
   "outputs": [],
   "source": [
    "df['country'] ??"
   ]
  },
  {
   "cell_type": "code",
   "execution_count": null,
   "id": "c10f4060-7985-4919-9598-74005dc94924",
   "metadata": {},
   "outputs": [],
   "source": [
    "# Filter rows based on conditions\n",
    "df[??]"
   ]
  },
  {
   "cell_type": "code",
   "execution_count": null,
   "id": "1e1fccb5-8883-4c78-9135-b4b79e866e87",
   "metadata": {},
   "outputs": [],
   "source": [
    "# You need to parenthesize each condition\n",
    "df[(df['country'] == 'United States') & (df['type'] == 'Movie')]"
   ]
  },
  {
   "cell_type": "code",
   "execution_count": null,
   "id": "d4fc7b78-9b1d-476a-bf73-446e4a188c98",
   "metadata": {},
   "outputs": [],
   "source": [
    "df[(df['country'] == 'United States') | (df['country'] == 'India')]"
   ]
  },
  {
   "cell_type": "markdown",
   "id": "a23d1512-194a-4fdb-8d96-3da893b9b466",
   "metadata": {},
   "source": [
    "## Missing Values Handling\n",
    "* `df.isna()`: Detect missing values\n",
    "* `df.fillna(value)`: Fill missing values with a constant or method\n",
    "* `df.dropna()`: Remove rows or columns containing missing values"
   ]
  },
  {
   "cell_type": "code",
   "execution_count": null,
   "id": "aaeea2bf-5007-45b0-aa6e-949fb87e0e87",
   "metadata": {},
   "outputs": [],
   "source": [
    "# Count missing values by column\n",
    "df.??"
   ]
  },
  {
   "cell_type": "code",
   "execution_count": null,
   "id": "cfd21247-0008-42dc-9138-494feef82143",
   "metadata": {},
   "outputs": [],
   "source": [
    "# Remove rows with missing values\n",
    "df.??()"
   ]
  },
  {
   "cell_type": "code",
   "execution_count": null,
   "id": "ac94ede6-6f30-4606-86cf-34bb59c580fd",
   "metadata": {},
   "outputs": [],
   "source": [
    "df_unknown = df.??(\"Unknown\")\n",
    "df_unknown"
   ]
  },
  {
   "cell_type": "markdown",
   "id": "581f6c6d-27a2-4179-a562-a10e8677705f",
   "metadata": {},
   "source": [
    "## Data Analysis"
   ]
  },
  {
   "cell_type": "markdown",
   "id": "859e05b0-062b-49c0-83f3-e2635073950e",
   "metadata": {},
   "source": [
    "### Number of movies released by year"
   ]
  },
  {
   "cell_type": "code",
   "execution_count": null,
   "id": "48930f18-ca36-4c5d-a7a7-8f45b7c6df46",
   "metadata": {},
   "outputs": [],
   "source": [
    "# Count unique values in a column\n",
    "df['type'].??()"
   ]
  },
  {
   "cell_type": "code",
   "execution_count": null,
   "id": "dc451840-72fb-43f0-9a3a-1034ffc2f42f",
   "metadata": {},
   "outputs": [],
   "source": [
    "movies = df[df['type'] == 'Movie']\n",
    "tv_shows = df[df['type'] == 'TV Show']"
   ]
  },
  {
   "cell_type": "code",
   "execution_count": null,
   "id": "7769fde4-f30d-4510-9e27-d42aac0014b7",
   "metadata": {},
   "outputs": [],
   "source": [
    "movies['release_year'].??()"
   ]
  },
  {
   "cell_type": "code",
   "execution_count": null,
   "id": "fdd1aacd-594f-495d-ba98-1cc4a38b0ff6",
   "metadata": {},
   "outputs": [],
   "source": [
    "movies['release_year'].??"
   ]
  },
  {
   "cell_type": "code",
   "execution_count": null,
   "id": "9c4f3473-e3d7-4031-b085-e7bdabe16068",
   "metadata": {},
   "outputs": [],
   "source": [
    "# Count movies released after 2010 \n",
    "movies[??]['release_year'].plot.hist()"
   ]
  },
  {
   "cell_type": "markdown",
   "id": "cd1c2a0d-13f1-489e-9de6-a2adeff71cd9",
   "metadata": {},
   "source": [
    "### Movies by duration"
   ]
  },
  {
   "cell_type": "code",
   "execution_count": null,
   "id": "b126e7b4-f4f7-41d7-9728-64a797a4358c",
   "metadata": {},
   "outputs": [],
   "source": [
    "# We have missing values in the duration column\n",
    "movies['duration'].isna().sum()"
   ]
  },
  {
   "cell_type": "code",
   "execution_count": null,
   "id": "1c62aa40-d743-4f1c-acc6-d21caf9c45f1",
   "metadata": {},
   "outputs": [],
   "source": [
    "def extract_duration(duration): \n",
    "    ??\n",
    "    \n",
    "# Apply a function to each element in a column\n",
    "movies['duration'].??(extract_duration)"
   ]
  },
  {
   "cell_type": "code",
   "execution_count": null,
   "id": "e1461ce0-405e-4e0f-9a54-6a598d90b390",
   "metadata": {},
   "outputs": [],
   "source": [
    "# or use lambda function\n",
    "movies['duration_converted'] = movies['duration'].apply(??)"
   ]
  },
  {
   "cell_type": "code",
   "execution_count": null,
   "id": "adb7001d-7d39-46d2-8dbd-159240307d7c",
   "metadata": {},
   "outputs": [],
   "source": [
    "movies.head()"
   ]
  },
  {
   "cell_type": "code",
   "execution_count": null,
   "id": "c12c057b-7625-4d5e-817d-4d48470cc8a9",
   "metadata": {},
   "outputs": [],
   "source": [
    "movies['duration_converted'].max()"
   ]
  },
  {
   "cell_type": "code",
   "execution_count": null,
   "id": "515a1c16-220d-45d3-8c2f-3b4a5181ba7a",
   "metadata": {},
   "outputs": [],
   "source": [
    "movies['duration_converted'].min()"
   ]
  },
  {
   "cell_type": "code",
   "execution_count": null,
   "id": "81be626f-7813-4335-861e-c861bf75f4cb",
   "metadata": {},
   "outputs": [],
   "source": [
    "# Histogram of movie durations\n",
    "movies['duration_converted'].??"
   ]
  },
  {
   "cell_type": "code",
   "execution_count": null,
   "id": "a0c6acdf-aadf-4418-bb27-de980bbcc99e",
   "metadata": {},
   "outputs": [],
   "source": [
    "# Scatter plot of release year vs duration\n",
    "movies.plot.??"
   ]
  },
  {
   "cell_type": "markdown",
   "id": "6ea14f94-2a74-4642-ae25-dd49e55a4bda",
   "metadata": {},
   "source": [
    "### Movies by genre"
   ]
  },
  {
   "cell_type": "code",
   "execution_count": null,
   "id": "662f2440-dca5-427a-99a0-32fe41094c93",
   "metadata": {},
   "outputs": [],
   "source": [
    "movies['listed_in']"
   ]
  },
  {
   "cell_type": "code",
   "execution_count": null,
   "id": "9ac039ba-c64c-4795-bbf7-4d73ad25dc1c",
   "metadata": {},
   "outputs": [],
   "source": [
    "movie_genre = list(movies['listed_in'])\n",
    "movie_genre[:10]"
   ]
  },
  {
   "cell_type": "code",
   "execution_count": null,
   "id": "a9ba3ef2-52e2-47f9-8206-27e9d1b55a6a",
   "metadata": {},
   "outputs": [],
   "source": [
    "movie_genre_dict = {}\n",
    "??\n",
    "movie_genre_dict"
   ]
  },
  {
   "cell_type": "code",
   "execution_count": null,
   "id": "fcbbd7b8-280f-488e-b8ea-e7f611cf3b23",
   "metadata": {},
   "outputs": [],
   "source": [
    "movie_genre_df = pd.DataFrame.??(movie_genre_dict, orient=\"index\", columns=[\"count\"])\n",
    "movie_genre_df"
   ]
  },
  {
   "cell_type": "code",
   "execution_count": null,
   "id": "86d1b019-cd66-4a90-81d4-bb7eff15c8a0",
   "metadata": {},
   "outputs": [],
   "source": [
    "movie_genre_df = movie_genre_df.??\n",
    "movie_genre_df"
   ]
  },
  {
   "cell_type": "code",
   "execution_count": null,
   "id": "f09495d0-5d40-42cc-9fea-2b9a46725e62",
   "metadata": {},
   "outputs": [],
   "source": [
    "movie_genre_df.plot.bar()"
   ]
  },
  {
   "cell_type": "markdown",
   "id": "70a1c2bf-e5a9-437f-b684-b76bcb04fe36",
   "metadata": {},
   "source": [
    "### Stacked bar plot of genre based on country\n",
    "Two ways of iterating a dataframe:\n",
    "* `df.iterrows()`: Returns an iterator of (index, Series) pairs\n",
    "* `df.itertuples()`: Returns an iterator of namedtuples for each row"
   ]
  },
  {
   "cell_type": "code",
   "execution_count": null,
   "id": "0f8d757d-b54a-4a7e-8017-c637b7f9163d",
   "metadata": {},
   "outputs": [],
   "source": [
    "for row in movies.iterrows(): \n",
    "    print(row)\n",
    "    break"
   ]
  },
  {
   "cell_type": "code",
   "execution_count": null,
   "id": "01c39820-5a2f-43f3-b7b5-b1929029b7bd",
   "metadata": {},
   "outputs": [],
   "source": [
    "for row in movies.itertuples(): \n",
    "    print(row)\n",
    "    break"
   ]
  },
  {
   "cell_type": "code",
   "execution_count": null,
   "id": "2534f1fc-d270-4acb-91d2-c9bc2513228a",
   "metadata": {},
   "outputs": [],
   "source": [
    "# indices are genres\n",
    "movie_genre_df.??"
   ]
  },
  {
   "cell_type": "code",
   "execution_count": null,
   "id": "7a9ac2e3-3ea9-439b-8582-7bf44a2d491b",
   "metadata": {},
   "outputs": [],
   "source": [
    "# columns are countries\n",
    "movies['country'].??()[:10]"
   ]
  },
  {
   "cell_type": "code",
   "execution_count": null,
   "id": "382eccf6-e46d-4883-ac78-657797dfc790",
   "metadata": {},
   "outputs": [],
   "source": [
    "countries = {}\n",
    "for c in movies['country']: \n",
    "    if pd.isna(c): \n",
    "        continue\n",
    "    country_list = c.split(', ')\n",
    "    \n",
    "    ??\n",
    "country_series = ??\n",
    "country_series[:10]"
   ]
  },
  {
   "cell_type": "code",
   "execution_count": null,
   "id": "9d6733e5-7e21-41d0-b317-80be9de01a6e",
   "metadata": {},
   "outputs": [],
   "source": [
    "top5_countries = ??\n",
    "top5_countries"
   ]
  },
  {
   "cell_type": "code",
   "execution_count": null,
   "id": "825f5187-6a7b-4c6c-aaf4-97720125b8f5",
   "metadata": {},
   "outputs": [],
   "source": [
    "movie_genre_by_country_df = pd.DataFrame(??\n",
    "                                        )\n",
    "movie_genre_by_country_df"
   ]
  },
  {
   "cell_type": "code",
   "execution_count": null,
   "id": "3ff88134-5950-460d-b38c-034297f99301",
   "metadata": {},
   "outputs": [],
   "source": [
    "for row in movies.itertuples(): \n",
    "    if pd.isna(row.country): \n",
    "        continue\n",
    "    if pd.isna(row.listed_in): \n",
    "        continue\n",
    "    countries = row.country.split(', ')\n",
    "    genres = row.listed_in.split(', ')\n",
    "    \n",
    "    ??"
   ]
  },
  {
   "cell_type": "code",
   "execution_count": null,
   "id": "00ff37bf-e13a-4e3f-8630-c9d7122bcded",
   "metadata": {},
   "outputs": [],
   "source": [
    "movie_genre_by_country_df"
   ]
  },
  {
   "cell_type": "code",
   "execution_count": null,
   "id": "a45bcc04-f63f-4d96-b318-cbfc849ec1a2",
   "metadata": {},
   "outputs": [],
   "source": [
    "movie_genre_by_country_df.??"
   ]
  },
  {
   "cell_type": "code",
   "execution_count": null,
   "id": "88d9f6de-312a-4b55-9a05-cc7713a4e383",
   "metadata": {},
   "outputs": [],
   "source": [
    "# Bar plot by using percentages\n",
    "movie_genre_by_country_per_df = movie_genre_by_country_df.div(movie_genre_by_country_df.sum(axis=1), axis=0) * 100\n",
    "movie_genre_by_country_per_df"
   ]
  },
  {
   "cell_type": "code",
   "execution_count": null,
   "id": "fdf56ae7-2dca-4fb6-b714-e39966ddf832",
   "metadata": {},
   "outputs": [],
   "source": [
    "movie_genre_by_country_per_df.plot(kind=\"bar\", stacked=True)"
   ]
  },
  {
   "cell_type": "markdown",
   "id": "6c58136a-854c-4d22-a556-5def18406b23",
   "metadata": {},
   "source": [
    "### Number of movies released by countries by year"
   ]
  },
  {
   "cell_type": "code",
   "execution_count": null,
   "id": "ad528762-6eb8-4590-b894-1dd931caf7ce",
   "metadata": {},
   "outputs": [],
   "source": [
    "release_years = df['release_year'].value_counts().sort_index()\n",
    "release_years"
   ]
  },
  {
   "cell_type": "code",
   "execution_count": null,
   "id": "ab9ce4d5-b78a-4195-b529-2c07e38c152a",
   "metadata": {},
   "outputs": [],
   "source": [
    "movie_release_year_by_country_df = pd.DataFrame(0, index=release_years.index, \n",
    "                                        columns=top5_countries)\n",
    "\n",
    "for row in movies.itertuples(): \n",
    "    if pd.isna(row.country): \n",
    "        continue\n",
    "    if pd.isna(row.release_year): \n",
    "        continue\n",
    "    countries = row.country.split(', ')\n",
    "    \n",
    "    for c in countries: \n",
    "        cc = c\n",
    "        if c in top5_countries: \n",
    "            movie_release_year_by_country_df.at[row.release_year, cc] += 1"
   ]
  },
  {
   "cell_type": "code",
   "execution_count": null,
   "id": "e1d4bcaf-497b-4e47-9470-851748900530",
   "metadata": {},
   "outputs": [],
   "source": [
    "movie_release_year_by_country_df"
   ]
  },
  {
   "cell_type": "code",
   "execution_count": null,
   "id": "e8424e0b-58c5-4638-b1b8-985e7a1dfb45",
   "metadata": {},
   "outputs": [],
   "source": [
    "movie_release_year_by_country_df.plot()"
   ]
  },
  {
   "cell_type": "code",
   "execution_count": null,
   "id": "c7537ead-4b36-41e9-8fb8-6f4d62ff04b1",
   "metadata": {},
   "outputs": [],
   "source": []
  }
 ],
 "metadata": {
  "kernelspec": {
   "display_name": "Python 3 (ipykernel)",
   "language": "python",
   "name": "python3"
  },
  "language_info": {
   "codemirror_mode": {
    "name": "ipython",
    "version": 3
   },
   "file_extension": ".py",
   "mimetype": "text/x-python",
   "name": "python",
   "nbconvert_exporter": "python",
   "pygments_lexer": "ipython3",
   "version": "3.12.5"
  }
 },
 "nbformat": 4,
 "nbformat_minor": 5
}
