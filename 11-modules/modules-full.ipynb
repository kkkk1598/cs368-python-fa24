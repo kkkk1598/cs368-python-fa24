{
 "cells": [
  {
   "cell_type": "markdown",
   "id": "07d59b91-1654-4fff-b4f6-2f8dd788640b",
   "metadata": {},
   "source": [
    "# Lecture 11 Modules\n",
    "\n",
    "* Understand what CSV and JSON files are and where they are commonly used\n",
    "* Know how to read and write data using the `csv` and `json` modules"
   ]
  },
  {
   "cell_type": "markdown",
   "id": "7a5e9811-53a3-4271-8e36-365a52a88a13",
   "metadata": {},
   "source": [
    "## CSV Files \n",
    "\n",
    "Comma-Separated Values\n",
    "\n",
    "**CSV Structure:** \n",
    "* Stores tabular data\n",
    "* Each row represents a record separated by newlines\n",
    "    * First row is often the headers (column / field names)\n",
    "* Each column represents a field separated by commas (or other delimiters like tabs)\n",
    "\n",
    "**Why CSV?**\n",
    "* Minimal structure: readable, lightweight, easy to parse\n",
    "* Universal: supported by many platforms and applications, like spreadsheets, databases, and programming languages"
   ]
  },
  {
   "cell_type": "markdown",
   "id": "979ebcef-95b0-4be5-988f-ca07bdd480d3",
   "metadata": {},
   "source": [
    "## `csv` Module\n",
    "* built-in module to read from and write to CSV files\n",
    "\n",
    "### Read `csv` files\n",
    "* `reader`\n",
    "* `DictReader`"
   ]
  },
  {
   "cell_type": "code",
   "execution_count": 1,
   "id": "caf253f0-1651-48b6-9ff8-5f3efb2ef011",
   "metadata": {},
   "outputs": [
    {
     "name": "stdout",
     "output_type": "stream",
     "text": [
      "<_csv.reader object at 0x1076c50e0>\n",
      "['Title', 'Genre', 'Release Year', 'Platform', 'Sales (millions)']\n",
      "['Minecraft', 'Sandbox', '2011', 'Multi-platform', '238.0']\n",
      "==========\n",
      "['Grand Theft Auto V', 'Action', '2013', 'PS4', '170.0']\n",
      "['Fortnite', 'Battle Royale', '2017', 'Multi-platform', '350.0']\n",
      "['League of Legends', 'MOBA', '2009', 'PC', '111.5']\n",
      "['World of Warcraft', 'MMORPG', '2004', 'PC', '100.0']\n"
     ]
    }
   ],
   "source": [
    "import csv\n",
    "\n",
    "with open('video_games.csv', 'r') as file: # open file with context manager\n",
    "    reader = csv.reader(file) # returns a reader object\n",
    "    print(reader) # reader is an iterable object \n",
    "    print(next(reader)) # means you can call next on it\n",
    "    print(next(reader)) # prints the next available row\n",
    "    print(\"==========\")\n",
    "    for row in reader: # you can also iterate through it\n",
    "        print(row)\n",
    "    # reads each row as list of values"
   ]
  },
  {
   "cell_type": "code",
   "execution_count": 2,
   "id": "4528d468-b500-4478-bb37-6bdc376e7ea8",
   "metadata": {},
   "outputs": [
    {
     "name": "stdout",
     "output_type": "stream",
     "text": [
      "{'Title': 'Minecraft', 'Genre': 'Sandbox', 'Release Year': '2011', 'Platform': 'Multi-platform', 'Sales (millions)': '238.0'}\n",
      "{'Title': 'Grand Theft Auto V', 'Genre': 'Action', 'Release Year': '2013', 'Platform': 'PS4', 'Sales (millions)': '170.0'}\n",
      "{'Title': 'Fortnite', 'Genre': 'Battle Royale', 'Release Year': '2017', 'Platform': 'Multi-platform', 'Sales (millions)': '350.0'}\n",
      "{'Title': 'League of Legends', 'Genre': 'MOBA', 'Release Year': '2009', 'Platform': 'PC', 'Sales (millions)': '111.5'}\n",
      "{'Title': 'World of Warcraft', 'Genre': 'MMORPG', 'Release Year': '2004', 'Platform': 'PC', 'Sales (millions)': '100.0'}\n"
     ]
    }
   ],
   "source": [
    "with open('video_games.csv', 'r') as file:\n",
    "    reader = csv.DictReader(file) # returns a DictReader object, this is also an iterable object\n",
    "    for row in reader: \n",
    "        print(row) # reads each row as a dict, where keys are column headers and values are the row’s data."
   ]
  },
  {
   "cell_type": "markdown",
   "id": "061176ca-47b3-464a-9c36-45b580a03537",
   "metadata": {},
   "source": [
    "### Write `csv` files\n",
    "* `writer`\n",
    "* `DictWriter`"
   ]
  },
  {
   "cell_type": "code",
   "execution_count": 3,
   "id": "1c1ac66b-3414-48b5-9e9b-927904ed824a",
   "metadata": {},
   "outputs": [],
   "source": [
    "header = [\"Title\", \"Genre\", \"Year\", \"Platform\", \"Sales (millions)\"]\n",
    "data = [\n",
    "    [\"Minecraft\", \"Sandbox\", 2011, \"Multi-platform\", 238.0],\n",
    "    [\"Fortnite\", \"Battle Royale\", 2017, \"Multi-platform\", 350.0]\n",
    "]\n",
    "\n",
    "with open('video_games_2.csv', 'w') as file:\n",
    "    writer = csv.writer(file) # returns a writer object\n",
    "    writer.writerow(header) # you can write one row using list\n",
    "    writer.writerows(data) # or multiple rows using list of lists"
   ]
  },
  {
   "cell_type": "code",
   "execution_count": 4,
   "id": "8f43bf1b-288e-4de9-9716-082ea62b94b0",
   "metadata": {},
   "outputs": [],
   "source": [
    "data = [\n",
    "    {\"Title\": \"Minecraft\", \"Genre\": \"Sandbox\", \"Year\": 2011, \"Platform\": \"Multi-platform\", \"Sales (millions)\": 238.0},\n",
    "    {\"Title\": \"Fortnite\", \"Genre\": \"Battle Royale\", \"Year\": 2017, \"Platform\": \"Multi-platform\", \"Sales (millions)\": 350.0}\n",
    "]\n",
    "\n",
    "with open('video_games_3.csv', 'w') as file:\n",
    "    writer = csv.DictWriter(file, fieldnames=header) # takes fieldnames, returns a DictWriter object\n",
    "    writer.writeheader()  # writes the header\n",
    "    writer.writerows(data) # writes each dictionary in data as a row"
   ]
  },
  {
   "cell_type": "markdown",
   "id": "6f8a7999-2f79-4221-a4dd-e2dee490fdfe",
   "metadata": {},
   "source": [
    "#### Get cell using game title and column name"
   ]
  },
  {
   "cell_type": "code",
   "execution_count": 5,
   "id": "55db0003-8adf-4de7-9bf4-55d7b99e6c86",
   "metadata": {},
   "outputs": [
    {
     "data": {
      "text/plain": [
       "{'Minecraft': {'Title': 'Minecraft',\n",
       "  'Genre': 'Sandbox',\n",
       "  'Release Year': '2011',\n",
       "  'Platform': 'Multi-platform',\n",
       "  'Sales (millions)': '238.0'},\n",
       " 'Grand Theft Auto V': {'Title': 'Grand Theft Auto V',\n",
       "  'Genre': 'Action',\n",
       "  'Release Year': '2013',\n",
       "  'Platform': 'PS4',\n",
       "  'Sales (millions)': '170.0'},\n",
       " 'Fortnite': {'Title': 'Fortnite',\n",
       "  'Genre': 'Battle Royale',\n",
       "  'Release Year': '2017',\n",
       "  'Platform': 'Multi-platform',\n",
       "  'Sales (millions)': '350.0'},\n",
       " 'League of Legends': {'Title': 'League of Legends',\n",
       "  'Genre': 'MOBA',\n",
       "  'Release Year': '2009',\n",
       "  'Platform': 'PC',\n",
       "  'Sales (millions)': '111.5'},\n",
       " 'World of Warcraft': {'Title': 'World of Warcraft',\n",
       "  'Genre': 'MMORPG',\n",
       "  'Release Year': '2004',\n",
       "  'Platform': 'PC',\n",
       "  'Sales (millions)': '100.0'}}"
      ]
     },
     "execution_count": 5,
     "metadata": {},
     "output_type": "execute_result"
    }
   ],
   "source": [
    "def load_csv_to_dict(file_path):\n",
    "    \"\"\"Loads CSV data and stores it in a dictionary with game titles as keys.\"\"\"\n",
    "    data = {}\n",
    "    with open(file_path, 'r') as file:\n",
    "        reader = csv.DictReader(file)\n",
    "        \n",
    "        for row in reader:\n",
    "            title = row[\"Title\"]\n",
    "            data[title] = row  \n",
    "\n",
    "    return data\n",
    "\n",
    "file_path = 'video_games.csv'\n",
    "game_data = load_csv_to_dict(file_path)\n",
    "game_data"
   ]
  },
  {
   "cell_type": "code",
   "execution_count": 6,
   "id": "3103559b-44eb-4aa7-84d5-e3a1f678577a",
   "metadata": {},
   "outputs": [
    {
     "data": {
      "text/plain": [
       "'238.0'"
      ]
     },
     "execution_count": 6,
     "metadata": {},
     "output_type": "execute_result"
    }
   ],
   "source": [
    "game_data[\"Minecraft\"][\"Sales (millions)\"]  "
   ]
  },
  {
   "cell_type": "markdown",
   "id": "474d957e-4d6f-46a8-a256-0ded47dd3535",
   "metadata": {},
   "source": [
    "#### Sort `game_data` based on sales"
   ]
  },
  {
   "cell_type": "code",
   "execution_count": 7,
   "id": "f4ebdf06-e198-4e12-b8c3-763b70465388",
   "metadata": {},
   "outputs": [
    {
     "data": {
      "text/plain": [
       "[('Fortnite',\n",
       "  {'Title': 'Fortnite',\n",
       "   'Genre': 'Battle Royale',\n",
       "   'Release Year': '2017',\n",
       "   'Platform': 'Multi-platform',\n",
       "   'Sales (millions)': '350.0'}),\n",
       " ('Minecraft',\n",
       "  {'Title': 'Minecraft',\n",
       "   'Genre': 'Sandbox',\n",
       "   'Release Year': '2011',\n",
       "   'Platform': 'Multi-platform',\n",
       "   'Sales (millions)': '238.0'}),\n",
       " ('Grand Theft Auto V',\n",
       "  {'Title': 'Grand Theft Auto V',\n",
       "   'Genre': 'Action',\n",
       "   'Release Year': '2013',\n",
       "   'Platform': 'PS4',\n",
       "   'Sales (millions)': '170.0'}),\n",
       " ('League of Legends',\n",
       "  {'Title': 'League of Legends',\n",
       "   'Genre': 'MOBA',\n",
       "   'Release Year': '2009',\n",
       "   'Platform': 'PC',\n",
       "   'Sales (millions)': '111.5'}),\n",
       " ('World of Warcraft',\n",
       "  {'Title': 'World of Warcraft',\n",
       "   'Genre': 'MMORPG',\n",
       "   'Release Year': '2004',\n",
       "   'Platform': 'PC',\n",
       "   'Sales (millions)': '100.0'})]"
      ]
     },
     "execution_count": 7,
     "metadata": {},
     "output_type": "execute_result"
    }
   ],
   "source": [
    "sorted(game_data.items(), key=lambda item: float(item[1][\"Sales (millions)\"]), reverse=True)"
   ]
  },
  {
   "cell_type": "markdown",
   "id": "4368ba4d-9fc3-455a-a108-4fd941c67a57",
   "metadata": {},
   "source": [
    "# JSON Files\n",
    "\n",
    "JavaScript Object Notation\n",
    "\n",
    "**JSON Structure:**\n",
    "* Data is organized in **key-value** pairs similar to Python dicts.\n",
    "* Values can be strings, numbers, booleans, arrays (lists), objects (dicts), or `null`.\n",
    "\n",
    "**Where is JSON Used?**\n",
    "* APIs: standard format for data exchange in REST APIs\n",
    "* Web & mobile apps: allows data interchange between servers and applications\n",
    "* Data storage: used in files and databases for structured data\n",
    "* Configuration files: store app settings, preferences, and API keys\n",
    "\n",
    "**Why JSON?**\n",
    "* Readable & lightweight\n",
    "* Universal: can be used with many programming languages, like JavaScript, Java, Python, etc. \n",
    "* Nested structures allows represention of complex data relationships"
   ]
  },
  {
   "cell_type": "markdown",
   "id": "be7c7438-5b81-4ab8-a073-9474fe1493c1",
   "metadata": {},
   "source": [
    "## `json` Module\n",
    "* built-in module to process JSON data\n",
    "\n",
    "### Read JSON\n",
    "* `load()`: Reading JSON from a File\n",
    "* `loads()`: Reading JSON from a String"
   ]
  },
  {
   "cell_type": "code",
   "execution_count": 8,
   "id": "60b120db-6fbf-4c36-8a21-ff8c45d4d0e3",
   "metadata": {},
   "outputs": [
    {
     "data": {
      "text/plain": [
       "{'Bookstore': {'Name': 'Downtown Bookstore',\n",
       "  'Books': [{'Title': 'Python 101',\n",
       "    'Author': 'Jane Doe',\n",
       "    'Formats': {'Ebook': {'Price': 9.99, 'Stock': 100},\n",
       "     'Paperback': {'Price': 19.99, 'Stock': 20}}},\n",
       "   {'Title': 'Data Science Essentials',\n",
       "    'Author': 'John Smith',\n",
       "    'Formats': {'Ebook': {'Price': 12.99, 'Stock': 75},\n",
       "     'Hardcover': {'Price': 29.99, 'Stock': 5}}}]}}"
      ]
     },
     "execution_count": 8,
     "metadata": {},
     "output_type": "execute_result"
    }
   ],
   "source": [
    "import json\n",
    "\n",
    "with open('bookstore.json', 'r') as file:\n",
    "    data = json.load(file) # load JSON data from a file\n",
    "\n",
    "data"
   ]
  },
  {
   "cell_type": "code",
   "execution_count": 9,
   "id": "1ba16155-d926-4ed0-8648-213b4bd30efb",
   "metadata": {},
   "outputs": [
    {
     "data": {
      "text/plain": [
       "'Downtown Bookstore'"
      ]
     },
     "execution_count": 9,
     "metadata": {},
     "output_type": "execute_result"
    }
   ],
   "source": [
    "data['Bookstore']['Name']"
   ]
  },
  {
   "cell_type": "code",
   "execution_count": 10,
   "id": "8b5a8625-68cf-4fee-8d3e-21cc440d9d5b",
   "metadata": {},
   "outputs": [
    {
     "name": "stdout",
     "output_type": "stream",
     "text": [
      "Title: Python 101\n",
      "Author: Jane Doe\n",
      "Formats:\n",
      "  - Ebook: $9.99 (Stock: 100)\n",
      "  - Paperback: $19.99 (Stock: 20)\n",
      "==========\n",
      "Title: Data Science Essentials\n",
      "Author: John Smith\n",
      "Formats:\n",
      "  - Ebook: $12.99 (Stock: 75)\n",
      "  - Hardcover: $29.99 (Stock: 5)\n",
      "==========\n"
     ]
    }
   ],
   "source": [
    "# Display details for each book\n",
    "for book in data['Bookstore']['Books']:\n",
    "    print(f\"Title: {book['Title']}\")\n",
    "    print(f\"Author: {book['Author']}\")\n",
    "    print(f\"Formats:\")\n",
    "    for format_type, details in book[\"Formats\"].items():\n",
    "        print(f\"  - {format_type}: ${details['Price']} (Stock: {details['Stock']})\")\n",
    "    print('==========')"
   ]
  },
  {
   "cell_type": "code",
   "execution_count": 11,
   "id": "97502653-1451-4074-b6a8-60c110a7b284",
   "metadata": {},
   "outputs": [
    {
     "data": {
      "text/plain": [
       "{'Bookstore': {'Name': 'Downtown Bookstore',\n",
       "  'Books': [{'Title': 'Python 101',\n",
       "    'Author': 'Jane Doe',\n",
       "    'Formats': {'Ebook': {'Price': 9.99, 'Stock': 100},\n",
       "     'Paperback': {'Price': 19.99, 'Stock': 20}}}]}}"
      ]
     },
     "execution_count": 11,
     "metadata": {},
     "output_type": "execute_result"
    }
   ],
   "source": [
    "bookstore_json_string = '''\n",
    "{\n",
    "    \"Bookstore\": {\n",
    "        \"Name\": \"Downtown Bookstore\",\n",
    "        \"Books\": [\n",
    "            {\n",
    "                \"Title\": \"Python 101\",\n",
    "                \"Author\": \"Jane Doe\",\n",
    "                \"Formats\": {\n",
    "                    \"Ebook\": {\"Price\": 9.99, \"Stock\": 100},\n",
    "                    \"Paperback\": {\"Price\": 19.99, \"Stock\": 20}\n",
    "                }\n",
    "            }\n",
    "        ]\n",
    "    }\n",
    "}\n",
    "'''\n",
    "\n",
    "# Convert the JSON string into a Python object\n",
    "data = json.loads(bookstore_json_string)\n",
    "data"
   ]
  },
  {
   "cell_type": "code",
   "execution_count": 12,
   "id": "729986af-70fd-4525-a867-b8b77194be13",
   "metadata": {},
   "outputs": [
    {
     "data": {
      "text/plain": [
       "dict"
      ]
     },
     "execution_count": 12,
     "metadata": {},
     "output_type": "execute_result"
    }
   ],
   "source": [
    "type(data)"
   ]
  },
  {
   "cell_type": "markdown",
   "id": "cb893a1b-35d1-4f40-b0f3-37b6844869a8",
   "metadata": {},
   "source": [
    "### Write JSON\n",
    "* `dump()`: Writing JSON to a File\n",
    "* `dumps()`: Converting Python Object to JSON String"
   ]
  },
  {
   "cell_type": "code",
   "execution_count": 13,
   "id": "b0a6e4d4-5735-43a5-9d14-13e0bfca9d78",
   "metadata": {},
   "outputs": [],
   "source": [
    "# Write data to a JSON file\n",
    "with open('bookstore_2.json', 'w') as file:\n",
    "    json.dump(data, file, indent=4)  # 'indent=4' for pretty-printing"
   ]
  },
  {
   "cell_type": "code",
   "execution_count": 14,
   "id": "1468c070-171d-43ab-994d-7b9fdfe7076f",
   "metadata": {},
   "outputs": [
    {
     "name": "stdout",
     "output_type": "stream",
     "text": [
      "{\n",
      "    \"Bookstore\": {\n",
      "        \"Name\": \"Downtown Bookstore\",\n",
      "        \"Books\": [\n",
      "            {\n",
      "                \"Title\": \"Python 101\",\n",
      "                \"Author\": \"Jane Doe\",\n",
      "                \"Formats\": {\n",
      "                    \"Ebook\": {\n",
      "                        \"Price\": 9.99,\n",
      "                        \"Stock\": 100\n",
      "                    },\n",
      "                    \"Paperback\": {\n",
      "                        \"Price\": 19.99,\n",
      "                        \"Stock\": 20\n",
      "                    }\n",
      "                }\n",
      "            }\n",
      "        ]\n",
      "    }\n",
      "}\n"
     ]
    }
   ],
   "source": [
    "# Convert the Python object to a JSON string\n",
    "print(json.dumps(data, indent=4))"
   ]
  },
  {
   "cell_type": "code",
   "execution_count": null,
   "id": "fb244c33-2c8d-4ee5-91e6-e7a535761729",
   "metadata": {},
   "outputs": [],
   "source": []
  }
 ],
 "metadata": {
  "kernelspec": {
   "display_name": "Python 3 (ipykernel)",
   "language": "python",
   "name": "python3"
  },
  "language_info": {
   "codemirror_mode": {
    "name": "ipython",
    "version": 3
   },
   "file_extension": ".py",
   "mimetype": "text/x-python",
   "name": "python",
   "nbconvert_exporter": "python",
   "pygments_lexer": "ipython3",
   "version": "3.12.5"
  }
 },
 "nbformat": 4,
 "nbformat_minor": 5
}
