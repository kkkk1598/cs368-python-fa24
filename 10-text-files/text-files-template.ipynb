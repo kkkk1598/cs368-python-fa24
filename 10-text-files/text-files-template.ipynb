{
 "cells": [
  {
   "cell_type": "markdown",
   "id": "1170fd6c-63fd-4785-9930-e9933fb4d6d4",
   "metadata": {},
   "source": [
    "# Lecture 10 Text Files\n",
    "\n",
    "Learning Objectives: \n",
    "\n",
    "* Use the os module to manipulate file paths\n",
    "* Understand how to open, close, read, and write text files in Python.\n",
    "* Know what a context manager is and why it’s useful.\n",
    "* Use a context manager to handle text files safely."
   ]
  },
  {
   "cell_type": "markdown",
   "id": "bb20bde5-d2b5-450f-9dd1-3cab7a0f9026",
   "metadata": {},
   "source": [
    "## What's a Text File? \n",
    "\n",
    "* A file stores data as **plain** text\n",
    "* Examples:\n",
    "| **Extension** | **File Type** | **What's Stored** | **Usage** |\n",
    "|:---|:---|:---|:---|\n",
    "| `.txt` | General Text | Unstructured plain text | Notes, simple data storage, documentation |\n",
    "| `.md` | Markdown | Text with simple formatting syntax | Documentation, README files, formatted notes |\n",
    "| `.csv` | Comma-Separated Values | Tabular data | Spreadsheets, data analysis, database export |\n",
    "| `.json` | JavaScript Object Notation | Structured data in key-value pairs | Web APIs, config files, data transfer between applications |\n",
    "| `.log` | Log File | Event messages, often with timestamps | Debugging, system event tracking, audit logs |\n",
    "\n",
    "* **NON-plain** text file examples: pdf, doc, xls"
   ]
  },
  {
   "cell_type": "markdown",
   "id": "be1e3d95-770f-4466-a4ba-ccb3f4312052",
   "metadata": {},
   "source": [
    "## File Paths\n",
    "* Specify where a file is located on your machine\n",
    "* **Absolute** Path: Full path from the root of the file system\n",
    "    * Windows: C:\\Users\\Username\\Documents\\example.txt\n",
    "    * macOS/Linux: /Users/Username/Documents/example.txt\n",
    "* **Relative** Path: Path relative to the current working directory (where the script is running)."
   ]
  },
  {
   "cell_type": "code",
   "execution_count": null,
   "id": "bc7d005f-2731-47de-a983-81940e8c4ebb",
   "metadata": {},
   "outputs": [],
   "source": [
    "# os is a built-in module that provides functions to perform tasks interacting with operating system, \n",
    "# such as file and directory manipulation\n",
    "import os\n",
    "# returns the absolute path of the current working directory\n",
    "os.???()"
   ]
  },
  {
   "cell_type": "code",
   "execution_count": null,
   "id": "671717db-cd50-42b8-b6d1-e1806c9e7aca",
   "metadata": {},
   "outputs": [],
   "source": [
    "# lists files and directories in the specified path\n",
    "os.???()"
   ]
  },
  {
   "cell_type": "code",
   "execution_count": null,
   "id": "0f9ed3c2-e4ef-4c4f-be90-54a03dcb6e8c",
   "metadata": {},
   "outputs": [],
   "source": [
    "# obtain files in the 'files' directory\n",
    "# you can use absolute path\n",
    "os.listdir('/Users/yiyinshen/Documents/CS/368/dev-cs368-python-fa24/10-text-files/???')"
   ]
  },
  {
   "cell_type": "code",
   "execution_count": null,
   "id": "ba8aee04-ee2b-4f3c-91be-a3b1b9cfad52",
   "metadata": {},
   "outputs": [],
   "source": [
    "# or use relative path \n",
    "# you are currently at '/Users/yiyinshen/Documents/CS/368/dev-cs368-python-fa24/10-text-files'\n",
    "# find files with the current working directory\n",
    "os.listdir('files')"
   ]
  },
  {
   "cell_type": "code",
   "execution_count": null,
   "id": "5258c5cc-41fd-4eda-8b36-a2386c8b2638",
   "metadata": {},
   "outputs": [],
   "source": [
    "# relative path to example.txt in files directory\n",
    "# you can use string concatenation\n",
    "'files' + '/' + 'example.txt'"
   ]
  },
  {
   "cell_type": "code",
   "execution_count": null,
   "id": "87da0590-f01f-4abe-a4b4-86ce80bc4014",
   "metadata": {},
   "outputs": [],
   "source": [
    "# joins one or more path components\n",
    "# considers the operating system\n",
    "os.???('files', 'example.txt')"
   ]
  },
  {
   "cell_type": "markdown",
   "id": "3081c568-2e59-4398-a4d8-89e28e52470e",
   "metadata": {},
   "source": [
    "## Open, Close, Read, Write, and Create Files\n",
    "\n",
    "### Open/close files\n",
    "* open with syntax `open(file_path, mode)`, where modes are\n",
    "    * `'r'`: read (default)\n",
    "    * `'w'`: – write\n",
    "    * `'a'`: – append\n",
    "    * `'r+'`: – read and write\n",
    "    * `'w+'`: – write and read\n",
    "    * `'a+'`: – append and read\n",
    "* After `open()`, Python requests OS to allocate a buffer in memory for the file based on the mode\n",
    "* **Always** `close()` to free up the allocated memory"
   ]
  },
  {
   "cell_type": "code",
   "execution_count": null,
   "id": "419e75bc-babc-431c-8187-71f010d50ca6",
   "metadata": {},
   "outputs": [],
   "source": [
    "example_txt_path = os.path.join('files', 'example.txt')\n",
    "file = ???(example_txt_path)\n",
    "# perform operations\n",
    "file.???()"
   ]
  },
  {
   "cell_type": "markdown",
   "id": "f21077ca-2bff-48e0-a2ec-fac36557cefe",
   "metadata": {},
   "source": [
    "### Read files\n",
    "* OS caches (loads) files from disk to memory buffer"
   ]
  },
  {
   "cell_type": "code",
   "execution_count": null,
   "id": "a1650289-d81c-476f-817b-6ef8f92215e9",
   "metadata": {},
   "outputs": [],
   "source": [
    "file = open(example_txt_path)\n",
    "# read() reads all contents as a single string.\n",
    "content = file.???()\n",
    "file.close()\n",
    "content"
   ]
  },
  {
   "cell_type": "code",
   "execution_count": null,
   "id": "79ed0356-e112-4102-ba12-17d640134500",
   "metadata": {},
   "outputs": [],
   "source": [
    "content.split('\\n')"
   ]
  },
  {
   "cell_type": "code",
   "execution_count": null,
   "id": "068924d1-a3ab-4cb9-b6a5-09a17337c877",
   "metadata": {},
   "outputs": [],
   "source": [
    "file = open(example_txt_path)\n",
    "# readline() reads one line at a time.\n",
    "line = file.???()\n",
    "while line:\n",
    "    print(line)\n",
    "    line = file.???()\n",
    "file.close()"
   ]
  },
  {
   "cell_type": "code",
   "execution_count": null,
   "id": "e4a2c6a2-9db8-4f1c-bbcd-2ba6381247fd",
   "metadata": {},
   "outputs": [],
   "source": [
    "file = open(example_txt_path)\n",
    "# readlines() reads all lines into a list.\n",
    "lines = file.???()\n",
    "file.close()\n",
    "lines"
   ]
  },
  {
   "cell_type": "markdown",
   "id": "c3d633b1-17c1-4970-bae1-f443b6ac54e1",
   "metadata": {},
   "source": [
    "### Write files \n",
    "* OS writes content to the memory buffer\n",
    "* Only flushes (writes back) content from memory buffer to disk when file closed or by request (`flush()`)"
   ]
  },
  {
   "cell_type": "code",
   "execution_count": null,
   "id": "d6e1af2b-a478-4717-9e87-28d5d4021be4",
   "metadata": {},
   "outputs": [],
   "source": [
    "write_example_txt_path = os.path.join('files', 'write_example.txt')"
   ]
  },
  {
   "cell_type": "code",
   "execution_count": null,
   "id": "04264110-2e42-4a50-b1ef-f5b7d4135cc2",
   "metadata": {},
   "outputs": [],
   "source": [
    "# write() truncates/overwrites the file in 'w' mode or appends in 'a' mode\n",
    "file = open(write_example_txt_path, 'w')\n",
    "file.???(\"This is a new line of text.\\n\")\n",
    "file.close()"
   ]
  },
  {
   "cell_type": "code",
   "execution_count": null,
   "id": "265c43ed-8212-46c4-b549-c86eef276dcd",
   "metadata": {},
   "outputs": [],
   "source": [
    "lines = [\"Line 1\\n\", \"Line 2\\n\", \"Line 3\\n\"]\n",
    "file = open(write_example_txt_path, 'a')\n",
    "# writelines() writes a list of strings all at once.\n",
    "file.???(lines)\n",
    "file.close()"
   ]
  },
  {
   "cell_type": "code",
   "execution_count": null,
   "id": "23c35768-60dc-4200-a7a7-556e153b98fe",
   "metadata": {},
   "outputs": [],
   "source": [
    "file = open(write_example_txt_path, 'w')\n",
    "file.write(\"Line 1\\n\")\n",
    "file.write(\"Line 2\\n\")\n",
    "# file.flush() # flush content from memory buffer to disk\n",
    "# file.write(\"Line 3\\n\")\n",
    "# file.close()"
   ]
  },
  {
   "cell_type": "code",
   "execution_count": null,
   "id": "0abeea61-23d6-4d5b-9d90-eb85f3c813d0",
   "metadata": {},
   "outputs": [],
   "source": [
    "file.close()"
   ]
  },
  {
   "cell_type": "markdown",
   "id": "d5d61cca-e415-4326-ad31-588d4fc2e05f",
   "metadata": {},
   "source": [
    "### Hybrid modes"
   ]
  },
  {
   "cell_type": "code",
   "execution_count": null,
   "id": "7d13c615-fdfe-4457-9dc5-33b0bb4a4418",
   "metadata": {},
   "outputs": [],
   "source": [
    "r_plus_example_txt_path = os.path.join('files', 'r_plus_example.txt')\n",
    "file = open(r_plus_example_txt_path, '???')\n",
    "content = file.readline()   # Read existing content\n",
    "file.write(\"\\nNew line appended.\")   # Write new content at the end\n",
    "file.close()\n",
    "content"
   ]
  },
  {
   "cell_type": "code",
   "execution_count": null,
   "id": "417a599c-296a-4b37-8a95-046cb70fdf11",
   "metadata": {},
   "outputs": [],
   "source": [
    "w_plus_example_txt_path = os.path.join('files', 'w_plus_example.txt')\n",
    "file = open(w_plus_example_txt_path, '???')\n",
    "content_before_write = file.read()   # Truncates/overwrites existing content in the file\n",
    "file.write(\"New line appended.\") \n",
    "# file.seek(0) # Move pointer to the beginning of the file\n",
    "content_after_write = file.read()\n",
    "file.close()\n",
    "content_before_write, content_after_write"
   ]
  },
  {
   "cell_type": "code",
   "execution_count": null,
   "id": "9807622b-2b51-4abc-be3d-0dd87709916a",
   "metadata": {},
   "outputs": [],
   "source": [
    "a_plus_example_txt_path = os.path.join('files', 'a_plus_example.txt')\n",
    "file = open(a_plus_example_txt_path, '???')\n",
    "content_before_seek = file.read()   # Exisiting content is not truncated/overwrited, but pointer is at the end of the file\n",
    "# file.seek(0)\n",
    "content_after_seek = file.read()\n",
    "file.write(\"\\nNew line appended.\")   # Write new content at the end\n",
    "file.close()\n",
    "content_before_seek, content_after_seek"
   ]
  },
  {
   "cell_type": "markdown",
   "id": "21739fd2-17b4-4348-b4a9-47f23f790f7f",
   "metadata": {},
   "source": [
    "### Create files\n"
   ]
  },
  {
   "cell_type": "code",
   "execution_count": null,
   "id": "1635ce04-391e-4f45-aed2-02b35a6c16f6",
   "metadata": {},
   "outputs": [],
   "source": [
    "# r, r+ mode: FileNotFoundError\n",
    "file = open('nonexist.txt', 'r+')\n",
    "file.close()"
   ]
  },
  {
   "cell_type": "code",
   "execution_count": null,
   "id": "e3bc96d7-28b9-4631-ae0a-f37f32e2e072",
   "metadata": {},
   "outputs": [],
   "source": [
    "# w, a, w+, a+ modes: the file is automatically created if it doesn’t exist\n",
    "file = open('nonexist.txt', 'a')\n",
    "file.close()"
   ]
  },
  {
   "cell_type": "markdown",
   "id": "4a9aa622-7195-42d0-bbe0-b088fc19300b",
   "metadata": {},
   "source": [
    "## Context Manager\n",
    "\n",
    "* Context managers automatically close files after operations, even if an error occurs."
   ]
  },
  {
   "cell_type": "code",
   "execution_count": null,
   "id": "892bf514-0f0b-4f00-9748-fdb36704a02a",
   "metadata": {},
   "outputs": [],
   "source": [
    "# if code crushes before file is closed\n",
    "# what's been write can't be flushed from memory buffer to disk\n",
    "file = open('error.txt', 'w')\n",
    "file.write('error')\n",
    "assert 1 == 2\n",
    "file.close()"
   ]
  },
  {
   "cell_type": "code",
   "execution_count": null,
   "id": "af030137-b13b-4146-bd05-2c51bf02aa8c",
   "metadata": {},
   "outputs": [],
   "source": [
    "file.close()"
   ]
  },
  {
   "cell_type": "code",
   "execution_count": null,
   "id": "475419c0-f279-4188-8e8c-fd146391d72a",
   "metadata": {},
   "outputs": [],
   "source": [
    "??? open('error.txt', 'w') ???: \n",
    "    # enter the context manager \n",
    "    file.write('error')\n",
    "    assert 1 == 2\n",
    "# exit the context manager\n",
    "# file is closed automatically even if there's an error"
   ]
  },
  {
   "cell_type": "markdown",
   "id": "e0d00d7a-7724-4d5f-a681-e59214b6f93e",
   "metadata": {},
   "source": [
    "* Context managers (with statements) implicitly invoke two special methods\n",
    "    * `__enter__()`: Defines setup actions when entering the context.\n",
    "    * `__exit__()`: Defines cleanup actions when exiting the context."
   ]
  },
  {
   "cell_type": "code",
   "execution_count": null,
   "id": "4e970719-318d-4a6e-ac73-ec65cdcdebdb",
   "metadata": {},
   "outputs": [],
   "source": [
    "class FileManager:\n",
    "    def __init__(self, filename, mode):\n",
    "        self.filename = filename\n",
    "        self.mode = mode\n",
    "\n",
    "    def __enter__(self):\n",
    "        self.file = open(self.filename, self.mode)\n",
    "        return self.file\n",
    "\n",
    "    def __exit__(self, exc_type, exc_value, traceback):\n",
    "        self.file.close()\n",
    "        return False  "
   ]
  },
  {
   "cell_type": "code",
   "execution_count": null,
   "id": "493d3523-26b3-4846-99b6-f954be4d3163",
   "metadata": {},
   "outputs": [],
   "source": [
    "with FileManager(\"context.txt\", \"w\") as f: # invokes FileManager.__enter__()\n",
    "    f.write(\"Hello, World!\")\n",
    "# invokes FileManager.__exit__()"
   ]
  },
  {
   "cell_type": "code",
   "execution_count": null,
   "id": "a4d02df5-bc2f-4921-b223-f0bee7d93bf7",
   "metadata": {},
   "outputs": [],
   "source": []
  }
 ],
 "metadata": {
  "kernelspec": {
   "display_name": "Python 3 (ipykernel)",
   "language": "python",
   "name": "python3"
  },
  "language_info": {
   "codemirror_mode": {
    "name": "ipython",
    "version": 3
   },
   "file_extension": ".py",
   "mimetype": "text/x-python",
   "name": "python",
   "nbconvert_exporter": "python",
   "pygments_lexer": "ipython3",
   "version": "3.12.5"
  }
 },
 "nbformat": 4,
 "nbformat_minor": 5
}
