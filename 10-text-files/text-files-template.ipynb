{
 "cells": [
  {
   "cell_type": "markdown",
   "id": "1170fd6c-63fd-4785-9930-e9933fb4d6d4",
   "metadata": {},
   "source": [
    "# Lecture 10 Text Files\n",
    "\n",
    "Learning Objectives: \n",
    "\n",
    "* Use the os module to manipulate file paths\n",
    "* Understand how to open, close, read, and write text files in Python.\n",
    "* Know what a context manager is and why it’s useful.\n",
    "* Use a context manager to handle text files safely."
   ]
  },
  {
   "cell_type": "markdown",
   "id": "bb20bde5-d2b5-450f-9dd1-3cab7a0f9026",
   "metadata": {},
   "source": [
    "## What's a Text File? \n",
    "\n",
    "* A file stores data as **plain** text\n",
    "* Examples:\n",
    "| **Extension** | **File Type** | **What's Stored** | **Usage** |\n",
    "|:---|:---|:---|:---|\n",
    "| `.txt` | General Text | Unstructured plain text | Notes, simple data storage, documentation |\n",
    "| `.md` | Markdown | Text with simple formatting syntax | Documentation, README files, formatted notes |\n",
    "| `.csv` | Comma-Separated Values | Tabular data | Spreadsheets, data analysis, database export |\n",
    "| `.json` | JavaScript Object Notation | Structured data in key-value pairs | Web APIs, config files, data transfer between applications |\n",
    "| `.log` | Log File | Event messages, often with timestamps | Debugging, system event tracking, audit logs |\n",
    "\n",
    "* **NON-plain** text file examples: pdf, doc, xls"
   ]
  },
  {
   "cell_type": "markdown",
   "id": "be1e3d95-770f-4466-a4ba-ccb3f4312052",
   "metadata": {},
   "source": [
    "## File Paths\n",
    "* Specify where a file is located on your machine\n",
    "* **Absolute** Path: Full path from the root of the file system\n",
    "    * Windows: C:\\Users\\Username\\Documents\\example.txt\n",
    "    * macOS/Linux: /Users/Username/Documents/example.txt\n",
    "* **Relative** Path: Path relative to the current working directory (where the script is running)."
   ]
  },
  {
   "cell_type": "code",
   "execution_count": 7,
   "id": "bc7d005f-2731-47de-a983-81940e8c4ebb",
   "metadata": {},
   "outputs": [
    {
     "data": {
      "text/plain": [
       "'/Users/yiyinshen/Documents/CS/368/dev-cs368-python-fa24/10-text-files'"
      ]
     },
     "execution_count": 7,
     "metadata": {},
     "output_type": "execute_result"
    }
   ],
   "source": [
    "# os is a built-in module that provides functions to perform tasks interacting with operating system, \n",
    "# such as file and directory manipulation\n",
    "import os\n",
    "# returns the absolute path of the current working directory\n",
    "os.getcwd()"
   ]
  },
  {
   "cell_type": "code",
   "execution_count": 8,
   "id": "671717db-cd50-42b8-b6d1-e1806c9e7aca",
   "metadata": {},
   "outputs": [
    {
     "data": {
      "text/plain": [
       "['text-files.ipynb', 'files', '.ipynb_checkpoints']"
      ]
     },
     "execution_count": 8,
     "metadata": {},
     "output_type": "execute_result"
    }
   ],
   "source": [
    "# lists files and directories in the specified path\n",
    "os.listdir()"
   ]
  },
  {
   "cell_type": "code",
   "execution_count": 9,
   "id": "0f9ed3c2-e4ef-4c4f-be90-54a03dcb6e8c",
   "metadata": {},
   "outputs": [
    {
     "data": {
      "text/plain": [
       "['example-Copy1.txt', 'example.txt', '.ipynb_checkpoints']"
      ]
     },
     "execution_count": 9,
     "metadata": {},
     "output_type": "execute_result"
    }
   ],
   "source": [
    "# obtain files in the 'files' directory\n",
    "# you can use absolute path\n",
    "os.listdir('/Users/yiyinshen/Documents/CS/368/dev-cs368-python-fa24/10-text-files/files')"
   ]
  },
  {
   "cell_type": "code",
   "execution_count": 10,
   "id": "ba8aee04-ee2b-4f3c-91be-a3b1b9cfad52",
   "metadata": {},
   "outputs": [
    {
     "data": {
      "text/plain": [
       "['example-Copy1.txt', 'example.txt', '.ipynb_checkpoints']"
      ]
     },
     "execution_count": 10,
     "metadata": {},
     "output_type": "execute_result"
    }
   ],
   "source": [
    "# or use relative path \n",
    "# you are currently at '/Users/yiyinshen/Documents/CS/368/dev-cs368-python-fa24/10-text-files'\n",
    "# find files with the current working directory\n",
    "os.listdir('files')"
   ]
  },
  {
   "cell_type": "code",
   "execution_count": 11,
   "id": "5258c5cc-41fd-4eda-8b36-a2386c8b2638",
   "metadata": {},
   "outputs": [
    {
     "data": {
      "text/plain": [
       "'files/example.txt'"
      ]
     },
     "execution_count": 11,
     "metadata": {},
     "output_type": "execute_result"
    }
   ],
   "source": [
    "# relative path to example.txt in files directory\n",
    "# you can use string concatenation\n",
    "'files' + '/' + 'example.txt'"
   ]
  },
  {
   "cell_type": "code",
   "execution_count": 12,
   "id": "87da0590-f01f-4abe-a4b4-86ce80bc4014",
   "metadata": {},
   "outputs": [
    {
     "data": {
      "text/plain": [
       "'files/example.txt'"
      ]
     },
     "execution_count": 12,
     "metadata": {},
     "output_type": "execute_result"
    }
   ],
   "source": [
    "# joins one or more path components\n",
    "# considers the operating system\n",
    "os.path.join('files', 'example.txt')"
   ]
  },
  {
   "cell_type": "markdown",
   "id": "3081c568-2e59-4398-a4d8-89e28e52470e",
   "metadata": {},
   "source": [
    "## Open, Close, Read, Write, and Create Files\n",
    "\n",
    "### Open/close files\n",
    "* open with syntax `open(file_path, mode)`, where modes are\n",
    "    * `'r'`: read (default)\n",
    "    * `'w'`: – write\n",
    "    * `'a'`: – append\n",
    "    * `'r+'`: – read and write\n",
    "* After `open()`, Python requests OS to allocate a buffer in memory for the file based on the mode\n",
    "* **Always** `close()` to free up the allocated memory"
   ]
  },
  {
   "cell_type": "code",
   "execution_count": 13,
   "id": "419e75bc-babc-431c-8187-71f010d50ca6",
   "metadata": {},
   "outputs": [],
   "source": [
    "example_txt_path = os.path.join('files', 'example.txt')\n",
    "file = open(example_txt_path)\n",
    "# perform operations\n",
    "file.close()"
   ]
  },
  {
   "cell_type": "markdown",
   "id": "f21077ca-2bff-48e0-a2ec-fac36557cefe",
   "metadata": {},
   "source": [
    "### Read files\n",
    "* OS caches (loads) files from disk to memory buffer"
   ]
  },
  {
   "cell_type": "code",
   "execution_count": 14,
   "id": "a1650289-d81c-476f-817b-6ef8f92215e9",
   "metadata": {},
   "outputs": [
    {
     "data": {
      "text/plain": [
       "'Lorem ipsum dolor sit amet, consectetur adipiscing elit.\\nSuspendisse vehicula felis fermentum volutpat pellentesque.\\nMorbi ultricies erat a erat blandit, nec sollicitudin ligula porta.\\nMauris laoreet nibh quis est tincidunt ullamcorper.\\nSed posuere ante ut nulla ultricies, at blandit nisi molestie.'"
      ]
     },
     "execution_count": 14,
     "metadata": {},
     "output_type": "execute_result"
    }
   ],
   "source": [
    "file = open(example_txt_path)\n",
    "# read() reads all contents as a single string.\n",
    "content = file.read()\n",
    "file.close()\n",
    "content"
   ]
  },
  {
   "cell_type": "code",
   "execution_count": 15,
   "id": "79ed0356-e112-4102-ba12-17d640134500",
   "metadata": {},
   "outputs": [
    {
     "data": {
      "text/plain": [
       "['Lorem ipsum dolor sit amet, consectetur adipiscing elit.',\n",
       " 'Suspendisse vehicula felis fermentum volutpat pellentesque.',\n",
       " 'Morbi ultricies erat a erat blandit, nec sollicitudin ligula porta.',\n",
       " 'Mauris laoreet nibh quis est tincidunt ullamcorper.',\n",
       " 'Sed posuere ante ut nulla ultricies, at blandit nisi molestie.']"
      ]
     },
     "execution_count": 15,
     "metadata": {},
     "output_type": "execute_result"
    }
   ],
   "source": [
    "content.split('\\n')"
   ]
  },
  {
   "cell_type": "code",
   "execution_count": 16,
   "id": "068924d1-a3ab-4cb9-b6a5-09a17337c877",
   "metadata": {},
   "outputs": [
    {
     "name": "stdout",
     "output_type": "stream",
     "text": [
      "Lorem ipsum dolor sit amet, consectetur adipiscing elit.\n",
      "\n",
      "Suspendisse vehicula felis fermentum volutpat pellentesque.\n",
      "\n",
      "Morbi ultricies erat a erat blandit, nec sollicitudin ligula porta.\n",
      "\n",
      "Mauris laoreet nibh quis est tincidunt ullamcorper.\n",
      "\n",
      "Sed posuere ante ut nulla ultricies, at blandit nisi molestie.\n"
     ]
    }
   ],
   "source": [
    "file = open(example_txt_path)\n",
    "# readline() reads one line at a time.\n",
    "line = file.readline()\n",
    "while line:\n",
    "    print(line)\n",
    "    line = file.readline()\n",
    "file.close()"
   ]
  },
  {
   "cell_type": "code",
   "execution_count": 17,
   "id": "e4a2c6a2-9db8-4f1c-bbcd-2ba6381247fd",
   "metadata": {},
   "outputs": [
    {
     "data": {
      "text/plain": [
       "['Lorem ipsum dolor sit amet, consectetur adipiscing elit.\\n',\n",
       " 'Suspendisse vehicula felis fermentum volutpat pellentesque.\\n',\n",
       " 'Morbi ultricies erat a erat blandit, nec sollicitudin ligula porta.\\n',\n",
       " 'Mauris laoreet nibh quis est tincidunt ullamcorper.\\n',\n",
       " 'Sed posuere ante ut nulla ultricies, at blandit nisi molestie.']"
      ]
     },
     "execution_count": 17,
     "metadata": {},
     "output_type": "execute_result"
    }
   ],
   "source": [
    "file = open(example_txt_path)\n",
    "# readlines() reads all lines into a list.\n",
    "lines = file.readlines()\n",
    "file.close()\n",
    "lines"
   ]
  },
  {
   "cell_type": "markdown",
   "id": "c3d633b1-17c1-4970-bae1-f443b6ac54e1",
   "metadata": {},
   "source": [
    "### Write files \n",
    "* OS writes content to the memory buffer\n",
    "* Only flushes (writes back) content from memory buffer to disk when file closed or by request (`flush()`)"
   ]
  },
  {
   "cell_type": "code",
   "execution_count": 18,
   "id": "04264110-2e42-4a50-b1ef-f5b7d4135cc2",
   "metadata": {},
   "outputs": [],
   "source": [
    "# write() overwrites the file in 'w' mode or appends in 'a' mode\n",
    "file = open(example_txt_path, 'w')\n",
    "file.write(\"This is a new line of text.\\n\")\n",
    "file.close()"
   ]
  },
  {
   "cell_type": "code",
   "execution_count": 19,
   "id": "265c43ed-8212-46c4-b549-c86eef276dcd",
   "metadata": {},
   "outputs": [],
   "source": [
    "lines = [\"Line 1\\n\", \"Line 2\\n\", \"Line 3\\n\"]\n",
    "file = open(example_txt_path, 'a')\n",
    "# writelines() writes a list of strings all at once.\n",
    "file.writelines(lines)\n",
    "file.close()"
   ]
  },
  {
   "cell_type": "code",
   "execution_count": 20,
   "id": "23c35768-60dc-4200-a7a7-556e153b98fe",
   "metadata": {},
   "outputs": [
    {
     "data": {
      "text/plain": [
       "7"
      ]
     },
     "execution_count": 20,
     "metadata": {},
     "output_type": "execute_result"
    }
   ],
   "source": [
    "file = open(example_txt_path, 'w')\n",
    "file.write(\"Line 1\\n\")\n",
    "file.write(\"Line 2\\n\")\n",
    "# file.flush()\n",
    "# file.write(\"Line 3\\n\")\n",
    "# file.close()"
   ]
  },
  {
   "cell_type": "code",
   "execution_count": 21,
   "id": "0abeea61-23d6-4d5b-9d90-eb85f3c813d0",
   "metadata": {},
   "outputs": [],
   "source": [
    "file.close()"
   ]
  },
  {
   "cell_type": "markdown",
   "id": "21739fd2-17b4-4348-b4a9-47f23f790f7f",
   "metadata": {},
   "source": [
    "### Create files\n"
   ]
  },
  {
   "cell_type": "code",
   "execution_count": 22,
   "id": "1635ce04-391e-4f45-aed2-02b35a6c16f6",
   "metadata": {},
   "outputs": [
    {
     "ename": "FileNotFoundError",
     "evalue": "[Errno 2] No such file or directory: 'nonexist.txt'",
     "output_type": "error",
     "traceback": [
      "\u001b[0;31m---------------------------------------------------------------------------\u001b[0m",
      "\u001b[0;31mFileNotFoundError\u001b[0m                         Traceback (most recent call last)",
      "Cell \u001b[0;32mIn[22], line 2\u001b[0m\n\u001b[1;32m      1\u001b[0m \u001b[38;5;66;03m# read mode: FileNotFoundError\u001b[39;00m\n\u001b[0;32m----> 2\u001b[0m file \u001b[38;5;241m=\u001b[39m \u001b[38;5;28;43mopen\u001b[39;49m\u001b[43m(\u001b[49m\u001b[38;5;124;43m'\u001b[39;49m\u001b[38;5;124;43mnonexist.txt\u001b[39;49m\u001b[38;5;124;43m'\u001b[39;49m\u001b[43m)\u001b[49m\n\u001b[1;32m      3\u001b[0m file\u001b[38;5;241m.\u001b[39mclose()\n",
      "File \u001b[0;32m~/Documents/CS/368/py3.12/lib/python3.12/site-packages/IPython/core/interactiveshell.py:324\u001b[0m, in \u001b[0;36m_modified_open\u001b[0;34m(file, *args, **kwargs)\u001b[0m\n\u001b[1;32m    317\u001b[0m \u001b[38;5;28;01mif\u001b[39;00m file \u001b[38;5;129;01min\u001b[39;00m {\u001b[38;5;241m0\u001b[39m, \u001b[38;5;241m1\u001b[39m, \u001b[38;5;241m2\u001b[39m}:\n\u001b[1;32m    318\u001b[0m     \u001b[38;5;28;01mraise\u001b[39;00m \u001b[38;5;167;01mValueError\u001b[39;00m(\n\u001b[1;32m    319\u001b[0m         \u001b[38;5;124mf\u001b[39m\u001b[38;5;124m\"\u001b[39m\u001b[38;5;124mIPython won\u001b[39m\u001b[38;5;124m'\u001b[39m\u001b[38;5;124mt let you open fd=\u001b[39m\u001b[38;5;132;01m{\u001b[39;00mfile\u001b[38;5;132;01m}\u001b[39;00m\u001b[38;5;124m by default \u001b[39m\u001b[38;5;124m\"\u001b[39m\n\u001b[1;32m    320\u001b[0m         \u001b[38;5;124m\"\u001b[39m\u001b[38;5;124mas it is likely to crash IPython. If you know what you are doing, \u001b[39m\u001b[38;5;124m\"\u001b[39m\n\u001b[1;32m    321\u001b[0m         \u001b[38;5;124m\"\u001b[39m\u001b[38;5;124myou can use builtins\u001b[39m\u001b[38;5;124m'\u001b[39m\u001b[38;5;124m open.\u001b[39m\u001b[38;5;124m\"\u001b[39m\n\u001b[1;32m    322\u001b[0m     )\n\u001b[0;32m--> 324\u001b[0m \u001b[38;5;28;01mreturn\u001b[39;00m \u001b[43mio_open\u001b[49m\u001b[43m(\u001b[49m\u001b[43mfile\u001b[49m\u001b[43m,\u001b[49m\u001b[43m \u001b[49m\u001b[38;5;241;43m*\u001b[39;49m\u001b[43margs\u001b[49m\u001b[43m,\u001b[49m\u001b[43m \u001b[49m\u001b[38;5;241;43m*\u001b[39;49m\u001b[38;5;241;43m*\u001b[39;49m\u001b[43mkwargs\u001b[49m\u001b[43m)\u001b[49m\n",
      "\u001b[0;31mFileNotFoundError\u001b[0m: [Errno 2] No such file or directory: 'nonexist.txt'"
     ]
    }
   ],
   "source": [
    "# read mode: FileNotFoundError\n",
    "file = open('nonexist.txt')\n",
    "file.close()"
   ]
  },
  {
   "cell_type": "code",
   "execution_count": 24,
   "id": "e3bc96d7-28b9-4631-ae0a-f37f32e2e072",
   "metadata": {},
   "outputs": [],
   "source": [
    "# w, a, r+ modes: the file is automatically created if it doesn’t exist\n",
    "file = open('nonexist.txt', 'a')\n",
    "file.close()"
   ]
  },
  {
   "cell_type": "markdown",
   "id": "4a9aa622-7195-42d0-bbe0-b088fc19300b",
   "metadata": {},
   "source": [
    "## Context Manager\n",
    "\n",
    "* Context managers automatically close files after operations, even if an error occurs."
   ]
  },
  {
   "cell_type": "code",
   "execution_count": 27,
   "id": "892bf514-0f0b-4f00-9748-fdb36704a02a",
   "metadata": {},
   "outputs": [
    {
     "ename": "AssertionError",
     "evalue": "",
     "output_type": "error",
     "traceback": [
      "\u001b[0;31m---------------------------------------------------------------------------\u001b[0m",
      "\u001b[0;31mAssertionError\u001b[0m                            Traceback (most recent call last)",
      "Cell \u001b[0;32mIn[27], line 5\u001b[0m\n\u001b[1;32m      3\u001b[0m file \u001b[38;5;241m=\u001b[39m \u001b[38;5;28mopen\u001b[39m(\u001b[38;5;124m'\u001b[39m\u001b[38;5;124merror.txt\u001b[39m\u001b[38;5;124m'\u001b[39m, \u001b[38;5;124m'\u001b[39m\u001b[38;5;124mw\u001b[39m\u001b[38;5;124m'\u001b[39m)\n\u001b[1;32m      4\u001b[0m file\u001b[38;5;241m.\u001b[39mwrite(\u001b[38;5;124m'\u001b[39m\u001b[38;5;124merror\u001b[39m\u001b[38;5;124m'\u001b[39m)\n\u001b[0;32m----> 5\u001b[0m \u001b[38;5;28;01massert\u001b[39;00m \u001b[38;5;241m1\u001b[39m \u001b[38;5;241m==\u001b[39m \u001b[38;5;241m2\u001b[39m\n\u001b[1;32m      6\u001b[0m file\u001b[38;5;241m.\u001b[39mclose()\n",
      "\u001b[0;31mAssertionError\u001b[0m: "
     ]
    }
   ],
   "source": [
    "# if code crushes before file is closed\n",
    "# what's been write can't be flushed from memory buffer to disk\n",
    "file = open('error.txt', 'w')\n",
    "file.write('error')\n",
    "assert 1 == 2\n",
    "file.close()"
   ]
  },
  {
   "cell_type": "code",
   "execution_count": 28,
   "id": "af030137-b13b-4146-bd05-2c51bf02aa8c",
   "metadata": {},
   "outputs": [],
   "source": [
    "file.close()"
   ]
  },
  {
   "cell_type": "code",
   "execution_count": 29,
   "id": "475419c0-f279-4188-8e8c-fd146391d72a",
   "metadata": {},
   "outputs": [
    {
     "ename": "AssertionError",
     "evalue": "",
     "output_type": "error",
     "traceback": [
      "\u001b[0;31m---------------------------------------------------------------------------\u001b[0m",
      "\u001b[0;31mAssertionError\u001b[0m                            Traceback (most recent call last)",
      "Cell \u001b[0;32mIn[29], line 4\u001b[0m\n\u001b[1;32m      1\u001b[0m \u001b[38;5;28;01mwith\u001b[39;00m \u001b[38;5;28mopen\u001b[39m(\u001b[38;5;124m'\u001b[39m\u001b[38;5;124merror.txt\u001b[39m\u001b[38;5;124m'\u001b[39m, \u001b[38;5;124m'\u001b[39m\u001b[38;5;124mw\u001b[39m\u001b[38;5;124m'\u001b[39m) \u001b[38;5;28;01mas\u001b[39;00m file: \n\u001b[1;32m      2\u001b[0m     \u001b[38;5;66;03m# enter the context manager \u001b[39;00m\n\u001b[1;32m      3\u001b[0m     file\u001b[38;5;241m.\u001b[39mwrite(\u001b[38;5;124m'\u001b[39m\u001b[38;5;124merror\u001b[39m\u001b[38;5;124m'\u001b[39m)\n\u001b[0;32m----> 4\u001b[0m     \u001b[38;5;28;01massert\u001b[39;00m \u001b[38;5;241m1\u001b[39m \u001b[38;5;241m==\u001b[39m \u001b[38;5;241m2\u001b[39m\n\u001b[1;32m      5\u001b[0m \u001b[38;5;66;03m# exit the context manager\u001b[39;00m\n\u001b[1;32m      6\u001b[0m \u001b[38;5;66;03m# file is closed automatically even if there's an error\u001b[39;00m\n",
      "\u001b[0;31mAssertionError\u001b[0m: "
     ]
    }
   ],
   "source": [
    "with open('error.txt', 'w') as file: \n",
    "    # enter the context manager \n",
    "    file.write('error')\n",
    "    assert 1 == 2\n",
    "# exit the context manager\n",
    "# file is closed automatically even if there's an error"
   ]
  },
  {
   "cell_type": "markdown",
   "id": "e0d00d7a-7724-4d5f-a681-e59214b6f93e",
   "metadata": {},
   "source": [
    "* Context managers (with statements) implicitly invoke two special methods\n",
    "    * `__enter__()`: Defines setup actions when entering the context.\n",
    "    * `__exit__()`: Defines cleanup actions when exiting the context."
   ]
  },
  {
   "cell_type": "code",
   "execution_count": 30,
   "id": "4e970719-318d-4a6e-ac73-ec65cdcdebdb",
   "metadata": {},
   "outputs": [],
   "source": [
    "class FileManager:\n",
    "    def __init__(self, filename, mode):\n",
    "        self.filename = filename\n",
    "        self.mode = mode\n",
    "\n",
    "    def __enter__(self):\n",
    "        self.file = open(self.filename, self.mode)\n",
    "        return self.file\n",
    "\n",
    "    def __exit__(self, exc_type, exc_value, traceback):\n",
    "        self.file.close()\n",
    "        return False  "
   ]
  },
  {
   "cell_type": "code",
   "execution_count": 31,
   "id": "493d3523-26b3-4846-99b6-f954be4d3163",
   "metadata": {},
   "outputs": [],
   "source": [
    "with FileManager(\"context.txt\", \"w\") as f: # invokes FileManager.__enter__()\n",
    "    f.write(\"Hello, World!\")\n",
    "# invokes FileManager.__exit__()"
   ]
  },
  {
   "cell_type": "code",
   "execution_count": null,
   "id": "a4d02df5-bc2f-4921-b223-f0bee7d93bf7",
   "metadata": {},
   "outputs": [],
   "source": []
  }
 ],
 "metadata": {
  "kernelspec": {
   "display_name": "Python 3 (ipykernel)",
   "language": "python",
   "name": "python3"
  },
  "language_info": {
   "codemirror_mode": {
    "name": "ipython",
    "version": 3
   },
   "file_extension": ".py",
   "mimetype": "text/x-python",
   "name": "python",
   "nbconvert_exporter": "python",
   "pygments_lexer": "ipython3",
   "version": "3.12.5"
  }
 },
 "nbformat": 4,
 "nbformat_minor": 5
}
