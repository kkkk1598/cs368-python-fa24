{
 "cells": [
  {
   "cell_type": "markdown",
   "id": "a2c06b77-4c31-4fc0-8600-95eee1cc370a",
   "metadata": {},
   "source": [
    "# Lecture 2"
   ]
  },
  {
   "cell_type": "markdown",
   "id": "629400c5-5079-4c06-a7f9-43fe70444b02",
   "metadata": {},
   "source": [
    "# Basic Data Types\n",
    "* Unlike Java, Python doesn't have primitive data types. \n",
    "* Instead, everything in Python is an `object` (equivalent of `Object` in Java). \n",
    "* It has three basic data types: \n",
    "    * `int` \n",
    "    * `float` \n",
    "    * `boolean` "
   ]
  },
  {
   "cell_type": "markdown",
   "id": "1d5daa34-2587-4b8b-b25f-7b897726a7b4",
   "metadata": {},
   "source": [
    "## `int` type"
   ]
  },
  {
   "cell_type": "code",
   "execution_count": null,
   "id": "842fc091-372a-421f-babd-22e668636c88",
   "metadata": {
    "tags": []
   },
   "outputs": [],
   "source": [
    "# Assign 1000 to a variable named x.\n",
    "x = 1000\n",
    "x"
   ]
  },
  {
   "cell_type": "markdown",
   "id": "b544daef-2e85-4031-85fb-bc5ac3d21a78",
   "metadata": {},
   "source": [
    "* Python is dynamically typed\n",
    "    * The interpreter automatically determines the type at runtime.  \n",
    "    * You don’t need to specify the type when assigning a variable."
   ]
  },
  {
   "cell_type": "code",
   "execution_count": null,
   "id": "305bf296-5444-4548-9073-889035f739c2",
   "metadata": {
    "tags": []
   },
   "outputs": [],
   "source": [
    "# Python automatically determines the type.\n",
    "???(x)"
   ]
  },
  {
   "cell_type": "code",
   "execution_count": null,
   "id": "65d4a998-a81b-4bcd-aad8-aae4dc70cf78",
   "metadata": {
    "tags": []
   },
   "outputs": [],
   "source": [
    "# You can use `_` to help write long ints.\n",
    "x = 100_000_000\n",
    "# This new assignment makes the variable x point to the new 100_000_000 object. \n",
    "# The old object 1000 will be automatically cleaned from memory by the garbage collector.\n",
    "x"
   ]
  },
  {
   "cell_type": "code",
   "execution_count": null,
   "id": "e8a48e5a-54be-4f5d-8a4e-9caf23de6e70",
   "metadata": {
    "tags": []
   },
   "outputs": [],
   "source": [
    "# But `_` cannot be the first character of a number.\n",
    "x = _100_100_100"
   ]
  },
  {
   "cell_type": "markdown",
   "id": "a3306cb4-2f85-4452-8728-a92b1e7c9dde",
   "metadata": {},
   "source": [
    "* Java's `byte`, `short`, `int`, and `long` types have a maximum number of bits to represent a number. \n",
    "* Python's `int` doesn't have a maximum; it can be arbitrarily large as long as memory permits."
   ]
  },
  {
   "cell_type": "markdown",
   "id": "d177dfdf-ee55-4031-b8ff-cf5170be9d2e",
   "metadata": {},
   "source": [
    "* `mro()` prints the method resolution (inheritance) order of a class. \n",
    "* `int` is a subclass of `object`."
   ]
  },
  {
   "cell_type": "code",
   "execution_count": null,
   "id": "bc34b19e-5163-4545-bab2-c4e015cb29b8",
   "metadata": {
    "tags": []
   },
   "outputs": [],
   "source": [
    "int.???()"
   ]
  },
  {
   "cell_type": "markdown",
   "id": "e3cb08f3-bdbb-467f-a3d5-2517d8a8126b",
   "metadata": {},
   "source": [
    "## `float` type"
   ]
  },
  {
   "cell_type": "code",
   "execution_count": null,
   "id": "b0f23454-3139-418f-aa67-a0dfd7686c63",
   "metadata": {
    "tags": []
   },
   "outputs": [],
   "source": [
    "# Assign 10.0 to a variable named y.\n",
    "y = 10.0\n",
    "y"
   ]
  },
  {
   "cell_type": "code",
   "execution_count": null,
   "id": "3ff50538-11cd-4c19-bace-86da85056df1",
   "metadata": {
    "tags": []
   },
   "outputs": [],
   "source": [
    "type(y)"
   ]
  },
  {
   "cell_type": "markdown",
   "id": "d47b34c2-86e4-4eb0-b8d2-38cc8c5f3bc4",
   "metadata": {},
   "source": [
    "* Again, Python automatically detects the type. \n",
    "* It uses the decimal dot `.` to distinguish between `int` vs `float`. \n",
    "    * 10 -> int\n",
    "    * 10.0 -> float"
   ]
  },
  {
   "cell_type": "code",
   "execution_count": null,
   "id": "eca1284e-81be-4ad8-909a-f830b782891c",
   "metadata": {
    "tags": []
   },
   "outputs": [],
   "source": [
    "# You can also use `_` to help write long floats.\n",
    "y = 123_456.654_321\n",
    "y"
   ]
  },
  {
   "cell_type": "markdown",
   "id": "d526dedd-2947-473f-a35a-bbc3c3825c27",
   "metadata": {},
   "source": [
    "* Unlike Python's `int`, which can be arbitrarily large, \n",
    "* Python's `float` uses 64 bits to represent, \n",
    "* equivalent to Java's `double`."
   ]
  },
  {
   "cell_type": "code",
   "execution_count": null,
   "id": "55e0daa9-4cf1-43be-bf15-a32e5b7478f6",
   "metadata": {
    "tags": []
   },
   "outputs": [],
   "source": [
    "# Again, float is a subclass of object. \n",
    "float.mro()"
   ]
  },
  {
   "cell_type": "markdown",
   "id": "420342c6-32b2-454b-a44a-6e8aafdc1b82",
   "metadata": {
    "tags": []
   },
   "source": [
    "## float binary representation\n",
    "Interger binary representation uses exponents of 2\n",
    "\n",
    "$10_{10} = 1\\times 2^3 + 0\\times2^2 + 1\\times2^1 + 0\\times2^0 = 1010_2$\n",
    "\n",
    "Float binary representation uses fractions of exponents of 2\n",
    "\n",
    "$\\frac{3}{8} = 0\\times\\frac{1}{2^1} + 1\\times\\frac{1}{2^2} + 1\\times\\frac{1}{2^3}$\n",
    "\n",
    "This is an exact representation, but what if \n",
    "\n",
    "$\\frac{1}{10} = \\frac{0}{2} + \\frac{0}{4} + \\frac{0}{8} + \\frac{1}{16} + \\frac{1}{32} + \\frac{0}{64} + \\frac{0}{128} + \\frac{1}{256} + \\frac{1}{512} + \\ldots$\n",
    "\n",
    "This is **NOT** an exact representation. "
   ]
  },
  {
   "cell_type": "code",
   "execution_count": null,
   "id": "d7c06b83-667b-4562-ad41-474665c92ea5",
   "metadata": {
    "tags": []
   },
   "outputs": [],
   "source": [
    "0.1 + 0.1 == 0.2"
   ]
  },
  {
   "cell_type": "code",
   "execution_count": null,
   "id": "7e62bd9c-1680-4234-88f4-763f873a65fa",
   "metadata": {
    "tags": []
   },
   "outputs": [],
   "source": [
    "0.1 + 0.1 + 0.1 == 0.3"
   ]
  },
  {
   "cell_type": "code",
   "execution_count": null,
   "id": "c03e0c16-2a0e-4dce-a99f-11252a106582",
   "metadata": {
    "tags": []
   },
   "outputs": [],
   "source": [
    "# It prints 0.1 because Python tries to make it look pretty, but it's actually...\n",
    "0.1"
   ]
  },
  {
   "cell_type": "code",
   "execution_count": null,
   "id": "77059951-5079-4947-9af0-7e1f4ca4a9e9",
   "metadata": {
    "tags": []
   },
   "outputs": [],
   "source": [
    "# Formats the float 0.1 to a string with 30 decimal places.\n",
    "???(0.1, ???)"
   ]
  },
  {
   "cell_type": "code",
   "execution_count": null,
   "id": "8e333b47-f61e-47db-88ff-8e87b107e7cf",
   "metadata": {
    "tags": []
   },
   "outputs": [],
   "source": [
    "format(0.1 + 0.1 + 0.1, '.30f')"
   ]
  },
  {
   "cell_type": "code",
   "execution_count": null,
   "id": "922bee3b-af71-4caa-8eab-57be4192784d",
   "metadata": {
    "tags": []
   },
   "outputs": [],
   "source": [
    "# Give a tolerance when comparing floating-point arithmetic.\n",
    "0.1 + 0.1 + 0.1  0.3\n",
    "# 1e-8 is 1 * 10^-8."
   ]
  },
  {
   "cell_type": "markdown",
   "id": "7f4cfdf9-58c8-43f8-8297-58640000c1c7",
   "metadata": {},
   "source": [
    "As Python are heavily used for data analysis, you need to be extra carefully with inexact float representation! "
   ]
  },
  {
   "cell_type": "markdown",
   "id": "de8af5b6-0789-40f9-a5a1-689f017f212b",
   "metadata": {},
   "source": [
    "## `bool` type"
   ]
  },
  {
   "cell_type": "code",
   "execution_count": null,
   "id": "201b8dd1-a5b7-408f-bd26-3971773cecd9",
   "metadata": {
    "tags": []
   },
   "outputs": [],
   "source": [
    "True "
   ]
  },
  {
   "cell_type": "code",
   "execution_count": null,
   "id": "fac7a278-0599-4f59-bca7-ab0766a7ba93",
   "metadata": {
    "tags": []
   },
   "outputs": [],
   "source": [
    "False"
   ]
  },
  {
   "cell_type": "code",
   "execution_count": null,
   "id": "4842d716-0ec5-4340-984b-26ea47b62a67",
   "metadata": {
    "tags": []
   },
   "outputs": [],
   "source": [
    "type(True)"
   ]
  },
  {
   "cell_type": "code",
   "execution_count": null,
   "id": "b850fac5-49b9-4c49-a59b-80bce854b9d8",
   "metadata": {
    "tags": []
   },
   "outputs": [],
   "source": [
    "bool.mro()"
   ]
  },
  {
   "cell_type": "code",
   "execution_count": null,
   "id": "a00f6fdf-c68f-40ef-8846-0c3ca49f9715",
   "metadata": {
    "tags": []
   },
   "outputs": [],
   "source": [
    "# True is int 1 and False is int 0\n",
    "print(???)\n",
    "print(???)"
   ]
  },
  {
   "cell_type": "code",
   "execution_count": null,
   "id": "c1e699c5-7195-4fcf-a095-151d6fff9831",
   "metadata": {
    "tags": []
   },
   "outputs": [],
   "source": [
    "False == 0"
   ]
  },
  {
   "cell_type": "code",
   "execution_count": null,
   "id": "c76c2775-78e7-4ffb-9c67-76880af1c5cf",
   "metadata": {
    "tags": []
   },
   "outputs": [],
   "source": [
    "True + True"
   ]
  },
  {
   "cell_type": "markdown",
   "id": "5afbc7cd-7470-40cb-908c-08c07df9e521",
   "metadata": {},
   "source": [
    "## Arithmatic Operators "
   ]
  },
  {
   "cell_type": "code",
   "execution_count": null,
   "id": "7193d457-f2db-4daa-8b12-6dcd84988efe",
   "metadata": {
    "tags": []
   },
   "outputs": [],
   "source": [
    "1 + 1"
   ]
  },
  {
   "cell_type": "code",
   "execution_count": null,
   "id": "31bb8e7f-58cb-413f-ae7f-6ffac0665b83",
   "metadata": {
    "tags": []
   },
   "outputs": [],
   "source": [
    "# returns a float\n",
    "1 + 1.0"
   ]
  },
  {
   "cell_type": "code",
   "execution_count": null,
   "id": "91620778-8857-42fa-a660-586089cfe9aa",
   "metadata": {
    "tags": []
   },
   "outputs": [],
   "source": [
    "1 * 1"
   ]
  },
  {
   "cell_type": "code",
   "execution_count": null,
   "id": "d95cd489-d262-4af1-ac55-a5fefb6f20dd",
   "metadata": {
    "tags": []
   },
   "outputs": [],
   "source": [
    "# returns a float\n",
    "# whenever there is a float, it returns a float \n",
    "1 * 1.0"
   ]
  },
  {
   "cell_type": "code",
   "execution_count": null,
   "id": "a60ca601-5917-4dee-9e7e-52855cd288c2",
   "metadata": {
    "tags": []
   },
   "outputs": [],
   "source": [
    "# returns a float! \n",
    "# Different from Java (5 / 2 returns 2)\n",
    "# You don't need to write 5 / 2.0 \n",
    "5 / 2"
   ]
  },
  {
   "cell_type": "code",
   "execution_count": null,
   "id": "34c8ec78-ab91-49e3-8f26-962ceb231a8c",
   "metadata": {
    "tags": []
   },
   "outputs": [],
   "source": [
    "# // is the floor division operator \n",
    "# returns the quotient of 5 divided by 2\n",
    "5 ? 2"
   ]
  },
  {
   "cell_type": "code",
   "execution_count": null,
   "id": "f819533a-1306-4455-865f-6551b8b1c969",
   "metadata": {
    "tags": []
   },
   "outputs": [],
   "source": [
    "# % is the remainder operator \n",
    "# returns the remainder of 5 divided by 2\n",
    "5 ? 2"
   ]
  },
  {
   "cell_type": "code",
   "execution_count": null,
   "id": "b52dbd47-b0ff-4503-8612-b3b61f2a951e",
   "metadata": {
    "tags": []
   },
   "outputs": [],
   "source": [
    "# ** is the exponentiation operator \n",
    "# returns 2 to the power of 3\n",
    "2 ? 3"
   ]
  },
  {
   "cell_type": "markdown",
   "id": "670f3858-85e4-47fa-8237-9517a7bfe480",
   "metadata": {},
   "source": [
    "* [operator precendence](https://docs.python.org/3/reference/expressions.html#operator-precedence)\n",
    "* you can always use parentheses to help you"
   ]
  },
  {
   "cell_type": "code",
   "execution_count": null,
   "id": "8a7fda6d-56eb-4cb8-963a-f8caac859698",
   "metadata": {
    "tags": []
   },
   "outputs": [],
   "source": [
    "1 + 2 * 3"
   ]
  },
  {
   "cell_type": "code",
   "execution_count": null,
   "id": "cad4e6c6-1caf-463c-b758-249f78c8b743",
   "metadata": {
    "tags": []
   },
   "outputs": [],
   "source": [
    "1 + (2 * 3)"
   ]
  },
  {
   "cell_type": "markdown",
   "id": "6b299344-47b3-49f9-a747-2283d2d9c7ef",
   "metadata": {},
   "source": [
    "## Comparison Operators"
   ]
  },
  {
   "cell_type": "markdown",
   "id": "dd32260a-8d94-4dd6-a9b0-c12eeff651f4",
   "metadata": {},
   "source": [
    "In Python, \n",
    "* `is` checks whether two variables refer to the same object in memory.\n",
    "* `==` compares the values of two objects to check if they are equal.\n",
    "\n",
    "In Java, \n",
    "* `==` compares\n",
    "    * the values of two primitive data types or \n",
    "    * the references of two objects to check if they point to the same memory location.\n",
    "* `equals()` compares the contents of two objects to check if they are logically equal."
   ]
  },
  {
   "cell_type": "code",
   "execution_count": null,
   "id": "2e44ab15-cecc-4a17-b20d-2c8f6d9c70fc",
   "metadata": {
    "tags": []
   },
   "outputs": [],
   "source": [
    "x = 10 \n",
    "y = x\n",
    "x ? y"
   ]
  },
  {
   "cell_type": "code",
   "execution_count": null,
   "id": "c1eeb139-3c4a-42c3-8155-ef94d390a59d",
   "metadata": {
    "tags": []
   },
   "outputs": [],
   "source": [
    "x = 10 \n",
    "y = 20 \n",
    "x ? y"
   ]
  },
  {
   "cell_type": "code",
   "execution_count": null,
   "id": "c6dc7a9e-817e-4055-b6ad-2ae909e937de",
   "metadata": {
    "tags": []
   },
   "outputs": [],
   "source": [
    "# `is not` is one operator \n",
    "x ? y"
   ]
  },
  {
   "cell_type": "code",
   "execution_count": null,
   "id": "13b98b66-6f65-4711-96af-bb94b5417a64",
   "metadata": {
    "tags": []
   },
   "outputs": [],
   "source": [
    "x = 257\n",
    "y = 257\n",
    "x ? y"
   ]
  },
  {
   "cell_type": "code",
   "execution_count": null,
   "id": "fe1b318c-767b-4626-9025-314f345ed067",
   "metadata": {
    "tags": []
   },
   "outputs": [],
   "source": [
    "x = 10 \n",
    "y = 10 \n",
    "x ? y"
   ]
  },
  {
   "cell_type": "markdown",
   "id": "30121277-58d6-4db5-8215-4a27c1242672",
   "metadata": {},
   "source": [
    "Why does the above returns True? \n",
    "\n",
    "Integers within the range of -5 to 256 are pre-created and reused to optimize memory usage.\n",
    "\n",
    "It is not safe to use `is` to compare the values of the objects!"
   ]
  },
  {
   "cell_type": "code",
   "execution_count": null,
   "id": "7b7ea97b-5fd9-436b-a1e0-31032df42181",
   "metadata": {
    "tags": []
   },
   "outputs": [],
   "source": [
    "x = 10\n",
    "y = 10\n",
    "x ? y"
   ]
  },
  {
   "cell_type": "code",
   "execution_count": null,
   "id": "2d4f2900-4931-4815-a0a9-f8b63cb14769",
   "metadata": {
    "tags": []
   },
   "outputs": [],
   "source": [
    "x = 10\n",
    "y = 20\n",
    "x ? y"
   ]
  },
  {
   "cell_type": "markdown",
   "id": "534d951e-1db8-42b8-b597-c64c000933d4",
   "metadata": {
    "tags": []
   },
   "source": [
    "Other comparison operators: !=, <, >, <=, >="
   ]
  },
  {
   "cell_type": "markdown",
   "id": "d49275a7-6967-4588-85ab-929acb183a9e",
   "metadata": {},
   "source": [
    "## Boolean Operators \n",
    "\n",
    "* and (Java's &&)\n",
    "* or (Java's ||)\n",
    "* not (Java's !)"
   ]
  },
  {
   "cell_type": "code",
   "execution_count": null,
   "id": "15cf6757-97b5-4cc4-ba65-7de7a1f925c6",
   "metadata": {
    "tags": []
   },
   "outputs": [],
   "source": [
    "True and False"
   ]
  },
  {
   "cell_type": "code",
   "execution_count": null,
   "id": "175fb58f-6fcd-487e-9449-8d7a249f9823",
   "metadata": {
    "tags": []
   },
   "outputs": [],
   "source": [
    "True or False"
   ]
  },
  {
   "cell_type": "code",
   "execution_count": null,
   "id": "4fa31a95-21e5-41a7-970a-9b8a117b9bab",
   "metadata": {
    "tags": []
   },
   "outputs": [],
   "source": [
    "not True"
   ]
  },
  {
   "cell_type": "markdown",
   "id": "3938eb29-a655-44ad-b216-6ef3eae00307",
   "metadata": {},
   "source": [
    "# If-elif-else Statements"
   ]
  },
  {
   "cell_type": "code",
   "execution_count": null,
   "id": "2b1f9356-2016-47ce-a9ca-0420695ae7a3",
   "metadata": {},
   "outputs": [],
   "source": [
    "subject = 'cs'\n",
    "course = 368\n",
    "# if else on the same level of indentation will be in pair \n",
    "if subject == 'cs':\n",
    "    if course == 368: \n",
    "        # use indentation to determine the scope \n",
    "        print('this is the course you are taking')\n",
    "        print('good luck')\n",
    "else: \n",
    "    print('not a cs course')"
   ]
  },
  {
   "cell_type": "code",
   "execution_count": null,
   "id": "767590e2-659e-41ce-9b5d-c65379d75ba7",
   "metadata": {},
   "outputs": [],
   "source": [
    "grade = 93\n",
    "if grade >= 90: \n",
    "    print('A')\n",
    "elif grade >= 80:\n",
    "    print('B')\n",
    "elif grade >= 70: \n",
    "    print('C')\n",
    "elif grade >= 60: \n",
    "    print('D')\n",
    "else: \n",
    "    print('F')"
   ]
  },
  {
   "cell_type": "code",
   "execution_count": null,
   "id": "9b488906-1a91-42b8-8c6e-b48bba2be2df",
   "metadata": {},
   "outputs": [],
   "source": []
  }
 ],
 "metadata": {
  "kernelspec": {
   "display_name": "Python 3 (ipykernel)",
   "language": "python",
   "name": "python3"
  },
  "language_info": {
   "codemirror_mode": {
    "name": "ipython",
    "version": 3
   },
   "file_extension": ".py",
   "mimetype": "text/x-python",
   "name": "python",
   "nbconvert_exporter": "python",
   "pygments_lexer": "ipython3",
   "version": "3.12.5"
  }
 },
 "nbformat": 4,
 "nbformat_minor": 5
}
