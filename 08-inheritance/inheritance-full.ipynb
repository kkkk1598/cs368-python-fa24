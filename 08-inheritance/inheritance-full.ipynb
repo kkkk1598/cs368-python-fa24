{
 "cells": [
  {
   "cell_type": "markdown",
   "id": "7d0b12f6-c39a-4213-9aaf-337c5c63c6de",
   "metadata": {},
   "source": [
    "# Lecture 8 Inheritance\n",
    "\n",
    "**Learning Objectives:**\n",
    "* Implement single, multi-level, and multiple inheritance\n",
    "* Apply the `super()` function to extend the behavior of the parent class\n",
    "* Understand method overriding, polymorphism, and method resolution order"
   ]
  },
  {
   "cell_type": "markdown",
   "id": "e30c56fe-1b2f-40db-a77a-ec5a64136138",
   "metadata": {},
   "source": [
    "* Basic Syntax: \n",
    "```python\n",
    "# Parent / Base / Super Class\n",
    "class Parent1: \n",
    "    pass\n",
    "    \n",
    "class Parent2: \n",
    "    pass\n",
    "\n",
    "# Child / Derived / Sub Class\n",
    "class Child(Parent1, Parent2, ...):\n",
    "    pass\n",
    "```"
   ]
  },
  {
   "cell_type": "markdown",
   "id": "f8806136-1dfd-4fc6-9706-dcd3830fceb2",
   "metadata": {},
   "source": [
    "## Polymorphism \n",
    "* objects of different classes can be treated as objects of a common superclass\n",
    "* different classes can define the same method but implement the method differently"
   ]
  },
  {
   "cell_type": "code",
   "execution_count": 1,
   "id": "95e79f16-049d-49e1-9d53-dd8cb3d14548",
   "metadata": {},
   "outputs": [],
   "source": [
    "class Animal: \n",
    "    def __init__(self, name, age=None):\n",
    "        self.name = name\n",
    "        self.age = age\n",
    "        \n",
    "    def __str__(self): \n",
    "        return f\"{type(self).__name__} (name: {self.name}, age: {self.age})\"\n",
    "        \n",
    "    def __repr__(self): \n",
    "        return f\"{type(self).__name__}(name='{self.name}', age={self.age})\"\n",
    "\n",
    "    # abstract-alike method\n",
    "    def speak(self): \n",
    "        raise NotImplementedError(\"Will be implemented in subclasses.\")\n",
    "\n",
    "class Cat(Animal): \n",
    "    def speak(self): \n",
    "        print(f\"{self.name}: meow!\")\n",
    "        \n",
    "class Dog(Animal): \n",
    "    def __init__(self, name, color, age=None): \n",
    "        # super() returns a proxy object that routes method calls to the appropriate* parent class\n",
    "        # print(super()) \n",
    "        super().__init__(name, age) # Animal.__init__(self, name, age)\n",
    "        self.color = color\n",
    "\n",
    "    # override __repr__ from Animal\n",
    "    def __repr__(self): \n",
    "        return f\"{type(self).__name__}(name='{self.name}', age={self.age}, color='{self.color}')\"\n",
    "\n",
    "    # override speak from Animal\n",
    "    def speak(self): \n",
    "        print(f\"{self.name}: bark!\")"
   ]
  },
  {
   "cell_type": "code",
   "execution_count": 2,
   "id": "dbde110a-5c33-4639-b536-5c8b3b3adf86",
   "metadata": {},
   "outputs": [
    {
     "data": {
      "text/plain": [
       "Cat(name='luna', age=1)"
      ]
     },
     "execution_count": 2,
     "metadata": {},
     "output_type": "execute_result"
    }
   ],
   "source": [
    "# Inherit everything (attributes & methods) from its parent class\n",
    "# inherit Animal __init__ \n",
    "luna = Cat(\"luna\", 1)\n",
    "# inherit Animal __repr__\n",
    "luna"
   ]
  },
  {
   "cell_type": "code",
   "execution_count": 3,
   "id": "8b6b9324-0283-4762-b0d2-42d52e808589",
   "metadata": {},
   "outputs": [
    {
     "name": "stdout",
     "output_type": "stream",
     "text": [
      "Cat (name: luna, age: 1)\n"
     ]
    }
   ],
   "source": [
    "# inherit Animal __str__\n",
    "print(luna)"
   ]
  },
  {
   "cell_type": "code",
   "execution_count": 4,
   "id": "89baab01-d41b-492f-abef-ef3a0e2c8e2a",
   "metadata": {},
   "outputs": [
    {
     "name": "stdout",
     "output_type": "stream",
     "text": [
      "luna: meow!\n"
     ]
    }
   ],
   "source": [
    "luna.speak()"
   ]
  },
  {
   "cell_type": "code",
   "execution_count": 5,
   "id": "f44e4202-e54f-47e6-b8ca-b30de9feb161",
   "metadata": {},
   "outputs": [
    {
     "data": {
      "text/plain": [
       "Dog(name='fido', age=10, color='white')"
      ]
     },
     "execution_count": 5,
     "metadata": {},
     "output_type": "execute_result"
    }
   ],
   "source": [
    "fido = Dog(\"fido\", \"white\", 10)\n",
    "fido"
   ]
  },
  {
   "cell_type": "code",
   "execution_count": 6,
   "id": "0fdd1a37-74b6-4fba-bfdf-2923760a98bf",
   "metadata": {},
   "outputs": [
    {
     "name": "stdout",
     "output_type": "stream",
     "text": [
      "fido: bark!\n"
     ]
    }
   ],
   "source": [
    "fido.speak()"
   ]
  },
  {
   "cell_type": "code",
   "execution_count": 7,
   "id": "3557a781-62f9-40a4-ab23-13fb55496e98",
   "metadata": {},
   "outputs": [
    {
     "name": "stdout",
     "output_type": "stream",
     "text": [
      "luna: meow!\n",
      "fido: bark!\n"
     ]
    }
   ],
   "source": [
    "animals = [luna, fido]\n",
    "for animal in animals: \n",
    "    animal.speak()"
   ]
  },
  {
   "cell_type": "markdown",
   "id": "2687915b-1436-4a9f-9404-c60a41705687",
   "metadata": {},
   "source": [
    "### `isinstance()` vs. `type()`"
   ]
  },
  {
   "cell_type": "code",
   "execution_count": 8,
   "id": "90967d63-912d-4696-86c5-6c614d09835a",
   "metadata": {},
   "outputs": [
    {
     "data": {
      "text/plain": [
       "True"
      ]
     },
     "execution_count": 8,
     "metadata": {},
     "output_type": "execute_result"
    }
   ],
   "source": [
    "# return True if object is an instance of a class or any of its subclasses\n",
    "# does consider inheritance \n",
    "isinstance(fido, Animal)"
   ]
  },
  {
   "cell_type": "code",
   "execution_count": 9,
   "id": "5ee6195b-cca4-4174-bd71-e50493120384",
   "metadata": {},
   "outputs": [
    {
     "data": {
      "text/plain": [
       "False"
      ]
     },
     "execution_count": 9,
     "metadata": {},
     "output_type": "execute_result"
    }
   ],
   "source": [
    "# type() returns the exact type of the object\n",
    "# does NOT consider inheritance \n",
    "type(fido) == Animal"
   ]
  },
  {
   "cell_type": "markdown",
   "id": "ca609853-33ee-4c26-a3b7-d27c27f52174",
   "metadata": {},
   "source": [
    "## Multi-level Inheritance"
   ]
  },
  {
   "cell_type": "code",
   "execution_count": 10,
   "id": "dab72ff0-6230-467b-877a-bcdbb912b5a2",
   "metadata": {},
   "outputs": [],
   "source": [
    "class Vehicle:\n",
    "    def __init__(self, brand):\n",
    "        self.brand = brand\n",
    "\n",
    "    def drive(self):\n",
    "        return f\"{self.brand} is moving.\" # A\n",
    "\n",
    "class Car(Vehicle):\n",
    "    def __init__(self, brand, fuel_type):\n",
    "        super().__init__(brand) \n",
    "        self.fuel_type = fuel_type\n",
    "\n",
    "    def drive(self):\n",
    "        parent_message = super().drive() \n",
    "        return f\"{parent_message} The {self.brand} runs on {self.fuel_type}.\" # B\n",
    "\n",
    "class ElectricCar(Car):\n",
    "    def __init__(self, brand, battery_capacity):\n",
    "        super().__init__(brand, fuel_type=\"Electric\") \n",
    "        self.battery_capacity = battery_capacity\n",
    "\n",
    "    def drive(self):\n",
    "        parent_message = super().drive()\n",
    "        return f\"{parent_message} It has a {self.battery_capacity} kWh battery.\" # C"
   ]
  },
  {
   "cell_type": "code",
   "execution_count": 11,
   "id": "74887919-5154-461d-8f01-b4068519c9a3",
   "metadata": {},
   "outputs": [
    {
     "data": {
      "text/plain": [
       "'Tesla is moving. The Tesla runs on Electric. It has a 100 kWh battery.'"
      ]
     },
     "execution_count": 11,
     "metadata": {},
     "output_type": "execute_result"
    }
   ],
   "source": [
    "electric_car = ElectricCar(\"Tesla\", 100)\n",
    "electric_car.drive()"
   ]
  },
  {
   "cell_type": "code",
   "execution_count": 12,
   "id": "7fe09bfe-2e74-4861-a6d1-c2a68d793c22",
   "metadata": {},
   "outputs": [
    {
     "data": {
      "text/plain": [
       "'Tesla is moving. The Tesla runs on Electric. It has a 100 kWh battery.'"
      ]
     },
     "execution_count": 12,
     "metadata": {},
     "output_type": "execute_result"
    }
   ],
   "source": [
    "# What if ElectricCar doesn't have the drive method? \n",
    "electric_car = ElectricCar(\"Tesla\", 100)\n",
    "electric_car.drive()"
   ]
  },
  {
   "cell_type": "code",
   "execution_count": 13,
   "id": "428a1128-0262-4bd6-940a-fc39e8789ac0",
   "metadata": {},
   "outputs": [
    {
     "data": {
      "text/plain": [
       "'Tesla is moving. The Tesla runs on Electric. It has a 100 kWh battery.'"
      ]
     },
     "execution_count": 13,
     "metadata": {},
     "output_type": "execute_result"
    }
   ],
   "source": [
    "# What if Car doesn't have the drive method? \n",
    "electric_car = ElectricCar(\"Tesla\", 100)\n",
    "electric_car.drive()"
   ]
  },
  {
   "cell_type": "code",
   "execution_count": 14,
   "id": "a38344c8-4491-4358-ae25-bd6834371aca",
   "metadata": {},
   "outputs": [
    {
     "data": {
      "text/plain": [
       "'Tesla is moving. The Tesla runs on Electric. It has a 100 kWh battery.'"
      ]
     },
     "execution_count": 14,
     "metadata": {},
     "output_type": "execute_result"
    }
   ],
   "source": [
    "# What if Vehicle doesn't have the drive method? \n",
    "electric_car = ElectricCar(\"Tesla\", 100)\n",
    "electric_car.drive()"
   ]
  },
  {
   "cell_type": "code",
   "execution_count": 15,
   "id": "2293554b-0904-45a4-8050-69f67d40f689",
   "metadata": {},
   "outputs": [
    {
     "data": {
      "text/plain": [
       "'Tesla is moving. The Tesla runs on Electric. It has a 100 kWh battery.'"
      ]
     },
     "execution_count": 15,
     "metadata": {},
     "output_type": "execute_result"
    }
   ],
   "source": [
    "# What if Vehicle and Car both don't have the drive method? \n",
    "electric_car = ElectricCar(\"Tesla\", 100)\n",
    "electric_car.drive()"
   ]
  },
  {
   "cell_type": "markdown",
   "id": "532057df-0ab3-4934-95b2-589be9fbaf65",
   "metadata": {},
   "source": [
    "### What determines the search order when a method is invoked?\n",
    "* Method resolution order: `<class>.mro()` or `<class>.__mro__`\n",
    "* Invoke the first appearance of the method along the MRO\n",
    "* super() also follows the MRO when routes method calls to parent class"
   ]
  },
  {
   "cell_type": "code",
   "execution_count": 16,
   "id": "a15dc1b2-a35a-47e0-b3e0-98c99e20e287",
   "metadata": {},
   "outputs": [
    {
     "data": {
      "text/plain": [
       "[__main__.ElectricCar, __main__.Car, __main__.Vehicle, object]"
      ]
     },
     "execution_count": 16,
     "metadata": {},
     "output_type": "execute_result"
    }
   ],
   "source": [
    "ElectricCar.mro()"
   ]
  },
  {
   "cell_type": "markdown",
   "id": "78138dda-6924-4158-8654-ad9c68d4169b",
   "metadata": {},
   "source": [
    "## Multiple Inheritance\n",
    "* It's possible to have multiple parents in Python\n",
    "* **NOT** possible in Java: you can only have one parent, but you can have multiple interface"
   ]
  },
  {
   "cell_type": "code",
   "execution_count": 17,
   "id": "389d503c-8ca7-468b-8c99-0478522f4a22",
   "metadata": {},
   "outputs": [],
   "source": [
    "class Animal: \n",
    "    def __init__(self, name, age=None):\n",
    "        self.name = name\n",
    "        self.age = age\n",
    "        \n",
    "    def __str__(self): \n",
    "        return f\"{type(self).__name__} (name: {self.name}, age: {self.age})\"\n",
    "        \n",
    "    def __repr__(self): \n",
    "        return f\"{type(self).__name__}(name='{self.name}', age={self.age})\"\n",
    "\n",
    "    def speak(self): \n",
    "        raise NotImplementedError(\"Will be implemented in subclasses.\")\n",
    "\n",
    "class Pet: \n",
    "    def __init__(self, owner):\n",
    "        self.owner = owner\n",
    "\n",
    "    def speak(self):\n",
    "        return f\"This pet belongs to {self.owner}.\"\n",
    "\n",
    "class Dog(Animal, Pet): \n",
    "    def __init__(self, name, color, owner, age=None): \n",
    "        super().__init__(name, age)\n",
    "        Pet.__init__(self, owner)\n",
    "        self.color = color\n",
    "\n",
    "    def __repr__(self): \n",
    "        return f\"{type(self).__name__}(name='{self.name}', age={self.age}, color='{self.color}')\"\n",
    "\n",
    "    def speak(self): \n",
    "        print(f\"{self.name}: bark! {Pet.speak(self)}\")"
   ]
  },
  {
   "cell_type": "code",
   "execution_count": 18,
   "id": "b450a09d-f214-4a2d-9519-35d601acb04c",
   "metadata": {},
   "outputs": [
    {
     "data": {
      "text/plain": [
       "Dog(name='fido', age=10, color='white')"
      ]
     },
     "execution_count": 18,
     "metadata": {},
     "output_type": "execute_result"
    }
   ],
   "source": [
    "fido = Dog(\"fido\", \"white\", \"Alice\", 10)\n",
    "fido"
   ]
  },
  {
   "cell_type": "code",
   "execution_count": 19,
   "id": "93a398dc-bde5-4b9e-9056-a28138b3dec1",
   "metadata": {},
   "outputs": [
    {
     "name": "stdout",
     "output_type": "stream",
     "text": [
      "fido: bark! This pet belongs to Alice.\n"
     ]
    }
   ],
   "source": [
    "fido.speak()"
   ]
  },
  {
   "cell_type": "code",
   "execution_count": 20,
   "id": "062aa93f-f359-464e-b45a-f073842ad323",
   "metadata": {},
   "outputs": [
    {
     "data": {
      "text/plain": [
       "[__main__.Dog, __main__.Animal, __main__.Pet, object]"
      ]
     },
     "execution_count": 20,
     "metadata": {},
     "output_type": "execute_result"
    }
   ],
   "source": [
    "# Again, super() follows MRO\n",
    "Dog.mro()"
   ]
  },
  {
   "cell_type": "markdown",
   "id": "36458495-5166-46db-9361-510dc41e348a",
   "metadata": {},
   "source": [
    "### The Diamond Problem\n",
    "<img src=\"diamond_problem.png\" width=\"150\">\n",
    "\n",
    "If B, C, D both have the same method, which one is D overriding, B or C? \n",
    "* MRO will tell you!\n",
    "\n",
    "MRO is determined using C3 Linearization algorithm (you don't need to know)\n",
    "* Generally, left to right, bottom to top"
   ]
  },
  {
   "cell_type": "code",
   "execution_count": 21,
   "id": "fc06bd2a-23e6-4644-8c0c-4aad69feac24",
   "metadata": {},
   "outputs": [
    {
     "name": "stdout",
     "output_type": "stream",
     "text": [
      "Hello from D\n",
      "Hello from B\n",
      "Hello from C\n",
      "Hello from A\n"
     ]
    }
   ],
   "source": [
    "class A:\n",
    "    def say_hello(self):\n",
    "        print(\"Hello from A\")\n",
    "\n",
    "class B(A):\n",
    "    def say_hello(self):\n",
    "        print(\"Hello from B\")\n",
    "        super().say_hello()\n",
    "\n",
    "class C(A):\n",
    "    def say_hello(self):\n",
    "        print(\"Hello from C\")\n",
    "        super().say_hello()\n",
    "\n",
    "class D(B, C):\n",
    "    def say_hello(self):\n",
    "        print(\"Hello from D\")\n",
    "        super().say_hello()\n",
    "\n",
    "d = D()\n",
    "d.say_hello() "
   ]
  },
  {
   "cell_type": "code",
   "execution_count": 22,
   "id": "380fbe14-4a9e-455b-b62e-9b3ac7e4fff8",
   "metadata": {},
   "outputs": [
    {
     "data": {
      "text/plain": [
       "[__main__.D, __main__.B, __main__.C, __main__.A, object]"
      ]
     },
     "execution_count": 22,
     "metadata": {},
     "output_type": "execute_result"
    }
   ],
   "source": [
    "D.mro()"
   ]
  },
  {
   "cell_type": "code",
   "execution_count": null,
   "id": "24d766e2-ee79-41f3-aeb6-7718cb1b8b77",
   "metadata": {},
   "outputs": [],
   "source": []
  }
 ],
 "metadata": {
  "kernelspec": {
   "display_name": "Python 3 (ipykernel)",
   "language": "python",
   "name": "python3"
  },
  "language_info": {
   "codemirror_mode": {
    "name": "ipython",
    "version": 3
   },
   "file_extension": ".py",
   "mimetype": "text/x-python",
   "name": "python",
   "nbconvert_exporter": "python",
   "pygments_lexer": "ipython3",
   "version": "3.12.5"
  }
 },
 "nbformat": 4,
 "nbformat_minor": 5
}
