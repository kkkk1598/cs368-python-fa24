{
 "cells": [
  {
   "cell_type": "markdown",
   "id": "b57a7431-a1b1-4be1-93de-3a7e13da6089",
   "metadata": {},
   "source": [
    "# Lecture 5 Iteration\n",
    "Objectives: \n",
    "1. `iterable` objects vs. `iterator` objects\n",
    "2. `range` objects\n",
    "3. `enumerate` objects\n",
    "4. `for` loops with `range`\n",
    "5. `for` loops with `enumerate`\n",
    "6. `continue`, `break`\n",
    "7. `while` loops\n",
    "8. Comprehension"
   ]
  },
  {
   "cell_type": "markdown",
   "id": "75c03025-6b2a-4af3-829d-d2ab4a9a9868",
   "metadata": {},
   "source": [
    "# Iteration"
   ]
  },
  {
   "cell_type": "markdown",
   "id": "efc66031-be8f-4258-a5c3-51408098cca7",
   "metadata": {},
   "source": [
    "## `iterable` objects\n",
    "* have the `iter()` method that returns an iterator object \n",
    "* can be iterated over **multiple** times by creating a new `iterator` each time\n",
    "* examples:\n",
    "    * sequence: lists, tuples, strings, ranges\n",
    "    * non-sequence collections: sets, dictionaries\n",
    "\n",
    "## `iterator` objects\n",
    "* have the `next()` method that returns one item at a time on demand\n",
    "* can be iterated over only once (stateful)\n",
    "* examples:\n",
    "    * iterators created by iterable objects, file objects, generators"
   ]
  },
  {
   "cell_type": "markdown",
   "id": "054be82c-7352-4e79-a62d-fa9310766687",
   "metadata": {},
   "source": [
    "## `for` loops\n",
    "### `for` loop that iterates over a sequence object"
   ]
  },
  {
   "cell_type": "code",
   "execution_count": null,
   "id": "30815252-1fd3-4699-96a9-f43d97df414e",
   "metadata": {},
   "outputs": [],
   "source": [
    "for i in [1, 2, 3]: # Python internally runs iter([1, 2, 3])\n",
    "    print(i ** 2) # this line is inside the for loop because it is indented \n",
    "print('done')"
   ]
  },
  {
   "cell_type": "code",
   "execution_count": null,
   "id": "aa95c153-909e-40fa-8874-ec65edde15be",
   "metadata": {},
   "outputs": [],
   "source": [
    "# iter(iterable) returns an iterator for the iterable\n",
    "x = [1, 2, 3]\n",
    "x_iter = iter(x)\n",
    "x_iter"
   ]
  },
  {
   "cell_type": "code",
   "execution_count": null,
   "id": "24ce4876-dc65-4d99-a14e-8f4367cf7e6b",
   "metadata": {},
   "outputs": [],
   "source": [
    "# next() returns the next element to be iterated \n",
    "next(x_iter)"
   ]
  },
  {
   "cell_type": "code",
   "execution_count": null,
   "id": "11f39596-4b3d-471f-aa9f-aacc927abfb8",
   "metadata": {},
   "outputs": [],
   "source": [
    "next(x_iter)"
   ]
  },
  {
   "cell_type": "code",
   "execution_count": null,
   "id": "01be6446-2159-4a38-9f88-88af26ddf9ec",
   "metadata": {},
   "outputs": [],
   "source": [
    "next(x_iter)"
   ]
  },
  {
   "cell_type": "code",
   "execution_count": null,
   "id": "c0daa5d6-e4d8-4279-b758-2b12ea56595d",
   "metadata": {},
   "outputs": [],
   "source": [
    "# until it hits the StopIteration\n",
    "next(x_iter)"
   ]
  },
  {
   "cell_type": "code",
   "execution_count": null,
   "id": "820941a4-debe-4993-bf7a-d2c28f70382f",
   "metadata": {},
   "outputs": [],
   "source": [
    "# an iterator can only be iterated through once!\n",
    "next(x_iter)"
   ]
  },
  {
   "cell_type": "code",
   "execution_count": null,
   "id": "c1a49364-43c9-487d-8fdd-f650013f9c32",
   "metadata": {},
   "outputs": [],
   "source": [
    "# there's no next() for an iterable\n",
    "next(x)"
   ]
  },
  {
   "cell_type": "code",
   "execution_count": null,
   "id": "c973b5fe-f609-49fc-ba93-4a8cb0ecf557",
   "metadata": {},
   "outputs": [],
   "source": [
    "for i in (1, 2, 3): \n",
    "    print(i ** 2) \n",
    "print('done')"
   ]
  },
  {
   "cell_type": "code",
   "execution_count": null,
   "id": "a7e6d89b-d164-4f38-84dc-ca4f26f4fe1c",
   "metadata": {},
   "outputs": [],
   "source": [
    "for i in 'abc': \n",
    "    print(i + i) \n",
    "print('done')"
   ]
  },
  {
   "cell_type": "markdown",
   "id": "11b44322-3687-48df-8004-159d355de187",
   "metadata": {},
   "source": [
    "### `range` objects\n",
    "* `range()` function returns a `range` object\n",
    "    * a sequence of numbers\n",
    "    * an immutable sequence object => an iterable object\n",
    "        * supports length, indexing, slicing, iteration\n",
    "    * only generates one number at a time\n",
    "        * memory efficient for large ranges\n",
    "     \n",
    "* syntax: `range(start, stop, step)`\n",
    "    * `start` (optional): the starting number of the sequence (default is 0).\n",
    "    * `stop` (required): the ending number of the sequence (**exclusive**).\n",
    "    * `step` (optional): the difference between each number in the sequence (default is 1)."
   ]
  },
  {
   "cell_type": "code",
   "execution_count": null,
   "id": "4fa7c211-9bb4-4e58-99b1-a20b82ffb556",
   "metadata": {},
   "outputs": [],
   "source": [
    "r = range(10)\n",
    "r"
   ]
  },
  {
   "cell_type": "code",
   "execution_count": null,
   "id": "8a7074a8-0e0d-4a7e-bfec-626b34c03ed6",
   "metadata": {},
   "outputs": [],
   "source": [
    "# returns a range object\n",
    "type(r)"
   ]
  },
  {
   "cell_type": "code",
   "execution_count": null,
   "id": "a2af8205-1bdf-4243-a856-610c1c2e8a56",
   "metadata": {},
   "outputs": [],
   "source": [
    "range.mro()"
   ]
  },
  {
   "cell_type": "code",
   "execution_count": null,
   "id": "c2aeb85d-1976-4641-8d2f-3eb0ceb95136",
   "metadata": {},
   "outputs": [],
   "source": [
    "# range is an immutable sequence object\n",
    "# it also supports the four accessing methods\n",
    "len(r)"
   ]
  },
  {
   "cell_type": "code",
   "execution_count": null,
   "id": "ee082c8b-684b-4929-9c08-65d89ee87eda",
   "metadata": {},
   "outputs": [],
   "source": [
    "r[2]"
   ]
  },
  {
   "cell_type": "code",
   "execution_count": null,
   "id": "b1415f6d-0f6f-484f-a555-d003b800851a",
   "metadata": {},
   "outputs": [],
   "source": [
    "r[2:5:3]"
   ]
  },
  {
   "cell_type": "code",
   "execution_count": null,
   "id": "ac0d574f-7400-4be1-90c1-473beb4b7330",
   "metadata": {},
   "outputs": [],
   "source": [
    "# range objects generate only one number at a time\n",
    "for i in r: # internally runs iter(r)\n",
    "    print(i)"
   ]
  },
  {
   "cell_type": "code",
   "execution_count": null,
   "id": "ed301a5b-f99d-4a62-b4ae-6a26f27f626f",
   "metadata": {},
   "outputs": [],
   "source": [
    "# use `list()` or `tuple()` to show all numbers\n",
    "list(range(3))"
   ]
  },
  {
   "cell_type": "code",
   "execution_count": null,
   "id": "5b5ef98f-90ca-48a4-be6d-2d035c16601c",
   "metadata": {},
   "outputs": [],
   "source": [
    "list(range(2, 6))"
   ]
  },
  {
   "cell_type": "code",
   "execution_count": null,
   "id": "366b3963-4af9-4d19-9cf0-5f46d7c69328",
   "metadata": {},
   "outputs": [],
   "source": [
    "list(range(3, 10, 3))"
   ]
  },
  {
   "cell_type": "markdown",
   "id": "2e419e4a-7ec2-4307-b1fc-8f9033971bdd",
   "metadata": {},
   "source": [
    "### `for` loops with `range()`"
   ]
  },
  {
   "cell_type": "code",
   "execution_count": null,
   "id": "cb7ce5e0-9671-4fd2-8c54-cb2765d7d6f9",
   "metadata": {},
   "outputs": [],
   "source": [
    "# the following is not common in Python\n",
    "x = [0, 1, 2, 3, 4, 5]\n",
    "for i in range(len(x)):\n",
    "    print(x[i])"
   ]
  },
  {
   "cell_type": "code",
   "execution_count": null,
   "id": "2f8823d2-52a1-4511-a987-9a32018ac642",
   "metadata": {},
   "outputs": [],
   "source": [
    "# print a multi table with nested for loops \n",
    "def multiplication_table(n):\n",
    "    pass\n",
    "multiplication_table(10)"
   ]
  },
  {
   "cell_type": "markdown",
   "id": "4bbcd686-8933-408c-aa4c-c99f7b09be9b",
   "metadata": {},
   "source": [
    "### `enumerate()` function\n",
    "* takes an `iterable` object\n",
    "* returns an `enumerate` object\n",
    "    * an `iterator` object\n",
    "    * generates a tuples in the form of `(index, element)` lazily\n",
    "* more efficient and readable version of `range(len(iterable))`"
   ]
  },
  {
   "cell_type": "code",
   "execution_count": null,
   "id": "e242f4ee-bc48-4359-9860-84c3c8d0b0fe",
   "metadata": {},
   "outputs": [],
   "source": [
    "enumerate([1, 2, 3])"
   ]
  },
  {
   "cell_type": "code",
   "execution_count": null,
   "id": "dab9e505-a065-4953-9180-4aba315de7a5",
   "metadata": {},
   "outputs": [],
   "source": [
    "enumerate.mro()"
   ]
  },
  {
   "cell_type": "code",
   "execution_count": null,
   "id": "8c36303a-effc-4a17-8453-53eb38013eb0",
   "metadata": {},
   "outputs": [],
   "source": [
    "# enumerate objects generate elements lazily one at a time\n",
    "# use list() to show all elements\n",
    "list(enumerate('ABC'))"
   ]
  },
  {
   "cell_type": "code",
   "execution_count": null,
   "id": "c46d8b05-b21b-4a86-909c-c24368929364",
   "metadata": {},
   "outputs": [],
   "source": [
    "iterable = 'ABC'\n",
    "# here idx, element is upacking the tuple generated by the enumerate object\n",
    "for idx, element in enumerate(iterable): \n",
    "    print(idx, element)"
   ]
  },
  {
   "cell_type": "markdown",
   "id": "dc709814-fd34-4d24-ac01-824fec837e18",
   "metadata": {},
   "source": [
    "### `continue`, `break`"
   ]
  },
  {
   "cell_type": "code",
   "execution_count": null,
   "id": "dc12e7c9-87c5-4245-8483-ccba84f3c706",
   "metadata": {},
   "outputs": [],
   "source": [
    "for i in range(0, 10): \n",
    "    if i % 2 == 0: \n",
    "        continue # skips the current iteration and continues with the next iteration\n",
    "    print(i)"
   ]
  },
  {
   "cell_type": "code",
   "execution_count": null,
   "id": "0827c9b3-c9ee-4767-91d3-9edc3b3d37ad",
   "metadata": {},
   "outputs": [],
   "source": [
    "for i in range(0, 10): \n",
    "    if i >= 5: \n",
    "        break # exits the loop entirely, immediately ending the loop’s execution\n",
    "    print(i)"
   ]
  },
  {
   "cell_type": "markdown",
   "id": "02efa1fb-522d-46d5-a6a6-9f4dfee25827",
   "metadata": {},
   "source": [
    "### `for-else`"
   ]
  },
  {
   "cell_type": "code",
   "execution_count": null,
   "id": "833398b4-aaed-452f-b755-0182436a9271",
   "metadata": {},
   "outputs": [],
   "source": [
    "for i in range(5):\n",
    "    if i == 3:\n",
    "        break\n",
    "else:\n",
    "    print(\"Loop completed without break\")"
   ]
  },
  {
   "cell_type": "markdown",
   "id": "a2306e3d-0409-4741-955a-7a330e0284b4",
   "metadata": {},
   "source": [
    "## `while` loops\n",
    "syntax: \n",
    "```python\n",
    "while bool_exp: \n",
    "    ...\n",
    "```"
   ]
  },
  {
   "cell_type": "code",
   "execution_count": null,
   "id": "bc9cfa8d-12a6-42c9-be60-9adc3a5237b8",
   "metadata": {},
   "outputs": [],
   "source": [
    "i = 10\n",
    "while i < 15: \n",
    "    print(i)\n",
    "    i += 1"
   ]
  },
  {
   "cell_type": "code",
   "execution_count": null,
   "id": "02dfb162-06b4-45d4-bb96-57e1460441ef",
   "metadata": {},
   "outputs": [],
   "source": [
    "i = 10\n",
    "while i < 15: \n",
    "    if i % 2 == 0: \n",
    "        i += 1\n",
    "        continue\n",
    "    print(i)\n",
    "    i += 1"
   ]
  },
  {
   "cell_type": "code",
   "execution_count": null,
   "id": "70636746-af5e-491c-a38e-49a037325e1a",
   "metadata": {},
   "outputs": [],
   "source": [
    "i = 10\n",
    "while i < 15: \n",
    "    if i % 3 == 0: \n",
    "        break\n",
    "    print(i)\n",
    "    i += 1"
   ]
  },
  {
   "cell_type": "code",
   "execution_count": null,
   "id": "d960ca23-ab3c-441c-9da2-91c1140f2dff",
   "metadata": {},
   "outputs": [],
   "source": [
    "i = 10\n",
    "while i < 15: \n",
    "    print(i)\n",
    "    i += 1\n",
    "else: \n",
    "    print(\"Loop completed without break\")"
   ]
  },
  {
   "cell_type": "markdown",
   "id": "487c7c9f-ab62-4cc8-a40b-eaf18e6d4371",
   "metadata": {},
   "source": [
    "# Comprehension \n",
    "A concise way to create lists by applying an expression to each item in an iterable.\n",
    "\n",
    "Syntax: \n",
    "```python\n",
    "[expression for item in iterable]\n",
    "```\n",
    "```python\n",
    "[expression for item in iterable if condition]\n",
    "```"
   ]
  },
  {
   "cell_type": "code",
   "execution_count": null,
   "id": "f276d07f-62fb-4b92-927b-b0e723690531",
   "metadata": {},
   "outputs": [],
   "source": [
    "x = range(10)"
   ]
  },
  {
   "cell_type": "code",
   "execution_count": null,
   "id": "924ff52e-9318-4d5a-82f9-de952c518b33",
   "metadata": {},
   "outputs": [],
   "source": [
    "x_sqrt = []\n",
    "for i in x:\n",
    "    x_sqrt.append(i ** 2)\n",
    "x_sqrt"
   ]
  },
  {
   "cell_type": "code",
   "execution_count": null,
   "id": "11095b42-5d6a-4808-a8a6-9cd249fd3df8",
   "metadata": {},
   "outputs": [],
   "source": [
    "# list comprehension\n",
    "x_sqrt = ???\n",
    "x_sqrt"
   ]
  },
  {
   "cell_type": "code",
   "execution_count": null,
   "id": "50873b07-346a-4281-bce0-3c7dd5f36fad",
   "metadata": {},
   "outputs": [],
   "source": [
    "# tuple comprehension\n",
    "tuple([i ** 2 for i in (1, 2, 3)])"
   ]
  },
  {
   "cell_type": "code",
   "execution_count": null,
   "id": "89f5b227-0d0d-440c-bc2e-fdb6a539eb0b",
   "metadata": {},
   "outputs": [],
   "source": [
    "# or in short\n",
    "tuple(i ** 2 for i in (1, 2, 3))"
   ]
  },
  {
   "cell_type": "code",
   "execution_count": null,
   "id": "2e2776a7-670f-4201-a3c9-5ac6f5ee4710",
   "metadata": {},
   "outputs": [],
   "source": [
    "[char.upper() for char in 'abc']"
   ]
  },
  {
   "cell_type": "code",
   "execution_count": null,
   "id": "6ba27f32-01cb-4508-b1bd-287709a6237a",
   "metadata": {},
   "outputs": [],
   "source": [
    "x_even_sqrt = []\n",
    "for i in x:\n",
    "    if i % 2 == 0: \n",
    "        x_even_sqrt.append(i ** 2)\n",
    "x_even_sqrt"
   ]
  },
  {
   "cell_type": "code",
   "execution_count": null,
   "id": "c440e73d-e510-4c39-a89f-e4ae71e8b2d1",
   "metadata": {},
   "outputs": [],
   "source": [
    "x_even_sqrt = ???\n",
    "x_even_sqrt"
   ]
  },
  {
   "cell_type": "code",
   "execution_count": null,
   "id": "aa8385c0-3bcb-43a5-909f-8163af024108",
   "metadata": {},
   "outputs": [],
   "source": [
    "# set comprehension\n",
    "{i ** 2 for i in x}"
   ]
  },
  {
   "cell_type": "code",
   "execution_count": null,
   "id": "c064a93f-f3e7-4133-89a4-d7bbb81051e3",
   "metadata": {},
   "outputs": [],
   "source": [
    "{i ** 2 for i in x if i % 2 == 0}"
   ]
  },
  {
   "cell_type": "code",
   "execution_count": null,
   "id": "bffb281b-8b0a-45cb-9cd2-b5e470b93c8d",
   "metadata": {},
   "outputs": [],
   "source": [
    "# dict comprehension \n",
    "{i: i ** 2 for i in x}"
   ]
  },
  {
   "cell_type": "code",
   "execution_count": null,
   "id": "b499c9c0-cf43-4c9b-85f8-7afd5e8dc46d",
   "metadata": {
    "scrolled": true
   },
   "outputs": [],
   "source": [
    "{i: i ** 2 for i in x if i % 2 == 0}"
   ]
  }
 ],
 "metadata": {
  "kernelspec": {
   "display_name": "Python 3 (ipykernel)",
   "language": "python",
   "name": "python3"
  },
  "language_info": {
   "codemirror_mode": {
    "name": "ipython",
    "version": 3
   },
   "file_extension": ".py",
   "mimetype": "text/x-python",
   "name": "python",
   "nbconvert_exporter": "python",
   "pygments_lexer": "ipython3",
   "version": "3.12.5"
  }
 },
 "nbformat": 4,
 "nbformat_minor": 5
}
