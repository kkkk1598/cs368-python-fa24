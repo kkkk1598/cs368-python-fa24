{
 "cells": [
  {
   "cell_type": "markdown",
   "id": "b57a7431-a1b1-4be1-93de-3a7e13da6089",
   "metadata": {},
   "source": [
    "# Lecture 5 Iteration\n",
    "Objectives: \n",
    "1. `iterable` objects vs. `iterator` objects\n",
    "2. `range` objects\n",
    "3. `enumerate` objects\n",
    "4. `for` loops with `range`\n",
    "5. `for` loops with `enumerate`\n",
    "6. `continue`, `break`\n",
    "7. `while` loops\n",
    "8. Comprehension"
   ]
  },
  {
   "cell_type": "markdown",
   "id": "75c03025-6b2a-4af3-829d-d2ab4a9a9868",
   "metadata": {},
   "source": [
    "# Iteration"
   ]
  },
  {
   "cell_type": "markdown",
   "id": "efc66031-be8f-4258-a5c3-51408098cca7",
   "metadata": {},
   "source": [
    "## `iterable` objects\n",
    "* have the `iter()` method that returns an iterator object \n",
    "* can be iterated over **multiple** times by creating a new `iterator` each time\n",
    "* examples:\n",
    "    * sequence: lists, tuples, strings, ranges\n",
    "    * non-sequence collections: sets, dictionaries\n",
    "\n",
    "## `iterator` objects\n",
    "* have the `next()` method that returns one item at a time on demand\n",
    "* can be iterated over only once (stateful)\n",
    "* examples:\n",
    "    * iterators created by iterable objects, file objects, generators"
   ]
  },
  {
   "cell_type": "markdown",
   "id": "054be82c-7352-4e79-a62d-fa9310766687",
   "metadata": {},
   "source": [
    "## `for` loops\n",
    "### `for` loop that iterates over a sequence object"
   ]
  },
  {
   "cell_type": "code",
   "execution_count": 1,
   "id": "30815252-1fd3-4699-96a9-f43d97df414e",
   "metadata": {},
   "outputs": [
    {
     "name": "stdout",
     "output_type": "stream",
     "text": [
      "1\n",
      "4\n",
      "9\n",
      "done\n"
     ]
    }
   ],
   "source": [
    "for i in [1, 2, 3]: # Python internally runs iter([1, 2, 3])\n",
    "    print(i ** 2) # this line is inside the for loop because it is indented \n",
    "print('done')"
   ]
  },
  {
   "cell_type": "code",
   "execution_count": 2,
   "id": "9c6b8102-6c44-43e1-86a3-ece5a8963194",
   "metadata": {},
   "outputs": [
    {
     "data": {
      "text/plain": [
       "<list_iterator at 0x107cec430>"
      ]
     },
     "execution_count": 2,
     "metadata": {},
     "output_type": "execute_result"
    }
   ],
   "source": [
    "# iter(iterable) returns an iterator for the iterable\n",
    "x = [1, 2, 3]\n",
    "x_iter = iter(x)\n",
    "x_iter"
   ]
  },
  {
   "cell_type": "code",
   "execution_count": 3,
   "id": "1f20bf02-aaf6-4d37-a09b-b07829295792",
   "metadata": {},
   "outputs": [
    {
     "data": {
      "text/plain": [
       "1"
      ]
     },
     "execution_count": 3,
     "metadata": {},
     "output_type": "execute_result"
    }
   ],
   "source": [
    "# next() returns the next element to be iterated \n",
    "next(x_iter)"
   ]
  },
  {
   "cell_type": "code",
   "execution_count": 4,
   "id": "1be9758e-1997-40ca-abf3-eba8df83fd81",
   "metadata": {},
   "outputs": [
    {
     "data": {
      "text/plain": [
       "2"
      ]
     },
     "execution_count": 4,
     "metadata": {},
     "output_type": "execute_result"
    }
   ],
   "source": [
    "next(x_iter)"
   ]
  },
  {
   "cell_type": "code",
   "execution_count": 5,
   "id": "c9563e69-6738-4e8a-9e58-2ed8520eae87",
   "metadata": {},
   "outputs": [
    {
     "data": {
      "text/plain": [
       "3"
      ]
     },
     "execution_count": 5,
     "metadata": {},
     "output_type": "execute_result"
    }
   ],
   "source": [
    "next(x_iter)"
   ]
  },
  {
   "cell_type": "code",
   "execution_count": 6,
   "id": "e0ca8357-68af-46ac-a074-8f9bbede0bbc",
   "metadata": {},
   "outputs": [
    {
     "ename": "StopIteration",
     "evalue": "",
     "output_type": "error",
     "traceback": [
      "\u001b[0;31m---------------------------------------------------------------------------\u001b[0m",
      "\u001b[0;31mStopIteration\u001b[0m                             Traceback (most recent call last)",
      "Cell \u001b[0;32mIn[6], line 2\u001b[0m\n\u001b[1;32m      1\u001b[0m \u001b[38;5;66;03m# until it hits the StopIteration\u001b[39;00m\n\u001b[0;32m----> 2\u001b[0m \u001b[38;5;28;43mnext\u001b[39;49m\u001b[43m(\u001b[49m\u001b[43mx_iter\u001b[49m\u001b[43m)\u001b[49m\n",
      "\u001b[0;31mStopIteration\u001b[0m: "
     ]
    }
   ],
   "source": [
    "# until it hits the StopIteration\n",
    "next(x_iter)"
   ]
  },
  {
   "cell_type": "code",
   "execution_count": 7,
   "id": "05871243-1b10-44b6-8cc1-5529e743c461",
   "metadata": {},
   "outputs": [
    {
     "ename": "StopIteration",
     "evalue": "",
     "output_type": "error",
     "traceback": [
      "\u001b[0;31m---------------------------------------------------------------------------\u001b[0m",
      "\u001b[0;31mStopIteration\u001b[0m                             Traceback (most recent call last)",
      "Cell \u001b[0;32mIn[7], line 2\u001b[0m\n\u001b[1;32m      1\u001b[0m \u001b[38;5;66;03m# an iterator can only be iterated through once!\u001b[39;00m\n\u001b[0;32m----> 2\u001b[0m \u001b[38;5;28;43mnext\u001b[39;49m\u001b[43m(\u001b[49m\u001b[43mx_iter\u001b[49m\u001b[43m)\u001b[49m\n",
      "\u001b[0;31mStopIteration\u001b[0m: "
     ]
    }
   ],
   "source": [
    "# an iterator can only be iterated through once!\n",
    "next(x_iter)"
   ]
  },
  {
   "cell_type": "code",
   "execution_count": 8,
   "id": "3e970cb3-5074-4804-adba-417d3093c459",
   "metadata": {},
   "outputs": [
    {
     "ename": "TypeError",
     "evalue": "'list' object is not an iterator",
     "output_type": "error",
     "traceback": [
      "\u001b[0;31m---------------------------------------------------------------------------\u001b[0m",
      "\u001b[0;31mTypeError\u001b[0m                                 Traceback (most recent call last)",
      "Cell \u001b[0;32mIn[8], line 2\u001b[0m\n\u001b[1;32m      1\u001b[0m \u001b[38;5;66;03m# there's no next() for an iterable\u001b[39;00m\n\u001b[0;32m----> 2\u001b[0m \u001b[38;5;28;43mnext\u001b[39;49m\u001b[43m(\u001b[49m\u001b[43mx\u001b[49m\u001b[43m)\u001b[49m\n",
      "\u001b[0;31mTypeError\u001b[0m: 'list' object is not an iterator"
     ]
    }
   ],
   "source": [
    "# there's no next() for an iterable\n",
    "next(x)"
   ]
  },
  {
   "cell_type": "code",
   "execution_count": 9,
   "id": "c973b5fe-f609-49fc-ba93-4a8cb0ecf557",
   "metadata": {},
   "outputs": [
    {
     "name": "stdout",
     "output_type": "stream",
     "text": [
      "1\n",
      "4\n",
      "9\n",
      "done\n"
     ]
    }
   ],
   "source": [
    "for i in (1, 2, 3): \n",
    "    print(i ** 2) \n",
    "print('done')"
   ]
  },
  {
   "cell_type": "code",
   "execution_count": 10,
   "id": "a7e6d89b-d164-4f38-84dc-ca4f26f4fe1c",
   "metadata": {},
   "outputs": [
    {
     "name": "stdout",
     "output_type": "stream",
     "text": [
      "aa\n",
      "bb\n",
      "cc\n",
      "done\n"
     ]
    }
   ],
   "source": [
    "for i in 'abc': \n",
    "    print(i + i) \n",
    "print('done')"
   ]
  },
  {
   "cell_type": "markdown",
   "id": "11b44322-3687-48df-8004-159d355de187",
   "metadata": {},
   "source": [
    "### `range` objects\n",
    "* `range()` function returns a `range` object\n",
    "    * a sequence of numbers\n",
    "    * an immutable sequence object => an iterable object\n",
    "        * supports length, indexing, slicing, iteration\n",
    "    * only generates one number at a time\n",
    "        * memory efficient for large ranges\n",
    "     \n",
    "* syntax: `range(start, stop, step)`\n",
    "    * `start` (optional): the starting number of the sequence (default is 0).\n",
    "    * `stop` (required): the ending number of the sequence (**exclusive**).\n",
    "    * `step` (optional): the difference between each number in the sequence (default is 1)."
   ]
  },
  {
   "cell_type": "code",
   "execution_count": 11,
   "id": "4fa7c211-9bb4-4e58-99b1-a20b82ffb556",
   "metadata": {},
   "outputs": [
    {
     "data": {
      "text/plain": [
       "range(0, 10)"
      ]
     },
     "execution_count": 11,
     "metadata": {},
     "output_type": "execute_result"
    }
   ],
   "source": [
    "r = range(10)\n",
    "r"
   ]
  },
  {
   "cell_type": "code",
   "execution_count": 12,
   "id": "8a7074a8-0e0d-4a7e-bfec-626b34c03ed6",
   "metadata": {},
   "outputs": [
    {
     "data": {
      "text/plain": [
       "range"
      ]
     },
     "execution_count": 12,
     "metadata": {},
     "output_type": "execute_result"
    }
   ],
   "source": [
    "# returns a range object\n",
    "type(r)"
   ]
  },
  {
   "cell_type": "code",
   "execution_count": 13,
   "id": "a2af8205-1bdf-4243-a856-610c1c2e8a56",
   "metadata": {},
   "outputs": [
    {
     "data": {
      "text/plain": [
       "[range, object]"
      ]
     },
     "execution_count": 13,
     "metadata": {},
     "output_type": "execute_result"
    }
   ],
   "source": [
    "range.mro()"
   ]
  },
  {
   "cell_type": "code",
   "execution_count": 14,
   "id": "c2aeb85d-1976-4641-8d2f-3eb0ceb95136",
   "metadata": {},
   "outputs": [
    {
     "data": {
      "text/plain": [
       "10"
      ]
     },
     "execution_count": 14,
     "metadata": {},
     "output_type": "execute_result"
    }
   ],
   "source": [
    "# range is an immutable sequence object\n",
    "# it also supports the four accessing methods\n",
    "len(r)"
   ]
  },
  {
   "cell_type": "code",
   "execution_count": 15,
   "id": "ee082c8b-684b-4929-9c08-65d89ee87eda",
   "metadata": {},
   "outputs": [
    {
     "data": {
      "text/plain": [
       "2"
      ]
     },
     "execution_count": 15,
     "metadata": {},
     "output_type": "execute_result"
    }
   ],
   "source": [
    "r[2]"
   ]
  },
  {
   "cell_type": "code",
   "execution_count": 16,
   "id": "b1415f6d-0f6f-484f-a555-d003b800851a",
   "metadata": {},
   "outputs": [
    {
     "data": {
      "text/plain": [
       "range(2, 5, 3)"
      ]
     },
     "execution_count": 16,
     "metadata": {},
     "output_type": "execute_result"
    }
   ],
   "source": [
    "r[2:5:3]"
   ]
  },
  {
   "cell_type": "code",
   "execution_count": 17,
   "id": "ac0d574f-7400-4be1-90c1-473beb4b7330",
   "metadata": {},
   "outputs": [
    {
     "name": "stdout",
     "output_type": "stream",
     "text": [
      "0\n",
      "1\n",
      "2\n",
      "3\n",
      "4\n",
      "5\n",
      "6\n",
      "7\n",
      "8\n",
      "9\n"
     ]
    }
   ],
   "source": [
    "# range objects generate only one number at a time\n",
    "for i in r: # internally runs iter(r)\n",
    "    print(i)"
   ]
  },
  {
   "cell_type": "code",
   "execution_count": 18,
   "id": "ed301a5b-f99d-4a62-b4ae-6a26f27f626f",
   "metadata": {},
   "outputs": [
    {
     "data": {
      "text/plain": [
       "[0, 1, 2]"
      ]
     },
     "execution_count": 18,
     "metadata": {},
     "output_type": "execute_result"
    }
   ],
   "source": [
    "# use `list()` or `tuple()` to show all numbers\n",
    "list(range(3))"
   ]
  },
  {
   "cell_type": "code",
   "execution_count": 19,
   "id": "5b5ef98f-90ca-48a4-be6d-2d035c16601c",
   "metadata": {},
   "outputs": [
    {
     "data": {
      "text/plain": [
       "[2, 3, 4, 5]"
      ]
     },
     "execution_count": 19,
     "metadata": {},
     "output_type": "execute_result"
    }
   ],
   "source": [
    "list(range(2, 6))"
   ]
  },
  {
   "cell_type": "code",
   "execution_count": 20,
   "id": "366b3963-4af9-4d19-9cf0-5f46d7c69328",
   "metadata": {},
   "outputs": [
    {
     "data": {
      "text/plain": [
       "[3, 6, 9]"
      ]
     },
     "execution_count": 20,
     "metadata": {},
     "output_type": "execute_result"
    }
   ],
   "source": [
    "list(range(3, 10, 3))"
   ]
  },
  {
   "cell_type": "markdown",
   "id": "2e419e4a-7ec2-4307-b1fc-8f9033971bdd",
   "metadata": {},
   "source": [
    "### `for` loops with `range()`"
   ]
  },
  {
   "cell_type": "code",
   "execution_count": 21,
   "id": "cb7ce5e0-9671-4fd2-8c54-cb2765d7d6f9",
   "metadata": {},
   "outputs": [
    {
     "name": "stdout",
     "output_type": "stream",
     "text": [
      "0\n",
      "1\n",
      "2\n",
      "3\n",
      "4\n",
      "5\n"
     ]
    }
   ],
   "source": [
    "# the following is not common in Python\n",
    "x = [0, 1, 2, 3, 4, 5]\n",
    "for i in range(len(x)):\n",
    "    print(x[i])"
   ]
  },
  {
   "cell_type": "code",
   "execution_count": 22,
   "id": "2f8823d2-52a1-4511-a987-9a32018ac642",
   "metadata": {},
   "outputs": [
    {
     "name": "stdout",
     "output_type": "stream",
     "text": [
      "    1     2     3     4     5     6     7     8     9    10 \n",
      "    2     4     6     8    10    12    14    16    18    20 \n",
      "    3     6     9    12    15    18    21    24    27    30 \n",
      "    4     8    12    16    20    24    28    32    36    40 \n",
      "    5    10    15    20    25    30    35    40    45    50 \n",
      "    6    12    18    24    30    36    42    48    54    60 \n",
      "    7    14    21    28    35    42    49    56    63    70 \n",
      "    8    16    24    32    40    48    56    64    72    80 \n",
      "    9    18    27    36    45    54    63    72    81    90 \n",
      "   10    20    30    40    50    60    70    80    90   100 \n"
     ]
    }
   ],
   "source": [
    "# print a multi table with nested for loops \n",
    "def multiplication_table(n):\n",
    "    for i in range(1, n + 1):\n",
    "        for j in range(1, n + 1):\n",
    "            # f-string: formatted string\n",
    "            # `:5` prints the content in 5-char width\n",
    "            # `end=' '` prints ' ' as the end of the string instead of '\\n'\n",
    "            print(f'{i * j:5}', end=' ')\n",
    "        print()\n",
    "multiplication_table(10)"
   ]
  },
  {
   "cell_type": "markdown",
   "id": "4bbcd686-8933-408c-aa4c-c99f7b09be9b",
   "metadata": {},
   "source": [
    "### `enumerate()` function\n",
    "* takes an `iterable` object\n",
    "* returns an `enumerate` object\n",
    "    * an `iterator` object\n",
    "    * generates a tuples in the form of `(index, element)` lazily\n",
    "* more efficient and readable version of `range(len(iterable))`"
   ]
  },
  {
   "cell_type": "code",
   "execution_count": 23,
   "id": "e242f4ee-bc48-4359-9860-84c3c8d0b0fe",
   "metadata": {},
   "outputs": [
    {
     "data": {
      "text/plain": [
       "<enumerate at 0x108bb8270>"
      ]
     },
     "execution_count": 23,
     "metadata": {},
     "output_type": "execute_result"
    }
   ],
   "source": [
    "enumerate([1, 2, 3])"
   ]
  },
  {
   "cell_type": "code",
   "execution_count": 24,
   "id": "dab9e505-a065-4953-9180-4aba315de7a5",
   "metadata": {},
   "outputs": [
    {
     "data": {
      "text/plain": [
       "[enumerate, object]"
      ]
     },
     "execution_count": 24,
     "metadata": {},
     "output_type": "execute_result"
    }
   ],
   "source": [
    "enumerate.mro()"
   ]
  },
  {
   "cell_type": "code",
   "execution_count": 25,
   "id": "8c36303a-effc-4a17-8453-53eb38013eb0",
   "metadata": {},
   "outputs": [
    {
     "data": {
      "text/plain": [
       "[(0, 'A'), (1, 'B'), (2, 'C')]"
      ]
     },
     "execution_count": 25,
     "metadata": {},
     "output_type": "execute_result"
    }
   ],
   "source": [
    "# enumerate objects generate elements lazily one at a time\n",
    "# use list() to show all elements\n",
    "list(enumerate('ABC'))"
   ]
  },
  {
   "cell_type": "code",
   "execution_count": 26,
   "id": "c46d8b05-b21b-4a86-909c-c24368929364",
   "metadata": {},
   "outputs": [
    {
     "name": "stdout",
     "output_type": "stream",
     "text": [
      "0 A\n",
      "1 B\n",
      "2 C\n"
     ]
    }
   ],
   "source": [
    "iterable = 'ABC'\n",
    "# here idx, element is upacking the tuple generated by the enumerate object\n",
    "for idx, element in enumerate(iterable): \n",
    "    print(idx, element)"
   ]
  },
  {
   "cell_type": "markdown",
   "id": "dc709814-fd34-4d24-ac01-824fec837e18",
   "metadata": {},
   "source": [
    "### `continue`, `break`"
   ]
  },
  {
   "cell_type": "code",
   "execution_count": 27,
   "id": "dc12e7c9-87c5-4245-8483-ccba84f3c706",
   "metadata": {},
   "outputs": [
    {
     "name": "stdout",
     "output_type": "stream",
     "text": [
      "1\n",
      "3\n",
      "5\n",
      "7\n",
      "9\n"
     ]
    }
   ],
   "source": [
    "for i in range(0, 10): \n",
    "    if i % 2 == 0: \n",
    "        continue # skips the current iteration and continues with the next iteration\n",
    "    print(i)"
   ]
  },
  {
   "cell_type": "code",
   "execution_count": 28,
   "id": "0827c9b3-c9ee-4767-91d3-9edc3b3d37ad",
   "metadata": {},
   "outputs": [
    {
     "name": "stdout",
     "output_type": "stream",
     "text": [
      "0\n",
      "1\n",
      "2\n",
      "3\n",
      "4\n"
     ]
    }
   ],
   "source": [
    "for i in range(0, 10): \n",
    "    if i >= 5: \n",
    "        break # exits the loop entirely, immediately ending the loop’s execution\n",
    "    print(i)"
   ]
  },
  {
   "cell_type": "markdown",
   "id": "02efa1fb-522d-46d5-a6a6-9f4dfee25827",
   "metadata": {},
   "source": [
    "### `for-else`"
   ]
  },
  {
   "cell_type": "code",
   "execution_count": 29,
   "id": "833398b4-aaed-452f-b755-0182436a9271",
   "metadata": {},
   "outputs": [],
   "source": [
    "for i in range(5):\n",
    "    if i == 3:\n",
    "        break\n",
    "else:\n",
    "    print(\"Loop completed without break\")"
   ]
  },
  {
   "cell_type": "markdown",
   "id": "a2306e3d-0409-4741-955a-7a330e0284b4",
   "metadata": {},
   "source": [
    "## `while` loops\n",
    "syntax: \n",
    "```python\n",
    "while bool_exp: \n",
    "    ...\n",
    "```"
   ]
  },
  {
   "cell_type": "code",
   "execution_count": 30,
   "id": "bc9cfa8d-12a6-42c9-be60-9adc3a5237b8",
   "metadata": {},
   "outputs": [
    {
     "name": "stdout",
     "output_type": "stream",
     "text": [
      "10\n",
      "11\n",
      "12\n",
      "13\n",
      "14\n"
     ]
    }
   ],
   "source": [
    "i = 10\n",
    "while i < 15: \n",
    "    print(i)\n",
    "    i += 1"
   ]
  },
  {
   "cell_type": "code",
   "execution_count": 31,
   "id": "02dfb162-06b4-45d4-bb96-57e1460441ef",
   "metadata": {},
   "outputs": [
    {
     "name": "stdout",
     "output_type": "stream",
     "text": [
      "11\n",
      "13\n"
     ]
    }
   ],
   "source": [
    "i = 10\n",
    "while i < 15: \n",
    "    if i % 2 == 0: \n",
    "        i += 1\n",
    "        continue\n",
    "    print(i)\n",
    "    i += 1"
   ]
  },
  {
   "cell_type": "code",
   "execution_count": 32,
   "id": "70636746-af5e-491c-a38e-49a037325e1a",
   "metadata": {},
   "outputs": [
    {
     "name": "stdout",
     "output_type": "stream",
     "text": [
      "10\n",
      "11\n"
     ]
    }
   ],
   "source": [
    "i = 10\n",
    "while i < 15: \n",
    "    if i % 3 == 0: \n",
    "        break\n",
    "    print(i)\n",
    "    i += 1"
   ]
  },
  {
   "cell_type": "code",
   "execution_count": 33,
   "id": "d960ca23-ab3c-441c-9da2-91c1140f2dff",
   "metadata": {},
   "outputs": [
    {
     "name": "stdout",
     "output_type": "stream",
     "text": [
      "10\n",
      "11\n",
      "12\n",
      "13\n",
      "14\n",
      "Loop completed without break\n"
     ]
    }
   ],
   "source": [
    "i = 10\n",
    "while i < 15: \n",
    "    print(i)\n",
    "    i += 1\n",
    "else: \n",
    "    print(\"Loop completed without break\")"
   ]
  },
  {
   "cell_type": "markdown",
   "id": "487c7c9f-ab62-4cc8-a40b-eaf18e6d4371",
   "metadata": {},
   "source": [
    "# Comprehension \n",
    "A concise way to create lists by applying an expression to each item in an iterable.\n",
    "\n",
    "Syntax: \n",
    "```python\n",
    "[expression for item in iterable]\n",
    "```\n",
    "```python\n",
    "[expression for item in iterable if condition]\n",
    "```"
   ]
  },
  {
   "cell_type": "code",
   "execution_count": 34,
   "id": "f276d07f-62fb-4b92-927b-b0e723690531",
   "metadata": {},
   "outputs": [],
   "source": [
    "x = range(10)"
   ]
  },
  {
   "cell_type": "code",
   "execution_count": 35,
   "id": "924ff52e-9318-4d5a-82f9-de952c518b33",
   "metadata": {},
   "outputs": [
    {
     "data": {
      "text/plain": [
       "[0, 1, 4, 9, 16, 25, 36, 49, 64, 81]"
      ]
     },
     "execution_count": 35,
     "metadata": {},
     "output_type": "execute_result"
    }
   ],
   "source": [
    "x_sqrt = []\n",
    "for i in x:\n",
    "    x_sqrt.append(i ** 2)\n",
    "x_sqrt"
   ]
  },
  {
   "cell_type": "code",
   "execution_count": 36,
   "id": "11095b42-5d6a-4808-a8a6-9cd249fd3df8",
   "metadata": {},
   "outputs": [
    {
     "data": {
      "text/plain": [
       "[0, 1, 4, 9, 16, 25, 36, 49, 64, 81]"
      ]
     },
     "execution_count": 36,
     "metadata": {},
     "output_type": "execute_result"
    }
   ],
   "source": [
    "# list comprehension\n",
    "x_sqrt = [i ** 2 for i in x]\n",
    "x_sqrt"
   ]
  },
  {
   "cell_type": "code",
   "execution_count": 37,
   "id": "50873b07-346a-4281-bce0-3c7dd5f36fad",
   "metadata": {},
   "outputs": [
    {
     "data": {
      "text/plain": [
       "(1, 4, 9)"
      ]
     },
     "execution_count": 37,
     "metadata": {},
     "output_type": "execute_result"
    }
   ],
   "source": [
    "# tuple comprehension\n",
    "tuple([i ** 2 for i in (1, 2, 3)])"
   ]
  },
  {
   "cell_type": "code",
   "execution_count": 38,
   "id": "89f5b227-0d0d-440c-bc2e-fdb6a539eb0b",
   "metadata": {},
   "outputs": [
    {
     "data": {
      "text/plain": [
       "(1, 4, 9)"
      ]
     },
     "execution_count": 38,
     "metadata": {},
     "output_type": "execute_result"
    }
   ],
   "source": [
    "# or in short\n",
    "tuple(i ** 2 for i in (1, 2, 3))"
   ]
  },
  {
   "cell_type": "code",
   "execution_count": 39,
   "id": "2e2776a7-670f-4201-a3c9-5ac6f5ee4710",
   "metadata": {},
   "outputs": [
    {
     "data": {
      "text/plain": [
       "['A', 'B', 'C']"
      ]
     },
     "execution_count": 39,
     "metadata": {},
     "output_type": "execute_result"
    }
   ],
   "source": [
    "[char.upper() for char in 'abc']"
   ]
  },
  {
   "cell_type": "code",
   "execution_count": 40,
   "id": "6ba27f32-01cb-4508-b1bd-287709a6237a",
   "metadata": {},
   "outputs": [
    {
     "data": {
      "text/plain": [
       "[0, 4, 16, 36, 64]"
      ]
     },
     "execution_count": 40,
     "metadata": {},
     "output_type": "execute_result"
    }
   ],
   "source": [
    "x_even_sqrt = []\n",
    "for i in x:\n",
    "    if i % 2 == 0: \n",
    "        x_even_sqrt.append(i ** 2)\n",
    "x_even_sqrt"
   ]
  },
  {
   "cell_type": "code",
   "execution_count": 41,
   "id": "c440e73d-e510-4c39-a89f-e4ae71e8b2d1",
   "metadata": {},
   "outputs": [
    {
     "data": {
      "text/plain": [
       "[0, 4, 16, 36, 64]"
      ]
     },
     "execution_count": 41,
     "metadata": {},
     "output_type": "execute_result"
    }
   ],
   "source": [
    "x_even_sqrt = [i ** 2 for i in x if i % 2 == 0]\n",
    "x_even_sqrt"
   ]
  },
  {
   "cell_type": "code",
   "execution_count": 42,
   "id": "aa8385c0-3bcb-43a5-909f-8163af024108",
   "metadata": {},
   "outputs": [
    {
     "data": {
      "text/plain": [
       "{0, 1, 4, 9, 16, 25, 36, 49, 64, 81}"
      ]
     },
     "execution_count": 42,
     "metadata": {},
     "output_type": "execute_result"
    }
   ],
   "source": [
    "# set comprehension\n",
    "{i ** 2 for i in x}"
   ]
  },
  {
   "cell_type": "code",
   "execution_count": 43,
   "id": "c064a93f-f3e7-4133-89a4-d7bbb81051e3",
   "metadata": {},
   "outputs": [
    {
     "data": {
      "text/plain": [
       "{0, 4, 16, 36, 64}"
      ]
     },
     "execution_count": 43,
     "metadata": {},
     "output_type": "execute_result"
    }
   ],
   "source": [
    "{i ** 2 for i in x if i % 2 == 0}"
   ]
  },
  {
   "cell_type": "code",
   "execution_count": 44,
   "id": "bffb281b-8b0a-45cb-9cd2-b5e470b93c8d",
   "metadata": {},
   "outputs": [
    {
     "data": {
      "text/plain": [
       "{0: 0, 1: 1, 2: 4, 3: 9, 4: 16, 5: 25, 6: 36, 7: 49, 8: 64, 9: 81}"
      ]
     },
     "execution_count": 44,
     "metadata": {},
     "output_type": "execute_result"
    }
   ],
   "source": [
    "# dict comprehension \n",
    "{i: i ** 2 for i in x}"
   ]
  },
  {
   "cell_type": "code",
   "execution_count": 45,
   "id": "b499c9c0-cf43-4c9b-85f8-7afd5e8dc46d",
   "metadata": {
    "scrolled": true
   },
   "outputs": [
    {
     "data": {
      "text/plain": [
       "{0: 0, 2: 4, 4: 16, 6: 36, 8: 64}"
      ]
     },
     "execution_count": 45,
     "metadata": {},
     "output_type": "execute_result"
    }
   ],
   "source": [
    "{i: i ** 2 for i in x if i % 2 == 0}"
   ]
  },
  {
   "cell_type": "code",
   "execution_count": null,
   "id": "26eca9d9-1933-4df4-a150-04bdc7ea3e8f",
   "metadata": {},
   "outputs": [],
   "source": []
  },
  {
   "cell_type": "code",
   "execution_count": null,
   "id": "fae3b581-7fe7-47b8-b9cd-cbecf0751527",
   "metadata": {},
   "outputs": [],
   "source": []
  }
 ],
 "metadata": {
  "kernelspec": {
   "display_name": "Python 3 (ipykernel)",
   "language": "python",
   "name": "python3"
  },
  "language_info": {
   "codemirror_mode": {
    "name": "ipython",
    "version": 3
   },
   "file_extension": ".py",
   "mimetype": "text/x-python",
   "name": "python",
   "nbconvert_exporter": "python",
   "pygments_lexer": "ipython3",
   "version": "3.12.5"
  }
 },
 "nbformat": 4,
 "nbformat_minor": 5
}
