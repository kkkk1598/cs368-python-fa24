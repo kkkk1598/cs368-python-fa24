{
 "cells": [
  {
   "cell_type": "markdown",
   "id": "2ee8918d-ce6c-4fbd-816b-d117530b6583",
   "metadata": {},
   "source": [
    "# Lecture 12 Pandas\n",
    "\n",
    "What's [Pandas](https://pandas.pydata.org/)? \n",
    "* A 3rd-party library for data manipulation and analysis\n",
    "* Ideal for tabular data\n",
    "* Install with `pip install pandas`"
   ]
  },
  {
   "cell_type": "code",
   "execution_count": null,
   "id": "43b2b3ed-2912-4dfe-8aa8-20450ec7128f",
   "metadata": {},
   "outputs": [],
   "source": [
    "import pandas as pd  # use pd as the alias"
   ]
  },
  {
   "cell_type": "markdown",
   "id": "8859e91d-2ed4-47f1-bdba-64947b423e66",
   "metadata": {},
   "source": [
    "## Data Loading\n",
    "* `pd.read_csv(filepath)`\n",
    "* `pd.read_excel(filepath)`\n",
    "* `pd.read_json(filepath)`"
   ]
  },
  {
   "cell_type": "code",
   "execution_count": null,
   "id": "8b697f85-c367-4901-8b37-6ab9c3955d66",
   "metadata": {},
   "outputs": [],
   "source": [
    "df = pd.???(\"netflix_titles.csv\")  # load csv into a Pandas DataFrame\n",
    "df  "
   ]
  },
  {
   "cell_type": "code",
   "execution_count": null,
   "id": "54adc10f-18ec-4607-961e-40b510b63455",
   "metadata": {},
   "outputs": [],
   "source": [
    "# df is a DataFrame\n",
    "type(df)"
   ]
  },
  {
   "cell_type": "markdown",
   "id": "73f1ab57-24cd-4851-baca-bc803f177e54",
   "metadata": {},
   "source": [
    "## DataFrame Exploration"
   ]
  },
  {
   "cell_type": "code",
   "execution_count": null,
   "id": "62f695aa-3f6f-4fb6-b786-59e56a7a99ab",
   "metadata": {},
   "outputs": [],
   "source": [
    "# View the first n rows (default is 5)\n",
    "df.???(3)"
   ]
  },
  {
   "cell_type": "code",
   "execution_count": null,
   "id": "339a5137-9ee8-418f-bcbe-54f969bd3850",
   "metadata": {},
   "outputs": [],
   "source": [
    "# View the last n rows (default is 5)\n",
    "df.???()"
   ]
  },
  {
   "cell_type": "code",
   "execution_count": null,
   "id": "ec1de7aa-2059-44f4-b60e-2ecd94c1d768",
   "metadata": {},
   "outputs": [],
   "source": [
    "# Get the number of rows and columns\n",
    "df.???"
   ]
  },
  {
   "cell_type": "code",
   "execution_count": null,
   "id": "182296a5-bc49-4efd-9de9-d9e8533f1149",
   "metadata": {},
   "outputs": [],
   "source": [
    "# List column names\n",
    "df.???"
   ]
  },
  {
   "cell_type": "code",
   "execution_count": null,
   "id": "9a69b41f-8825-4c32-98c7-31b23ffc4a2f",
   "metadata": {},
   "outputs": [],
   "source": [
    "# Summary of the DataFrame (columns, types, non-null values)\n",
    "# Column 3-6 & 8 9 all have missing values\n",
    "df.???()"
   ]
  },
  {
   "cell_type": "code",
   "execution_count": null,
   "id": "b694b622-419d-4765-99b3-57ea1f81dd4c",
   "metadata": {},
   "outputs": [],
   "source": [
    "# Statistical summary of numerical columns\n",
    "df.???()"
   ]
  },
  {
   "cell_type": "markdown",
   "id": "8f0c16f4-d672-45fb-af1d-58b27e5d4550",
   "metadata": {},
   "source": [
    "## Data Selection"
   ]
  },
  {
   "cell_type": "code",
   "execution_count": null,
   "id": "0902087e-f1be-4061-8bb5-f094644992ea",
   "metadata": {},
   "outputs": [],
   "source": [
    "df.columns"
   ]
  },
  {
   "cell_type": "code",
   "execution_count": null,
   "id": "65cb49d3-ab20-460b-b099-c7e5abd7370b",
   "metadata": {},
   "outputs": [],
   "source": [
    "# Select a column\n",
    "titles = df???\n",
    "titles"
   ]
  },
  {
   "cell_type": "code",
   "execution_count": null,
   "id": "366beeb0-c1ca-4fab-984e-128f574fd0c5",
   "metadata": {},
   "outputs": [],
   "source": [
    "# Columns are Pandas Series\n",
    "type(titles)"
   ]
  },
  {
   "cell_type": "code",
   "execution_count": null,
   "id": "baa26a3e-3546-4ff0-b220-f70d11752ba5",
   "metadata": {},
   "outputs": [],
   "source": [
    "pd.core.series.Series.mro()"
   ]
  },
  {
   "cell_type": "code",
   "execution_count": null,
   "id": "fb4446a1-3456-43c3-91fb-a397eb62d992",
   "metadata": {},
   "outputs": [],
   "source": [
    "# Select multiple column\n",
    "df[['title', 'type', 'listed_in']]"
   ]
  },
  {
   "cell_type": "code",
   "execution_count": null,
   "id": "e87dac4d-7a2f-45b4-8b21-db048c76dc26",
   "metadata": {},
   "outputs": [],
   "source": [
    "# Select single cell by labels\n",
    "# df.at[row label, col label]\n",
    "df.???[100, 'title'] "
   ]
  },
  {
   "cell_type": "code",
   "execution_count": null,
   "id": "cfdca2ab-ab67-447b-b279-f5e22e4e9102",
   "metadata": {},
   "outputs": [],
   "source": [
    "# Select single cell by indices\n",
    "# df.iat[row index, col index]\n",
    "df.???[100, 10] "
   ]
  },
  {
   "cell_type": "code",
   "execution_count": null,
   "id": "76063034-9056-433b-85fa-5391038a36d3",
   "metadata": {},
   "outputs": [],
   "source": [
    "# Select multiple cells by labels\n",
    "# df.loc[row labels, col labels]\n",
    "df.???[100, 'title'] # slower than df.at if only select a single cell"
   ]
  },
  {
   "cell_type": "code",
   "execution_count": null,
   "id": "e18eea22-417a-4eaa-8562-956177d3c29f",
   "metadata": {},
   "outputs": [],
   "source": [
    "# You can use slicing with loc\n",
    "df.loc[100:110,'title':'country']"
   ]
  },
  {
   "cell_type": "code",
   "execution_count": null,
   "id": "0e28041b-9f7c-4c56-862a-b78987ccee71",
   "metadata": {},
   "outputs": [],
   "source": [
    "df.loc[100:110,'title':]"
   ]
  },
  {
   "cell_type": "code",
   "execution_count": null,
   "id": "165a253f-4a56-4445-90b9-692373ed8580",
   "metadata": {},
   "outputs": [],
   "source": [
    "# Select multiple cells by indices\n",
    "# df.iloc[row indices, col indices]\n",
    "df.???[100:110, 3:7]"
   ]
  },
  {
   "cell_type": "code",
   "execution_count": null,
   "id": "3985e7cb-7601-4edf-9d7e-270ae2b8bbdd",
   "metadata": {},
   "outputs": [],
   "source": [
    "# Assigns one or more columns as the new index of the DataFrame\n",
    "df.???('title').head(3)"
   ]
  },
  {
   "cell_type": "code",
   "execution_count": null,
   "id": "742000d5-30ca-412e-bca3-eca2840c0cbf",
   "metadata": {},
   "outputs": [],
   "source": [
    "# Most Pandas functions return a new DataFrame instead of changing in-place!\n",
    "df.head(3)"
   ]
  },
  {
   "cell_type": "code",
   "execution_count": null,
   "id": "a1c44686-6101-4f99-9e0f-c9d2724fe4ee",
   "metadata": {},
   "outputs": [],
   "source": [
    "df_title = df.set_index('title')\n",
    "# Now you can use titles as row indices to access rows\n",
    "df_title.loc['Stranger Things', :]"
   ]
  },
  {
   "cell_type": "code",
   "execution_count": null,
   "id": "65a83501-fa98-4d5f-967d-709eb981f543",
   "metadata": {},
   "outputs": [],
   "source": [
    "df_title.loc[['Stranger Things', 'Squid Game'], :]"
   ]
  },
  {
   "cell_type": "code",
   "execution_count": null,
   "id": "650d932e-9676-4bf1-a2e3-38320fc980ce",
   "metadata": {},
   "outputs": [],
   "source": [
    "# Resets the index back to default integers\n",
    "df_title.???().head(3)"
   ]
  },
  {
   "cell_type": "markdown",
   "id": "dc9e4fef-af76-472d-b024-a98d6f7c354c",
   "metadata": {},
   "source": [
    "## Data Filtering"
   ]
  },
  {
   "cell_type": "code",
   "execution_count": null,
   "id": "e869be06-5f11-462e-b761-48277584512f",
   "metadata": {},
   "outputs": [],
   "source": [
    "df['country'] == 'United States'"
   ]
  },
  {
   "cell_type": "code",
   "execution_count": null,
   "id": "c10f4060-7985-4919-9598-74005dc94924",
   "metadata": {},
   "outputs": [],
   "source": [
    "# Filter rows based on conditions\n",
    "df[???]"
   ]
  },
  {
   "cell_type": "code",
   "execution_count": null,
   "id": "1e1fccb5-8883-4c78-9135-b4b79e866e87",
   "metadata": {},
   "outputs": [],
   "source": [
    "# You need to parenthesize each condition\n",
    "df[???]"
   ]
  },
  {
   "cell_type": "markdown",
   "id": "a23d1512-194a-4fdb-8d96-3da893b9b466",
   "metadata": {},
   "source": [
    "## Missing Values Handling"
   ]
  },
  {
   "cell_type": "code",
   "execution_count": null,
   "id": "aaeea2bf-5007-45b0-aa6e-949fb87e0e87",
   "metadata": {},
   "outputs": [],
   "source": [
    "# Count missing values by column\n",
    "df.???"
   ]
  },
  {
   "cell_type": "code",
   "execution_count": null,
   "id": "cfd21247-0008-42dc-9138-494feef82143",
   "metadata": {},
   "outputs": [],
   "source": [
    "# Remove rows with missing values\n",
    "df.???()"
   ]
  },
  {
   "cell_type": "code",
   "execution_count": null,
   "id": "ac94ede6-6f30-4606-86cf-34bb59c580fd",
   "metadata": {},
   "outputs": [],
   "source": [
    "df_unknown = df.???\n",
    "df_unknown"
   ]
  },
  {
   "cell_type": "code",
   "execution_count": null,
   "id": "9fa7399a-05c3-4f35-a82e-15fad69347a8",
   "metadata": {},
   "outputs": [],
   "source": []
  }
 ],
 "metadata": {
  "kernelspec": {
   "display_name": "Python 3 (ipykernel)",
   "language": "python",
   "name": "python3"
  },
  "language_info": {
   "codemirror_mode": {
    "name": "ipython",
    "version": 3
   },
   "file_extension": ".py",
   "mimetype": "text/x-python",
   "name": "python",
   "nbconvert_exporter": "python",
   "pygments_lexer": "ipython3",
   "version": "3.12.5"
  }
 },
 "nbformat": 4,
 "nbformat_minor": 5
}
