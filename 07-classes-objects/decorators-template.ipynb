{
 "cells": [
  {
   "cell_type": "markdown",
   "id": "433e1c92-17b2-40af-abbe-d59a0a1f2db2",
   "metadata": {},
   "source": [
    "# Lecture 7 Part 2 Decorators"
   ]
  },
  {
   "cell_type": "markdown",
   "id": "0a3c31a1-8c6a-43d7-8282-fecffe9d4657",
   "metadata": {},
   "source": [
    "## Class attributes and methods\n",
    "### Class attributes\n",
    "* Belong to the class itself (belong to all instances of a class)\n",
    "* Not belong to any individual instance of the class\n",
    "\n",
    "### Class methods\n",
    "* Belong to the class not individual instance\n",
    "* Takes in `cls` keyword rather than `self`\n",
    "    * `cls` keyword: refers to the current class"
   ]
  },
  {
   "cell_type": "code",
   "execution_count": null,
   "id": "2f26369e-2470-4c1f-a710-7d0e2fc2a6cb",
   "metadata": {},
   "outputs": [],
   "source": [
    "class Employee:\n",
    "    # Class attribute\n",
    "    employee_count = 0 # note no self. here\n",
    "\n",
    "    def __init__(self, name):\n",
    "        self.name = name  # Instance attribute\n",
    "        Employee.employee_count += 1\n",
    "\n",
    "    # Class method\n",
    "    ??? # this is called a decorator \n",
    "    def get_employee_count(???): # note the cls keyword here\n",
    "        return f\"Total employees: {cls.employee_count}\""
   ]
  },
  {
   "cell_type": "code",
   "execution_count": null,
   "id": "c2299c74-718d-4718-8526-0a125ad4bd25",
   "metadata": {},
   "outputs": [],
   "source": [
    "# class_name.class_attribute\n",
    "# recall the special class attributes \n",
    "Employee.employee_count"
   ]
  },
  {
   "cell_type": "code",
   "execution_count": null,
   "id": "8b0ace05-bf81-4de3-81af-b5e3c71aee9b",
   "metadata": {},
   "outputs": [],
   "source": [
    "# it's valid to access class attribute through an instance\n",
    "# but this is rather unconventional\n",
    "emp1 = Employee(\"Alice\")\n",
    "emp2 = Employee(\"Bob\")\n",
    "emp1.employee_count"
   ]
  },
  {
   "cell_type": "code",
   "execution_count": null,
   "id": "095cc323-9f24-4d41-9c89-948a22197c85",
   "metadata": {},
   "outputs": [],
   "source": [
    "# class_name.class_method\n",
    "Employee.get_employee_count()"
   ]
  },
  {
   "cell_type": "code",
   "execution_count": null,
   "id": "975de72c-2897-4c97-b74a-975e9eb1283a",
   "metadata": {},
   "outputs": [],
   "source": [
    "# again, this is valid but not conventional\n",
    "emp1.get_employee_count()"
   ]
  },
  {
   "cell_type": "markdown",
   "id": "e6a85651-be1c-4804-a965-8270908a61f7",
   "metadata": {},
   "source": [
    "## Static attributes and methods\n",
    "\n",
    "### Static attributes:\n",
    "* values should not be changed\n",
    "* belongs to class not individual instances\n",
    "* sometimes used interchangeably with class attributes\n",
    "### Static methods: \n",
    "* do **NOT** modify the class or instance\n",
    "* do **NOT** need access to any class-specific or instance-specific data"
   ]
  },
  {
   "cell_type": "code",
   "execution_count": null,
   "id": "377c5162-6cb3-4e47-8bf5-99c856b5da24",
   "metadata": {},
   "outputs": [],
   "source": [
    "# No static keyword in Python\n",
    "class Math:\n",
    "    pi = 3.14 # note no self. here"
   ]
  },
  {
   "cell_type": "code",
   "execution_count": null,
   "id": "add34676-ccc9-4fa6-8454-fca575e30b07",
   "metadata": {},
   "outputs": [],
   "source": [
    "Math.pi"
   ]
  },
  {
   "cell_type": "code",
   "execution_count": null,
   "id": "6075e2fd-e701-4b5e-97ee-052ad00accbb",
   "metadata": {},
   "outputs": [],
   "source": [
    "m1 = Math()\n",
    "m1.pi"
   ]
  },
  {
   "cell_type": "code",
   "execution_count": null,
   "id": "52b08c19-8b13-4d28-a6d2-5dc404d26429",
   "metadata": {},
   "outputs": [],
   "source": [
    "class Math: \n",
    "    pi = 3.14\n",
    "\n",
    "    ??? # same as static keyword for methods in Java\n",
    "    def factorial(n): # note this method does not accept the self or cls keyword\n",
    "        if n == 0:\n",
    "            return 1\n",
    "        else:\n",
    "            return n * Math.factorial(n - 1)"
   ]
  },
  {
   "cell_type": "code",
   "execution_count": null,
   "id": "b894feb4-4110-4e07-8a86-f72cc5f8dd6a",
   "metadata": {},
   "outputs": [],
   "source": [
    "Math.factorial(5)"
   ]
  },
  {
   "cell_type": "code",
   "execution_count": null,
   "id": "c49041b6-f2e8-4aeb-8327-c7e356a3dd3f",
   "metadata": {},
   "outputs": [],
   "source": [
    "# again, this is valid but not conventional\n",
    "m1 = Math()\n",
    "m1.factorial(5)"
   ]
  },
  {
   "cell_type": "markdown",
   "id": "9f7041a0-0e41-4026-8f49-3a9eb0c7f030",
   "metadata": {},
   "source": [
    "## Private attributes and methods\n",
    "\n",
    "* Used for sensitive or critical data and operations that should not be modified or accessed outside of the class."
   ]
  },
  {
   "cell_type": "code",
   "execution_count": null,
   "id": "f24f995c-36f4-47d0-bf74-ba3e61c53a4f",
   "metadata": {},
   "outputs": [],
   "source": [
    "class BankAccount:\n",
    "    def __init__(self, account_number, balance=0):\n",
    "        self.account_number = account_number\n",
    "        self.__balance = balance  # Prefix double underscores to indicate private attribute. This is only a convention!\n",
    "\n",
    "    def get_balance(self):\n",
    "        return self.__balance  # Getter method for balance\n",
    "        \n",
    "    def deposit(self, amount):\n",
    "        if amount > 0:\n",
    "            self.__balance += amount\n",
    "            \n",
    "    def __reset(self): # Prefix double underscores to indicate private method. This is only a convention!\n",
    "        self.__balance = 0\n",
    "\n",
    "account = BankAccount(\"12345678\", 100)\n",
    "# You cannot directly access __balance\n",
    "account.__balance"
   ]
  },
  {
   "cell_type": "code",
   "execution_count": null,
   "id": "9fb7b825-3f59-4667-9541-75585b05bd2f",
   "metadata": {},
   "outputs": [],
   "source": [
    "# It's name-mangled to _BankAccount__balance internally to prevent direct accessing. \n",
    "account.__dict__"
   ]
  },
  {
   "cell_type": "code",
   "execution_count": null,
   "id": "13da6e88-f9dd-4be8-82cf-e47e8e693a94",
   "metadata": {},
   "outputs": [],
   "source": [
    "# but this is not a secure way, unlike Java\n",
    "account.??? = 1000\n",
    "account.???"
   ]
  },
  {
   "cell_type": "code",
   "execution_count": null,
   "id": "1926840c-2cb5-4233-9130-ffd561f906d4",
   "metadata": {},
   "outputs": [],
   "source": [
    "# and it doesn't prevent you add another __balance outside the class\n",
    "account.__balance = 200\n",
    "account.__balance"
   ]
  },
  {
   "cell_type": "code",
   "execution_count": null,
   "id": "b5fba986-ec10-4dc9-918b-75175186189c",
   "metadata": {},
   "outputs": [],
   "source": [
    "account.__dict__"
   ]
  },
  {
   "cell_type": "code",
   "execution_count": null,
   "id": "6c76cb5d-d86f-4227-8ab6-8e7829faf89f",
   "metadata": {},
   "outputs": [],
   "source": [
    "account = BankAccount(\"12345678\", 100)\n",
    "# You should use a getter method\n",
    "account.get_balance()"
   ]
  },
  {
   "cell_type": "code",
   "execution_count": null,
   "id": "787ac427-3941-480c-b04a-0e626914e976",
   "metadata": {},
   "outputs": [],
   "source": [
    "# and a setter method\n",
    "account.deposit(50)\n",
    "account.get_balance()"
   ]
  },
  {
   "cell_type": "code",
   "execution_count": null,
   "id": "497fac77-cff4-4ee8-9da9-226db28ca7d9",
   "metadata": {},
   "outputs": [],
   "source": [
    "# You cannot directly call __reset()\n",
    "account.__reset()"
   ]
  },
  {
   "cell_type": "code",
   "execution_count": null,
   "id": "22888107-a475-457a-bdbe-64aeb071a82f",
   "metadata": {},
   "outputs": [],
   "source": [
    "# It's mangled to _BankAccount__reset internally to prevent direct accessing. \n",
    "BankAccount.__dict__"
   ]
  },
  {
   "cell_type": "code",
   "execution_count": null,
   "id": "0a1d384e-0c75-4895-8898-799c98b3f377",
   "metadata": {},
   "outputs": [],
   "source": [
    "# again, this is not a secure way, unlike Java\n",
    "BankAccount.???(account)\n",
    "account.get_balance()"
   ]
  },
  {
   "cell_type": "markdown",
   "id": "9f76e6d8-4435-4eea-9fb2-67fc009e0c53",
   "metadata": {},
   "source": [
    "## Protected attributes and methods\n",
    "* should only be accessed within the class itself or by subclasses of the class, but there's **NO** way to guarantee that!\n",
    "* use single underscore prefix. This is only by convention!\n",
    "* NO name mangling"
   ]
  },
  {
   "cell_type": "code",
   "execution_count": null,
   "id": "b64bce70-6775-46ce-8f3a-a37d52106c2c",
   "metadata": {},
   "outputs": [],
   "source": [
    "class Example: \n",
    "    def __init__(self, protected): \n",
    "        self._protected = protected"
   ]
  },
  {
   "cell_type": "code",
   "execution_count": null,
   "id": "265ea7d2-7374-4780-8964-e529ad97f760",
   "metadata": {},
   "outputs": [],
   "source": [
    "e = Example(10)\n",
    "e._protected # no name mangling"
   ]
  },
  {
   "cell_type": "code",
   "execution_count": null,
   "id": "1f390449-8de2-4872-b1bf-56414ba04c2a",
   "metadata": {},
   "outputs": [],
   "source": []
  }
 ],
 "metadata": {
  "kernelspec": {
   "display_name": "Python 3 (ipykernel)",
   "language": "python",
   "name": "python3"
  },
  "language_info": {
   "codemirror_mode": {
    "name": "ipython",
    "version": 3
   },
   "file_extension": ".py",
   "mimetype": "text/x-python",
   "name": "python",
   "nbconvert_exporter": "python",
   "pygments_lexer": "ipython3",
   "version": "3.12.5"
  }
 },
 "nbformat": 4,
 "nbformat_minor": 5
}
