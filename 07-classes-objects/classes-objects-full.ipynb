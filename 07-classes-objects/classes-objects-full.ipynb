{
 "cells": [
  {
   "cell_type": "markdown",
   "id": "5db77b58-fc4a-47b9-a431-354defd5014d",
   "metadata": {},
   "source": [
    "# Lecture 7 Object-Oriented Programming\n",
    "\n",
    "**Learning Objectives:**\n",
    "* Identify **classes** and **objects** and explain their roles.\n",
    "* Use **type-based dispatch** to handle various object types.\n",
    "* Create **constructors** for object initialization.\n",
    "* Use **special methods** for custom object behaviors.\n",
    "\n",
    "# Classes and Objects\n",
    "* **Class**: A blueprint for creating objects\n",
    "    * defines a set of **attributes** and **methods** that the objects of the class will have\n",
    "* **Object**: An instance of a class\n",
    "    * represents real-world entities or concepts\n",
    "    * has specific attributes and the ability to perform actions defined by methods\n",
    "* Snytax:\n",
    "    * Define a class\n",
    "      ```python\n",
    "      class ClassName: # PascalCase\n",
    "          \"\"\"\n",
    "          Class Docstring: Provides an overview of the class and its attributes.\n",
    "          \"\"\"\n",
    "\n",
    "          def class_method(parameters): # snake_case\n",
    "              \"\"\"\n",
    "              Method Docstring: Includes a description of what it does, \n",
    "                                  the parameters it takes, \n",
    "                                  and what it returns (if applicable).\n",
    "              \"\"\"\n",
    "      ```\n",
    "    * Instantiate an object: `obj = ClassName()`\n",
    "    * Access an attribute: `obj.attribute`\n",
    "    * Invoke a method: `obj.method()`\n",
    "\n",
    "## Type-based Dispatch"
   ]
  },
  {
   "cell_type": "code",
   "execution_count": 1,
   "id": "5cef0588-cef3-49e6-b2a9-8d1843a1fde3",
   "metadata": {},
   "outputs": [],
   "source": [
    "class Dog: \n",
    "    pass"
   ]
  },
  {
   "cell_type": "code",
   "execution_count": 2,
   "id": "2a8413ea-a9bc-43fe-9da6-0337bfb5e57f",
   "metadata": {},
   "outputs": [
    {
     "data": {
      "text/plain": [
       "<__main__.Dog at 0x10663c5f0>"
      ]
     },
     "execution_count": 2,
     "metadata": {},
     "output_type": "execute_result"
    }
   ],
   "source": [
    "fido = Dog()\n",
    "fido"
   ]
  },
  {
   "cell_type": "code",
   "execution_count": 3,
   "id": "f67b4fdb-d2d6-4c78-b1a0-af9e13a4f70b",
   "metadata": {},
   "outputs": [
    {
     "data": {
      "text/plain": [
       "'Fido'"
      ]
     },
     "execution_count": 3,
     "metadata": {},
     "output_type": "execute_result"
    }
   ],
   "source": [
    "# You can add an attribute outside of the class in Python.  \n",
    "# NOT possible in Java!\n",
    "fido.name = \"Fido\"\n",
    "fido.name \n",
    "# You don't need a constructor to add attributes."
   ]
  },
  {
   "cell_type": "code",
   "execution_count": 4,
   "id": "d073baa4-e0bc-427e-9c8b-7808e6f7d572",
   "metadata": {},
   "outputs": [],
   "source": [
    "# This is a standalone function. \n",
    "def speak(dog): \n",
    "    print(f\"{dog.name}: bark!\")"
   ]
  },
  {
   "cell_type": "code",
   "execution_count": 5,
   "id": "ae6a078b-b656-4d5a-86c3-cd66c3acffb3",
   "metadata": {},
   "outputs": [
    {
     "name": "stdout",
     "output_type": "stream",
     "text": [
      "Fido: bark!\n"
     ]
    }
   ],
   "source": [
    "speak(fido)"
   ]
  },
  {
   "cell_type": "code",
   "execution_count": 6,
   "id": "95acd973-6b80-4f64-a015-cc20091cf9ae",
   "metadata": {},
   "outputs": [],
   "source": [
    "class Cat: \n",
    "    pass \n",
    "\n",
    "# This is a standalone function. \n",
    "def speak(cat):\n",
    "    print(f\"{cat.name}: meow!\")"
   ]
  },
  {
   "cell_type": "code",
   "execution_count": 7,
   "id": "3cfe219f-4970-41d7-96f8-3d0d768c62de",
   "metadata": {},
   "outputs": [
    {
     "name": "stdout",
     "output_type": "stream",
     "text": [
      "Luna: meow!\n"
     ]
    }
   ],
   "source": [
    "luna = Cat()\n",
    "luna.name = \"Luna\"\n",
    "speak(luna)"
   ]
  },
  {
   "cell_type": "code",
   "execution_count": 8,
   "id": "07ec827b-a436-4ac1-a9dd-f290cf7f2a15",
   "metadata": {},
   "outputs": [
    {
     "name": "stdout",
     "output_type": "stream",
     "text": [
      "Fido: meow!\n"
     ]
    }
   ],
   "source": [
    "# Cannot have two functions with the same name. \n",
    "speak(fido)"
   ]
  },
  {
   "cell_type": "code",
   "execution_count": 9,
   "id": "b49e4e5f-9445-4df2-82ef-b24df61dd7d3",
   "metadata": {},
   "outputs": [],
   "source": [
    "class Dog: \n",
    "    # This is a method for the Dog class only. \n",
    "    def speak(dog):\n",
    "        print(f\"{dog.name}: bark!\")\n",
    "        \n",
    "class Cat: \n",
    "    # This is a method for the Cat class only. \n",
    "    def speak(cat):\n",
    "        print(f\"{cat.name}: meow!\")"
   ]
  },
  {
   "cell_type": "code",
   "execution_count": 10,
   "id": "05521f38-fed4-4d5c-95da-74ad8e5f9b3e",
   "metadata": {},
   "outputs": [],
   "source": [
    "fido = Dog()\n",
    "fido.name = \"Fido\"\n",
    "luna = Cat()\n",
    "luna.name = \"Luna\""
   ]
  },
  {
   "cell_type": "code",
   "execution_count": 11,
   "id": "15be3f71-dbcb-41ca-8975-f7bf80904919",
   "metadata": {},
   "outputs": [
    {
     "name": "stdout",
     "output_type": "stream",
     "text": [
      "Fido: bark!\n",
      "Luna: meow!\n"
     ]
    }
   ],
   "source": [
    "# You can specify the class from which the method is called.\n",
    "Dog.speak(fido)\n",
    "Cat.speak(luna)"
   ]
  },
  {
   "cell_type": "code",
   "execution_count": 12,
   "id": "7202af1c-0c6e-45ba-a78f-88111bef269e",
   "metadata": {},
   "outputs": [],
   "source": [
    "# Not ideal, what if we have more animals?\n",
    "animals = [fido, luna]"
   ]
  },
  {
   "cell_type": "code",
   "execution_count": 13,
   "id": "ac93b219-4a70-4a5d-930f-4c0e21a035e9",
   "metadata": {},
   "outputs": [
    {
     "name": "stdout",
     "output_type": "stream",
     "text": [
      "<class '__main__.Dog'>\n",
      "<class '__main__.Cat'>\n"
     ]
    }
   ],
   "source": [
    "print(type(fido))\n",
    "print(type(luna))"
   ]
  },
  {
   "cell_type": "code",
   "execution_count": 14,
   "id": "c065fad3-e955-4683-8639-84f5a925f0ba",
   "metadata": {},
   "outputs": [
    {
     "name": "stdout",
     "output_type": "stream",
     "text": [
      "Fido: bark!\n",
      "Luna: meow!\n"
     ]
    }
   ],
   "source": [
    "for animal in animals: \n",
    "    if isinstance(animal, Dog): \n",
    "        Dog.speak(animal)\n",
    "    elif isinstance(animal, Cat): \n",
    "        Cat.speak(animal)"
   ]
  },
  {
   "cell_type": "code",
   "execution_count": 15,
   "id": "abfd3963-bf03-4f35-beec-234a2f1c5a2b",
   "metadata": {},
   "outputs": [
    {
     "name": "stdout",
     "output_type": "stream",
     "text": [
      "Fido: bark!\n",
      "Luna: meow!\n"
     ]
    }
   ],
   "source": [
    "# Or shorter\n",
    "for animal in animals: \n",
    "    type(animal).speak(animal)"
   ]
  },
  {
   "cell_type": "code",
   "execution_count": 16,
   "id": "c4a41aad-04fd-4990-b39c-46c4d2ceecb3",
   "metadata": {},
   "outputs": [
    {
     "name": "stdout",
     "output_type": "stream",
     "text": [
      "Fido: bark!\n",
      "Luna: meow!\n"
     ]
    }
   ],
   "source": [
    "# Or even shorter\n",
    "for animal in animals: \n",
    "    animal.speak() # Python internally translates to type(animal).speak(animal)"
   ]
  },
  {
   "cell_type": "code",
   "execution_count": 17,
   "id": "6d2e9bf7-580e-4a73-a761-e1b7ff729369",
   "metadata": {},
   "outputs": [
    {
     "name": "stdout",
     "output_type": "stream",
     "text": [
      "Fido: bark!\n"
     ]
    }
   ],
   "source": [
    "# This is type-based dispatch\n",
    "fido.speak() # type(fido).speak(fido)"
   ]
  },
  {
   "cell_type": "code",
   "execution_count": 18,
   "id": "1b36c650-ef1f-4e9d-9119-dfe1115ce605",
   "metadata": {},
   "outputs": [
    {
     "name": "stdout",
     "output_type": "stream",
     "text": [
      "Luna: meow!\n"
     ]
    }
   ],
   "source": [
    "luna.speak() # type(luna).speak(luna)"
   ]
  },
  {
   "cell_type": "markdown",
   "id": "bb0cf096-2b1d-4a2c-81f4-8bac3a235d0b",
   "metadata": {},
   "source": [
    "### `self` keyword\n",
    "* represents the instance of the class\n",
    "* equivalent to `this` in Java"
   ]
  },
  {
   "cell_type": "code",
   "execution_count": 19,
   "id": "d236f498-60a4-4fde-a380-70796b0aafdf",
   "metadata": {},
   "outputs": [],
   "source": [
    "class Dog: \n",
    "    # This is a method for the Dog class only. \n",
    "    def speak(self):\n",
    "        print(f\"{self.name}: bark!\")\n",
    "        \n",
    "class Cat: \n",
    "    # This is a method for the Cat class only. \n",
    "    def speak(self):\n",
    "        print(f\"{self.name}: meow!\")"
   ]
  },
  {
   "cell_type": "code",
   "execution_count": 20,
   "id": "890b6f54-b794-4c20-8423-4044a99cc3f2",
   "metadata": {},
   "outputs": [
    {
     "name": "stdout",
     "output_type": "stream",
     "text": [
      "Fido: bark!\n",
      "Luna: meow!\n"
     ]
    }
   ],
   "source": [
    "fido.speak()\n",
    "luna.speak()"
   ]
  },
  {
   "cell_type": "markdown",
   "id": "fad06e34-1830-402b-a84c-f9121ae47e2c",
   "metadata": {},
   "source": [
    "### `__init__()` method\n",
    "* initializer (constructor) method"
   ]
  },
  {
   "cell_type": "code",
   "execution_count": 21,
   "id": "90b59d10-c3e1-4dd8-8ba7-6ac7dda5ca26",
   "metadata": {},
   "outputs": [
    {
     "ename": "AttributeError",
     "evalue": "'Dog' object has no attribute 'name'",
     "output_type": "error",
     "traceback": [
      "\u001b[0;31m---------------------------------------------------------------------------\u001b[0m",
      "\u001b[0;31mAttributeError\u001b[0m                            Traceback (most recent call last)",
      "Cell \u001b[0;32mIn[21], line 3\u001b[0m\n\u001b[1;32m      1\u001b[0m \u001b[38;5;66;03m# We need a way to keep track of attributes!\u001b[39;00m\n\u001b[1;32m      2\u001b[0m bella \u001b[38;5;241m=\u001b[39m Dog()\n\u001b[0;32m----> 3\u001b[0m \u001b[43mbella\u001b[49m\u001b[38;5;241;43m.\u001b[39;49m\u001b[43mspeak\u001b[49m\u001b[43m(\u001b[49m\u001b[43m)\u001b[49m\n",
      "Cell \u001b[0;32mIn[19], line 4\u001b[0m, in \u001b[0;36mDog.speak\u001b[0;34m(self)\u001b[0m\n\u001b[1;32m      3\u001b[0m \u001b[38;5;28;01mdef\u001b[39;00m \u001b[38;5;21mspeak\u001b[39m(\u001b[38;5;28mself\u001b[39m):\n\u001b[0;32m----> 4\u001b[0m     \u001b[38;5;28mprint\u001b[39m(\u001b[38;5;124mf\u001b[39m\u001b[38;5;124m\"\u001b[39m\u001b[38;5;132;01m{\u001b[39;00m\u001b[38;5;28;43mself\u001b[39;49m\u001b[38;5;241;43m.\u001b[39;49m\u001b[43mname\u001b[49m\u001b[38;5;132;01m}\u001b[39;00m\u001b[38;5;124m: bark!\u001b[39m\u001b[38;5;124m\"\u001b[39m)\n",
      "\u001b[0;31mAttributeError\u001b[0m: 'Dog' object has no attribute 'name'"
     ]
    }
   ],
   "source": [
    "# We need a way to keep track of attributes!\n",
    "bella = Dog()\n",
    "bella.speak()"
   ]
  },
  {
   "cell_type": "code",
   "execution_count": 22,
   "id": "65eccd20-df49-44fa-90d3-6212a6cc915e",
   "metadata": {},
   "outputs": [],
   "source": [
    "class Dog: \n",
    "    def __init__(self, name, age): \n",
    "        self.name = name\n",
    "        self.age = age\n",
    "        \n",
    "    def speak(self):\n",
    "        print(f\"{self.name}: bark!\")"
   ]
  },
  {
   "cell_type": "code",
   "execution_count": 23,
   "id": "1057252d-a139-4cce-a980-7c69b99c8ca9",
   "metadata": {},
   "outputs": [
    {
     "data": {
      "text/plain": [
       "('Bella', 2)"
      ]
     },
     "execution_count": 23,
     "metadata": {},
     "output_type": "execute_result"
    }
   ],
   "source": [
    "bella = Dog(\"Bella\", 2) # automatically/implicitly invokes Dog.__init__(bella, \"Bella\", 2)\n",
    "bella.name, bella.age"
   ]
  },
  {
   "cell_type": "code",
   "execution_count": 24,
   "id": "8ba703ec-0642-4161-a0ce-e45f14161e09",
   "metadata": {},
   "outputs": [
    {
     "ename": "TypeError",
     "evalue": "Dog.__init__() missing 1 required positional argument: 'age'",
     "output_type": "error",
     "traceback": [
      "\u001b[0;31m---------------------------------------------------------------------------\u001b[0m",
      "\u001b[0;31mTypeError\u001b[0m                                 Traceback (most recent call last)",
      "Cell \u001b[0;32mIn[24], line 10\u001b[0m\n\u001b[1;32m      7\u001b[0m         \u001b[38;5;28mself\u001b[39m\u001b[38;5;241m.\u001b[39mname \u001b[38;5;241m=\u001b[39m name\n\u001b[1;32m      8\u001b[0m         \u001b[38;5;28mself\u001b[39m\u001b[38;5;241m.\u001b[39mage \u001b[38;5;241m=\u001b[39m age\n\u001b[0;32m---> 10\u001b[0m \u001b[43mDog\u001b[49m\u001b[43m(\u001b[49m\u001b[38;5;124;43m\"\u001b[39;49m\u001b[38;5;124;43mBella\u001b[39;49m\u001b[38;5;124;43m\"\u001b[39;49m\u001b[43m)\u001b[49m\n",
      "\u001b[0;31mTypeError\u001b[0m: Dog.__init__() missing 1 required positional argument: 'age'"
     ]
    }
   ],
   "source": [
    "# You can only have one __init__() method!\n",
    "class Dog: \n",
    "    def __init__(self, name): \n",
    "        self.name = name\n",
    "        \n",
    "    def __init__(self, name, age): \n",
    "        self.name = name\n",
    "        self.age = age\n",
    "        \n",
    "Dog(\"Bella\")"
   ]
  },
  {
   "cell_type": "code",
   "execution_count": 25,
   "id": "ba82d3b4-30c6-4a62-82c6-dd4d05667003",
   "metadata": {},
   "outputs": [
    {
     "data": {
      "text/plain": [
       "('Bella', None)"
      ]
     },
     "execution_count": 25,
     "metadata": {},
     "output_type": "execute_result"
    }
   ],
   "source": [
    "class Dog: \n",
    "    # but you can use default values\n",
    "    def __init__(self, name, age=None): \n",
    "        self.name = name\n",
    "        self.age = age\n",
    "        \n",
    "bella = Dog(\"Bella\")\n",
    "bella.name, bella.age"
   ]
  },
  {
   "cell_type": "markdown",
   "id": "bf2b54f3-efb4-4e13-a18a-82f51963bb04",
   "metadata": {},
   "source": [
    "## Special Attributes / Methods\n",
    "\n",
    "* begin and end with double underscores\n",
    "    * but **NOT** all attributes / methods that begin and end with double underscores are special\n",
    "* only the ones listed in [special attributes](https://docs.python.org/3/reference/datamodel.html#special-attributes) and [special methods](https://docs.python.org/3/reference/datamodel.html#special-method-names) are special\n",
    "* defined in the `object` class that all other classes inherit\n",
    "* allow classes to interact with built-in operators and functions"
   ]
  },
  {
   "cell_type": "code",
   "execution_count": 26,
   "id": "76262915-2ec0-4da5-87c3-dcc05b8c4702",
   "metadata": {},
   "outputs": [],
   "source": [
    "class Circle:\n",
    "    \"\"\"\n",
    "    A class to represent a circle.\n",
    "\n",
    "    Attributes\n",
    "    ----------\n",
    "    radius : float\n",
    "        The radius of the circle.\n",
    "    \"\"\"\n",
    "\n",
    "    def __init__(self, radius):\n",
    "        \"\"\"\n",
    "        Initializes a new Circle instance with the specified radius.\n",
    "\n",
    "        Parameters\n",
    "        ----------\n",
    "        radius : float\n",
    "            The radius of the circle.\n",
    "        \"\"\"\n",
    "        self.radius = radius\n",
    "\n",
    "    def __str__(self):\n",
    "        \"\"\"\n",
    "        Returns a human-readable string representation of the Circle.\n",
    "\n",
    "        Returns\n",
    "        -------\n",
    "        str\n",
    "            A string representing the circle in a user-friendly format.\n",
    "        \"\"\"\n",
    "        return f\"Circle with radius {self.radius}\"\n",
    "\n",
    "    def __repr__(self):\n",
    "        \"\"\"\n",
    "        Returns a string representation of the Circle for debugging.\n",
    "\n",
    "        Returns\n",
    "        -------\n",
    "        str\n",
    "            A string representation of the Circle instance for developers.\n",
    "        \"\"\"\n",
    "        return f\"Circle(radius={self.radius})\"\n",
    "    \n",
    "    def __eq__(self, other):\n",
    "        \"\"\"\n",
    "        Checks if two circles are equal based on their radius.\n",
    "\n",
    "        Parameters\n",
    "        ----------\n",
    "        other : Circle\n",
    "            Another Circle instance to compare with.\n",
    "\n",
    "        Returns\n",
    "        -------\n",
    "        bool\n",
    "            True if the two circles have the same radius, False otherwise.\n",
    "        \"\"\"\n",
    "        return self.radius == other.radius\n",
    "\n",
    "    def __lt__(self, other):\n",
    "        \"\"\"\n",
    "        Checks if the radius of this circle is less than another circle.\n",
    "\n",
    "        Parameters\n",
    "        ----------\n",
    "        other : Circle\n",
    "            Another Circle instance to compare with.\n",
    "\n",
    "        Returns\n",
    "        -------\n",
    "        bool\n",
    "            True if this circle's radius is smaller, False otherwise.\n",
    "        \"\"\"\n",
    "        return self.radius < other.radius"
   ]
  },
  {
   "cell_type": "markdown",
   "id": "b59670ad-9471-4c32-9fc0-000149ea51e0",
   "metadata": {},
   "source": [
    "## Special Attributes\n",
    "* provides metadata or information about the class or instance"
   ]
  },
  {
   "cell_type": "markdown",
   "id": "6fa0fd81-fa48-4276-a107-f57f3ec80d43",
   "metadata": {},
   "source": [
    "### Class special attributes"
   ]
  },
  {
   "cell_type": "code",
   "execution_count": 27,
   "id": "2e27b147-e7a4-41f6-b2ca-f092ee4b2fc1",
   "metadata": {},
   "outputs": [
    {
     "data": {
      "text/plain": [
       "'Circle'"
      ]
     },
     "execution_count": 27,
     "metadata": {},
     "output_type": "execute_result"
    }
   ],
   "source": [
    "# The class’s name\n",
    "Circle.__name__"
   ]
  },
  {
   "cell_type": "code",
   "execution_count": 28,
   "id": "adc64cd6-a294-45f3-b700-87cdc9a76ac1",
   "metadata": {},
   "outputs": [
    {
     "name": "stdout",
     "output_type": "stream",
     "text": [
      "\n",
      "    A class to represent a circle.\n",
      "\n",
      "    Attributes\n",
      "    ----------\n",
      "    radius : float\n",
      "        The radius of the circle.\n",
      "    \n"
     ]
    }
   ],
   "source": [
    "# The class’s documentation string\n",
    "print(Circle.__doc__)"
   ]
  },
  {
   "cell_type": "code",
   "execution_count": 29,
   "id": "8bac21ce-b6b3-42f4-9cea-39fcf9387733",
   "metadata": {},
   "outputs": [
    {
     "data": {
      "text/plain": [
       "mappingproxy({'__module__': '__main__',\n",
       "              '__doc__': '\\n    A class to represent a circle.\\n\\n    Attributes\\n    ----------\\n    radius : float\\n        The radius of the circle.\\n    ',\n",
       "              '__init__': <function __main__.Circle.__init__(self, radius)>,\n",
       "              '__str__': <function __main__.Circle.__str__(self)>,\n",
       "              '__repr__': <function __main__.Circle.__repr__(self)>,\n",
       "              '__eq__': <function __main__.Circle.__eq__(self, other)>,\n",
       "              '__lt__': <function __main__.Circle.__lt__(self, other)>,\n",
       "              '__dict__': <attribute '__dict__' of 'Circle' objects>,\n",
       "              '__weakref__': <attribute '__weakref__' of 'Circle' objects>,\n",
       "              '__hash__': None})"
      ]
     },
     "execution_count": 29,
     "metadata": {},
     "output_type": "execute_result"
    }
   ],
   "source": [
    "# The class’s namespace\n",
    "Circle.__dict__"
   ]
  },
  {
   "cell_type": "code",
   "execution_count": 30,
   "id": "3d03a02f-1a9c-4e7e-a381-a1a4fdc6fced",
   "metadata": {},
   "outputs": [
    {
     "data": {
      "text/plain": [
       "(__main__.Circle, object)"
      ]
     },
     "execution_count": 30,
     "metadata": {},
     "output_type": "execute_result"
    }
   ],
   "source": [
    "# The class’s method resolution order\n",
    "Circle.__mro__"
   ]
  },
  {
   "cell_type": "code",
   "execution_count": 31,
   "id": "c4f4b126-559f-40cb-aead-cafb9f2e8ef2",
   "metadata": {},
   "outputs": [
    {
     "data": {
      "text/plain": [
       "[__main__.Circle, object]"
      ]
     },
     "execution_count": 31,
     "metadata": {},
     "output_type": "execute_result"
    }
   ],
   "source": [
    "Circle.mro()"
   ]
  },
  {
   "cell_type": "markdown",
   "id": "f39131dd-2ff2-4c98-a0bd-2a5236382e6e",
   "metadata": {},
   "source": [
    "### Object special attributes"
   ]
  },
  {
   "cell_type": "code",
   "execution_count": 32,
   "id": "d3fa6ff6-144a-455c-95c4-8d8732e30985",
   "metadata": {},
   "outputs": [
    {
     "data": {
      "text/plain": [
       "__main__.Circle"
      ]
     },
     "execution_count": 32,
     "metadata": {},
     "output_type": "execute_result"
    }
   ],
   "source": [
    "c1 = Circle(3)\n",
    "# The class to which a class instance belongs\n",
    "c1.__class__"
   ]
  },
  {
   "cell_type": "code",
   "execution_count": 33,
   "id": "36fa3e92-6682-4b21-a0de-438c154463bf",
   "metadata": {},
   "outputs": [
    {
     "data": {
      "text/plain": [
       "__main__.Circle"
      ]
     },
     "execution_count": 33,
     "metadata": {},
     "output_type": "execute_result"
    }
   ],
   "source": [
    "type(c1)"
   ]
  },
  {
   "cell_type": "code",
   "execution_count": 34,
   "id": "dd9944db-c0d9-4f21-90fd-93c26e632910",
   "metadata": {},
   "outputs": [
    {
     "data": {
      "text/plain": [
       "{'radius': 3}"
      ]
     },
     "execution_count": 34,
     "metadata": {},
     "output_type": "execute_result"
    }
   ],
   "source": [
    "# The object's attributes\n",
    "c1.__dict__"
   ]
  },
  {
   "cell_type": "markdown",
   "id": "8888be95-2160-4c28-9a33-bcc679715edc",
   "metadata": {},
   "source": [
    "## Special Methods\n",
    "### `__str__()` and `__repr__()`\n",
    "* `__str__()` returns a human-readable string representation for the object\n",
    "    * implicitly invoke when `str()`, `print()`, or `format()` is called on the object\n",
    "* `__repr__()` returns a developer-friendly string\n",
    "    * useful for debugging\n",
    "    * typically includes more precise details about the instance"
   ]
  },
  {
   "cell_type": "code",
   "execution_count": 35,
   "id": "336187d7-0b70-4412-90e7-5682dc950783",
   "metadata": {},
   "outputs": [
    {
     "data": {
      "text/plain": [
       "'Circle with radius 3'"
      ]
     },
     "execution_count": 35,
     "metadata": {},
     "output_type": "execute_result"
    }
   ],
   "source": [
    "str(c1) # implicitly invokes c1.__str__()"
   ]
  },
  {
   "cell_type": "code",
   "execution_count": 36,
   "id": "cecda45e-87a1-4227-81f3-dc6be982b9eb",
   "metadata": {},
   "outputs": [
    {
     "name": "stdout",
     "output_type": "stream",
     "text": [
      "Circle with radius 3\n"
     ]
    }
   ],
   "source": [
    "print(c1) # implicitly invokes c1.__str__()"
   ]
  },
  {
   "cell_type": "code",
   "execution_count": 37,
   "id": "c45e1043-50a7-414c-87db-c6b4a10170b7",
   "metadata": {},
   "outputs": [
    {
     "data": {
      "text/plain": [
       "'Circle with radius 3'"
      ]
     },
     "execution_count": 37,
     "metadata": {},
     "output_type": "execute_result"
    }
   ],
   "source": [
    "format(c1) # implicitly invokes c1.__str__()"
   ]
  },
  {
   "cell_type": "code",
   "execution_count": 38,
   "id": "da5ca5de-d43a-4ef8-bc59-05e3ce707a09",
   "metadata": {},
   "outputs": [
    {
     "data": {
      "text/plain": [
       "'Circle(radius=3)'"
      ]
     },
     "execution_count": 38,
     "metadata": {},
     "output_type": "execute_result"
    }
   ],
   "source": [
    "repr(c1) # implicitly invokes c1.__repr__()"
   ]
  },
  {
   "cell_type": "code",
   "execution_count": 39,
   "id": "9b5f24c0-3e00-4e81-8ea6-384fe29a3025",
   "metadata": {},
   "outputs": [
    {
     "data": {
      "text/plain": [
       "Circle(radius=3)"
      ]
     },
     "execution_count": 39,
     "metadata": {},
     "output_type": "execute_result"
    }
   ],
   "source": [
    "c1 # implicitly invokes c1.__repr__()"
   ]
  },
  {
   "cell_type": "markdown",
   "id": "2715f111-10cb-4038-a113-b799302bc82d",
   "metadata": {},
   "source": [
    "### Comparison special methods"
   ]
  },
  {
   "cell_type": "code",
   "execution_count": 40,
   "id": "98e525e6-4413-4134-bd65-3355c697a6b5",
   "metadata": {},
   "outputs": [
    {
     "data": {
      "text/plain": [
       "Circle(radius=4)"
      ]
     },
     "execution_count": 40,
     "metadata": {},
     "output_type": "execute_result"
    }
   ],
   "source": [
    "c2 = Circle(4)\n",
    "c2"
   ]
  },
  {
   "cell_type": "code",
   "execution_count": 41,
   "id": "1eb15575-d113-48a3-a622-2a2577aced38",
   "metadata": {},
   "outputs": [
    {
     "data": {
      "text/plain": [
       "False"
      ]
     },
     "execution_count": 41,
     "metadata": {},
     "output_type": "execute_result"
    }
   ],
   "source": [
    "c1 == c2 # implicitly invokes c1.__eq__(c2)"
   ]
  },
  {
   "cell_type": "code",
   "execution_count": 42,
   "id": "cb22bd11-1c22-4022-85b6-f9b0a8f9d32a",
   "metadata": {},
   "outputs": [
    {
     "data": {
      "text/plain": [
       "True"
      ]
     },
     "execution_count": 42,
     "metadata": {},
     "output_type": "execute_result"
    }
   ],
   "source": [
    "c1 != c2 # implicitly invokes c1.__eq__(c2)"
   ]
  },
  {
   "cell_type": "code",
   "execution_count": 43,
   "id": "b035d958-0a4c-44b8-b220-87f4dd45ee08",
   "metadata": {},
   "outputs": [
    {
     "data": {
      "text/plain": [
       "True"
      ]
     },
     "execution_count": 43,
     "metadata": {},
     "output_type": "execute_result"
    }
   ],
   "source": [
    "c1 < c2 # implicitly invokes c1.__lt__(c2)"
   ]
  },
  {
   "cell_type": "code",
   "execution_count": 44,
   "id": "138ef360-0fc7-4836-bfed-87abd5e7c3f5",
   "metadata": {},
   "outputs": [
    {
     "data": {
      "text/plain": [
       "False"
      ]
     },
     "execution_count": 44,
     "metadata": {},
     "output_type": "execute_result"
    }
   ],
   "source": [
    "c1 > c2 # implicitly invokes c1.__lt__(c2)"
   ]
  },
  {
   "cell_type": "code",
   "execution_count": 45,
   "id": "93ca8f40-1d10-40ae-9c98-0c8be060725f",
   "metadata": {},
   "outputs": [
    {
     "ename": "TypeError",
     "evalue": "'<=' not supported between instances of 'Circle' and 'Circle'",
     "output_type": "error",
     "traceback": [
      "\u001b[0;31m---------------------------------------------------------------------------\u001b[0m",
      "\u001b[0;31mTypeError\u001b[0m                                 Traceback (most recent call last)",
      "Cell \u001b[0;32mIn[45], line 1\u001b[0m\n\u001b[0;32m----> 1\u001b[0m \u001b[43mc1\u001b[49m\u001b[43m \u001b[49m\u001b[38;5;241;43m<\u001b[39;49m\u001b[38;5;241;43m=\u001b[39;49m\u001b[43m \u001b[49m\u001b[43mc2\u001b[49m\n",
      "\u001b[0;31mTypeError\u001b[0m: '<=' not supported between instances of 'Circle' and 'Circle'"
     ]
    }
   ],
   "source": [
    "c1 <= c2"
   ]
  },
  {
   "cell_type": "code",
   "execution_count": 46,
   "id": "b32efe06-2197-4483-b729-335fe3d6a21b",
   "metadata": {},
   "outputs": [
    {
     "ename": "TypeError",
     "evalue": "'>=' not supported between instances of 'Circle' and 'Circle'",
     "output_type": "error",
     "traceback": [
      "\u001b[0;31m---------------------------------------------------------------------------\u001b[0m",
      "\u001b[0;31mTypeError\u001b[0m                                 Traceback (most recent call last)",
      "Cell \u001b[0;32mIn[46], line 1\u001b[0m\n\u001b[0;32m----> 1\u001b[0m \u001b[43mc1\u001b[49m\u001b[43m \u001b[49m\u001b[38;5;241;43m>\u001b[39;49m\u001b[38;5;241;43m=\u001b[39;49m\u001b[43m \u001b[49m\u001b[43mc2\u001b[49m\n",
      "\u001b[0;31mTypeError\u001b[0m: '>=' not supported between instances of 'Circle' and 'Circle'"
     ]
    }
   ],
   "source": [
    "c1 >= c2"
   ]
  },
  {
   "cell_type": "code",
   "execution_count": 47,
   "id": "9e5d41e6-0ddc-4ebb-a373-8f235a99dcbd",
   "metadata": {},
   "outputs": [],
   "source": [
    "circles = [Circle(5), Circle(3), Circle(4), Circle(7), Circle(6)]"
   ]
  },
  {
   "cell_type": "code",
   "execution_count": 48,
   "id": "dfa6d1cb-e363-4014-bc91-0d66534b253b",
   "metadata": {},
   "outputs": [
    {
     "data": {
      "text/plain": [
       "[Circle(radius=3),\n",
       " Circle(radius=4),\n",
       " Circle(radius=5),\n",
       " Circle(radius=6),\n",
       " Circle(radius=7)]"
      ]
     },
     "execution_count": 48,
     "metadata": {},
     "output_type": "execute_result"
    }
   ],
   "source": [
    "# implicitly invokes __lt__() when sorting\n",
    "circles.sort()\n",
    "circles"
   ]
  },
  {
   "cell_type": "markdown",
   "id": "c31b82a3-b56d-41a9-9486-5f851798a99e",
   "metadata": {},
   "source": [
    "### Other special methods\n",
    "* Unary Operations\n",
    "    * `__neg__(self)` => `-self`\n",
    "    * `__pos__(self)` => `+self`\n",
    "    * `__abs__(self)` => `abs(self)`\n",
    "* Arithmetic Operations\n",
    "    * `__add__(self, other)` => `self + other`\n",
    "    * `__sub__(self, other)` => `self - other`\n",
    "    * `__mul__(self, other)` => `self * other`\n",
    "    * `__truediv__(self, other)` => `self / other`\n",
    "    * `__floordiv__(self, other)` => `self // other`\n",
    "    * `__mod__(self, other)` => `self % other`\n",
    "    * `__pow__(self, other)` => `self ** other`\n",
    "* Binary Operations\n",
    "    * `__and__(self, other)` => `self & other`\n",
    "    * `__or__(self, other)` => `self | other`\n",
    "    * `__xor__(self, other)` => `self ^ other`\n",
    "* Type Conversion\n",
    "    * `__int__(self)` => `int(self)`\n",
    "    * `__float__(self)` => `int(slef)`\n",
    "    * `__bool__(self)` => `bool(self)`\n",
    "* and many more"
   ]
  },
  {
   "cell_type": "markdown",
   "id": "8b9b4155-8ec1-40e1-a199-6b7aaeed61e2",
   "metadata": {},
   "source": [
    "## Implement a Simple Range class\n",
    "* with NO negative indexing or steps\n",
    "\n",
    "### Special methods of sequence objects\n",
    "* Length\n",
    "    * `__len__(self)` => `len(self)`\n",
    "* Indexing and slicing\n",
    "    * `__getitem__(self, idx)` => `self[idx]`\n",
    "    * `__setitem__(self, idx, value)` => `self[idx] = value` for **mutable** seq objs only\n",
    "    * `__delitem__(self, idx)` => `del self[idx]` for **mutable** seq objs only\n",
    "* Iteration\n",
    "    * `__iter__(self)` => `for i in self: `\n",
    " \n",
    "### Special methods of iterable objects\n",
    "* `__iter__(self)` => `iter(self)`\n",
    "\n",
    "### Special methods of iterator objects\n",
    "* `__iter__(self)` => `iter(self)`\n",
    "* `__next__(self)` => `next(self)`"
   ]
  },
  {
   "cell_type": "code",
   "execution_count": 49,
   "id": "95ad8db7-1c82-4c6e-ac13-2c5e07fc4977",
   "metadata": {},
   "outputs": [],
   "source": [
    "class Range:\n",
    "    def __init__(self, start, stop=None, step=1):\n",
    "        if stop is None:  # Handle the case where only one argument is provided\n",
    "            start, stop = 0, start\n",
    "        if step <= 0:\n",
    "            raise NotImplementedError(\"Negative steps are not supported yet.\")\n",
    "        self.start = start\n",
    "        self.stop = stop\n",
    "        self.step = step\n",
    "\n",
    "    def __repr__(self): \n",
    "        return f\"range(start={self.start}, stop={self.stop}, step={self.step})\"\n",
    "\n",
    "    def __len__(self):\n",
    "        if self.start >= self.stop:\n",
    "            return 0\n",
    "        return (self.stop - self.start + self.step - 1) // self.step\n",
    "\n",
    "    def __getitem__(self, index):\n",
    "        if index < 0: \n",
    "            raise NotImplementedError(\"Negative indexing is not supported yet.\")\n",
    "        if index >= len(self):  \n",
    "            raise IndexError(\"Index out of range.\")\n",
    "        \n",
    "        value = self.start + index * self.step\n",
    "        return value\n",
    "\n",
    "    def __iter__(self):\n",
    "        return RangeIterator(self.start, self.stop, self.step)\n",
    "\n",
    "class RangeIterator:\n",
    "    def __init__(self, start, stop, step):\n",
    "        self.current = start\n",
    "        self.stop = stop\n",
    "        self.step = step\n",
    "\n",
    "    def __iter__(self):\n",
    "        return self\n",
    "\n",
    "    def __next__(self):\n",
    "        if self.current >= self.stop:\n",
    "            raise StopIteration\n",
    "        \n",
    "        current_value = self.current\n",
    "        self.current += self.step\n",
    "        return current_value"
   ]
  },
  {
   "cell_type": "code",
   "execution_count": 50,
   "id": "23e3644e-f78e-4a9b-9735-09878b6ab90b",
   "metadata": {},
   "outputs": [
    {
     "data": {
      "text/plain": [
       "range(start=0, stop=10, step=1)"
      ]
     },
     "execution_count": 50,
     "metadata": {},
     "output_type": "execute_result"
    }
   ],
   "source": [
    "# implement __init__ and __repr__\n",
    "Range(10)"
   ]
  },
  {
   "cell_type": "code",
   "execution_count": 51,
   "id": "eda5659e-d2a1-49cf-8b35-ed3a14093f19",
   "metadata": {},
   "outputs": [
    {
     "data": {
      "text/plain": [
       "range(start=2, stop=10, step=1)"
      ]
     },
     "execution_count": 51,
     "metadata": {},
     "output_type": "execute_result"
    }
   ],
   "source": [
    "Range(2, 10)"
   ]
  },
  {
   "cell_type": "code",
   "execution_count": 52,
   "id": "507a4ce8-c4bc-4dec-a5c1-30c6cdd43296",
   "metadata": {},
   "outputs": [
    {
     "data": {
      "text/plain": [
       "range(start=2, stop=10, step=3)"
      ]
     },
     "execution_count": 52,
     "metadata": {},
     "output_type": "execute_result"
    }
   ],
   "source": [
    "Range(2, 10, 3)"
   ]
  },
  {
   "cell_type": "code",
   "execution_count": 53,
   "id": "7ef9abd5-4126-4969-8026-0af18313c43c",
   "metadata": {},
   "outputs": [
    {
     "ename": "NotImplementedError",
     "evalue": "Negative steps are not supported yet.",
     "output_type": "error",
     "traceback": [
      "\u001b[0;31m---------------------------------------------------------------------------\u001b[0m",
      "\u001b[0;31mNotImplementedError\u001b[0m                       Traceback (most recent call last)",
      "Cell \u001b[0;32mIn[53], line 1\u001b[0m\n\u001b[0;32m----> 1\u001b[0m \u001b[43mRange\u001b[49m\u001b[43m(\u001b[49m\u001b[38;5;241;43m10\u001b[39;49m\u001b[43m,\u001b[49m\u001b[43m \u001b[49m\u001b[38;5;241;43m2\u001b[39;49m\u001b[43m,\u001b[49m\u001b[43m \u001b[49m\u001b[38;5;241;43m-\u001b[39;49m\u001b[38;5;241;43m1\u001b[39;49m\u001b[43m)\u001b[49m\n",
      "Cell \u001b[0;32mIn[49], line 6\u001b[0m, in \u001b[0;36mRange.__init__\u001b[0;34m(self, start, stop, step)\u001b[0m\n\u001b[1;32m      4\u001b[0m     start, stop \u001b[38;5;241m=\u001b[39m \u001b[38;5;241m0\u001b[39m, start\n\u001b[1;32m      5\u001b[0m \u001b[38;5;28;01mif\u001b[39;00m step \u001b[38;5;241m<\u001b[39m\u001b[38;5;241m=\u001b[39m \u001b[38;5;241m0\u001b[39m:\n\u001b[0;32m----> 6\u001b[0m     \u001b[38;5;28;01mraise\u001b[39;00m \u001b[38;5;167;01mNotImplementedError\u001b[39;00m(\u001b[38;5;124m\"\u001b[39m\u001b[38;5;124mNegative steps are not supported yet.\u001b[39m\u001b[38;5;124m\"\u001b[39m)\n\u001b[1;32m      7\u001b[0m \u001b[38;5;28mself\u001b[39m\u001b[38;5;241m.\u001b[39mstart \u001b[38;5;241m=\u001b[39m start\n\u001b[1;32m      8\u001b[0m \u001b[38;5;28mself\u001b[39m\u001b[38;5;241m.\u001b[39mstop \u001b[38;5;241m=\u001b[39m stop\n",
      "\u001b[0;31mNotImplementedError\u001b[0m: Negative steps are not supported yet."
     ]
    }
   ],
   "source": [
    "Range(10, 2, -1)"
   ]
  },
  {
   "cell_type": "code",
   "execution_count": 54,
   "id": "1a321111-e631-4a31-b849-ab3e8120727a",
   "metadata": {},
   "outputs": [
    {
     "data": {
      "text/plain": [
       "10"
      ]
     },
     "execution_count": 54,
     "metadata": {},
     "output_type": "execute_result"
    }
   ],
   "source": [
    "# implement __len__\n",
    "r = Range(10)\n",
    "len(r)"
   ]
  },
  {
   "cell_type": "code",
   "execution_count": 55,
   "id": "870dcf11-581e-436f-8fbf-2520b46ae89f",
   "metadata": {},
   "outputs": [
    {
     "data": {
      "text/plain": [
       "8"
      ]
     },
     "execution_count": 55,
     "metadata": {},
     "output_type": "execute_result"
    }
   ],
   "source": [
    "r = Range(2, 10)\n",
    "len(r)"
   ]
  },
  {
   "cell_type": "code",
   "execution_count": 56,
   "id": "f81f3e16-0ccd-4bd6-a6e1-894444176dca",
   "metadata": {},
   "outputs": [
    {
     "data": {
      "text/plain": [
       "3"
      ]
     },
     "execution_count": 56,
     "metadata": {},
     "output_type": "execute_result"
    }
   ],
   "source": [
    "r = Range(2, 10, 3)\n",
    "len(r)"
   ]
  },
  {
   "cell_type": "code",
   "execution_count": 57,
   "id": "e90fa4ff-e86f-401d-822e-0f243f2bb896",
   "metadata": {},
   "outputs": [
    {
     "data": {
      "text/plain": [
       "2"
      ]
     },
     "execution_count": 57,
     "metadata": {},
     "output_type": "execute_result"
    }
   ],
   "source": [
    "# implement __getitem__\n",
    "r = Range(2, 10)\n",
    "r[0]"
   ]
  },
  {
   "cell_type": "code",
   "execution_count": 58,
   "id": "78bb820c-7b27-4340-8c30-7f116ed75975",
   "metadata": {},
   "outputs": [
    {
     "ename": "IndexError",
     "evalue": "Index out of range.",
     "output_type": "error",
     "traceback": [
      "\u001b[0;31m---------------------------------------------------------------------------\u001b[0m",
      "\u001b[0;31mIndexError\u001b[0m                                Traceback (most recent call last)",
      "Cell \u001b[0;32mIn[58], line 1\u001b[0m\n\u001b[0;32m----> 1\u001b[0m \u001b[43mr\u001b[49m\u001b[43m[\u001b[49m\u001b[38;5;241;43m10\u001b[39;49m\u001b[43m]\u001b[49m\n",
      "Cell \u001b[0;32mIn[49], line 23\u001b[0m, in \u001b[0;36mRange.__getitem__\u001b[0;34m(self, index)\u001b[0m\n\u001b[1;32m     21\u001b[0m     \u001b[38;5;28;01mraise\u001b[39;00m \u001b[38;5;167;01mNotImplementedError\u001b[39;00m(\u001b[38;5;124m\"\u001b[39m\u001b[38;5;124mNegative indexing is not supported yet.\u001b[39m\u001b[38;5;124m\"\u001b[39m)\n\u001b[1;32m     22\u001b[0m \u001b[38;5;28;01mif\u001b[39;00m index \u001b[38;5;241m>\u001b[39m\u001b[38;5;241m=\u001b[39m \u001b[38;5;28mlen\u001b[39m(\u001b[38;5;28mself\u001b[39m):  \n\u001b[0;32m---> 23\u001b[0m     \u001b[38;5;28;01mraise\u001b[39;00m \u001b[38;5;167;01mIndexError\u001b[39;00m(\u001b[38;5;124m\"\u001b[39m\u001b[38;5;124mIndex out of range.\u001b[39m\u001b[38;5;124m\"\u001b[39m)\n\u001b[1;32m     25\u001b[0m value \u001b[38;5;241m=\u001b[39m \u001b[38;5;28mself\u001b[39m\u001b[38;5;241m.\u001b[39mstart \u001b[38;5;241m+\u001b[39m index \u001b[38;5;241m*\u001b[39m \u001b[38;5;28mself\u001b[39m\u001b[38;5;241m.\u001b[39mstep\n\u001b[1;32m     26\u001b[0m \u001b[38;5;28;01mreturn\u001b[39;00m value\n",
      "\u001b[0;31mIndexError\u001b[0m: Index out of range."
     ]
    }
   ],
   "source": [
    "r[10]"
   ]
  },
  {
   "cell_type": "code",
   "execution_count": 59,
   "id": "a2e4af0e-cf38-4724-aa9d-94be6fbf46bc",
   "metadata": {},
   "outputs": [
    {
     "ename": "NotImplementedError",
     "evalue": "Negative indexing is not supported yet.",
     "output_type": "error",
     "traceback": [
      "\u001b[0;31m---------------------------------------------------------------------------\u001b[0m",
      "\u001b[0;31mNotImplementedError\u001b[0m                       Traceback (most recent call last)",
      "Cell \u001b[0;32mIn[59], line 1\u001b[0m\n\u001b[0;32m----> 1\u001b[0m \u001b[43mr\u001b[49m\u001b[43m[\u001b[49m\u001b[38;5;241;43m-\u001b[39;49m\u001b[38;5;241;43m3\u001b[39;49m\u001b[43m]\u001b[49m\n",
      "Cell \u001b[0;32mIn[49], line 21\u001b[0m, in \u001b[0;36mRange.__getitem__\u001b[0;34m(self, index)\u001b[0m\n\u001b[1;32m     19\u001b[0m \u001b[38;5;28;01mdef\u001b[39;00m \u001b[38;5;21m__getitem__\u001b[39m(\u001b[38;5;28mself\u001b[39m, index):\n\u001b[1;32m     20\u001b[0m     \u001b[38;5;28;01mif\u001b[39;00m index \u001b[38;5;241m<\u001b[39m \u001b[38;5;241m0\u001b[39m: \n\u001b[0;32m---> 21\u001b[0m         \u001b[38;5;28;01mraise\u001b[39;00m \u001b[38;5;167;01mNotImplementedError\u001b[39;00m(\u001b[38;5;124m\"\u001b[39m\u001b[38;5;124mNegative indexing is not supported yet.\u001b[39m\u001b[38;5;124m\"\u001b[39m)\n\u001b[1;32m     22\u001b[0m     \u001b[38;5;28;01mif\u001b[39;00m index \u001b[38;5;241m>\u001b[39m\u001b[38;5;241m=\u001b[39m \u001b[38;5;28mlen\u001b[39m(\u001b[38;5;28mself\u001b[39m):  \n\u001b[1;32m     23\u001b[0m         \u001b[38;5;28;01mraise\u001b[39;00m \u001b[38;5;167;01mIndexError\u001b[39;00m(\u001b[38;5;124m\"\u001b[39m\u001b[38;5;124mIndex out of range.\u001b[39m\u001b[38;5;124m\"\u001b[39m)\n",
      "\u001b[0;31mNotImplementedError\u001b[0m: Negative indexing is not supported yet."
     ]
    }
   ],
   "source": [
    "r[-3]"
   ]
  },
  {
   "cell_type": "code",
   "execution_count": 60,
   "id": "23f2b0de-0ca2-4b40-9331-43643a3d4fea",
   "metadata": {},
   "outputs": [
    {
     "data": {
      "text/plain": [
       "2"
      ]
     },
     "execution_count": 60,
     "metadata": {},
     "output_type": "execute_result"
    }
   ],
   "source": [
    "r = Range(2, 10, 3)\n",
    "r[0]"
   ]
  },
  {
   "cell_type": "code",
   "execution_count": 61,
   "id": "adea79c4-df8e-49fa-8eb1-5881f3ccdc1b",
   "metadata": {},
   "outputs": [
    {
     "data": {
      "text/plain": [
       "8"
      ]
     },
     "execution_count": 61,
     "metadata": {},
     "output_type": "execute_result"
    }
   ],
   "source": [
    "r[2]"
   ]
  },
  {
   "cell_type": "code",
   "execution_count": 62,
   "id": "9caf04bf-c744-4201-a5f4-090f29f9e38c",
   "metadata": {},
   "outputs": [
    {
     "data": {
      "text/plain": [
       "<__main__.RangeIterator at 0x107b156a0>"
      ]
     },
     "execution_count": 62,
     "metadata": {},
     "output_type": "execute_result"
    }
   ],
   "source": [
    "# implement __iter__\n",
    "iter(r)"
   ]
  },
  {
   "cell_type": "code",
   "execution_count": 63,
   "id": "14329a72-52cb-47c8-b083-19012f36c593",
   "metadata": {},
   "outputs": [
    {
     "name": "stdout",
     "output_type": "stream",
     "text": [
      "2\n",
      "5\n",
      "8\n"
     ]
    }
   ],
   "source": [
    "# implement __next__\n",
    "r_iter = iter(r)\n",
    "print(next(r_iter))\n",
    "print(next(r_iter))\n",
    "print(next(r_iter))"
   ]
  },
  {
   "cell_type": "code",
   "execution_count": 64,
   "id": "d0928393-07c0-45a6-8739-ebdceb836e50",
   "metadata": {},
   "outputs": [
    {
     "ename": "StopIteration",
     "evalue": "",
     "output_type": "error",
     "traceback": [
      "\u001b[0;31m---------------------------------------------------------------------------\u001b[0m",
      "\u001b[0;31mStopIteration\u001b[0m                             Traceback (most recent call last)",
      "Cell \u001b[0;32mIn[64], line 2\u001b[0m\n\u001b[1;32m      1\u001b[0m \u001b[38;5;66;03m# __next__ must throw StopIteration error \u001b[39;00m\n\u001b[0;32m----> 2\u001b[0m \u001b[38;5;28mprint\u001b[39m(\u001b[38;5;28;43mnext\u001b[39;49m\u001b[43m(\u001b[49m\u001b[43mr_iter\u001b[49m\u001b[43m)\u001b[49m)\n",
      "Cell \u001b[0;32mIn[49], line 42\u001b[0m, in \u001b[0;36mRangeIterator.__next__\u001b[0;34m(self)\u001b[0m\n\u001b[1;32m     40\u001b[0m \u001b[38;5;28;01mdef\u001b[39;00m \u001b[38;5;21m__next__\u001b[39m(\u001b[38;5;28mself\u001b[39m):\n\u001b[1;32m     41\u001b[0m     \u001b[38;5;28;01mif\u001b[39;00m \u001b[38;5;28mself\u001b[39m\u001b[38;5;241m.\u001b[39mcurrent \u001b[38;5;241m>\u001b[39m\u001b[38;5;241m=\u001b[39m \u001b[38;5;28mself\u001b[39m\u001b[38;5;241m.\u001b[39mstop:\n\u001b[0;32m---> 42\u001b[0m         \u001b[38;5;28;01mraise\u001b[39;00m \u001b[38;5;167;01mStopIteration\u001b[39;00m\n\u001b[1;32m     44\u001b[0m     current_value \u001b[38;5;241m=\u001b[39m \u001b[38;5;28mself\u001b[39m\u001b[38;5;241m.\u001b[39mcurrent\n\u001b[1;32m     45\u001b[0m     \u001b[38;5;28mself\u001b[39m\u001b[38;5;241m.\u001b[39mcurrent \u001b[38;5;241m+\u001b[39m\u001b[38;5;241m=\u001b[39m \u001b[38;5;28mself\u001b[39m\u001b[38;5;241m.\u001b[39mstep\n",
      "\u001b[0;31mStopIteration\u001b[0m: "
     ]
    }
   ],
   "source": [
    "# __next__ must throw StopIteration error \n",
    "print(next(r_iter))"
   ]
  },
  {
   "cell_type": "code",
   "execution_count": 65,
   "id": "d603b59b-f2e6-4884-8812-241cd79e8e33",
   "metadata": {},
   "outputs": [
    {
     "name": "stdout",
     "output_type": "stream",
     "text": [
      "2\n",
      "5\n",
      "8\n"
     ]
    }
   ],
   "source": [
    "for i in Range(2, 10, 3): \n",
    "    print(i)"
   ]
  },
  {
   "cell_type": "markdown",
   "id": "78b247e9-cde8-42c6-befa-c467bfaf90f4",
   "metadata": {},
   "source": [
    "### Special methods of hashable objects\n",
    "* `__hash__(self)` => `hash(self)`\n",
    "### Special methods of sets and dicts\n",
    "* `__contains__(self, key)` => `key in self`"
   ]
  }
 ],
 "metadata": {
  "kernelspec": {
   "display_name": "Python 3 (ipykernel)",
   "language": "python",
   "name": "python3"
  },
  "language_info": {
   "codemirror_mode": {
    "name": "ipython",
    "version": 3
   },
   "file_extension": ".py",
   "mimetype": "text/x-python",
   "name": "python",
   "nbconvert_exporter": "python",
   "pygments_lexer": "ipython3",
   "version": "3.12.5"
  }
 },
 "nbformat": 4,
 "nbformat_minor": 5
}
