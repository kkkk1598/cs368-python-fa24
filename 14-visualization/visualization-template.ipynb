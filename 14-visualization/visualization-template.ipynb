{
 "cells": [
  {
   "cell_type": "markdown",
   "id": "b51d871d-802c-4caa-ae35-d25729c96f2a",
   "metadata": {},
   "source": [
    "# Lecture 13 Visualization with Matplotlib\n",
    "\n",
    "Learning Objectives: \n",
    "* Create visualizations using both `Axes` and `pyplot` interface.\n",
    "* Handle subplots effectively\n",
    "* Read documentation to adjust visualizations.\n",
    "\n",
    "Visualization modules in Python: \n",
    "* Matplotlib\n",
    "* Seaborn\n",
    "* Plotly"
   ]
  },
  {
   "cell_type": "code",
   "execution_count": null,
   "id": "bb35a60e-8cff-4876-b7b0-48a99469a7b8",
   "metadata": {},
   "outputs": [],
   "source": [
    "import pandas as pd\n",
    "import matplotlib\n",
    "from matplotlib.patches import Rectangle, Circle\n",
    "import matplotlib.pyplot as plt\n",
    "# pyplot is a high-level sub-module of matplotlib"
   ]
  },
  {
   "cell_type": "code",
   "execution_count": null,
   "id": "6aec4f9c-53f5-47ee-9662-3f264eb77b31",
   "metadata": {},
   "outputs": [],
   "source": [
    "df = pd.read_csv('vgsales.csv')\n",
    "df.head()"
   ]
  },
  {
   "cell_type": "code",
   "execution_count": null,
   "id": "e8ea8a46-a02c-49ad-9f6a-9f80d9cf9c65",
   "metadata": {},
   "outputs": [],
   "source": [
    "df.info()"
   ]
  },
  {
   "cell_type": "code",
   "execution_count": null,
   "id": "9bc1566f-681e-424c-925a-f90276e2ad68",
   "metadata": {},
   "outputs": [],
   "source": [
    "df.describe()"
   ]
  },
  {
   "cell_type": "markdown",
   "id": "c5cdd19d-8d5f-4e13-af11-96bff280fcb1",
   "metadata": {},
   "source": [
    "## [Plot Types](https://matplotlib.org/devdocs/plot_types/index.html)\n",
    "* Pairwise data\n",
    "    * Barplot (comparison)\n",
    "    * Scatter plot (relationship)\n",
    "    * Line plot (trend)\n",
    "* Statistical distributions\n",
    "    * Histogram\n",
    "    * Boxplot"
   ]
  },
  {
   "cell_type": "markdown",
   "id": "3e16217a-0f60-49e9-a511-07134aaf82de",
   "metadata": {},
   "source": [
    "### Barplot: Num of games by genre"
   ]
  },
  {
   "cell_type": "code",
   "execution_count": null,
   "id": "6b19f569-2c6f-4e90-89bc-cafd11358c38",
   "metadata": {},
   "outputs": [],
   "source": [
    "genre_count = df['Genre'].??\n",
    "genre_count"
   ]
  },
  {
   "cell_type": "code",
   "execution_count": null,
   "id": "ee051596-18c7-4cb5-bc22-4cb81a137f3b",
   "metadata": {},
   "outputs": [],
   "source": [
    "# Pandas syntax\n",
    "ax = genre_count.?? # returns an Axes object that represents the plot within a figure\n",
    "ax.??\n",
    "type(ax)"
   ]
  },
  {
   "cell_type": "code",
   "execution_count": null,
   "id": "e7182050-9efb-4966-bfef-1a698939379f",
   "metadata": {},
   "outputs": [],
   "source": [
    "# pyplot interface (function-based, implicit)\n",
    "plt.bar(??)\n",
    "plt.xlabel('Genre')\n",
    "plt.ylabel('Count')\n",
    "plt.xticks(rotation=90)\n",
    "plt.grid(axis='y')"
   ]
  },
  {
   "cell_type": "markdown",
   "id": "585e197b-8700-4556-8586-09cbb5b12071",
   "metadata": {},
   "source": [
    "### Barplot: global sales by genre"
   ]
  },
  {
   "cell_type": "code",
   "execution_count": null,
   "id": "2bb87277-8f66-4c00-a522-c57ff4cd2e50",
   "metadata": {},
   "outputs": [],
   "source": [
    "global_sales_by_genre = df[['Genre', 'Global_Sales']].??\n",
    "global_sales_by_genre"
   ]
  },
  {
   "cell_type": "code",
   "execution_count": null,
   "id": "09930f6a-7281-43cd-a4ae-5b21461841b4",
   "metadata": {},
   "outputs": [],
   "source": [
    "global_sales_by_genre.plot.bar(ylabel='Global Sales (million)', legend=False)"
   ]
  },
  {
   "cell_type": "markdown",
   "id": "7b5f6182-61af-4242-a9c3-9415a6531745",
   "metadata": {},
   "source": [
    "### Subplots: barplot of sales by genre for each region"
   ]
  },
  {
   "cell_type": "code",
   "execution_count": null,
   "id": "c049df4f-bf4d-4990-b8f0-257e393f8201",
   "metadata": {},
   "outputs": [],
   "source": [
    "# Axes interface (object-based, explicit)\n",
    "# returns a Figure and one or more Axes objects\n",
    "fig, axes = plt.??\n",
    "axes.shape"
   ]
  },
  {
   "cell_type": "code",
   "execution_count": null,
   "id": "c86a66a7-66ea-4d50-8e4a-4622fe719770",
   "metadata": {},
   "outputs": [],
   "source": [
    "regions = ['NA', 'EU', 'JP', 'Other']\n",
    "region_cols = [i + '_Sales' for i in regions]\n",
    "print(region_cols)\n",
    "df_by_genre = df[region_cols + ['Genre']].groupby('Genre').sum()\n",
    "df_by_genre"
   ]
  },
  {
   "cell_type": "code",
   "execution_count": null,
   "id": "d506f1b0-1bc6-4f98-ad8b-62e680b35875",
   "metadata": {},
   "outputs": [],
   "source": [
    "fig, axes = plt.subplots(2, 2)\n",
    "axes[0][0].barh(df_by_genre.index, df_by_genre['NA_Sales'])"
   ]
  },
  {
   "cell_type": "code",
   "execution_count": null,
   "id": "1844f41e-d81b-4f64-ba33-c44e5994ae49",
   "metadata": {},
   "outputs": [],
   "source": [
    "fig, axes = plt.subplots(2, 2)\n",
    "axes = axes.??()\n",
    "\n",
    "genres = df['Genre'].unique()\n",
    "cmap = matplotlib.colormaps.get_cmap('tab20')\n",
    "colors = {genres[i]: cmap(i) for i in range(len(genres))}\n",
    "\n",
    "for i in range(len(regions)): \n",
    "    region_sales = df_by_genre[region_cols[i]].sort_values()\n",
    "    axes[i].barh(??)\n",
    "    axes[i].set_title(??)\n",
    "    axes[i].grid(axis='x')\n",
    "plt.subplots_adjust(wspace=0.25)"
   ]
  },
  {
   "cell_type": "markdown",
   "id": "d32a9d5d-7df6-4416-8066-9167c8b506bc",
   "metadata": {},
   "source": [
    "### Lineplot: global sales by year"
   ]
  },
  {
   "cell_type": "code",
   "execution_count": null,
   "id": "85ebeef4-b674-4db9-93ff-3777eb8750ab",
   "metadata": {},
   "outputs": [],
   "source": [
    "global_sales_by_year = df[['Year', 'Global_Sales']].groupby('Year').sum()\n",
    "global_sales_by_year"
   ]
  },
  {
   "cell_type": "code",
   "execution_count": null,
   "id": "638ff545-dfbb-4a57-9521-68f32c70d11f",
   "metadata": {},
   "outputs": [],
   "source": [
    "global_sales_by_year.plot(ylabel='Global Sales (million)', ??)\n",
    "plt.show()"
   ]
  },
  {
   "cell_type": "code",
   "execution_count": null,
   "id": "9f670ef7-7afd-4f05-a000-1b6d469d4c74",
   "metadata": {},
   "outputs": [],
   "source": [
    "plt.plot(??)\n",
    "plt.xlabel('Year')\n",
    "plt.ylabel('Global Sales (million)')\n",
    "plt.show()"
   ]
  },
  {
   "cell_type": "code",
   "execution_count": null,
   "id": "433569e6-dc74-47e4-bdea-d81f2e88e822",
   "metadata": {},
   "outputs": [],
   "source": [
    "genres = df['Genre'].unique()\n",
    "\n",
    "ax = plt.??()\n",
    "for g in global_sales_by_genre.index[:5]:\n",
    "    subset = ??\n",
    "    subset_by_year = ??\n",
    "    ax.plot(??)\n",
    "\n",
    "rect = ??(??, edgecolor='none', facecolor='lightblue', alpha=0.5, zorder=-1)\n",
    "ax.add_patch(rect)\n",
    "\n",
    "plt.xlabel(\"Year\")\n",
    "plt.ylabel(\"Global Sales (million)\")\n",
    "plt.legend(title=\"Genres\")\n",
    "plt.show()"
   ]
  },
  {
   "cell_type": "code",
   "execution_count": null,
   "id": "9195477d-f7a1-42f9-987a-b2707600e667",
   "metadata": {},
   "outputs": [],
   "source": [
    "df.sort_values('Global_Sales', ascending=False).head(10)"
   ]
  },
  {
   "cell_type": "markdown",
   "id": "9fc28828-95dc-4996-b413-c8c6a0b26249",
   "metadata": {},
   "source": [
    "### Histogram: global sales"
   ]
  },
  {
   "cell_type": "code",
   "execution_count": null,
   "id": "9188c434-631f-4e75-9cce-534a1b90bf72",
   "metadata": {},
   "outputs": [],
   "source": [
    "df['Global_Sales'].hist(bins=10)\n",
    "plt.xlabel(\"Global Sales (million)\")\n",
    "plt.ylabel(\"Count\")\n",
    "plt.show()"
   ]
  },
  {
   "cell_type": "code",
   "execution_count": null,
   "id": "ac8e30bb-d904-49c5-80f2-8d13fe2713c6",
   "metadata": {},
   "outputs": [],
   "source": [
    "df[df['Global_Sales'] < 2]['Global_Sales'].hist(bins=20)\n",
    "plt.xlabel(\"Global Sales (million)\")\n",
    "plt.ylabel(\"Count\")\n",
    "plt.show()"
   ]
  },
  {
   "cell_type": "code",
   "execution_count": null,
   "id": "15441daf-9960-4696-9f4c-7f04cb28fa7c",
   "metadata": {},
   "outputs": [],
   "source": [
    "plt.hist(df[df['Global_Sales'] < 2]['Global_Sales'])\n",
    "plt.xlabel(\"Global Sales (million)\")\n",
    "plt.ylabel(\"Count\")\n",
    "plt.show()"
   ]
  },
  {
   "cell_type": "markdown",
   "id": "afce8d15-cf58-46d9-9be2-61754be9b511",
   "metadata": {},
   "source": [
    "### Boxplot: sales by publisher"
   ]
  },
  {
   "cell_type": "code",
   "execution_count": null,
   "id": "e623e7c3-3ed2-4042-bbe8-9cc7fdfc57eb",
   "metadata": {},
   "outputs": [],
   "source": [
    "sales_by_publisher = df[['Global_Sales', 'Publisher']].groupby('Publisher').sum().sort_values('Global_Sales', ascending=False)\n",
    "sales_by_publisher"
   ]
  },
  {
   "cell_type": "code",
   "execution_count": null,
   "id": "8b967403-347f-4a8d-af15-e3c6db41ef05",
   "metadata": {},
   "outputs": [],
   "source": [
    "top10_publisher_df = df[??]\n",
    "top10_publisher_df"
   ]
  },
  {
   "cell_type": "code",
   "execution_count": null,
   "id": "15bd172f-936e-4ab5-8dd3-8d7c8b42bff0",
   "metadata": {},
   "outputs": [],
   "source": [
    "top10_publisher_df.boxplot('Global_Sales', 'Publisher', vert=False, xlabel='Sales (million)')\n",
    "plt.title('')\n",
    "plt.suptitle('Global Sales by Publisher')\n",
    "plt.xlim(0, 6)"
   ]
  },
  {
   "cell_type": "code",
   "execution_count": null,
   "id": "a9de87d0-5cfb-48a9-a550-6d95a400e286",
   "metadata": {},
   "outputs": [],
   "source": [
    "top10_publisher_names = ??\n",
    "records_by_publisher = []\n",
    "for publisher in top10_publisher_names:\n",
    "    records_by_publisher.append(??)\n",
    "plt.boxplot(records_by_publisher, tick_labels=top10_publisher_names, vert=False)\n",
    "\n",
    "for i, publisher in enumerate(top10_publisher_names): \n",
    "    top1_game = ??\n",
    "    plt.annotate(??)\n",
    "    \n",
    "plt.xlabel('Sales (million)')\n",
    "plt.ylabel('Publisher')\n",
    "plt.title('Global Sales by Publisher')"
   ]
  },
  {
   "cell_type": "code",
   "execution_count": null,
   "id": "a5b4f0ec-5d14-4677-9ce2-4de400546ba9",
   "metadata": {},
   "outputs": [],
   "source": []
  }
 ],
 "metadata": {
  "kernelspec": {
   "display_name": "Python 3 (ipykernel)",
   "language": "python",
   "name": "python3"
  },
  "language_info": {
   "codemirror_mode": {
    "name": "ipython",
    "version": 3
   },
   "file_extension": ".py",
   "mimetype": "text/x-python",
   "name": "python",
   "nbconvert_exporter": "python",
   "pygments_lexer": "ipython3",
   "version": "3.12.5"
  }
 },
 "nbformat": 4,
 "nbformat_minor": 5
}
